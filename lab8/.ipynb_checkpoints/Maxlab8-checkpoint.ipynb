{
 "cells": [
  {
   "cell_type": "code",
   "execution_count": 1,
   "id": "81a0c201-2044-4ad4-846f-938c8070b2e4",
   "metadata": {},
   "outputs": [],
   "source": [
    "using JuMP\n",
    "using GLPK\n",
    "using LinearAlgebra\n",
    "using Convex\n",
    "using SCS"
   ]
  },
  {
   "cell_type": "code",
   "execution_count": 2,
   "id": "38d5a6e6-e945-42a5-bc76-75674f435960",
   "metadata": {},
   "outputs": [
    {
     "name": "stdout",
     "output_type": "stream",
     "text": [
      "Оптимальное значение целевой функции: 19.0625\n",
      "Оптимальное значение переменных: [10.0, 2.1875, 0.9375]\n"
     ]
    }
   ],
   "source": [
    "# 1\n",
    "model = Model(GLPK.Optimizer) # основа-модель\n",
    "@variable(model, x[1:3] >= 0) # начинка-переменные\n",
    "@objective(model, Max, x[1] + 2x[2] + 5x[3]) # осн. условие-задача\n",
    "# условия-ограничения\n",
    "@constraint(model, -x[1] + x[2] + 3x[3] <= -5)\n",
    "@constraint(model, x[1] + 3x[2] - 7*x[3] <= 10)\n",
    "@constraint(model, 0 <= x[1] <= 10)\n",
    "optimize!(model) # запуск вычислений\n",
    "println(\"Оптимальное значение целевой функции: \", objective_value(model))\n",
    "println(\"Оптимальное значение переменных: \", value.(x))"
   ]
  },
  {
   "cell_type": "code",
   "execution_count": 3,
   "id": "1183ea35-73cb-4850-bf11-de241c3c66f1",
   "metadata": {},
   "outputs": [
    {
     "name": "stdout",
     "output_type": "stream",
     "text": [
      "Оптимальное значение целевой функции: 19.0625\n",
      "Оптимальное значение переменных: [10.0, 2.1875, 0.9375]\n"
     ]
    }
   ],
   "source": [
    "# 2\n",
    "model = Model(GLPK.Optimizer)\n",
    "c = [1, 2, 5]\n",
    "A = [-1 1 3; 1 3 -7]\n",
    "b = [-5, 10]\n",
    "\n",
    "@variable(model, x[1:3] >= 0)\n",
    "@constraint(model, 0 <= x[1] <= 10)\n",
    "@objective(model, Max, transpose(c)*x)\n",
    "@constraint(model, A * x .<= b)\n",
    "optimize!(model)\n",
    "\n",
    "println(\"Оптимальное значение целевой функции: \", objective_value(model))\n",
    "println(\"Оптимальное значение переменных: \", value.(x))"
   ]
  },
  {
   "cell_type": "code",
   "execution_count": 4,
   "id": "8495a7fd-bca1-4401-b270-bbea64922748",
   "metadata": {},
   "outputs": [
    {
     "data": {
      "text/plain": [
       "4×4 Matrix{Float64}:\n",
       " 0.847375  0.313474  0.607809  0.53913\n",
       " 0.436363  0.258419  0.26081   0.519515\n",
       " 0.466991  0.619651  0.688406  0.541643\n",
       " 0.250513  0.763841  0.565798  0.305177"
      ]
     },
     "metadata": {},
     "output_type": "display_data"
    },
    {
     "data": {
      "text/plain": [
       "4-element Vector{Float64}:\n",
       " 0.22318782752603272\n",
       " 0.6401742230098822\n",
       " 0.3576409210612268\n",
       " 0.26400715774758354"
      ]
     },
     "metadata": {},
     "output_type": "display_data"
    },
    {
     "data": {
      "text/plain": [
       "Variable\n",
       "size: (4, 1)\n",
       "sign: real\n",
       "vexity: affine\n",
       "id: 445…192"
      ]
     },
     "metadata": {},
     "output_type": "display_data"
    },
    {
     "name": "stdout",
     "output_type": "stream",
     "text": [
      "------------------------------------------------------------------\n",
      "\t       SCS v3.2.4 - Splitting Conic Solver\n",
      "\t(c) Brendan O'Donoghue, Stanford University, 2012\n",
      "------------------------------------------------------------------\n",
      "problem:  variables n: 7, constraints m: 14\n",
      "cones: \t  z: primal zero / dual free vars: 1\n",
      "\t  l: linear vars: 5\n",
      "\t  q: soc vars: 8, qsize: 2\n",
      "settings: eps_abs: 1.0e-004, eps_rel: 1.0e-004, eps_infeas: 1.0e-007\n",
      "\t  alpha: 1.50, scale: 1.00e-001, adaptive_scale: 1\n",
      "\t  max_iters: 100000, normalize: 1, rho_x: 1.00e-006\n",
      "\t  acceleration_lookback: 10, acceleration_interval: 10\n",
      "lin-sys:  sparse-direct-amd-qdldl\n",
      "\t  nnz(A): 26, nnz(P): 0\n",
      "------------------------------------------------------------------\n",
      " iter | pri res | dua res |   gap   |   obj   |  scale  | time (s)\n",
      "------------------------------------------------------------------\n",
      "     0|1.71e+001 1.00e+000 1.62e+001 -8.05e+000 1.00e-001 1.37e-004 \n",
      "   125|7.32e-006 3.40e-006 1.12e-005 9.89e-002 5.37e-001 2.16e-004 \n",
      "------------------------------------------------------------------\n",
      "status:  solved\n",
      "timings: total: 2.17e-004s = setup: 1.01e-004s + solve: 1.17e-004s\n",
      "\t lin-sys: 3.49e-005s, cones: 1.97e-005s, accel: 5.00e-006s\n",
      "------------------------------------------------------------------\n",
      "objective = 0.098878\n",
      "------------------------------------------------------------------\n",
      "Optimal value: 0.09887255869075212\n",
      "Optimal solution: [-8.10312975053561e-7, 3.976974383540526e-7, -9.435644882564067e-7, 0.7678336809741355]\n"
     ]
    }
   ],
   "source": [
    "# 3\n",
    "n = rand(3:5)\n",
    "m = n\n",
    "\n",
    "A = rand(m, n)\n",
    "b = rand(m)\n",
    "x = Variable(n)\n",
    "\n",
    "display(A); display(b); display(x)\n",
    "\n",
    "objective = minimize(square(norm(A * x - b, 2)), x >= 0)\n",
    "solve!(objective, SCS.Optimizer)\n",
    "\n",
    "println(\"Optimal value: \", objective.optval)\n",
    "println(\"Optimal solution: \", evaluate(x))"
   ]
  },
  {
   "cell_type": "code",
   "execution_count": 15,
   "id": "40dd3311-54d6-4650-9fce-c0a7f806498e",
   "metadata": {},
   "outputs": [
    {
     "name": "stdout",
     "output_type": "stream",
     "text": [
      "Насколько заняты каждый из секций: [180.0, 180.0, 220.0, 180.0, 240.0]\n",
      "Рекомендация для участника 1001: секция 1\n"
     ]
    }
   ],
   "source": [
    "# 4\n",
    "num_rooms = 5\n",
    "num_sections = 5\n",
    "num_participants = 1000\n",
    "min_capacity = 180\n",
    "max_capacity = 250\n",
    "exact_capacity = 220\n",
    "\n",
    "model = Model(GLPK.Optimizer)\n",
    "priorities = rand(0:3, (num_participants, num_sections))\n",
    "# я заменил 10000 на 0: проще записать, легче воспринимать, логичнее\n",
    "\n",
    "@variables(model, begin x[1:num_sections] >= 0, Int end)\n",
    "\n",
    "for i in 1:num_sections\n",
    "    @constraint(model, min_capacity <= x[i] <= max_capacity)\n",
    "end\n",
    "\n",
    "@constraint(model, x[3] == exact_capacity)\n",
    "@constraint(model, sum(x) >= num_participants)\n",
    "@objective(model, Min, sum(priorities .* x'))\n",
    "\n",
    "optimize!(model)\n",
    "recommendation = argmin(value.(x))\n",
    "\n",
    "println(\"Насколько заняты каждый из секций: $(value.(x))\")\n",
    "println(\"Рекомендация для участника 1001: секция $recommendation\")"
   ]
  },
  {
   "cell_type": "code",
   "execution_count": 6,
   "id": "0142bda5-f9b4-4b44-82aa-22e39022a6d5",
   "metadata": {},
   "outputs": [
    {
     "name": "stdout",
     "output_type": "stream",
     "text": [
      "Раф кофе: 8.0\n",
      "Капучино: 6.0\n",
      "Прибыль: 5000.0\n"
     ]
    }
   ],
   "source": [
    "# 5\n",
    "model = Model(GLPK.Optimizer)\n",
    "@variable(model, raf >= 0)\n",
    "@variable(model, cappuccino >= 0)\n",
    "\n",
    "const grain_limit = 500\n",
    "@constraint(model, raf * 40 + cappuccino * 30 <= grain_limit)\n",
    "\n",
    "const milk_limit = 2000\n",
    "@constraint(model, raf * 140 + cappuccino * 120 <= milk_limit)\n",
    "\n",
    "const sugar_limit = 40\n",
    "@constraint(model, raf * 5 <= sugar_limit)\n",
    "\n",
    "objective = 400 * raf + 300 * cappuccino\n",
    "@objective(model, Max, objective)\n",
    "\n",
    "optimize!(model)\n",
    "\n",
    "println(\"Раф кофе: \", round(value(raf)))\n",
    "println(\"Капучино: \", round(value(cappuccino)))\n",
    "println(\"Прибыль: \", value(objective))"
   ]
  },
  {
   "cell_type": "code",
   "execution_count": null,
   "id": "17c058dc-3669-41cc-bd83-7a69eec71a0f",
   "metadata": {},
   "outputs": [],
   "source": []
  }
 ],
 "metadata": {
  "kernelspec": {
   "display_name": "Julia 1.9.3",
   "language": "julia",
   "name": "julia-1.9"
  },
  "language_info": {
   "file_extension": ".jl",
   "mimetype": "application/julia",
   "name": "julia",
   "version": "1.9.3"
  }
 },
 "nbformat": 4,
 "nbformat_minor": 5
}
