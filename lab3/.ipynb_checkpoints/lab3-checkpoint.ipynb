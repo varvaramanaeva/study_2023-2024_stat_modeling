{
 "cells": [
  {
   "cell_type": "markdown",
   "id": "0614ab6a-9a53-4eab-a2ef-a4399cbee45e",
   "metadata": {},
   "source": [
    "# Повторение примеров"
   ]
  },
  {
   "cell_type": "markdown",
   "id": "cb318081a04c4109",
   "metadata": {
    "collapsed": false,
    "jupyter": {
     "outputs_hidden": false
    }
   },
   "source": [
    "## Циклы `while` и `for`"
   ]
  },
  {
   "cell_type": "code",
   "execution_count": 1,
   "id": "ec9fd5db-2c26-4819-b6db-978e57ef96eb",
   "metadata": {
    "ExecuteTime": {
     "end_time": "2023-11-16T19:00:48.272894800Z",
     "start_time": "2023-11-16T19:00:47.186610500Z"
    }
   },
   "outputs": [
    {
     "name": "stdout",
     "output_type": "stream",
     "text": [
      "1\n",
      "2\n",
      "3\n",
      "4\n",
      "5\n",
      "6\n",
      "7\n",
      "8\n",
      "9\n",
      "10\n"
     ]
    }
   ],
   "source": [
    "n = 0\n",
    "while n < 10\n",
    "    n += 1\n",
    "    println(n)\n",
    "end"
   ]
  },
  {
   "cell_type": "code",
   "execution_count": 2,
   "id": "875aca30-b764-498c-bae2-1c47f2d66856",
   "metadata": {},
   "outputs": [
    {
     "name": "stdout",
     "output_type": "stream",
     "text": [
      "Hi Ted, it's great to see you!\n",
      "Hi Robyn, it's great to see you!\n",
      "Hi Barney, it's great to see you!\n",
      "Hi Lily, it's great to see you!\n",
      "Hi Marshall, it's great to see you!\n"
     ]
    }
   ],
   "source": [
    "myfriends = [\"Ted\", \"Robyn\", \"Barney\", \"Lily\", \"Marshall\"]\n",
    "i = 1\n",
    "while i <= length(myfriends)\n",
    "    friend = myfriends[i]\n",
    "    println(\"Hi $friend, it's great to see you!\")\n",
    "    i += 1\n",
    "end"
   ]
  },
  {
   "cell_type": "code",
   "execution_count": 3,
   "id": "3c74c5a4-b6a9-4ccc-a100-15347739d5e9",
   "metadata": {},
   "outputs": [
    {
     "name": "stdout",
     "output_type": "stream",
     "text": [
      "1\n",
      "2\n",
      "3\n",
      "4\n",
      "5\n",
      "6\n",
      "7\n",
      "8\n",
      "9\n",
      "10\n"
     ]
    }
   ],
   "source": [
    "for n in 1:10\n",
    "    println(n)\n",
    "end"
   ]
  },
  {
   "cell_type": "code",
   "execution_count": 4,
   "id": "de32b911-13e3-42f0-bdbf-72b51b976b54",
   "metadata": {},
   "outputs": [
    {
     "name": "stdout",
     "output_type": "stream",
     "text": [
      "Hi Ted, it's great to see you!\n",
      "Hi Robyn, it's great to see you!\n",
      "Hi Barney, it's great to see you!\n",
      "Hi Lily, it's great to see you!\n",
      "Hi Marshall, it's great to see you!\n"
     ]
    }
   ],
   "source": [
    "for friend in myfriends\n",
    "    println(\"Hi $friend, it's great to see you!\")\n",
    "end"
   ]
  },
  {
   "cell_type": "code",
   "execution_count": 5,
   "id": "6d94d279-8a41-445b-b0dd-135610974e65",
   "metadata": {},
   "outputs": [
    {
     "data": {
      "text/plain": [
       "5×5 Matrix{Int64}:\n",
       " 2  3  4  5   6\n",
       " 3  4  5  6   7\n",
       " 4  5  6  7   8\n",
       " 5  6  7  8   9\n",
       " 6  7  8  9  10"
      ]
     },
     "execution_count": 5,
     "metadata": {},
     "output_type": "execute_result"
    }
   ],
   "source": [
    "# инициализация массива m x n из нулей:\n",
    "m, n = 5, 5\n",
    "A = fill(0, (m, n))\n",
    "# формирование массива, в котором значение каждой записи является суммой индексов строки и столбца:\n",
    "for i in 1:m\n",
    "    for j in 1:n\n",
    "        A[i, j] = i + j\n",
    "    end\n",
    "end\n",
    "A"
   ]
  },
  {
   "cell_type": "code",
   "execution_count": 6,
   "id": "191c76b8-0354-452b-98d0-b73f08976a73",
   "metadata": {},
   "outputs": [
    {
     "data": {
      "text/plain": [
       "5×5 Matrix{Int64}:\n",
       " 2  3  4  5   6\n",
       " 3  4  5  6   7\n",
       " 4  5  6  7   8\n",
       " 5  6  7  8   9\n",
       " 6  7  8  9  10"
      ]
     },
     "execution_count": 6,
     "metadata": {},
     "output_type": "execute_result"
    }
   ],
   "source": [
    "# инициализация массива m x n из нулей:\n",
    "B = fill(0, (m, n))\n",
    "for i in 1:m, j in 1:n\n",
    "    B[i, j] = i + j\n",
    "end\n",
    "B"
   ]
  },
  {
   "cell_type": "code",
   "execution_count": 7,
   "id": "bcbc4fcb-7b09-41df-8590-8cb7367b0ca3",
   "metadata": {},
   "outputs": [
    {
     "data": {
      "text/plain": [
       "5×5 Matrix{Int64}:\n",
       " 2  3  4  5   6\n",
       " 3  4  5  6   7\n",
       " 4  5  6  7   8\n",
       " 5  6  7  8   9\n",
       " 6  7  8  9  10"
      ]
     },
     "execution_count": 7,
     "metadata": {},
     "output_type": "execute_result"
    }
   ],
   "source": [
    "C = [i + j for i in 1:m, j in 1:n]"
   ]
  },
  {
   "cell_type": "markdown",
   "id": "b61454932dc607a3",
   "metadata": {
    "collapsed": false,
    "jupyter": {
     "outputs_hidden": false
    }
   },
   "source": [
    "## Условные выражения"
   ]
  },
  {
   "cell_type": "code",
   "execution_count": 8,
   "id": "dda53531bfa58baf",
   "metadata": {
    "collapsed": false,
    "jupyter": {
     "outputs_hidden": false
    }
   },
   "outputs": [
    {
     "name": "stdout",
     "output_type": "stream",
     "text": [
      "Fizz\n",
      "Buzz\n",
      "FizzBuzz\n",
      "2\n"
     ]
    },
    {
     "data": {
      "text/plain": [
       "(nothing, nothing, nothing, nothing)"
      ]
     },
     "execution_count": 8,
     "metadata": {},
     "output_type": "execute_result"
    }
   ],
   "source": [
    "# используем `&&` для реализации операции \"AND\"\n",
    "# операция % вычисляет остаток от деления\n",
    "function check_(N)\n",
    "    if (N % 3 == 0) && (N % 5 == 0)\n",
    "        println(\"FizzBuzz\")\n",
    "    elseif N % 3 == 0\n",
    "        println(\"Fizz\")\n",
    "    elseif N % 5 == 0\n",
    "        println(\"Buzz\")\n",
    "    else\n",
    "        println(N)\n",
    "    end\n",
    "end\n",
    "check_(3), check_(5), check_(15), check_(2)"
   ]
  },
  {
   "cell_type": "code",
   "execution_count": 9,
   "id": "633b3182-4cbf-48ad-b27e-54f1fa709412",
   "metadata": {},
   "outputs": [
    {
     "data": {
      "text/plain": [
       "10"
      ]
     },
     "execution_count": 9,
     "metadata": {},
     "output_type": "execute_result"
    }
   ],
   "source": [
    "x = 5\n",
    "y = 10\n",
    "(x > y) ? x : y"
   ]
  },
  {
   "cell_type": "markdown",
   "id": "d61f1bbd9ef59f5d",
   "metadata": {
    "collapsed": false,
    "jupyter": {
     "outputs_hidden": false
    }
   },
   "source": [
    "## Функции"
   ]
  },
  {
   "cell_type": "code",
   "execution_count": 10,
   "id": "a7b1c845db7f8fbb",
   "metadata": {
    "collapsed": false,
    "jupyter": {
     "outputs_hidden": false
    }
   },
   "outputs": [
    {
     "data": {
      "text/plain": [
       "f (generic function with 1 method)"
      ]
     },
     "execution_count": 10,
     "metadata": {},
     "output_type": "execute_result"
    }
   ],
   "source": [
    "function sayhi(name)\n",
    "    println(\"Hi $name, it's great to see you!\")\n",
    "end\n",
    "# функция возведения в квадрат:\n",
    "function f(x)\n",
    "    x^2\n",
    "end"
   ]
  },
  {
   "cell_type": "code",
   "execution_count": 11,
   "id": "f88d5a05-dfc6-4803-ba79-c4607a3eb4ba",
   "metadata": {},
   "outputs": [
    {
     "name": "stdout",
     "output_type": "stream",
     "text": [
      "Hi C-3PO, it's great to see you!\n"
     ]
    },
    {
     "data": {
      "text/plain": [
       "(nothing, 1764)"
      ]
     },
     "execution_count": 11,
     "metadata": {},
     "output_type": "execute_result"
    }
   ],
   "source": [
    "sayhi(\"C-3PO\"), f(42)"
   ]
  },
  {
   "cell_type": "code",
   "execution_count": 12,
   "id": "f04c18cf-f77c-4722-8a96-ff160dd936eb",
   "metadata": {},
   "outputs": [
    {
     "data": {
      "text/plain": [
       "f2 (generic function with 1 method)"
      ]
     },
     "execution_count": 12,
     "metadata": {},
     "output_type": "execute_result"
    }
   ],
   "source": [
    "sayhi2(name) = println(\"Hi $name, it's great to see you!\")\n",
    "f2(x) = x^2"
   ]
  },
  {
   "cell_type": "code",
   "execution_count": 13,
   "id": "5a57561a-b185-4e9c-b421-ccfb237485ed",
   "metadata": {},
   "outputs": [
    {
     "data": {
      "text/plain": [
       "#7 (generic function with 1 method)"
      ]
     },
     "execution_count": 13,
     "metadata": {},
     "output_type": "execute_result"
    }
   ],
   "source": [
    "sayhi3 = name -> println(\"Hi $name, it's great to see you!\")\n",
    "f3 = x -> x^2"
   ]
  },
  {
   "cell_type": "code",
   "execution_count": 14,
   "id": "32b71bb4-60ab-4f76-b9bf-73c1f55ff8ac",
   "metadata": {},
   "outputs": [
    {
     "data": {
      "text/plain": [
       "3-element Vector{Int64}:\n",
       " 3\n",
       " 5\n",
       " 2"
      ]
     },
     "execution_count": 14,
     "metadata": {},
     "output_type": "execute_result"
    }
   ],
   "source": [
    "v = [3, 5, 2]\n",
    "sort(v)\n",
    "v"
   ]
  },
  {
   "cell_type": "code",
   "execution_count": 15,
   "id": "01033f8d-343c-44db-88ac-8aa2acbb8913",
   "metadata": {},
   "outputs": [
    {
     "data": {
      "text/plain": [
       "3-element Vector{Int64}:\n",
       " 2\n",
       " 3\n",
       " 5"
      ]
     },
     "execution_count": 15,
     "metadata": {},
     "output_type": "execute_result"
    }
   ],
   "source": [
    "sort!(v)\n",
    "v"
   ]
  },
  {
   "cell_type": "code",
   "execution_count": 16,
   "id": "113973aa-ee2b-4870-93b8-c5ddf05a06c1",
   "metadata": {},
   "outputs": [
    {
     "data": {
      "text/plain": [
       "3-element Vector{Int64}:\n",
       " 1\n",
       " 4\n",
       " 9"
      ]
     },
     "execution_count": 16,
     "metadata": {},
     "output_type": "execute_result"
    }
   ],
   "source": [
    "map(f, [1, 2, 3])"
   ]
  },
  {
   "cell_type": "code",
   "execution_count": 17,
   "id": "44d8497f-e2f9-49ef-9360-cbbf05d66a00",
   "metadata": {},
   "outputs": [
    {
     "data": {
      "text/plain": [
       "3-element Vector{Int64}:\n",
       " 1\n",
       " 4\n",
       " 9"
      ]
     },
     "execution_count": 17,
     "metadata": {},
     "output_type": "execute_result"
    }
   ],
   "source": [
    "broadcast(f, [1, 2, 3])"
   ]
  },
  {
   "cell_type": "code",
   "execution_count": 18,
   "id": "165d6572-3891-4b75-a301-59c0b899a744",
   "metadata": {},
   "outputs": [
    {
     "data": {
      "text/plain": [
       "3-element Vector{Int64}:\n",
       " 1\n",
       " 4\n",
       " 9"
      ]
     },
     "execution_count": 18,
     "metadata": {},
     "output_type": "execute_result"
    }
   ],
   "source": [
    "f.([1, 2, 3])"
   ]
  },
  {
   "cell_type": "code",
   "execution_count": 19,
   "id": "0dd8c861-653f-44b0-8db7-bb442f8a168e",
   "metadata": {},
   "outputs": [
    {
     "data": {
      "text/plain": [
       "3×3 Matrix{Int64}:\n",
       " 1  2  3\n",
       " 4  5  6\n",
       " 7  8  9"
      ]
     },
     "execution_count": 19,
     "metadata": {},
     "output_type": "execute_result"
    }
   ],
   "source": [
    "A = [i + 3*j for j in 0:2, i in 1:3]"
   ]
  },
  {
   "cell_type": "code",
   "execution_count": 20,
   "id": "d404e123-6d00-44f8-a54d-9d37392d63a3",
   "metadata": {},
   "outputs": [
    {
     "data": {
      "text/plain": [
       "3×3 Matrix{Int64}:\n",
       "  30   36   42\n",
       "  66   81   96\n",
       " 102  126  150"
      ]
     },
     "execution_count": 20,
     "metadata": {},
     "output_type": "execute_result"
    }
   ],
   "source": [
    "f(A)"
   ]
  },
  {
   "cell_type": "code",
   "execution_count": 21,
   "id": "79b7ebe3-903d-4f6a-968b-1a43147a7c58",
   "metadata": {},
   "outputs": [
    {
     "data": {
      "text/plain": [
       "3×3 Matrix{Int64}:\n",
       "  1   4   9\n",
       " 16  25  36\n",
       " 49  64  81"
      ]
     },
     "execution_count": 21,
     "metadata": {},
     "output_type": "execute_result"
    }
   ],
   "source": [
    "f.(A)"
   ]
  },
  {
   "cell_type": "code",
   "execution_count": 22,
   "id": "5c6c137e-5746-4ea7-825e-b20c3d552973",
   "metadata": {},
   "outputs": [
    {
     "data": {
      "text/plain": [
       "3×3 Matrix{Float64}:\n",
       "  3.0   6.0   9.0\n",
       " 12.0  15.0  18.0\n",
       " 21.0  24.0  27.0"
      ]
     },
     "execution_count": 22,
     "metadata": {},
     "output_type": "execute_result"
    }
   ],
   "source": [
    "A .+ 2 .* f.(A) ./ A"
   ]
  },
  {
   "cell_type": "code",
   "execution_count": 23,
   "id": "54a58844-d3a0-44b3-a62c-2d93034b6d3f",
   "metadata": {},
   "outputs": [
    {
     "data": {
      "text/plain": [
       "3×3 Matrix{Float64}:\n",
       "  3.0   6.0   9.0\n",
       " 12.0  15.0  18.0\n",
       " 21.0  24.0  27.0"
      ]
     },
     "execution_count": 23,
     "metadata": {},
     "output_type": "execute_result"
    }
   ],
   "source": [
    "@. A + 2 * f(A) / A"
   ]
  },
  {
   "cell_type": "code",
   "execution_count": 24,
   "id": "ef713d36-aa83-4d73-b524-d101f2de1050",
   "metadata": {},
   "outputs": [
    {
     "data": {
      "text/plain": [
       "3×3 Matrix{Float64}:\n",
       "  3.0   6.0   9.0\n",
       " 12.0  15.0  18.0\n",
       " 21.0  24.0  27.0"
      ]
     },
     "execution_count": 24,
     "metadata": {},
     "output_type": "execute_result"
    }
   ],
   "source": [
    "broadcast(x -> x + 2 * f(x) / x, A)"
   ]
  },
  {
   "cell_type": "markdown",
   "id": "9da15d9dfa52bfe6",
   "metadata": {
    "collapsed": false,
    "jupyter": {
     "outputs_hidden": false
    }
   },
   "source": [
    "## Сторонние библиотеки (пакеты) в Julia"
   ]
  },
  {
   "cell_type": "code",
   "execution_count": 25,
   "id": "ca68313bcdd8529",
   "metadata": {
    "collapsed": false,
    "jupyter": {
     "outputs_hidden": false
    }
   },
   "outputs": [
    {
     "data": {
      "image/svg+xml": [
       "<?xml version=\"1.0\" encoding=\"UTF-8\"?>\n",
       "<!DOCTYPE svg PUBLIC \"-//W3C//DTD SVG 1.1//EN\"\n",
       " \"http://www.w3.org/Graphics/SVG/1.1/DTD/svg11.dtd\">\n",
       "<svg xmlns=\"http://www.w3.org/2000/svg\" version=\"1.1\"\n",
       "     width=\"75mm\" height=\"75mm\"\n",
       "     viewBox=\"0 0 3 3\" preserveAspectRatio=\"none\"\n",
       "     shape-rendering=\"crispEdges\" stroke=\"none\">\n",
       "<rect width=\".96\" height=\".96\" x=\"0\" y=\"0\" fill=\"#B5FF4E\" />\n",
       "<rect width=\".96\" height=\".96\" x=\"1\" y=\"0\" fill=\"#986DFF\" />\n",
       "<rect width=\".96\" height=\".96\" x=\"2\" y=\"0\" fill=\"#8D9FA3\" />\n",
       "<rect width=\".96\" height=\".96\" x=\"0\" y=\"1\" fill=\"#2E2124\" />\n",
       "<rect width=\".96\" height=\".96\" x=\"1\" y=\"1\" fill=\"#B5FF4E\" />\n",
       "<rect width=\".96\" height=\".96\" x=\"2\" y=\"1\" fill=\"#F3FFFA\" />\n",
       "<rect width=\".96\" height=\".96\" x=\"0\" y=\"2\" fill=\"#007F63\" />\n",
       "<rect width=\".96\" height=\".96\" x=\"1\" y=\"2\" fill=\"#290001\" />\n",
       "<rect width=\".96\" height=\".96\" x=\"2\" y=\"2\" fill=\"#B40080\" />\n",
       "</svg>"
      ],
      "text/plain": [
       "3×3 Array{RGB{N0f8},2} with eltype RGB{FixedPointNumbers.N0f8}:\n",
       " RGB{N0f8}(0.71,1.0,0.306)    …  RGB{N0f8}(0.553,0.624,0.639)\n",
       " RGB{N0f8}(0.18,0.129,0.141)     RGB{N0f8}(0.953,1.0,0.98)\n",
       " RGB{N0f8}(0.0,0.498,0.388)      RGB{N0f8}(0.706,0.0,0.502)"
      ]
     },
     "execution_count": 25,
     "metadata": {},
     "output_type": "execute_result"
    }
   ],
   "source": [
    "using Colors\n",
    "palette = distinguishable_colors(100)\n",
    "rand(palette, 3, 3)"
   ]
  },
  {
   "cell_type": "markdown",
   "id": "86f0e469-61a5-431f-8644-c87b2de4a131",
   "metadata": {},
   "source": [
    "# Самостоятельная работа"
   ]
  },
  {
   "cell_type": "markdown",
   "id": "38e982274aa38f11",
   "metadata": {
    "collapsed": false,
    "jupyter": {
     "outputs_hidden": false
    }
   },
   "source": [
    "## 1. Используя циклы while и for:\n",
    "- выведите на экран целые числа от 1 до 100 и напечатайте их квадраты;"
   ]
  },
  {
   "cell_type": "code",
   "execution_count": 26,
   "id": "532e66c0-b135-4fde-80dc-b09c128fc9d1",
   "metadata": {
    "ExecuteTime": {
     "end_time": "2023-11-16T19:00:48.272894800Z",
     "start_time": "2023-11-16T19:00:48.263229700Z"
    }
   },
   "outputs": [
    {
     "name": "stdout",
     "output_type": "stream",
     "text": [
      "1 2 3 4 5 6 7 8 9 10 11 12 13 14 15 16 17 18 19 20 21 22 23 24 25 26 27 28 29 30 31 32 33 34 35 36 37 38 39 40 41 42 43 44 45 46 47 48 49 50 51 52 53 54 55 56 57 58 59 60 61 62 63 64 65 66 67 68 69 70 71 72 73 74 75 76 77 78 79 80 81 82 83 84 85 86 87 88 89 90 91 92 93 94 95 96 97 98 99 100 \n",
      "1 4 9 16 25 36 49 64 81 100 121 144 169 196 225 256 289 324 361 400 441 484 529 576 625 676 729 784 841 900 961 1024 1089 1156 1225 1296 1369 1444 1521 1600 1681 1764 1849 1936 2025 2116 2209 2304 2401 2500 2601 2704 2809 2916 3025 3136 3249 3364 3481 3600 3721 3844 3969 4096 4225 4356 4489 4624 4761 4900 5041 5184 5329 5476 5625 5776 5929 6084 6241 6400 6561 6724 6889 7056 7225 7396 7569 7744 7921 8100 8281 8464 8649 8836 9025 9216 9409 9604 9801 10000 "
     ]
    }
   ],
   "source": [
    "for i in 1:100\n",
    "    print(i, \" \")\n",
    "end\n",
    "println()\n",
    "for i in 1:100\n",
    "    print(i^2, \" \")\n",
    "end"
   ]
  },
  {
   "cell_type": "code",
   "execution_count": 50,
   "id": "d8a986fd-1734-4937-a23d-f16223c7b670",
   "metadata": {},
   "outputs": [
    {
     "name": "stdout",
     "output_type": "stream",
     "text": [
      "1 2 3 4 5 6 7 8 9 10 11 12 13 14 15 16 17 18 19 20 21 22 23 24 25 26 27 28 29 30 31 32 33 34 35 36 37 38 39 40 41 42 43 44 45 46 47 48 49 50 51 52 53 54 55 56 57 58 59 60 61 62 63 64 65 66 67 68 69 70 71 72 73 74 75 76 77 78 79 80 81 82 83 84 85 86 87 88 89 90 91 92 93 94 95 96 97 98 99 100 \n",
      "1 4 9 16 25 36 49 64 81 100 121 144 169 196 225 256 289 324 361 400 441 484 529 576 625 676 729 784 841 900 961 1024 1089 1156 1225 1296 1369 1444 1521 1600 1681 1764 1849 1936 2025 2116 2209 2304 2401 2500 2601 2704 2809 2916 3025 3136 3249 3364 3481 3600 3721 3844 3969 4096 4225 4356 4489 4624 4761 4900 5041 5184 5329 5476 5625 5776 5929 6084 6241 6400 6561 6724 6889 7056 7225 7396 7569 7744 7921 8100 8281 8464 8649 8836 9025 9216 9409 9604 9801 10000 "
     ]
    }
   ],
   "source": [
    "i = 1\n",
    "while i <= 100\n",
    "    print(i, \" \")\n",
    "    i += 1\n",
    "end\n",
    "println()\n",
    "i = 0\n",
    "while i < 100\n",
    "    i += 1\n",
    "    print(i^2, \" \")\n",
    "end"
   ]
  },
  {
   "cell_type": "markdown",
   "id": "dc186d5cfa2d2071",
   "metadata": {
    "collapsed": false,
    "jupyter": {
     "outputs_hidden": false
    }
   },
   "source": [
    "- создайте словарь squares, который будет содержать целые числа в качестве ключей и квадраты в качестве их пар-значений;"
   ]
  },
  {
   "cell_type": "code",
   "execution_count": 55,
   "id": "7647fb067e787156",
   "metadata": {
    "collapsed": false,
    "jupyter": {
     "outputs_hidden": false
    }
   },
   "outputs": [
    {
     "data": {
      "text/plain": [
       "(Dict(5 => 25, 56 => 3136, 35 => 1225, 55 => 3025, 60 => 3600, 30 => 900, 32 => 1024, 6 => 36, 67 => 4489, 45 => 2025…), Dict(3364 => 58, 9604 => 98, 3025 => 55, 2809 => 53, 1024 => 32, 1296 => 36, 6889 => 83, 784 => 28, 4900 => 70, 196 => 14…))"
      ]
     },
     "execution_count": 55,
     "metadata": {},
     "output_type": "execute_result"
    }
   ],
   "source": [
    "squares = Dict(i => i^2 for i in 2:100)\n",
    "squares2 = Dict(2 => 4)\n",
    "i = 3\n",
    "while i <= 100\n",
    "    setindex!(squares2, i, i^2)\n",
    "    i += 1\n",
    "end\n",
    "squares, squares2"
   ]
  },
  {
   "cell_type": "markdown",
   "id": "db8977f79731e94",
   "metadata": {
    "collapsed": false,
    "jupyter": {
     "outputs_hidden": false
    }
   },
   "source": [
    "- создайте массив squares_arr, содержащий квадраты всех чисел от 1 до 100."
   ]
  },
  {
   "cell_type": "code",
   "execution_count": 56,
   "id": "5779ca2ae89d5c1d",
   "metadata": {
    "collapsed": false,
    "jupyter": {
     "outputs_hidden": false
    }
   },
   "outputs": [
    {
     "data": {
      "text/plain": [
       "100×2 Matrix{Float64}:\n",
       "     1.0      1.0\n",
       "     4.0      4.0\n",
       "     9.0      9.0\n",
       "    16.0     16.0\n",
       "    25.0     25.0\n",
       "    36.0     36.0\n",
       "    49.0     49.0\n",
       "    64.0     64.0\n",
       "    81.0     81.0\n",
       "   100.0    100.0\n",
       "   121.0    121.0\n",
       "   144.0    144.0\n",
       "   169.0    169.0\n",
       "     ⋮    \n",
       "  7921.0   7921.0\n",
       "  8100.0   8100.0\n",
       "  8281.0   8281.0\n",
       "  8464.0   8464.0\n",
       "  8649.0   8649.0\n",
       "  8836.0   8836.0\n",
       "  9025.0   9025.0\n",
       "  9216.0   9216.0\n",
       "  9409.0   9409.0\n",
       "  9604.0   9604.0\n",
       "  9801.0   9801.0\n",
       " 10000.0  10000.0"
      ]
     },
     "execution_count": 56,
     "metadata": {},
     "output_type": "execute_result"
    }
   ],
   "source": [
    "squares_arr = [i^2 for i in 1:100]\n",
    "squares_arr2 = zeros(100)\n",
    "i = 1\n",
    "while i <= 100\n",
    "    squares_arr2[i] = i^2\n",
    "    i += 1\n",
    "end\n",
    "hcat(squares_arr, squares_arr2)"
   ]
  },
  {
   "cell_type": "markdown",
   "id": "403f714634d578e7",
   "metadata": {
    "collapsed": false,
    "jupyter": {
     "outputs_hidden": false
    }
   },
   "source": [
    "## 2. Напишите условный оператор, который печатает число, если число чётное, и строку «нечётное», если число нечётное."
   ]
  },
  {
   "cell_type": "code",
   "execution_count": 29,
   "id": "f8291e9cdb3e008b",
   "metadata": {
    "collapsed": false,
    "jupyter": {
     "outputs_hidden": false
    }
   },
   "outputs": [
    {
     "name": "stdout",
     "output_type": "stream",
     "text": [
      "2\n",
      "нечётное\n"
     ]
    },
    {
     "data": {
      "text/plain": [
       "(nothing, nothing)"
      ]
     },
     "execution_count": 29,
     "metadata": {},
     "output_type": "execute_result"
    }
   ],
   "source": [
    "function chet(x)\n",
    "    if x%2 == 0\n",
    "        println(x)\n",
    "    else\n",
    "        println(\"нечётное\")\n",
    "    end\n",
    "end\n",
    "chet(2), chet(3)"
   ]
  },
  {
   "cell_type": "markdown",
   "id": "5172ee1c45bce002",
   "metadata": {
    "collapsed": false,
    "jupyter": {
     "outputs_hidden": false
    }
   },
   "source": [
    "Перепишите код, используя тернарный оператор."
   ]
  },
  {
   "cell_type": "code",
   "execution_count": 30,
   "id": "c66d038d9f4b61f7",
   "metadata": {
    "collapsed": false,
    "jupyter": {
     "outputs_hidden": false
    }
   },
   "outputs": [
    {
     "name": "stdout",
     "output_type": "stream",
     "text": [
      "2\n",
      "нечётное\n"
     ]
    },
    {
     "data": {
      "text/plain": [
       "(nothing, nothing)"
      ]
     },
     "execution_count": 30,
     "metadata": {},
     "output_type": "execute_result"
    }
   ],
   "source": [
    "function chet2(x)\n",
    "    x%2 == 0 ? println(x) : println(\"нечётное\")\n",
    "end\n",
    "chet2(2), chet2(3)"
   ]
  },
  {
   "cell_type": "markdown",
   "id": "7a4e2b41f04bdb83",
   "metadata": {
    "collapsed": false,
    "jupyter": {
     "outputs_hidden": false
    }
   },
   "source": [
    "## 3. Напишите функцию `add_one`, которая добавляет $1$ к своему входу."
   ]
  },
  {
   "cell_type": "code",
   "execution_count": 31,
   "id": "67165af4f10c2d37",
   "metadata": {
    "collapsed": false,
    "jupyter": {
     "outputs_hidden": false
    }
   },
   "outputs": [
    {
     "data": {
      "text/plain": [
       "6"
      ]
     },
     "execution_count": 31,
     "metadata": {},
     "output_type": "execute_result"
    }
   ],
   "source": [
    "function add_one(x)\n",
    "    return x+1\n",
    "end\n",
    "add_one(5)"
   ]
  },
  {
   "cell_type": "markdown",
   "id": "7f7ba1b716a606c",
   "metadata": {
    "collapsed": false,
    "jupyter": {
     "outputs_hidden": false
    }
   },
   "source": [
    "## 4. Используйте `map()` или `broadcast()` для задания матрицы $A$, каждый элемент которой увеличивается на единицу по сравнению с предыдущим."
   ]
  },
  {
   "cell_type": "code",
   "execution_count": 32,
   "id": "1912e68ab7cf3655",
   "metadata": {
    "collapsed": false,
    "jupyter": {
     "outputs_hidden": false
    }
   },
   "outputs": [
    {
     "data": {
      "text/plain": [
       "3×5 Matrix{Int64}:\n",
       " 1  4  7  10  13\n",
       " 2  5  8  11  14\n",
       " 3  6  9  12  15"
      ]
     },
     "metadata": {},
     "output_type": "display_data"
    },
    {
     "data": {
      "text/plain": [
       "3×5 Matrix{Int64}:\n",
       " 1  4  7  10  13\n",
       " 2  5  8  11  14\n",
       " 3  6  9  12  15"
      ]
     },
     "execution_count": 32,
     "metadata": {},
     "output_type": "execute_result"
    }
   ],
   "source": [
    "A = zeros(Int64, 3, 5)\n",
    "t = map!(x -> x+1, A, 0:14); display(A)\n",
    "t = broadcast(add_one, reshape(0:14, 3, 5))"
   ]
  },
  {
   "cell_type": "markdown",
   "id": "a2d42242b2655f8e",
   "metadata": {
    "collapsed": false,
    "jupyter": {
     "outputs_hidden": false
    }
   },
   "source": [
    "## 5. Задайте матрицу $A$ следующего вида:\n",
    "\n",
    "$$\n",
    "A = \\begin{pmatrix}\n",
    "1 & 1 & 3 \\\\\n",
    "5 & 2 & 6 \\\\\n",
    "-2 & -1 & -3\n",
    "\\end{pmatrix}\n",
    "$$"
   ]
  },
  {
   "cell_type": "code",
   "execution_count": 33,
   "id": "f1db09330940294e",
   "metadata": {
    "collapsed": false,
    "jupyter": {
     "outputs_hidden": false
    }
   },
   "outputs": [
    {
     "data": {
      "text/plain": [
       "3×3 Matrix{Int64}:\n",
       "  1   1   3\n",
       "  5   2   6\n",
       " -2  -1  -3"
      ]
     },
     "execution_count": 33,
     "metadata": {},
     "output_type": "execute_result"
    }
   ],
   "source": [
    "A = [1 1 3; 5 2 6; -2 -1 -3]"
   ]
  },
  {
   "cell_type": "markdown",
   "id": "69674948b8ddc269",
   "metadata": {
    "collapsed": false,
    "jupyter": {
     "outputs_hidden": false
    }
   },
   "source": [
    "- Найдите $A^3$ "
   ]
  },
  {
   "cell_type": "code",
   "execution_count": 34,
   "id": "5c85c0d7625b8f80",
   "metadata": {
    "collapsed": false,
    "jupyter": {
     "outputs_hidden": false
    }
   },
   "outputs": [
    {
     "data": {
      "text/plain": [
       "3×3 Matrix{Int64}:\n",
       "  0   0   0\n",
       "  3   3   9\n",
       " -1  -1  -3"
      ]
     },
     "metadata": {},
     "output_type": "display_data"
    },
    {
     "data": {
      "text/plain": [
       "3×3 Matrix{Int64}:\n",
       " 0  0  0\n",
       " 0  0  0\n",
       " 0  0  0"
      ]
     },
     "metadata": {},
     "output_type": "display_data"
    }
   ],
   "source": [
    "display(A^2)\n",
    "display(A^3)"
   ]
  },
  {
   "cell_type": "markdown",
   "id": "5509cb4687e90427",
   "metadata": {
    "collapsed": false,
    "jupyter": {
     "outputs_hidden": false
    }
   },
   "source": [
    "- Замените третий столбец матрицы $A$ на сумму 2-го и 3-го столбцов"
   ]
  },
  {
   "cell_type": "code",
   "execution_count": 35,
   "id": "ec82facb75ad9a9f",
   "metadata": {
    "collapsed": false,
    "jupyter": {
     "outputs_hidden": false
    }
   },
   "outputs": [
    {
     "data": {
      "text/plain": [
       "3×3 Matrix{Int64}:\n",
       "  1   1   4\n",
       "  5   2   8\n",
       " -2  -1  -4"
      ]
     },
     "execution_count": 35,
     "metadata": {},
     "output_type": "execute_result"
    }
   ],
   "source": [
    "A[:, 3] = A[:, 2] + A[:, 3]\n",
    "A"
   ]
  },
  {
   "cell_type": "markdown",
   "id": "f33efab597a0cc4a",
   "metadata": {
    "collapsed": false,
    "jupyter": {
     "outputs_hidden": false
    }
   },
   "source": [
    "## 6. Создайте матрицу $B$ с элементами $B_{i1} = 10, B_{i2} = −10, B_{i3} = 10, \\quad i = 1, 2, … , 15$."
   ]
  },
  {
   "cell_type": "code",
   "execution_count": 36,
   "id": "6ee96a64b5c9e8",
   "metadata": {
    "collapsed": false,
    "jupyter": {
     "outputs_hidden": false
    }
   },
   "outputs": [
    {
     "data": {
      "text/plain": [
       "15×3 Matrix{Int64}:\n",
       " 10  -10  10\n",
       " 10  -10  10\n",
       " 10  -10  10\n",
       " 10  -10  10\n",
       " 10  -10  10\n",
       " 10  -10  10\n",
       " 10  -10  10\n",
       " 10  -10  10\n",
       " 10  -10  10\n",
       " 10  -10  10\n",
       " 10  -10  10\n",
       " 10  -10  10\n",
       " 10  -10  10\n",
       " 10  -10  10\n",
       " 10  -10  10"
      ]
     },
     "execution_count": 36,
     "metadata": {},
     "output_type": "execute_result"
    }
   ],
   "source": [
    "B = fill(10, (15,3))\n",
    "B[:, 2] = -B[:,2]\n",
    "B"
   ]
  },
  {
   "cell_type": "markdown",
   "id": "118aab69dead9070",
   "metadata": {
    "collapsed": false,
    "jupyter": {
     "outputs_hidden": false
    }
   },
   "source": [
    "Вычислите матрицу $C = B^T B$."
   ]
  },
  {
   "cell_type": "code",
   "execution_count": 37,
   "id": "cef5537b7091f3e3",
   "metadata": {
    "collapsed": false,
    "jupyter": {
     "outputs_hidden": false
    }
   },
   "outputs": [
    {
     "data": {
      "text/plain": [
       "3×3 Matrix{Int64}:\n",
       "  1500  -1500   1500\n",
       " -1500   1500  -1500\n",
       "  1500  -1500   1500"
      ]
     },
     "execution_count": 37,
     "metadata": {},
     "output_type": "execute_result"
    }
   ],
   "source": [
    "C = B' * B"
   ]
  },
  {
   "cell_type": "markdown",
   "id": "254afb3117ecd4df",
   "metadata": {
    "collapsed": false,
    "jupyter": {
     "outputs_hidden": false
    }
   },
   "source": [
    "## 7. Создайте матрицу $Z$ размерности $6\\times 6$, все элементы которой равны нулю, и матрицу $E$, все элементы которой равны $1$."
   ]
  },
  {
   "cell_type": "code",
   "execution_count": 38,
   "id": "caeabd2c6ae4295d",
   "metadata": {
    "collapsed": false,
    "jupyter": {
     "outputs_hidden": false
    }
   },
   "outputs": [
    {
     "data": {
      "text/plain": [
       "6×6 Matrix{Int64}:\n",
       " 0  0  0  0  0  0\n",
       " 0  0  0  0  0  0\n",
       " 0  0  0  0  0  0\n",
       " 0  0  0  0  0  0\n",
       " 0  0  0  0  0  0\n",
       " 0  0  0  0  0  0"
      ]
     },
     "metadata": {},
     "output_type": "display_data"
    },
    {
     "data": {
      "text/plain": [
       "6×6 Matrix{Int64}:\n",
       " 1  1  1  1  1  1\n",
       " 1  1  1  1  1  1\n",
       " 1  1  1  1  1  1\n",
       " 1  1  1  1  1  1\n",
       " 1  1  1  1  1  1\n",
       " 1  1  1  1  1  1"
      ]
     },
     "execution_count": 38,
     "metadata": {},
     "output_type": "execute_result"
    }
   ],
   "source": [
    "Z = zeros(Int64, 6,6); display(Z)\n",
    "E = ones(Int64, 6,6)"
   ]
  },
  {
   "cell_type": "markdown",
   "id": "fdd11cef-8cd1-4bd4-9579-75544838b724",
   "metadata": {},
   "source": [
    "Используя цикл `while` или `for` и закономерности расположения элементов, создайте следующие матрицы размерности $6\\times 6$:\n",
    "\n",
    "$$\n",
    "Z_1 = \\begin{pmatrix}\n",
    "0 & 1 & 0 & 0 & 0 & 0 \\\\\n",
    "1 & 0 & 1 & 0 & 0 & 0 \\\\\n",
    "0 & 1 & 0 & 1 & 0 & 0 \\\\\n",
    "0 & 0 & 1 & 0 & 1 & 0 \\\\\n",
    "0 & 0 & 0 & 1 & 0 & 1 \\\\\n",
    "0 & 0 & 0 & 0 & 1 & 0\n",
    "\\end{pmatrix}, \\qquad\n",
    "Z_2 = \\begin{pmatrix}\n",
    "1 & 0 & 1 & 0 & 0 & 0 \\\\\n",
    "0 & 1 & 0 & 1 & 0 & 0 \\\\\n",
    "1 & 0 & 1 & 0 & 1 & 0 \\\\\n",
    "0 & 1 & 0 & 1 & 0 & 1 \\\\\n",
    "0 & 0 & 1 & 0 & 1 & 0 \\\\\n",
    "0 & 0 & 0 & 1 & 0 & 1\n",
    "\\end{pmatrix},\n",
    "$$\n",
    "\n",
    "$$\n",
    "Z_3 = \\begin{pmatrix}\n",
    "0 & 0 & 0 & 1 & 0 & 1 \\\\\n",
    "0 & 0 & 1 & 0 & 1 & 0 \\\\\n",
    "0 & 1 & 0 & 1 & 0 & 1 \\\\\n",
    "1 & 0 & 1 & 0 & 1 & 0 \\\\\n",
    "0 & 1 & 0 & 1 & 0 & 0 \\\\\n",
    "1 & 0 & 1 & 0 & 0 & 0\n",
    "\\end{pmatrix}, \\qquad\n",
    "Z_4 = \\begin{pmatrix}\n",
    "1 & 0 & 1 & 0 & 1 & 0 \\\\\n",
    "0 & 1 & 0 & 1 & 0 & 1 \\\\\n",
    "1 & 0 & 1 & 0 & 1 & 0 \\\\\n",
    "0 & 1 & 0 & 1 & 0 & 1 \\\\\n",
    "1 & 0 & 1 & 0 & 1 & 0 \\\\\n",
    "0 & 1 & 0 & 1 & 0 & 1\n",
    "\\end{pmatrix}.\n",
    "$$"
   ]
  },
  {
   "cell_type": "code",
   "execution_count": 39,
   "id": "31c6f9da8ed67033",
   "metadata": {
    "collapsed": false,
    "jupyter": {
     "outputs_hidden": false
    }
   },
   "outputs": [
    {
     "data": {
      "text/plain": [
       "6×6 Matrix{Int64}:\n",
       " 0  1  0  0  0  0\n",
       " 1  0  1  0  0  0\n",
       " 0  1  0  1  0  0\n",
       " 0  0  1  0  1  0\n",
       " 0  0  0  1  0  1\n",
       " 0  0  0  0  1  0"
      ]
     },
     "metadata": {},
     "output_type": "display_data"
    },
    {
     "data": {
      "text/plain": [
       "6×6 Matrix{Int64}:\n",
       " 1  0  1  0  0  0\n",
       " 0  1  0  1  0  0\n",
       " 1  0  1  0  1  0\n",
       " 0  1  0  1  0  1\n",
       " 0  0  1  0  1  0\n",
       " 0  0  0  1  0  1"
      ]
     },
     "metadata": {},
     "output_type": "display_data"
    },
    {
     "data": {
      "text/plain": [
       "6×6 Matrix{Int64}:\n",
       " 0  0  0  1  0  1\n",
       " 0  0  1  0  1  0\n",
       " 0  1  0  1  0  1\n",
       " 1  0  1  0  1  0\n",
       " 0  1  0  1  0  0\n",
       " 1  0  1  0  0  0"
      ]
     },
     "metadata": {},
     "output_type": "display_data"
    },
    {
     "data": {
      "text/plain": [
       "6×6 Matrix{Int64}:\n",
       " 1  0  1  0  1  0\n",
       " 0  1  0  1  0  1\n",
       " 1  0  1  0  1  0\n",
       " 0  1  0  1  0  1\n",
       " 1  0  1  0  1  0\n",
       " 0  1  0  1  0  1"
      ]
     },
     "metadata": {},
     "output_type": "display_data"
    }
   ],
   "source": [
    "Z1, Z2, Z3, Z4 = zeros(Int64, 6, 6), zeros(Int64, 6, 6), zeros(Int64, 6, 6), zeros(Int64, 6, 6)\n",
    "for i in 1:6, j in 1:6\n",
    "    if i == j+1 || i == j-1\n",
    "        Z1[i,j] = 1\n",
    "    end\n",
    "    if i == j || i == j+2 || i == j-2\n",
    "        Z2[i,j] = 1\n",
    "    end\n",
    "    if i == 7-j || i == 5-j || i == 9-j\n",
    "        Z3[i,j] = 1\n",
    "    end\n",
    "    if (i+j)%2 == 0\n",
    "        Z4[i,j] = 1\n",
    "    end\n",
    "end\n",
    "display(Z1); display(Z2); display(Z3); display(Z4)"
   ]
  },
  {
   "cell_type": "markdown",
   "id": "251b91d68680439f",
   "metadata": {
    "collapsed": false,
    "jupyter": {
     "outputs_hidden": false
    }
   },
   "source": [
    "## 8. В языке R есть функция outer().\n",
    "\n",
    "Фактически, это матричное умножение с возможностью изменить применяемую операцию (например, заменить произведение на сложение или возведение в степень).\n",
    "\n",
    "- Напишите свою функцию, аналогичную функции outer() языка R. Функция должна иметь следующий интерфейс: `outer(x,y,operation)`. Таким образом, функция вида `outer(A,B,*)` должна быть эквивалентна произведению матриц $A$ и $B$ размерностями $L\\times M$ и $M\\times N$ соответственно, где элементы результирующей матрицы $C$ имеют вид $C_{ij} = \\sum_{k=1}^{M} A_{ik}B_{kj}$ (или в тензорном виде $C_i^j = \\sum_{k=1}^{M} A^i_kB^k_j$)"
   ]
  },
  {
   "cell_type": "code",
   "execution_count": 40,
   "id": "b5eca17a49775cc2",
   "metadata": {
    "collapsed": false,
    "jupyter": {
     "outputs_hidden": false
    }
   },
   "outputs": [
    {
     "data": {
      "text/plain": [
       "4×6 Matrix{Int64}:\n",
       " 10  4  7  10  4   1\n",
       "  2  2  8  10  9   1\n",
       "  6  7  1   1  2  10\n",
       "  4  2  7   7  4   2"
      ]
     },
     "metadata": {},
     "output_type": "display_data"
    },
    {
     "data": {
      "text/plain": [
       "6×3 Matrix{Int64}:\n",
       " 1   3  1\n",
       " 5   3  1\n",
       " 9   7  5\n",
       " 5   1  2\n",
       " 2   6  8\n",
       " 8  10  1"
      ]
     },
     "metadata": {},
     "output_type": "display_data"
    },
    {
     "data": {
      "text/plain": [
       "4×4 Matrix{Float64}:\n",
       " 282.0  221.0  123.0  185.0\n",
       " 221.0  254.0   72.0  176.0\n",
       " 123.0   72.0  191.0   80.0\n",
       " 185.0  176.0   80.0  138.0"
      ]
     },
     "metadata": {},
     "output_type": "display_data"
    },
    {
     "data": {
      "text/plain": [
       "3×3 Matrix{Float64}:\n",
       " 60.0  60.0  48.0\n",
       " 60.0  60.0  48.0\n",
       " 48.0  48.0  36.0"
      ]
     },
     "metadata": {},
     "output_type": "display_data"
    },
    {
     "data": {
      "text/plain": [
       "4×3 Matrix{Float64}:\n",
       " 12.0  7.0  6.0\n",
       " 12.0  9.0  4.0\n",
       "  6.0  4.0  4.0\n",
       " 13.0  9.0  7.0"
      ]
     },
     "metadata": {},
     "output_type": "display_data"
    },
    {
     "data": {
      "text/plain": [
       "4×3 Matrix{Float64}:\n",
       " 15.7028   16.4333   21.9\n",
       "  9.91389  14.0762   12.725\n",
       "  9.96111   6.80952  23.95\n",
       "  8.82778  10.8667   13.4"
      ]
     },
     "metadata": {},
     "output_type": "display_data"
    },
    {
     "data": {
      "text/plain": [
       "4×3 Matrix{Float64}:\n",
       "  6.0   6.0  18.0\n",
       "  2.0   2.0  14.0\n",
       " -3.0  -3.0   9.0\n",
       " -4.0  -4.0   8.0"
      ]
     },
     "metadata": {},
     "output_type": "display_data"
    },
    {
     "data": {
      "text/plain": [
       "4×3 Matrix{Float64}:\n",
       " 14.0  15.0  21.0\n",
       "  8.0  12.0  12.0\n",
       "  9.0   6.0  23.0\n",
       "  7.0   9.0  12.0"
      ]
     },
     "metadata": {},
     "output_type": "display_data"
    }
   ],
   "source": [
    "function outer(A, B, operation)\n",
    "    if size(A)[2] != size(B)[1]\n",
    "        println(\"Size incompatability! A's amount of columns DOES NOT equal B's amount of rows\")\n",
    "        return\n",
    "    end\n",
    "    answ = zeros(size(A)[1], size(B)[2])\n",
    "    for i in 1:size(A)[1], j in 1:size(B)[2]\n",
    "        answ[i,j] = sum(operation(A[i,k], B[k,j]) for k in 1:size(A)[2])\n",
    "    end\n",
    "    return answ\n",
    "end\n",
    "mtrx1, mtrx2 = rand(1:10, 4, 6), rand(1:10, 6, 3); display(mtrx1); display(mtrx2)\n",
    "display(outer(mtrx1, mtrx1', *))\n",
    "display(outer(mtrx2', mtrx2, +))\n",
    "display(outer(mtrx1, mtrx2, %))\n",
    "display(outer(mtrx1, mtrx2, /))\n",
    "display(outer(mtrx1, mtrx2, -))\n",
    "display(outer(mtrx1, mtrx2, div))"
   ]
  },
  {
   "cell_type": "markdown",
   "id": "a89d9d497e43b970",
   "metadata": {
    "collapsed": false,
    "jupyter": {
     "outputs_hidden": false
    }
   },
   "source": [
    "- Используя написанную вами функцию `outer()`, создайте матрицы следующей структуры:\n",
    "\n",
    "$$\n",
    "A_1 = \\begin{pmatrix}\n",
    "0 & 1 & 2 & 3 & 4 \\\\\n",
    "1 & 2 & 3 & 4 & 5 \\\\\n",
    "2 & 3 & 4 & 5 & 6 \\\\\n",
    "3 & 4 & 5 & 6 & 7 \\\\\n",
    "4 & 5 & 6 & 7 & 8\n",
    "\\end{pmatrix}, \\qquad\n",
    "A_2 = \\begin{pmatrix}\n",
    "0 & 0 & 0 & 0 & 0 \\\\\n",
    "1 & 1 & 1 & 1 & 1 \\\\\n",
    "2 & 4 & 8 & 16 & 32 \\\\\n",
    "3 & 9 & 27 & 81 & 243 \\\\\n",
    "4 & 16 & 64 & 256 & 1024\n",
    "\\end{pmatrix},\n",
    "$$\n",
    "\n",
    "$$\n",
    "A_3 = \\begin{pmatrix}\n",
    "0 & 1 & 2 & 3 & 4 \\\\\n",
    "1 & 2 & 3 & 4 & 0 \\\\\n",
    "2 & 3 & 4 & 0 & 1 \\\\\n",
    "3 & 4 & 0 & 1 & 2 \\\\\n",
    "4 & 0 & 1 & 2 & 3\n",
    "\\end{pmatrix}, \\qquad\n",
    "A_4 = \\begin{pmatrix}\n",
    "0 & 1 & 2 & 3 & 4 & 5 & 6 & 7 & 8 & 9 \\\\\n",
    "1 & 2 & 3 & 4 & 5 & 6 & 7 & 8 & 9 & 0 \\\\\n",
    "\\vdots & \\vdots & \\vdots & \\vdots & \\vdots & \\vdots & \\vdots & \\vdots & \\vdots & \\vdots \\\\\n",
    "8 & 9 & 0 & 1 & 2 & 3 & 4 & 5 & 6 & 7 \\\\\n",
    "9 & 0 & 1 & 2 & 3 & 4 & 5 & 6 & 7 & 8\n",
    "\\end{pmatrix},\n",
    "$$\n",
    "\n",
    "$$\n",
    "A_5 = \\begin{pmatrix}\n",
    "0 & 8 & 7 & 6 & 5 & 4 & 3 & 2 & 1 \\\\\n",
    "1 & 0 & 8 & 7 & 6 & 5 & 4 & 3 & 2 \\\\\n",
    "2 & 1 & 0 & 8 & 7 & 6 & 5 & 4 & 3 \\\\\n",
    "3 & 2 & 1 & 0 & 8 & 7 & 6 & 5 & 4 \\\\\n",
    "4 & 3 & 2 & 1 & 0 & 8 & 7 & 6 & 5 \\\\\n",
    "5 & 4 & 3 & 2 & 1 & 0 & 8 & 7 & 6 \\\\\n",
    "6 & 5 & 4 & 3 & 2 & 1 & 0 & 8 & 7 \\\\\n",
    "7 & 6 & 5 & 4 & 3 & 2 & 1 & 0 & 8 \\\\\n",
    "8 & 7 & 6 & 5 & 4 & 3 & 2 & 1 & 0\n",
    "\\end{pmatrix}.\n",
    "$$\n",
    "\n",
    "В каждом случае ваше решение должно быть легко обобщаемым на случай создания матриц большей размерности, но той же структуры."
   ]
  },
  {
   "cell_type": "code",
   "execution_count": 59,
   "id": "6a6eb20580987966",
   "metadata": {
    "collapsed": false,
    "jupyter": {
     "outputs_hidden": false
    }
   },
   "outputs": [
    {
     "data": {
      "text/plain": [
       "5×5 Matrix{Int64}:\n",
       " 0  1  2  3  4\n",
       " 1  2  3  4  5\n",
       " 2  3  4  5  6\n",
       " 3  4  5  6  7\n",
       " 4  5  6  7  8"
      ]
     },
     "metadata": {},
     "output_type": "display_data"
    },
    {
     "data": {
      "text/plain": [
       "5×5 Matrix{Int64}:\n",
       " 0   0   0    0     0\n",
       " 1   1   1    1     1\n",
       " 2   4   8   16    32\n",
       " 3   9  27   81   243\n",
       " 4  16  64  256  1024"
      ]
     },
     "metadata": {},
     "output_type": "display_data"
    },
    {
     "data": {
      "text/plain": [
       "5×5 Matrix{Int64}:\n",
       " 0  1  2  3  4\n",
       " 1  2  3  4  0\n",
       " 2  3  4  0  1\n",
       " 3  4  0  1  2\n",
       " 4  0  1  2  3"
      ]
     },
     "metadata": {},
     "output_type": "display_data"
    },
    {
     "data": {
      "text/plain": [
       "10×10 Matrix{Int64}:\n",
       " 0  1  2  3  4  5  6  7  8  9\n",
       " 1  2  3  4  5  6  7  8  9  0\n",
       " 2  3  4  5  6  7  8  9  0  1\n",
       " 3  4  5  6  7  8  9  0  1  2\n",
       " 4  5  6  7  8  9  0  1  2  3\n",
       " 5  6  7  8  9  0  1  2  3  4\n",
       " 6  7  8  9  0  1  2  3  4  5\n",
       " 7  8  9  0  1  2  3  4  5  6\n",
       " 8  9  0  1  2  3  4  5  6  7\n",
       " 9  0  1  2  3  4  5  6  7  8"
      ]
     },
     "metadata": {},
     "output_type": "display_data"
    },
    {
     "data": {
      "text/plain": [
       "9×9 Matrix{Int64}:\n",
       " 0  8  7  6  5  4  3  2  1\n",
       " 1  0  8  7  6  5  4  3  2\n",
       " 2  1  0  8  7  6  5  4  3\n",
       " 3  2  1  0  8  7  6  5  4\n",
       " 4  3  2  1  0  8  7  6  5\n",
       " 5  4  3  2  1  0  8  7  6\n",
       " 6  5  4  3  2  1  0  8  7\n",
       " 7  6  5  4  3  2  1  0  8\n",
       " 8  7  6  5  4  3  2  1  0"
      ]
     },
     "metadata": {},
     "output_type": "display_data"
    }
   ],
   "source": [
    "n = 5\n",
    "A1 = Int64.(outer(hcat([[i//n for i in 0:n-1] for j in 1:n]...), hcat([[i//n for i in 0:n-1] for j in 1:n]...)', +))\n",
    "display(A1)\n",
    "t2 = hcat([[j-1 for i in 1:n] for j in 1:n]...)'\n",
    "A2 = Int64.(outer(t2, hcat([[i==j ? i : 1 for i in 1:n] for j in 1:n]...), ^))-hcat([[(n-1)*i for i in 0:n-1] for j in 1:n]...)\n",
    "display(A2)\n",
    "#=\n",
    "Матрицы A3 и A4 аналогичны по своей структуре первой матрице, единственное, чем они отличаются - каждый элемент теперь представлен остатком от деления\n",
    "его предыдущего значения на сторону матрицы \n",
    "=#\n",
    "t3 = outer(hcat([[i//n for i in 0:n-1] for j in 1:n]...), hcat([[i//n for i in 0:n-1] for j in 1:n]...)', +)\n",
    "A3 = Int64.(outer(t3, hcat([[i==j ? n/1 : 1.0 for i in 1:n] for j in 1:n]...), mod))\n",
    "display(A3)\n",
    "n = 10\n",
    "t4 = outer(hcat([[i//n for i in 0:n-1] for j in 1:n]...), hcat([[i//n for i in 0:n-1] for j in 1:n]...)', +)\n",
    "A4 = Int64.(outer(t4, hcat([[i==j ? n/1 : 1.0 for i in 1:n] for j in 1:n]...), mod)) # Остаток от деления на n\n",
    "display(A4)\n",
    "n = 9\n",
    "t5 = outer(hcat([[i==j-1 ? j-1 : 0 for i in 0:n-1] for j in 1:n]...), hcat([[i==j-1 ? (n-i) : 0 for i in 0:n-1] for j in 1:n]...)', +)\n",
    "A5 = Int64.(outer(round.(t5), hcat([[i==j ? n/1 : 1.0 for i in 1:n] for j in 1:n]...), mod)) # Остаток от деления на n\n",
    "display(A5)"
   ]
  },
  {
   "cell_type": "markdown",
   "id": "e80f5ad81f6dfd47",
   "metadata": {
    "collapsed": false,
    "jupyter": {
     "outputs_hidden": false
    }
   },
   "source": [
    "## 9. Решите следующую систему линейных уравнений с 5 неизвестными\n",
    "\n",
    "$$\n",
    "\\begin{cases}\n",
    "x_1 + 2x_2 + 3x_3 + 4x_4 + 5x_5 = 7, \\\\\n",
    "2x_1 + x_2 + 2x_3 + 3x_4 + 4x_5 = −1, \\\\\n",
    "3x_1 + 2x_2 + x_3 + 2x_4 + 3x_5 = −3, \\\\\n",
    "4x_1 + 3x_2 + 2x_3 + x_4 + 2x_5 = 5, \\\\\n",
    "5x_1 + 4x_2 + 3x_3 + 2x_4 + x_5 = 17,\n",
    "\\end{cases}\n",
    "$$\n",
    "\n",
    "рассмотрев соответствующее матричное уравнение $Ax = y$. Обратите внимание на особый вид матрицы $A$.\n",
    "Метод, используемый для решения данной системы уравнений, должен быть легко обобщаем на случай большего числа уравнений,\n",
    "где матрица $A$ будет иметь такую же структуру.\n",
    "\n",
    "Решение будет осуществлено методом Гаусса."
   ]
  },
  {
   "cell_type": "code",
   "execution_count": 42,
   "id": "94faaabac07dfac3",
   "metadata": {
    "collapsed": false,
    "jupyter": {
     "outputs_hidden": false
    }
   },
   "outputs": [
    {
     "data": {
      "text/plain": [
       "gauss_method (generic function with 1 method)"
      ]
     },
     "execution_count": 42,
     "metadata": {},
     "output_type": "execute_result"
    }
   ],
   "source": [
    "function gauss_method(mtrx, vec)\n",
    "    if size(mtrx)[1] != size(mtrx)[2]\n",
    "        println(\"Size incompatability! \", size(mtrx)[1] >= size(mtrx)[2] ? \"More\" : \"Less\", \" equations than variables\")\n",
    "        return\n",
    "    end\n",
    "    if size(mtrx)[1] != size(vec)[1]\n",
    "        println(\"Size incompatability! \", size(mtrx)[1] >= size(vec)[1] ? \"Less\" : \"More\", \" answers than equations\")\n",
    "        return\n",
    "    end\n",
    "    n = size(mtrx)[1]\n",
    "    max_el, max_row = 0, 0\n",
    "    for i in 1:n\n",
    "        max_el = abs(mtrx[i, i])\n",
    "        max_row = i\n",
    "        for k in i:n\n",
    "            if abs(mtrx[k, k]) > max_el\n",
    "                max_el = abs(mtrx[k, k])\n",
    "                max_row = k\n",
    "            end\n",
    "        end\n",
    "        mtrx[i, :], mtrx[max_row, :] = mtrx[max_row, :], mtrx[i, :]\n",
    "        vec[i], vec[max_row] = vec[max_row], vec[i]\n",
    "\n",
    "        for k in i+1:n\n",
    "            c = -mtrx[k, i] / mtrx[i, i]\n",
    "            mtrx[k, :] = mtrx[k, :].+(c.*mtrx[i, :])\n",
    "            mtrx[k, i] = 0\n",
    "            vec[k] += c*vec[i]\n",
    "        end\n",
    "    end\n",
    "    answ = zeros(n)\n",
    "    for i in n:-1:1\n",
    "        answ[i] = vec[i] / mtrx[i, i]\n",
    "        for k in i-1:-1:1\n",
    "            vec[k] -= mtrx[k, i] * answ[i]\n",
    "        end\n",
    "    end\n",
    "    return answ\n",
    "end"
   ]
  },
  {
   "cell_type": "code",
   "execution_count": 43,
   "id": "2f44b16f-fde7-40f3-ae20-0ec489918bdb",
   "metadata": {},
   "outputs": [
    {
     "data": {
      "text/plain": [
       "5×5 Matrix{Int64}:\n",
       " 1  2  3  4  5\n",
       " 2  1  2  3  4\n",
       " 3  2  1  2  3\n",
       " 4  3  2  1  2\n",
       " 5  4  3  2  1"
      ]
     },
     "metadata": {},
     "output_type": "display_data"
    },
    {
     "data": {
      "text/plain": [
       "5-element Vector{Int64}:\n",
       "  7\n",
       " -1\n",
       " -3\n",
       "  5\n",
       " 17"
      ]
     },
     "metadata": {},
     "output_type": "display_data"
    },
    {
     "data": {
      "text/plain": [
       "5-element Vector{Float64}:\n",
       " -2.0\n",
       "  3.0\n",
       "  5.0\n",
       "  2.0\n",
       " -4.0"
      ]
     },
     "execution_count": 43,
     "metadata": {},
     "output_type": "execute_result"
    }
   ],
   "source": [
    "m = 5\n",
    "A = hcat([[abs(i-j)+1 for j in 1:m] for i in 1:m]...); display(A)\n",
    "y = [7, -1, -3, 5, 17]; display(y)\n",
    "x = gauss_method(A, y)"
   ]
  },
  {
   "cell_type": "markdown",
   "id": "3b18b0ee5fd5ffe4",
   "metadata": {
    "collapsed": false,
    "jupyter": {
     "outputs_hidden": false
    }
   },
   "source": [
    "## 10. Создайте матрицу $M$ размерности $6 \\times 10$, элементами которой являются целые числа, выбранные случайным образом с повторениями из совокупности $1, 2,\\dots, 10$."
   ]
  },
  {
   "cell_type": "code",
   "execution_count": 73,
   "id": "bb92e8e5df74757f",
   "metadata": {
    "collapsed": false,
    "jupyter": {
     "outputs_hidden": false
    }
   },
   "outputs": [
    {
     "data": {
      "text/plain": [
       "6×10 Matrix{Int64}:\n",
       " 9   8  10   9  8   4   7   9  10   9\n",
       " 5   1   3   5  3   4   6   8   7   9\n",
       " 7   2   8   5  1   5   8  10   1   3\n",
       " 1   9   3   7  3  10   6   5   6   9\n",
       " 7   7  10  10  4   6  10   6   2   8\n",
       " 1  10  10   7  5   6   6   3   8  10"
      ]
     },
     "execution_count": 73,
     "metadata": {},
     "output_type": "execute_result"
    }
   ],
   "source": [
    "M = rand(1:10, 6, 10)"
   ]
  },
  {
   "cell_type": "markdown",
   "id": "254344740cdd44c7",
   "metadata": {
    "collapsed": false,
    "jupyter": {
     "outputs_hidden": false
    }
   },
   "source": [
    "- Найдите число элементов в каждой строке матрицы $M$, которые больше числа $N$ (например, $N = 4$)."
   ]
  },
  {
   "cell_type": "code",
   "execution_count": 74,
   "id": "c3e8e190b68632d9",
   "metadata": {
    "collapsed": false,
    "jupyter": {
     "outputs_hidden": false
    }
   },
   "outputs": [
    {
     "data": {
      "text/plain": [
       "6-element Vector{Int64}:\n",
       " 9\n",
       " 6\n",
       " 6\n",
       " 7\n",
       " 8\n",
       " 8"
      ]
     },
     "execution_count": 74,
     "metadata": {},
     "output_type": "execute_result"
    }
   ],
   "source": [
    "N = 4\n",
    "[size(findall(x -> x>N, M[i, :]))[1] for i in 1:6]"
   ]
  },
  {
   "cell_type": "markdown",
   "id": "bc6582671646192",
   "metadata": {
    "collapsed": false,
    "jupyter": {
     "outputs_hidden": false
    }
   },
   "source": [
    "- Определите, в каких строках матрицы $M$ число $T$ (например, $T = 7$) встречается ровно 2 раза?"
   ]
  },
  {
   "cell_type": "code",
   "execution_count": 75,
   "id": "eafbf2a321e58ad0",
   "metadata": {
    "collapsed": false,
    "jupyter": {
     "outputs_hidden": false
    }
   },
   "outputs": [
    {
     "data": {
      "text/plain": [
       "1-element Vector{Int64}:\n",
       " 5"
      ]
     },
     "execution_count": 75,
     "metadata": {},
     "output_type": "execute_result"
    }
   ],
   "source": [
    "T = 7\n",
    "findall(x -> x==2, [size(findall(x -> x==T, M[i, :]))[1] for i in 1:6])"
   ]
  },
  {
   "cell_type": "markdown",
   "id": "1a61c6bbb21ba5f4",
   "metadata": {
    "collapsed": false,
    "jupyter": {
     "outputs_hidden": false
    }
   },
   "source": [
    "- Определите все пары столбцов матрицы $M$, сумма элементов которых больше $K$ (например, $K = 75$)."
   ]
  },
  {
   "cell_type": "code",
   "execution_count": 76,
   "id": "5a1afb8e1baf5ce4",
   "metadata": {
    "collapsed": false,
    "jupyter": {
     "outputs_hidden": false
    }
   },
   "outputs": [
    {
     "data": {
      "text/plain": [
       "10-element Vector{CartesianIndex{2}}:\n",
       " CartesianIndex(3, 2)\n",
       " CartesianIndex(4, 2)\n",
       " CartesianIndex(2, 3)\n",
       " CartesianIndex(4, 3)\n",
       " CartesianIndex(6, 3)\n",
       " CartesianIndex(2, 4)\n",
       " CartesianIndex(3, 4)\n",
       " CartesianIndex(6, 4)\n",
       " CartesianIndex(3, 6)\n",
       " CartesianIndex(4, 6)"
      ]
     },
     "execution_count": 76,
     "metadata": {},
     "output_type": "execute_result"
    }
   ],
   "source": [
    "K = 75\n",
    "findall(x -> x>K, hcat([[i==j ? -1 : sum(M[:, i])+sum(M[:, j]) for j in 1:6] for i in 1:6]...))"
   ]
  },
  {
   "cell_type": "markdown",
   "id": "d70a25eb8fbfe641",
   "metadata": {
    "collapsed": false,
    "jupyter": {
     "outputs_hidden": false
    }
   },
   "source": [
    "## 11. Вычислите:\n",
    "\n",
    "- $$\\sum_{i=1}^{20} \\sum_{j=1}^{5} \\frac{i^4}{(3+j)}$$"
   ]
  },
  {
   "cell_type": "code",
   "execution_count": 48,
   "id": "9e10a7b9ad735d26",
   "metadata": {
    "collapsed": false,
    "jupyter": {
     "outputs_hidden": false
    }
   },
   "outputs": [
    {
     "data": {
      "text/plain": [
       "1-element Vector{Float64}:\n",
       " 639215.2833333334"
      ]
     },
     "execution_count": 48,
     "metadata": {},
     "output_type": "execute_result"
    }
   ],
   "source": [
    "sum([sum([i^4/(3+j)] for j in 1:5) for i in 1:20])"
   ]
  },
  {
   "cell_type": "markdown",
   "id": "88b4851c-f83e-4db8-adac-5f6bc2540afa",
   "metadata": {},
   "source": [
    "- $$\\sum_{i=1}^{20} \\sum_{j=1}^{5} \\frac{i^4}{(3+ij)}$$"
   ]
  },
  {
   "cell_type": "code",
   "execution_count": 49,
   "id": "a519c215-2cba-45f3-9b8e-5701d6515440",
   "metadata": {},
   "outputs": [
    {
     "data": {
      "text/plain": [
       "1-element Vector{Float64}:\n",
       " 89912.02146097136"
      ]
     },
     "execution_count": 49,
     "metadata": {},
     "output_type": "execute_result"
    }
   ],
   "source": [
    "sum([sum([i^4/(3+i*j)] for j in 1:5) for i in 1:20])"
   ]
  }
 ],
 "metadata": {
  "kernelspec": {
   "display_name": "Julia 1.9.3",
   "language": "julia",
   "name": "julia-1.9"
  },
  "language_info": {
   "file_extension": ".jl",
   "mimetype": "application/julia",
   "name": "julia",
   "version": "1.9.3"
  }
 },
 "nbformat": 4,
 "nbformat_minor": 5
}
