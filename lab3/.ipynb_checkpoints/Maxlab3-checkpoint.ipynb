{
 "cells": [
  {
   "cell_type": "code",
   "execution_count": 1,
   "id": "663343fe-56ee-4cf3-9bc5-70b23bf44134",
   "metadata": {},
   "outputs": [
    {
     "name": "stdout",
     "output_type": "stream",
     "text": [
      "1=>1 2=>4 3=>9 4=>16 5=>25 6=>36 7=>49 8=>64 9=>81 10=>100 11=>121 12=>144 13=>169 14=>196 15=>225 16=>256 17=>289 18=>324 19=>361 20=>400 21=>441 22=>484 23=>529 24=>576 25=>625 26=>676 27=>729 28=>784 29=>841 30=>900 31=>961 32=>1024 33=>1089 34=>1156 35=>1225 36=>1296 37=>1369 38=>1444 39=>1521 40=>1600 41=>1681 42=>1764 43=>1849 44=>1936 45=>2025 46=>2116 47=>2209 48=>2304 49=>2401 50=>2500 51=>2601 52=>2704 53=>2809 54=>2916 55=>3025 56=>3136 57=>3249 58=>3364 59=>3481 60=>3600 61=>3721 62=>3844 63=>3969 64=>4096 65=>4225 66=>4356 67=>4489 68=>4624 69=>4761 70=>4900 71=>5041 72=>5184 73=>5329 74=>5476 75=>5625 76=>5776 77=>5929 78=>6084 79=>6241 80=>6400 81=>6561 82=>6724 83=>6889 84=>7056 85=>7225 86=>7396 87=>7569 88=>7744 89=>7921 90=>8100 91=>8281 92=>8464 93=>8649 94=>8836 95=>9025 96=>9216 97=>9409 98=>9604 99=>9801 100=>10000 \n",
      "\n",
      "1=>1 2=>4 3=>9 4=>16 5=>25 6=>36 7=>49 8=>64 9=>81 10=>100 11=>121 12=>144 13=>169 14=>196 15=>225 16=>256 17=>289 18=>324 19=>361 20=>400 21=>441 22=>484 23=>529 24=>576 25=>625 26=>676 27=>729 28=>784 29=>841 30=>900 31=>961 32=>1024 33=>1089 34=>1156 35=>1225 36=>1296 37=>1369 38=>1444 39=>1521 40=>1600 41=>1681 42=>1764 43=>1849 44=>1936 45=>2025 46=>2116 47=>2209 48=>2304 49=>2401 50=>2500 51=>2601 52=>2704 53=>2809 54=>2916 55=>3025 56=>3136 57=>3249 58=>3364 59=>3481 60=>3600 61=>3721 62=>3844 63=>3969 64=>4096 65=>4225 66=>4356 67=>4489 68=>4624 69=>4761 70=>4900 71=>5041 72=>5184 73=>5329 74=>5476 75=>5625 76=>5776 77=>5929 78=>6084 79=>6241 80=>6400 81=>6561 82=>6724 83=>6889 84=>7056 85=>7225 86=>7396 87=>7569 88=>7744 89=>7921 90=>8100 91=>8281 92=>8464 93=>8649 94=>8836 95=>9025 96=>9216 97=>9409 98=>9604 99=>9801 100=>10000 "
     ]
    }
   ],
   "source": [
    "# 1.1\n",
    "for i in 1:100\n",
    "    print(\"$i=>\", i^2, \" \")\n",
    "end\n",
    "j = 1; println(\"\\n\")\n",
    "while j <= 100\n",
    "    print(\"$j=>\", j^2, \" \"); j += 1\n",
    "end"
   ]
  },
  {
   "cell_type": "code",
   "execution_count": 2,
   "id": "cc3d08e3-0a3d-4570-a9b1-65d68e834d59",
   "metadata": {},
   "outputs": [
    {
     "name": "stdout",
     "output_type": "stream",
     "text": [
      "Dict(5 => 25, 16 => 256, 7 => 49, 20 => 400, 12 => 144, 8 => 64, 17 => 289, 1 => 1, 19 => 361, 4 => 16, 6 => 36, 13 => 169, 2 => 4, 10 => 100, 11 => 121, 9 => 81, 15 => 225, 18 => 324, 14 => 196, 3 => 9)\n",
      "Dict(5 => 25, 16 => 256, 7 => 49, 20 => 400, 12 => 144, 8 => 64, 17 => 289, 1 => 1, 19 => 361, 4 => 16, 6 => 36, 13 => 169, 2 => 4, 10 => 100, 11 => 121, 9 => 81, 15 => 225, 18 => 324, 14 => 196, 3 => 9)\n"
     ]
    }
   ],
   "source": [
    "# 1.2\n",
    "squares = Dict(i => i^2 for i = 1:20); show(squares); println()\n",
    "squares = empty!(squares); i = 1\n",
    "while i <= 20\n",
    "    squares[i] = i^2; global i += 1\n",
    "end; show(squares); println()"
   ]
  },
  {
   "cell_type": "code",
   "execution_count": 3,
   "id": "2a792f79-a2e4-4d36-b4a7-443844ae5343",
   "metadata": {},
   "outputs": [
    {
     "name": "stdout",
     "output_type": "stream",
     "text": [
      "[1, 4, 9, 16, 25, 36, 49, 64, 81, 100, 121, 144, 169, 196, 225, 256, 289, 324, 361, 400, 441, 484, 529, 576, 625, 676, 729, 784, 841, 900, 961, 1024, 1089, 1156, 1225, 1296, 1369, 1444, 1521, 1600, 1681, 1764, 1849, 1936, 2025, 2116, 2209, 2304, 2401, 2500, 2601, 2704, 2809, 2916, 3025, 3136, 3249, 3364, 3481, 3600, 3721, 3844, 3969, 4096, 4225, 4356, 4489, 4624, 4761, 4900, 5041, 5184, 5329, 5476, 5625, 5776, 5929, 6084, 6241, 6400, 6561, 6724, 6889, 7056, 7225, 7396, 7569, 7744, 7921, 8100, 8281, 8464, 8649, 8836, 9025, 9216, 9409, 9604, 9801, 10000]\n",
      "Any[1, 4, 9, 16, 25, 36, 49, 64, 81, 100, 121, 144, 169, 196, 225, 256, 289, 324, 361, 400, 441, 484, 529, 576, 625, 676, 729, 784, 841, 900, 961, 1024, 1089, 1156, 1225, 1296, 1369, 1444, 1521, 1600, 1681, 1764, 1849, 1936, 2025, 2116, 2209, 2304, 2401, 2500, 2601, 2704, 2809, 2916, 3025, 3136, 3249, 3364, 3481, 3600, 3721, 3844, 3969, 4096, 4225, 4356, 4489, 4624, 4761, 4900, 5041, 5184, 5329, 5476, 5625, 5776, 5929, 6084, 6241, 6400, 6561, 6724, 6889, 7056, 7225, 7396, 7569, 7744, 7921, 8100, 8281, 8464, 8649, 8836, 9025, 9216, 9409, 9604, 9801, 10000]\n"
     ]
    }
   ],
   "source": [
    "# 1.3\n",
    "squares_arr = [i^2 for i in 1:100]; show(squares_arr); println()\n",
    "squares_arr = []; i = 1\n",
    "while i <= 100\n",
    "    append!(squares_arr, i^2); global i += 1\n",
    "end; show(squares_arr); println()"
   ]
  },
  {
   "cell_type": "code",
   "execution_count": 4,
   "id": "725a49e7-4315-4daf-9ddf-faffd4b53467",
   "metadata": {},
   "outputs": [
    {
     "name": "stdin",
     "output_type": "stream",
     "text": [
      "stdin>  6\n"
     ]
    },
    {
     "name": "stdout",
     "output_type": "stream",
     "text": [
      "6\n",
      "6\n"
     ]
    }
   ],
   "source": [
    "# 2\n",
    "numb = parse(Int, readline())\n",
    "if isodd(numb) println(\"Нечётное\") else println(numb) end\n",
    "iseven(numb) ? println(numb) : println(\"Нечётное\")"
   ]
  },
  {
   "cell_type": "code",
   "execution_count": 5,
   "id": "d9d1b007-b892-45b5-95b4-8b7e66569e86",
   "metadata": {},
   "outputs": [
    {
     "name": "stdin",
     "output_type": "stream",
     "text": [
      "stdin>  5\n"
     ]
    },
    {
     "name": "stdout",
     "output_type": "stream",
     "text": [
      "6 Если хотите завершить введите y: "
     ]
    },
    {
     "name": "stdin",
     "output_type": "stream",
     "text": [
      "stdin>  n\n"
     ]
    },
    {
     "name": "stdout",
     "output_type": "stream",
     "text": [
      "7 Если хотите завершить введите y: "
     ]
    },
    {
     "name": "stdin",
     "output_type": "stream",
     "text": [
      "stdin>  n\n"
     ]
    },
    {
     "name": "stdout",
     "output_type": "stream",
     "text": [
      "8 Если хотите завершить введите y: "
     ]
    },
    {
     "name": "stdin",
     "output_type": "stream",
     "text": [
      "stdin>  n\n"
     ]
    },
    {
     "name": "stdout",
     "output_type": "stream",
     "text": [
      "9 Если хотите завершить введите y: "
     ]
    },
    {
     "name": "stdin",
     "output_type": "stream",
     "text": [
      "stdin>  n\n"
     ]
    },
    {
     "name": "stdout",
     "output_type": "stream",
     "text": [
      "10 Если хотите завершить введите y: "
     ]
    },
    {
     "name": "stdin",
     "output_type": "stream",
     "text": [
      "stdin>  y\n"
     ]
    }
   ],
   "source": [
    "# 3\n",
    "function add_one(numb)\n",
    "    return numb + 1\n",
    "end\n",
    "\n",
    "n = parse(Int, readline())\n",
    "while true\n",
    "    global n = add_one(n); print(n, \" Если хотите завершить введите y: \")\n",
    "    if readline() == \"y\"\n",
    "        break\n",
    "    println()\n",
    "    end\n",
    "end"
   ]
  },
  {
   "cell_type": "code",
   "execution_count": 6,
   "id": "6d9937b6-8dbe-4a13-9ccd-7d457613e83a",
   "metadata": {},
   "outputs": [
    {
     "data": {
      "text/plain": [
       "4×5 Matrix{Int64}:\n",
       " 1  5   9  13  17\n",
       " 2  6  10  14  18\n",
       " 3  7  11  15  19\n",
       " 4  8  12  16  20"
      ]
     },
     "metadata": {},
     "output_type": "display_data"
    },
    {
     "name": "stdout",
     "output_type": "stream",
     "text": [
      "\n"
     ]
    },
    {
     "data": {
      "text/plain": [
       "4×5 Matrix{Int64}:\n",
       " 1  5   9  13  17\n",
       " 2  6  10  14  18\n",
       " 3  7  11  15  19\n",
       " 4  8  12  16  20"
      ]
     },
     "metadata": {},
     "output_type": "display_data"
    },
    {
     "name": "stdout",
     "output_type": "stream",
     "text": [
      "\n"
     ]
    }
   ],
   "source": [
    "# 4\n",
    "array1 = map(x -> x, reshape(Array(1:20), 4, 5)); display(array1); println()\n",
    "array2 = broadcast(x -> x, reshape(Array(1:20), 4, 5)); display(array2); println()\n",
    "# не совсем понимаю зачем тут map и broadcast без них это решается проще"
   ]
  },
  {
   "cell_type": "code",
   "execution_count": 7,
   "id": "a2e455c0-2bce-4a0a-b755-97bfcde32b85",
   "metadata": {},
   "outputs": [
    {
     "data": {
      "text/plain": [
       "3×3 Matrix{Int64}:\n",
       "  1   1   3\n",
       "  5   2   6\n",
       " -2  -1  -3"
      ]
     },
     "metadata": {},
     "output_type": "display_data"
    },
    {
     "data": {
      "text/plain": [
       "3×3 Matrix{Int64}:\n",
       "   1   1   27\n",
       " 125   8  216\n",
       "  -8  -1  -27"
      ]
     },
     "metadata": {},
     "output_type": "display_data"
    }
   ],
   "source": [
    "# 5.1\n",
    "A = [1 1 3; 5 2 6; -2 -1 -3]\n",
    "display(A)\n",
    "display(A.^3)"
   ]
  },
  {
   "cell_type": "code",
   "execution_count": 8,
   "id": "224cc2ca-8dca-46fc-98e7-a9190b928fd7",
   "metadata": {},
   "outputs": [
    {
     "data": {
      "text/plain": [
       "3×3 Matrix{Int64}:\n",
       "  1   1   2\n",
       "  5   2   7\n",
       " -2  -1  -3"
      ]
     },
     "metadata": {},
     "output_type": "display_data"
    }
   ],
   "source": [
    "# 5.2\n",
    "for i in 1:3 A[i, 3] = A[i, 1] + A[i, 2] end\n",
    "display(A)"
   ]
  },
  {
   "cell_type": "code",
   "execution_count": 9,
   "id": "11962b13-9ab8-4226-b1b5-0df111fe42af",
   "metadata": {},
   "outputs": [
    {
     "data": {
      "text/plain": [
       "3×3 Matrix{Float64}:\n",
       "  1500.0  -1500.0   1500.0\n",
       " -1500.0   1500.0  -1500.0\n",
       "  1500.0  -1500.0   1500.0"
      ]
     },
     "execution_count": 9,
     "metadata": {},
     "output_type": "execute_result"
    }
   ],
   "source": [
    "# 6\n",
    "B = zeros(15, 3)\n",
    "for i in 1:15 B[i,1] = 10; B[i,2] = -10; B[i,3] = 10 end\n",
    "Bt = transpose(B)\n",
    "C = Bt * B"
   ]
  },
  {
   "cell_type": "code",
   "execution_count": 10,
   "id": "efebba89-b09a-4a9f-921a-d90128bf74b9",
   "metadata": {},
   "outputs": [
    {
     "data": {
      "text/plain": [
       "6×6 Matrix{Int64}:\n",
       " 0  1  0  0  0  0\n",
       " 1  0  1  0  0  0\n",
       " 0  1  0  1  0  0\n",
       " 0  0  1  0  1  0\n",
       " 0  0  0  1  0  1\n",
       " 0  0  0  0  1  0"
      ]
     },
     "metadata": {},
     "output_type": "display_data"
    },
    {
     "data": {
      "text/plain": [
       "6×6 Matrix{Int64}:\n",
       " 1  0  1  0  0  0\n",
       " 0  1  0  1  0  0\n",
       " 1  0  1  0  1  0\n",
       " 0  1  0  1  0  1\n",
       " 0  0  1  0  1  0\n",
       " 0  0  0  1  0  1"
      ]
     },
     "metadata": {},
     "output_type": "display_data"
    },
    {
     "data": {
      "text/plain": [
       "6×6 Matrix{Int64}:\n",
       " 0  0  0  1  0  1\n",
       " 0  0  1  0  1  0\n",
       " 0  1  0  1  0  1\n",
       " 1  0  1  0  1  0\n",
       " 0  1  0  1  0  0\n",
       " 1  0  1  0  0  0"
      ]
     },
     "metadata": {},
     "output_type": "display_data"
    },
    {
     "data": {
      "text/plain": [
       "6×6 Matrix{Int64}:\n",
       " 1  0  1  0  1  0\n",
       " 0  1  0  1  0  1\n",
       " 1  0  1  0  1  0\n",
       " 0  1  0  1  0  1\n",
       " 1  0  1  0  1  0\n",
       " 0  1  0  1  0  1"
      ]
     },
     "metadata": {},
     "output_type": "display_data"
    }
   ],
   "source": [
    "# 7\n",
    "Z1 = hcat([[if i-j in [1, -1] 1 else 0 end for j in 1:6] for i in 1:6]...); display(Z1)\n",
    "Z2 = hcat([[if i-j in [2, 0, -2] 1 else 0 end for j in 1:6] for i in 1:6]...); display(Z2)\n",
    "Z3 = hcat([[if i+j in [5, 7, 9] 1 else 0 end for j in 1:6] for i in 1:6]...); display(Z3)\n",
    "Z4 = hcat([[if i-j in [4, 2, 0, -2, -4] 1 else 0 end for j in 1:6] for i in 1:6]...); display(Z4)"
   ]
  },
  {
   "cell_type": "code",
   "execution_count": 2,
   "id": "b72ceecd-92df-4585-831d-b9a5a7579669",
   "metadata": {},
   "outputs": [
    {
     "data": {
      "text/plain": [
       "5×3 Matrix{Int64}:\n",
       " 5  4  4\n",
       " 5  2  3\n",
       " 3  4  5\n",
       " 5  5  4\n",
       " 3  3  1"
      ]
     },
     "metadata": {},
     "output_type": "display_data"
    },
    {
     "data": {
      "text/plain": [
       "3×5 Matrix{Int64}:\n",
       " 4  1  3  3  5\n",
       " 4  1  1  1  3\n",
       " 2  3  4  2  5"
      ]
     },
     "metadata": {},
     "output_type": "display_data"
    },
    {
     "data": {
      "text/plain": [
       "5×5 transpose(::Matrix{Int64}) with eltype Int64:\n",
       " 23  18  21  19  26\n",
       " 20  15  18  16  23\n",
       " 22  17  20  18  25\n",
       " 24  19  22  20  27\n",
       " 17  12  15  13  20"
      ]
     },
     "metadata": {},
     "output_type": "display_data"
    },
    {
     "data": {
      "text/plain": [
       "5×5 transpose(::Matrix{Int64}) with eltype Int64:\n",
       "  3  8   5  7   0\n",
       "  0  5   2  4  -3\n",
       "  2  7   4  6  -1\n",
       "  4  9   6  8   1\n",
       " -3  2  -1  1  -6"
      ]
     },
     "metadata": {},
     "output_type": "display_data"
    },
    {
     "data": {
      "text/plain": [
       "5×5 transpose(::Matrix{Int64}) with eltype Int64:\n",
       " 44  21  35  27  57\n",
       " 34  16  29  23  46\n",
       " 38  22  33  23  52\n",
       " 48  22  36  28  60\n",
       " 26   9  16  14  29"
      ]
     },
     "metadata": {},
     "output_type": "display_data"
    },
    {
     "data": {
      "text/plain": [
       "5×5 transpose(::Matrix{Float64}) with eltype Float64:\n",
       " 4.25  10.3333   6.66667  7.66667  3.13333\n",
       " 3.25   8.0      4.41667  5.16667  2.26667\n",
       " 4.25   8.66667  6.25     7.5      2.93333\n",
       " 4.5   11.3333   7.66667  8.66667  3.46667\n",
       " 2.0    6.33333  4.25     4.5      1.8"
      ]
     },
     "metadata": {},
     "output_type": "display_data"
    },
    {
     "data": {
      "text/plain": [
       "5×5 transpose(::Matrix{Int64}) with eltype Int64:\n",
       "  897   73  385  145  4213\n",
       "  650   34  208  136  3376\n",
       "  362  132  656   56  3432\n",
       " 1266   74  386  146  4274\n",
       "  163    7   31   31   271"
      ]
     },
     "metadata": {},
     "output_type": "display_data"
    }
   ],
   "source": [
    "# 8.1\n",
    "function outer(x, y, operation)\n",
    "    res = [[sum(operation(x[i, k], y[k, j]) for k in 1:size(x)[2]) for j in 1:size(y)[2]] for i in 1:size(x)[1]]\n",
    "    return transpose(hcat(res...))\n",
    "end\n",
    "\n",
    "M1, M2 = reshape(rand(1:5, 15), 5, 3), reshape(rand(1:5, 15), 3, 5); display(M1); display(M2)\n",
    "display(outer(M1, M2, +))\n",
    "display(outer(M1, M2, -))\n",
    "display(outer(M1, M2, *))\n",
    "display(outer(M1, M2, /))\n",
    "display(outer(M1, M2, ^))"
   ]
  },
  {
   "cell_type": "code",
   "execution_count": 4,
   "id": "5a97f8e8-e36e-462d-9dd9-d77f38a3730f",
   "metadata": {},
   "outputs": [
    {
     "data": {
      "text/plain": [
       "5×5 transpose(::Matrix{Int64}) with eltype Int64:\n",
       " 0  1  2  3  4\n",
       " 1  2  3  4  5\n",
       " 2  3  4  5  6\n",
       " 3  4  5  6  7\n",
       " 4  5  6  7  8"
      ]
     },
     "metadata": {},
     "output_type": "display_data"
    },
    {
     "data": {
      "text/plain": [
       "5×5 transpose(::Matrix{Int64}) with eltype Int64:\n",
       " 0   0   0    0     0\n",
       " 1   1   1    1     1\n",
       " 2   4   8   16    32\n",
       " 3   9  27   81   243\n",
       " 4  16  64  256  1024"
      ]
     },
     "metadata": {},
     "output_type": "display_data"
    },
    {
     "data": {
      "text/plain": [
       "5×5 transpose(::Matrix{Int64}) with eltype Int64:\n",
       " 0  1  2  3  4\n",
       " 1  2  3  4  0\n",
       " 2  3  4  0  1\n",
       " 3  4  0  1  2\n",
       " 4  0  1  2  3"
      ]
     },
     "metadata": {},
     "output_type": "display_data"
    },
    {
     "data": {
      "text/plain": [
       "10×10 transpose(::Matrix{Int64}) with eltype Int64:\n",
       " 0  1  2  3  4  5  6  7  8  9\n",
       " 1  2  3  4  5  6  7  8  9  0\n",
       " 2  3  4  5  6  7  8  9  0  1\n",
       " 3  4  5  6  7  8  9  0  1  2\n",
       " 4  5  6  7  8  9  0  1  2  3\n",
       " 5  6  7  8  9  0  1  2  3  4\n",
       " 6  7  8  9  0  1  2  3  4  5\n",
       " 7  8  9  0  1  2  3  4  5  6\n",
       " 8  9  0  1  2  3  4  5  6  7\n",
       " 9  0  1  2  3  4  5  6  7  8"
      ]
     },
     "metadata": {},
     "output_type": "display_data"
    },
    {
     "data": {
      "text/plain": [
       "9×9 transpose(::Matrix{Int64}) with eltype Int64:\n",
       " 0  1  2  3  4  5  6  7  8\n",
       " 8  0  1  2  3  4  5  6  7\n",
       " 7  8  0  1  2  3  4  5  6\n",
       " 6  7  8  0  1  2  3  4  5\n",
       " 5  6  7  8  0  1  2  3  4\n",
       " 4  5  6  7  8  0  1  2  3\n",
       " 3  4  5  6  7  8  0  1  2\n",
       " 2  3  4  5  6  7  8  0  1\n",
       " 1  2  3  4  5  6  7  8  0"
      ]
     },
     "metadata": {},
     "output_type": "display_data"
    }
   ],
   "source": [
    "# 8.2\n",
    "A1 = outer(reshape(0:4, 5, 1), reshape(0:4, 1, 5), +); display(A1)\n",
    "A2 = outer(reshape(0:4, 5, 1), reshape(1:5, 1, 5), ^); display(A2)\n",
    "A3 = outer(hcat([[if i==j 1 else 0 end for j in 0:4] for i in 0:4]...), hcat([Vector(i:i+4).%5 for i in 0:4]...), *); display(A3)\n",
    "A4 = outer(hcat([[if i==j 1 else 0 end for j in 0:9] for i in 0:9]...), hcat([Vector(i:i+9).%10 for i in 0:9]...), *); display(A4)\n",
    "A5 = outer(hcat([[if i==j 1 else 0 end for j in 0:8] for i in 0:8]...), hcat([Vector(i+9:-1:i+1).%9 for i in 0:8]...), *); display(A5)"
   ]
  },
  {
   "cell_type": "code",
   "execution_count": 13,
   "id": "137309b6-3868-4e79-8e3f-35016a2267e7",
   "metadata": {},
   "outputs": [
    {
     "data": {
      "text/plain": [
       "5×5 Matrix{Float64}:\n",
       " 1.0  2.0  3.0  4.0  5.0\n",
       " 2.0  1.0  2.0  3.0  4.0\n",
       " 3.0  2.0  1.0  2.0  3.0\n",
       " 4.0  3.0  2.0  1.0  2.0\n",
       " 5.0  4.0  3.0  2.0  1.0"
      ]
     },
     "metadata": {},
     "output_type": "display_data"
    },
    {
     "data": {
      "text/plain": [
       "5-element Vector{Float64}:\n",
       "  7.0\n",
       " -1.0\n",
       " -3.0\n",
       "  5.0\n",
       " 17.0"
      ]
     },
     "metadata": {},
     "output_type": "display_data"
    },
    {
     "data": {
      "text/plain": [
       "5-element Vector{Float64}:\n",
       " -1.9999999999999971\n",
       "  2.9999999999999982\n",
       "  4.999999999999999\n",
       "  1.9999999999999982\n",
       " -3.9999999999999987"
      ]
     },
     "execution_count": 13,
     "metadata": {},
     "output_type": "execute_result"
    }
   ],
   "source": [
    "# 9\n",
    "using LinearSolve\n",
    "M, N = Matrix{Float64}([1 2 3 4 5; 2 1 2 3 4; 3 2 1 2 3; 4 3 2 1 2; 5 4 3 2 1]), Vector{Float64}([7, -1, -3, 5, 17])\n",
    "display(M); display(N)\n",
    "prob = LinearProblem(M, N)\n",
    "sol = solve(prob)\n",
    "sol.u"
   ]
  },
  {
   "cell_type": "code",
   "execution_count": 14,
   "id": "e7d4a08a-4707-4b70-a4cb-f9a85c935520",
   "metadata": {},
   "outputs": [
    {
     "data": {
      "text/plain": [
       "6×10 Matrix{Int64}:\n",
       "  4  4  10  3   3   4  9  2   2  10\n",
       "  8  3   6  7  10   6  1  1   1   2\n",
       "  4  7   3  1   4  10  8  5   5   9\n",
       "  9  4   2  9   7   4  8  8   7   1\n",
       "  2  5   7  7   5   7  4  6   1   4\n",
       " 10  9   2  7   3   4  9  9  10   3"
      ]
     },
     "metadata": {},
     "output_type": "display_data"
    },
    {
     "name": "stdout",
     "output_type": "stream",
     "text": [
      "3\n",
      "5\n",
      "4\n",
      "6\n",
      "4\n",
      "6\n"
     ]
    }
   ],
   "source": [
    "# 10.1\n",
    "M = rand(1:10, 6, 10); display(M)\n",
    "N = 5\n",
    "for i in 1:6\n",
    "    println(length(filter(z -> z > N, M[i, 1:10])))\n",
    "end"
   ]
  },
  {
   "cell_type": "code",
   "execution_count": 15,
   "id": "a66f0732-e4c8-46aa-bf60-2d0fa9143c2e",
   "metadata": {},
   "outputs": [],
   "source": [
    "# 10.2\n",
    "m, n = 5, 2\n",
    "for i in 1:6\n",
    "    if length(filter(z -> z > m, M[i, 1:10])) == n\n",
    "        println(\"in line $(i) there are $(n) numbers greater than $(m)\")\n",
    "    end\n",
    "end"
   ]
  },
  {
   "cell_type": "code",
   "execution_count": 16,
   "id": "4a8c0004-ab85-4b62-bde2-bf005e5ab5db",
   "metadata": {},
   "outputs": [
    {
     "name": "stdout",
     "output_type": "stream",
     "text": [
      "the sum of lines 1 and 4 is greater than 75\n",
      "the sum of lines 1 and 6 is greater than 75\n",
      "the sum of lines 2 and 4 is greater than 75\n",
      "the sum of lines 2 and 6 is greater than 75\n",
      "the sum of lines 3 and 4 is greater than 75\n",
      "the sum of lines 3 and 6 is greater than 75\n",
      "the sum of lines 4 and 6 is greater than 75\n",
      "the sum of lines 5 and 6 is greater than 75\n"
     ]
    }
   ],
   "source": [
    "# 10.3\n",
    "K = 75\n",
    "for i in 1:6\n",
    "    for j in i+1:6\n",
    "        if sum(filter(z -> z > m, M[i, 1:10])) + sum(filter(z -> z > m, M[j, 1:10])) > K\n",
    "            println(\"the sum of lines $(i) and $(j) is greater than $(K)\")\n",
    "        end\n",
    "    end\n",
    "end"
   ]
  },
  {
   "cell_type": "code",
   "execution_count": 17,
   "id": "0ab3b743-822d-48a6-bd4e-3649f8cf2788",
   "metadata": {},
   "outputs": [
    {
     "data": {
      "text/plain": [
       "639215.2833333333"
      ]
     },
     "metadata": {},
     "output_type": "display_data"
    },
    {
     "data": {
      "text/plain": [
       "89912.02146097136"
      ]
     },
     "metadata": {},
     "output_type": "display_data"
    }
   ],
   "source": [
    "# 11\n",
    "A = [[i^4/(3+j) for j in 1:5] for i in 1:20]\n",
    "B = [[i^4/(3+i*j) for j in 1:5] for i in 1:20]\n",
    "display(sum(sum(A))); display(sum(sum(B)))"
   ]
  },
  {
   "cell_type": "code",
   "execution_count": null,
   "id": "a42e2381-aaae-427e-8dbc-ce7cc4c1aee5",
   "metadata": {},
   "outputs": [],
   "source": []
  }
 ],
 "metadata": {
  "kernelspec": {
   "display_name": "Julia 1.9.3",
   "language": "julia",
   "name": "julia-1.9"
  },
  "language_info": {
   "file_extension": ".jl",
   "mimetype": "application/julia",
   "name": "julia",
   "version": "1.9.3"
  }
 },
 "nbformat": 4,
 "nbformat_minor": 5
}
