{
 "cells": [
  {
   "cell_type": "markdown",
   "id": "0614ab6a-9a53-4eab-a2ef-a4399cbee45e",
   "metadata": {},
   "source": [
    "# Повторение примеров"
   ]
  },
  {
   "cell_type": "code",
   "execution_count": 1,
   "id": "ec9fd5db-2c26-4819-b6db-978e57ef96eb",
   "metadata": {},
   "outputs": [
    {
     "data": {
      "text/plain": [
       "(Int64, Float64, Float64, ComplexF64, Irrational{:π})"
      ]
     },
     "execution_count": 1,
     "metadata": {},
     "output_type": "execute_result"
    }
   ],
   "source": [
    "typeof(3), typeof(3.5), typeof(3/3.55), typeof(sqrt(3+4im)), typeof(pi)"
   ]
  },
  {
   "cell_type": "code",
   "execution_count": 2,
   "id": "62c453e1-a3e1-4963-959d-742da4359f45",
   "metadata": {},
   "outputs": [
    {
     "data": {
      "text/plain": [
       "(Inf, -Inf, NaN)"
      ]
     },
     "execution_count": 2,
     "metadata": {},
     "output_type": "execute_result"
    }
   ],
   "source": [
    "1.0/0.0, 1.0/(-0.0), 0.0/0.0"
   ]
  },
  {
   "cell_type": "code",
   "execution_count": 3,
   "id": "bb4c0fe16f47632",
   "metadata": {
    "collapsed": false
   },
   "outputs": [
    {
     "name": "stdout",
     "output_type": "stream",
     "text": [
      "   Int8: [-128,127]\n",
      "  Int16: [-32768,32767]\n",
      "  Int32: [-2147483648,2147483647]\n",
      "  Int64: [-9223372036854775808,9223372036854775807]\n",
      " Int128: [-170141183460469231731687303715884105728,170141183460469231731687303715884105727]\n",
      "  UInt8: [0,255]\n",
      " UInt16: [0,65535]\n",
      " UInt32: [0,4294967295]\n",
      " UInt64: [0,18446744073709551615]\n",
      "UInt128: [0,340282366920938463463374607431768211455]\n"
     ]
    }
   ],
   "source": [
    "for T in [Int8,Int16,Int32,Int64,Int128,UInt8,UInt16,UInt32,UInt64,UInt128]\n",
    "println(\"$(lpad(T,7)): [$(typemin(T)),$(typemax(T))]\")\n",
    "end"
   ]
  },
  {
   "cell_type": "code",
   "execution_count": 4,
   "id": "e82dfc80-fe4f-4ffd-9aa5-13d068fcd614",
   "metadata": {},
   "outputs": [
    {
     "data": {
      "text/plain": [
       "(2, '\\x02', Char)"
      ]
     },
     "execution_count": 4,
     "metadata": {},
     "output_type": "execute_result"
    }
   ],
   "source": [
    "Int64(2.0), Char(2), typeof(Char(2))"
   ]
  },
  {
   "cell_type": "code",
   "execution_count": 5,
   "id": "eee26eeb-c58b-4816-be17-bc29522082f6",
   "metadata": {},
   "outputs": [
    {
     "data": {
      "text/plain": [
       "(2, '\\x02')"
      ]
     },
     "execution_count": 5,
     "metadata": {},
     "output_type": "execute_result"
    }
   ],
   "source": [
    "convert(Int64, 2.0), convert(Char, 2)"
   ]
  },
  {
   "cell_type": "code",
   "execution_count": 6,
   "id": "2a358bfa-92fd-4477-96cd-1f5b80208b63",
   "metadata": {},
   "outputs": [
    {
     "data": {
      "text/plain": [
       "Tuple{Float32, Float32, Float32}"
      ]
     },
     "execution_count": 6,
     "metadata": {},
     "output_type": "execute_result"
    }
   ],
   "source": [
    "typeof(promote(Int8(1), Float16(4.5), Float32(4.1)))"
   ]
  },
  {
   "cell_type": "code",
   "execution_count": 7,
   "id": "b4ad5df8-4408-4b28-b252-d8729e3787c2",
   "metadata": {},
   "outputs": [
    {
     "data": {
      "text/plain": [
       "f (generic function with 1 method)"
      ]
     },
     "execution_count": 7,
     "metadata": {},
     "output_type": "execute_result"
    }
   ],
   "source": [
    "function f(x)\n",
    "    x^2\n",
    "end"
   ]
  },
  {
   "cell_type": "code",
   "execution_count": 8,
   "id": "3ac98e94-8a2f-498e-86ff-884923f66522",
   "metadata": {},
   "outputs": [
    {
     "data": {
      "text/plain": [
       "16"
      ]
     },
     "execution_count": 8,
     "metadata": {},
     "output_type": "execute_result"
    }
   ],
   "source": [
    "f(4)"
   ]
  },
  {
   "cell_type": "code",
   "execution_count": 9,
   "id": "c0a6a817-fcf8-4e38-ae9b-153a1d495647",
   "metadata": {},
   "outputs": [
    {
     "data": {
      "text/plain": [
       "g (generic function with 1 method)"
      ]
     },
     "execution_count": 9,
     "metadata": {},
     "output_type": "execute_result"
    }
   ],
   "source": [
    "g(x) = x^2"
   ]
  },
  {
   "cell_type": "code",
   "execution_count": 10,
   "id": "296d55df-3e68-4284-8024-78cd3d5de703",
   "metadata": {},
   "outputs": [
    {
     "data": {
      "text/plain": [
       "64"
      ]
     },
     "execution_count": 10,
     "metadata": {},
     "output_type": "execute_result"
    }
   ],
   "source": [
    "g(8)"
   ]
  },
  {
   "cell_type": "code",
   "execution_count": 11,
   "id": "3791b651-5b5d-4f35-9d7f-b724c91b6ea9",
   "metadata": {},
   "outputs": [
    {
     "data": {
      "text/plain": [
       "(7, 2)"
      ]
     },
     "execution_count": 11,
     "metadata": {},
     "output_type": "execute_result"
    }
   ],
   "source": [
    "a = [4 7 6]\n",
    "b = [1, 2, 3]\n",
    "a[2], b[2]"
   ]
  },
  {
   "cell_type": "code",
   "execution_count": 12,
   "id": "abbf0392-eb44-4503-87e7-435322311eee",
   "metadata": {},
   "outputs": [
    {
     "data": {
      "text/plain": [
       "2×2 Matrix{Int64}:\n",
       " 1  2\n",
       " 3  4"
      ]
     },
     "execution_count": 12,
     "metadata": {},
     "output_type": "execute_result"
    }
   ],
   "source": [
    "a = 1; b = 2; c = 3; d = 4\n",
    "Am = [a b; c d]"
   ]
  },
  {
   "cell_type": "code",
   "execution_count": 13,
   "id": "b9eb60b1-ea50-460e-92a4-9ba0085e9d1d",
   "metadata": {},
   "outputs": [
    {
     "data": {
      "text/plain": [
       "(1, 2, 3, 4)"
      ]
     },
     "execution_count": 13,
     "metadata": {},
     "output_type": "execute_result"
    }
   ],
   "source": [
    "Am[1,1], Am[1,2], Am[2,1], Am[2,2]"
   ]
  },
  {
   "cell_type": "code",
   "execution_count": 14,
   "id": "612e9109-45d9-4dfa-84d1-85f5b2a8d087",
   "metadata": {},
   "outputs": [
    {
     "data": {
      "text/plain": [
       "1×1 Matrix{Int64}:\n",
       " 27"
      ]
     },
     "execution_count": 14,
     "metadata": {},
     "output_type": "execute_result"
    }
   ],
   "source": [
    "aa = [1 2]\n",
    "AA = [1 2; 3 4]\n",
    "aa*AA*aa'"
   ]
  },
  {
   "cell_type": "code",
   "execution_count": 15,
   "id": "7325672e-8ba5-4c7c-b0e0-a95705a7d8fd",
   "metadata": {},
   "outputs": [
    {
     "data": {
      "text/plain": [
       "([1 2], [1 2; 3 4], [1; 2;;])"
      ]
     },
     "execution_count": 15,
     "metadata": {},
     "output_type": "execute_result"
    }
   ],
   "source": [
    "aa, AA, aa'"
   ]
  },
  {
   "cell_type": "markdown",
   "id": "86f0e469-61a5-431f-8644-c87b2de4a131",
   "metadata": {},
   "source": [
    "# Самостоятельная работа"
   ]
  },
  {
   "cell_type": "code",
   "execution_count": 16,
   "id": "532e66c0-b135-4fde-80dc-b09c128fc9d1",
   "metadata": {},
   "outputs": [
    {
     "data": {
      "text/plain": [
       "\"Удивительное рядом!\\nДостаточно просто протянуть руку!\""
      ]
     },
     "execution_count": 16,
     "metadata": {},
     "output_type": "execute_result"
    }
   ],
   "source": [
    "write(\"my_file.txt\", \"Удивительное рядом!\\nДостаточно просто протянуть руку!\")\n",
    "read(\"my_file.txt\", String)"
   ]
  },
  {
   "cell_type": "code",
   "execution_count": 17,
   "id": "76ab6ac2-64dc-4fb7-81d5-7438789b8254",
   "metadata": {},
   "outputs": [
    {
     "data": {
      "text/plain": [
       "\"Удивительное рядом!\""
      ]
     },
     "execution_count": 17,
     "metadata": {},
     "output_type": "execute_result"
    }
   ],
   "source": [
    "readline(\"my_file.txt\")"
   ]
  },
  {
   "cell_type": "code",
   "execution_count": 18,
   "id": "773a344d-2721-4de9-822e-5d27f70315ee",
   "metadata": {},
   "outputs": [
    {
     "data": {
      "text/plain": [
       "2-element Vector{String}:\n",
       " \"Удивительное рядом!\"\n",
       " \"Достаточно просто протянуть руку!\""
      ]
     },
     "execution_count": 18,
     "metadata": {},
     "output_type": "execute_result"
    }
   ],
   "source": [
    "readlines(\"my_file.txt\")"
   ]
  },
  {
   "cell_type": "code",
   "execution_count": 19,
   "id": "99c92b9c-de29-48f7-8819-ee1c46d61d1f",
   "metadata": {},
   "outputs": [
    {
     "name": "stdout",
     "output_type": "stream",
     "text": [
      "Julia is a programming languageJulia is a programming language"
     ]
    }
   ],
   "source": [
    "print(\"Julia is a programming language\")\n",
    "print(\"Julia is a programming language\")"
   ]
  },
  {
   "cell_type": "code",
   "execution_count": 20,
   "id": "8526dc38-f13c-495d-bb9f-88f257332316",
   "metadata": {},
   "outputs": [
    {
     "name": "stdout",
     "output_type": "stream",
     "text": [
      "Julia is a programming language\n",
      "Julia is a programming language\n"
     ]
    }
   ],
   "source": [
    "println(\"Julia is a programming language\")\n",
    "println(\"Julia is a programming language\")"
   ]
  },
  {
   "cell_type": "code",
   "execution_count": 28,
   "id": "b233274e-9445-4d66-8567-5283e8dd90ed",
   "metadata": {},
   "outputs": [
    {
     "data": {
      "text/plain": [
       "11 ноября"
      ]
     },
     "execution_count": 28,
     "metadata": {},
     "output_type": "execute_result"
    }
   ],
   "source": [
    "struct November\n",
    "   n::Int\n",
    "end\n",
    "\n",
    "Base.show(io::IO, ::MIME\"text/plain\", d::November) = print(io, d.n, \" ноября\")\n",
    "November(11)"
   ]
  },
  {
   "cell_type": "code",
   "execution_count": 22,
   "id": "10869b45-3a17-4981-ade1-71b1160ff0ae",
   "metadata": {},
   "outputs": [
    {
     "data": {
      "text/plain": [
       "15"
      ]
     },
     "execution_count": 22,
     "metadata": {},
     "output_type": "execute_result"
    }
   ],
   "source": [
    "open(\"delim_file.txt\", \"w\") do f\n",
    "           write(f, \"1,2\\n3,4\\n5,6\\n7,8\")\n",
    "end"
   ]
  },
  {
   "cell_type": "code",
   "execution_count": 23,
   "id": "090d9f4c-bd57-4616-b2a4-1fecc3f814c2",
   "metadata": {},
   "outputs": [
    {
     "data": {
      "text/plain": [
       "4×2 Matrix{Float64}:\n",
       " 1.0  2.0\n",
       " 3.0  4.0\n",
       " 5.0  6.0\n",
       " 7.0  8.0"
      ]
     },
     "execution_count": 23,
     "metadata": {},
     "output_type": "execute_result"
    }
   ],
   "source": [
    "using DelimitedFiles\n",
    "readdlm(\"delim_file.txt\", ',', Float64)"
   ]
  },
  {
   "cell_type": "code",
   "execution_count": 29,
   "id": "70e96a9d-2e3e-4c72-b2c9-ad247cab2636",
   "metadata": {},
   "outputs": [
    {
     "data": {
      "text/plain": [
       "(2812, 0.0012)"
      ]
     },
     "execution_count": 29,
     "metadata": {},
     "output_type": "execute_result"
    }
   ],
   "source": [
    "parse(Int, \"afc\", base = 16), parse(Float64, \"1.2e-3\")"
   ]
  },
  {
   "cell_type": "code",
   "execution_count": 36,
   "id": "e27bf5da-c1e3-4499-a89f-c732848c20e1",
   "metadata": {},
   "outputs": [
    {
     "data": {
      "text/plain": [
       "(9, [3 5], [3, 6], [5], [2.0 1.0], 1, 2, 1000000, [1 2; 2 4])"
      ]
     },
     "execution_count": 36,
     "metadata": {},
     "output_type": "execute_result"
    }
   ],
   "source": [
    "4+5, [1 2] + [2 3], [1, 2].*3, [1 2] * [1, 2], [10 5]./5, mod(7,3), div(7,3), 10^6, [1, 2] * [1 2]"
   ]
  },
  {
   "cell_type": "code",
   "execution_count": 26,
   "id": "4ece1b7a-7bbe-4e64-b3c8-4a00a42789de",
   "metadata": {},
   "outputs": [
    {
     "data": {
      "text/plain": [
       "([1; 3;;], [2 4], [1 3; 2 4])"
      ]
     },
     "execution_count": 26,
     "metadata": {},
     "output_type": "execute_result"
    }
   ],
   "source": [
    "[1 3]', [2, 4]', [1 2; 3 4]'"
   ]
  },
  {
   "cell_type": "code",
   "execution_count": null,
   "id": "3e2280b7-97f8-49ee-a94b-b0b5f277b6b0",
   "metadata": {},
   "outputs": [],
   "source": []
  }
 ],
 "metadata": {
  "kernelspec": {
   "display_name": "Julia 1.9.3",
   "language": "julia",
   "name": "julia-1.9"
  },
  "language_info": {
   "file_extension": ".jl",
   "mimetype": "application/julia",
   "name": "julia",
   "version": "1.9.3"
  }
 },
 "nbformat": 4,
 "nbformat_minor": 5
}
