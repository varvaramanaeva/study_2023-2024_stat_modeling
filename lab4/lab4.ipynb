{
 "cells": [
  {
   "cell_type": "markdown",
   "id": "0614ab6a-9a53-4eab-a2ef-a4399cbee45e",
   "metadata": {
    "collapsed": false,
    "jupyter": {
     "outputs_hidden": false
    }
   },
   "source": [
    "# Повторение примеров"
   ]
  },
  {
   "cell_type": "markdown",
   "id": "372aaf63e6faa7a8",
   "metadata": {
    "collapsed": false,
    "jupyter": {
     "outputs_hidden": false
    }
   },
   "source": [
    "## Поэлементные операции над многомерными массивами"
   ]
  },
  {
   "cell_type": "code",
   "execution_count": 2,
   "id": "ec9fd5db-2c26-4819-b6db-978e57ef96eb",
   "metadata": {
    "ExecuteTime": {
     "end_time": "2023-12-02T20:46:16.495065400Z",
     "start_time": "2023-12-02T20:46:13.261067300Z"
    }
   },
   "outputs": [
    {
     "data": {
      "text/plain": [
       "4×3 Matrix{Int64}:\n",
       "  1   1  16\n",
       "  1   8   4\n",
       " 18   6  17\n",
       "  7  14   7"
      ]
     },
     "execution_count": 2,
     "metadata": {},
     "output_type": "execute_result"
    }
   ],
   "source": [
    "# Массив 4x3 со случайными целыми числами (от 1 до 20):\n",
    "a = rand(1:20,(4,3))"
   ]
  },
  {
   "cell_type": "code",
   "execution_count": 3,
   "id": "8860b02c5f1dee37",
   "metadata": {
    "ExecuteTime": {
     "end_time": "2023-12-02T20:46:16.897066100Z",
     "start_time": "2023-12-02T20:46:16.498065500Z"
    },
    "collapsed": false,
    "jupyter": {
     "outputs_hidden": false
    }
   },
   "outputs": [
    {
     "data": {
      "text/plain": [
       "100"
      ]
     },
     "execution_count": 3,
     "metadata": {},
     "output_type": "execute_result"
    }
   ],
   "source": [
    "# Поэлементная сумма:\n",
    "sum(a)"
   ]
  },
  {
   "cell_type": "code",
   "execution_count": 4,
   "id": "97fee78c05e08381",
   "metadata": {
    "ExecuteTime": {
     "end_time": "2023-12-02T20:46:17.104064400Z",
     "start_time": "2023-12-02T20:46:16.899066900Z"
    },
    "collapsed": false,
    "jupyter": {
     "outputs_hidden": false
    }
   },
   "outputs": [
    {
     "data": {
      "text/plain": [
       "1×3 Matrix{Int64}:\n",
       " 27  29  44"
      ]
     },
     "execution_count": 4,
     "metadata": {},
     "output_type": "execute_result"
    }
   ],
   "source": [
    "# Поэлементная сумма по столбцам:\n",
    "sum(a,dims=1)"
   ]
  },
  {
   "cell_type": "code",
   "execution_count": 5,
   "id": "55d250e444320732",
   "metadata": {
    "ExecuteTime": {
     "end_time": "2023-12-02T20:46:17.127062500Z",
     "start_time": "2023-12-02T20:46:17.106065400Z"
    },
    "collapsed": false,
    "jupyter": {
     "outputs_hidden": false
    }
   },
   "outputs": [
    {
     "data": {
      "text/plain": [
       "4×1 Matrix{Int64}:\n",
       " 18\n",
       " 13\n",
       " 41\n",
       " 28"
      ]
     },
     "execution_count": 5,
     "metadata": {},
     "output_type": "execute_result"
    }
   ],
   "source": [
    "# Поэлементная сумма по строкам:\n",
    "sum(a,dims=2)"
   ]
  },
  {
   "cell_type": "code",
   "execution_count": 6,
   "id": "b2e6c31cd04ae71a",
   "metadata": {
    "ExecuteTime": {
     "end_time": "2023-12-02T20:46:17.264065200Z",
     "start_time": "2023-12-02T20:46:17.110074500Z"
    },
    "collapsed": false,
    "jupyter": {
     "outputs_hidden": false
    }
   },
   "outputs": [
    {
     "data": {
      "text/plain": [
       "644861952"
      ]
     },
     "execution_count": 6,
     "metadata": {},
     "output_type": "execute_result"
    }
   ],
   "source": [
    "# Поэлементное произведение:\n",
    "prod(a)"
   ]
  },
  {
   "cell_type": "code",
   "execution_count": 7,
   "id": "adabcc62e45f598e",
   "metadata": {
    "ExecuteTime": {
     "end_time": "2023-12-02T20:46:17.302064900Z",
     "start_time": "2023-12-02T20:46:17.161064100Z"
    },
    "collapsed": false,
    "jupyter": {
     "outputs_hidden": false
    }
   },
   "outputs": [
    {
     "data": {
      "text/plain": [
       "1×3 Matrix{Int64}:\n",
       " 126  672  7616"
      ]
     },
     "execution_count": 7,
     "metadata": {},
     "output_type": "execute_result"
    }
   ],
   "source": [
    "# Поэлементное произведение по столбцам:\n",
    "prod(a,dims=1)"
   ]
  },
  {
   "cell_type": "code",
   "execution_count": 8,
   "id": "a236fadf38841dbc",
   "metadata": {
    "ExecuteTime": {
     "end_time": "2023-12-02T20:46:17.303065800Z",
     "start_time": "2023-12-02T20:46:17.246067700Z"
    },
    "collapsed": false,
    "jupyter": {
     "outputs_hidden": false
    }
   },
   "outputs": [
    {
     "data": {
      "text/plain": [
       "4×1 Matrix{Int64}:\n",
       "   16\n",
       "   32\n",
       " 1836\n",
       "  686"
      ]
     },
     "execution_count": 8,
     "metadata": {},
     "output_type": "execute_result"
    }
   ],
   "source": [
    "# Поэлементное произведение по строкам:\n",
    "prod(a,dims=2)"
   ]
  },
  {
   "cell_type": "code",
   "execution_count": 9,
   "id": "ed7a3952ab739c6e",
   "metadata": {
    "ExecuteTime": {
     "end_time": "2023-12-02T20:46:17.717066900Z",
     "start_time": "2023-12-02T20:46:17.251065Z"
    },
    "collapsed": false,
    "jupyter": {
     "outputs_hidden": false
    }
   },
   "outputs": [
    {
     "data": {
      "text/plain": [
       "8.333333333333334"
      ]
     },
     "execution_count": 9,
     "metadata": {},
     "output_type": "execute_result"
    }
   ],
   "source": [
    "using Statistics\n",
    "# Вычисление среднего значения массива:\n",
    "mean(a)"
   ]
  },
  {
   "cell_type": "code",
   "execution_count": 10,
   "id": "5b9db2bd38b8fa4b",
   "metadata": {
    "ExecuteTime": {
     "end_time": "2023-12-02T20:46:18.653067400Z",
     "start_time": "2023-12-02T20:46:17.718066800Z"
    },
    "collapsed": false,
    "jupyter": {
     "outputs_hidden": false
    }
   },
   "outputs": [
    {
     "data": {
      "text/plain": [
       "1×3 Matrix{Float64}:\n",
       " 6.75  7.25  11.0"
      ]
     },
     "execution_count": 10,
     "metadata": {},
     "output_type": "execute_result"
    }
   ],
   "source": [
    "# Среднее по столбцам:\n",
    "mean(a,dims=1)"
   ]
  },
  {
   "cell_type": "code",
   "execution_count": 11,
   "id": "b18184433935fae",
   "metadata": {
    "ExecuteTime": {
     "end_time": "2023-12-02T20:46:18.685063700Z",
     "start_time": "2023-12-02T20:46:18.654064700Z"
    },
    "collapsed": false,
    "jupyter": {
     "outputs_hidden": false
    }
   },
   "outputs": [
    {
     "data": {
      "text/plain": [
       "4×1 Matrix{Float64}:\n",
       "  6.0\n",
       "  4.333333333333333\n",
       " 13.666666666666666\n",
       "  9.333333333333334"
      ]
     },
     "execution_count": 11,
     "metadata": {},
     "output_type": "execute_result"
    }
   ],
   "source": [
    "# Среднее по строкам:\n",
    "mean(a,dims=2)"
   ]
  },
  {
   "cell_type": "markdown",
   "id": "97a3eae0e40cec26",
   "metadata": {
    "collapsed": false,
    "jupyter": {
     "outputs_hidden": false
    }
   },
   "source": [
    "## Транспонирование, след, ранг, определитель и инверсия матрицы"
   ]
  },
  {
   "cell_type": "code",
   "execution_count": 12,
   "id": "7d348a9ea8ee15b7",
   "metadata": {
    "ExecuteTime": {
     "end_time": "2023-12-02T20:46:18.688064500Z",
     "start_time": "2023-12-02T20:46:18.659064200Z"
    },
    "collapsed": false,
    "jupyter": {
     "outputs_hidden": false
    }
   },
   "outputs": [
    {
     "data": {
      "text/plain": [
       "4×4 Matrix{Int64}:\n",
       "  8  12  17   7\n",
       "  4  16   4  18\n",
       " 14  12  18  13\n",
       " 14   4   4  14"
      ]
     },
     "execution_count": 12,
     "metadata": {},
     "output_type": "execute_result"
    }
   ],
   "source": [
    "using LinearAlgebra\n",
    "# Массив 4x4 со случайными целыми числами (от 1 до 20):\n",
    "b = rand(1:20,(4,4))"
   ]
  },
  {
   "cell_type": "code",
   "execution_count": 13,
   "id": "f801238ba27890be",
   "metadata": {
    "ExecuteTime": {
     "end_time": "2023-12-02T20:46:19.372065100Z",
     "start_time": "2023-12-02T20:46:18.664065800Z"
    },
    "collapsed": false,
    "jupyter": {
     "outputs_hidden": false
    }
   },
   "outputs": [
    {
     "data": {
      "text/plain": [
       "4×4 transpose(::Matrix{Int64}) with eltype Int64:\n",
       "  8   4  14  14\n",
       " 12  16  12   4\n",
       " 17   4  18   4\n",
       "  7  18  13  14"
      ]
     },
     "execution_count": 13,
     "metadata": {},
     "output_type": "execute_result"
    }
   ],
   "source": [
    "# Транспонирование:\n",
    "transpose(b)"
   ]
  },
  {
   "cell_type": "code",
   "execution_count": 14,
   "id": "bcbd6393a5aed26",
   "metadata": {
    "ExecuteTime": {
     "end_time": "2023-12-02T20:46:19.374061800Z",
     "start_time": "2023-12-02T20:46:19.318062400Z"
    },
    "collapsed": false,
    "jupyter": {
     "outputs_hidden": false
    }
   },
   "outputs": [
    {
     "data": {
      "text/plain": [
       "56"
      ]
     },
     "execution_count": 14,
     "metadata": {},
     "output_type": "execute_result"
    }
   ],
   "source": [
    "# След матрицы (сумма диагональных элементов):\n",
    "tr(b)"
   ]
  },
  {
   "cell_type": "code",
   "execution_count": 15,
   "id": "293882dd9ed4f0d7",
   "metadata": {
    "ExecuteTime": {
     "end_time": "2023-12-02T20:46:20.091065200Z",
     "start_time": "2023-12-02T20:46:19.337063Z"
    },
    "collapsed": false,
    "jupyter": {
     "outputs_hidden": false
    }
   },
   "outputs": [
    {
     "data": {
      "text/plain": [
       "4-element Vector{Int64}:\n",
       "  8\n",
       " 16\n",
       " 18\n",
       " 14"
      ]
     },
     "execution_count": 15,
     "metadata": {},
     "output_type": "execute_result"
    }
   ],
   "source": [
    "# Извлечение диагональных элементов как массив:\n",
    "diag(b)"
   ]
  },
  {
   "cell_type": "code",
   "execution_count": 16,
   "id": "6c346e2a7551d23",
   "metadata": {
    "ExecuteTime": {
     "end_time": "2023-12-02T20:46:20.327063800Z",
     "start_time": "2023-12-02T20:46:20.091065200Z"
    },
    "collapsed": false,
    "jupyter": {
     "outputs_hidden": false
    }
   },
   "outputs": [
    {
     "data": {
      "text/plain": [
       "4"
      ]
     },
     "execution_count": 16,
     "metadata": {},
     "output_type": "execute_result"
    }
   ],
   "source": [
    "# Ранг матрицы:\n",
    "rank(b)"
   ]
  },
  {
   "cell_type": "code",
   "execution_count": 17,
   "id": "9c91a21fb8c8f793",
   "metadata": {
    "ExecuteTime": {
     "end_time": "2023-12-02T20:46:20.728063400Z",
     "start_time": "2023-12-02T20:46:20.329066700Z"
    },
    "collapsed": false,
    "jupyter": {
     "outputs_hidden": false
    }
   },
   "outputs": [
    {
     "data": {
      "text/plain": [
       "4×4 Matrix{Float64}:\n",
       "  0.657534  -0.0742009   -0.696347   0.413242\n",
       "  0.794521  -0.00285388  -0.834475   0.381279\n",
       " -0.506849   0.00684932   0.60274   -0.315068\n",
       " -0.739726   0.0730594    0.762557  -0.360731"
      ]
     },
     "execution_count": 17,
     "metadata": {},
     "output_type": "execute_result"
    }
   ],
   "source": [
    "# Инверсия матрицы (определение обратной матрицы):\n",
    "inv(b)"
   ]
  },
  {
   "cell_type": "code",
   "execution_count": 18,
   "id": "e61bd20cb42bea14",
   "metadata": {
    "ExecuteTime": {
     "end_time": "2023-12-02T20:46:21.181060500Z",
     "start_time": "2023-12-02T20:46:20.730064600Z"
    },
    "collapsed": false,
    "jupyter": {
     "outputs_hidden": false
    }
   },
   "outputs": [
    {
     "data": {
      "text/plain": [
       "3503.999999999998"
      ]
     },
     "execution_count": 18,
     "metadata": {},
     "output_type": "execute_result"
    }
   ],
   "source": [
    "# Определитель матрицы:\n",
    "det(b)"
   ]
  },
  {
   "cell_type": "code",
   "execution_count": 19,
   "id": "dd38f2d71123274",
   "metadata": {
    "ExecuteTime": {
     "end_time": "2023-12-02T20:46:22.989066300Z",
     "start_time": "2023-12-02T20:46:20.935065500Z"
    },
    "collapsed": false,
    "jupyter": {
     "outputs_hidden": false
    }
   },
   "outputs": [
    {
     "data": {
      "text/plain": [
       "3×4 Matrix{Float64}:\n",
       " -0.0568629   -0.0280337    0.0629554    -0.0069\n",
       " -0.00993331   0.0414277   -0.0247167     0.059058\n",
       "  0.0652247    0.00694845  -0.000784465  -0.00829325"
      ]
     },
     "execution_count": 19,
     "metadata": {},
     "output_type": "execute_result"
    }
   ],
   "source": [
    "# Псевдобратная функция для прямоугольных матриц:\n",
    "pinv(a)"
   ]
  },
  {
   "cell_type": "markdown",
   "id": "efd39bd5263c60be",
   "metadata": {
    "collapsed": false,
    "jupyter": {
     "outputs_hidden": false
    }
   },
   "source": [
    "## Вычисление нормы векторов и матриц, повороты, вращения"
   ]
  },
  {
   "cell_type": "code",
   "execution_count": 20,
   "id": "156efa8344d7f468",
   "metadata": {
    "ExecuteTime": {
     "end_time": "2023-12-02T20:46:23.004062Z",
     "start_time": "2023-12-02T20:46:22.991065400Z"
    },
    "collapsed": false,
    "jupyter": {
     "outputs_hidden": false
    }
   },
   "outputs": [
    {
     "data": {
      "text/plain": [
       "3-element Vector{Int64}:\n",
       "  2\n",
       "  4\n",
       " -5"
      ]
     },
     "execution_count": 20,
     "metadata": {},
     "output_type": "execute_result"
    }
   ],
   "source": [
    "# Создание вектора X:\n",
    "X = [2, 4, -5]"
   ]
  },
  {
   "cell_type": "code",
   "execution_count": 21,
   "id": "a66d8f664ca3c3eb",
   "metadata": {
    "ExecuteTime": {
     "end_time": "2023-12-02T20:46:23.230067800Z",
     "start_time": "2023-12-02T20:46:22.995062500Z"
    },
    "collapsed": false,
    "jupyter": {
     "outputs_hidden": false
    }
   },
   "outputs": [
    {
     "data": {
      "text/plain": [
       "6.708203932499369"
      ]
     },
     "execution_count": 21,
     "metadata": {},
     "output_type": "execute_result"
    }
   ],
   "source": [
    "# Вычисление евклидовой нормы:\n",
    "norm(X)"
   ]
  },
  {
   "cell_type": "code",
   "execution_count": 22,
   "id": "8d504640b1350db3",
   "metadata": {
    "ExecuteTime": {
     "end_time": "2023-12-02T20:46:23.243067100Z",
     "start_time": "2023-12-02T20:46:23.232068200Z"
    },
    "collapsed": false,
    "jupyter": {
     "outputs_hidden": false
    }
   },
   "outputs": [
    {
     "data": {
      "text/plain": [
       "11.0"
      ]
     },
     "execution_count": 22,
     "metadata": {},
     "output_type": "execute_result"
    }
   ],
   "source": [
    "# Вычисление p-нормы:\n",
    "p = 1\n",
    "norm(X,p)"
   ]
  },
  {
   "cell_type": "code",
   "execution_count": 23,
   "id": "528d99d2ddef35b5",
   "metadata": {
    "ExecuteTime": {
     "end_time": "2023-12-02T20:46:23.323062400Z",
     "start_time": "2023-12-02T20:46:23.236067900Z"
    },
    "collapsed": false,
    "jupyter": {
     "outputs_hidden": false
    }
   },
   "outputs": [
    {
     "data": {
      "text/plain": [
       "9.486832980505138"
      ]
     },
     "execution_count": 23,
     "metadata": {},
     "output_type": "execute_result"
    }
   ],
   "source": [
    "# Расстояние между двумя векторами X и Y:\n",
    "X = [2, 4, -5];\n",
    "Y = [1,-1,3];\n",
    "norm(X-Y)"
   ]
  },
  {
   "cell_type": "code",
   "execution_count": 24,
   "id": "973ee5f153d6defb",
   "metadata": {
    "ExecuteTime": {
     "end_time": "2023-12-02T20:46:23.424061400Z",
     "start_time": "2023-12-02T20:46:23.318065400Z"
    },
    "collapsed": false,
    "jupyter": {
     "outputs_hidden": false
    }
   },
   "outputs": [
    {
     "data": {
      "text/plain": [
       "9.486832980505138"
      ]
     },
     "execution_count": 24,
     "metadata": {},
     "output_type": "execute_result"
    }
   ],
   "source": [
    "# Проверка по базовому определению:\n",
    "sqrt(sum((X-Y).^2))"
   ]
  },
  {
   "cell_type": "code",
   "execution_count": 25,
   "id": "3c897e344f7fa201",
   "metadata": {
    "ExecuteTime": {
     "end_time": "2023-12-02T20:46:23.499064700Z",
     "start_time": "2023-12-02T20:46:23.426063400Z"
    },
    "collapsed": false,
    "jupyter": {
     "outputs_hidden": false
    }
   },
   "outputs": [
    {
     "data": {
      "text/plain": [
       "2.4404307889469252"
      ]
     },
     "execution_count": 25,
     "metadata": {},
     "output_type": "execute_result"
    }
   ],
   "source": [
    "# Угол между двумя векторами:\n",
    "acos((transpose(X)*Y)/(norm(X)*norm(Y)))"
   ]
  },
  {
   "cell_type": "code",
   "execution_count": 26,
   "id": "aeaf574750bd484a",
   "metadata": {
    "ExecuteTime": {
     "end_time": "2023-12-02T20:46:23.542062500Z",
     "start_time": "2023-12-02T20:46:23.502064Z"
    },
    "collapsed": false,
    "jupyter": {
     "outputs_hidden": false
    }
   },
   "outputs": [
    {
     "data": {
      "text/plain": [
       "3×3 Matrix{Int64}:\n",
       "  5  -4  2\n",
       " -1   2  3\n",
       " -2   1  0"
      ]
     },
     "execution_count": 26,
     "metadata": {},
     "output_type": "execute_result"
    }
   ],
   "source": [
    "# Создание матрицы:\n",
    "d = [5 -4 2 ; -1 2 3; -2 1 0]"
   ]
  },
  {
   "cell_type": "code",
   "execution_count": 27,
   "id": "39b3ac7a1fc6005a",
   "metadata": {
    "ExecuteTime": {
     "end_time": "2023-12-02T20:46:23.650063100Z",
     "start_time": "2023-12-02T20:46:23.529065100Z"
    },
    "collapsed": false,
    "jupyter": {
     "outputs_hidden": false
    }
   },
   "outputs": [
    {
     "data": {
      "text/plain": [
       "7.147682841795258"
      ]
     },
     "execution_count": 27,
     "metadata": {},
     "output_type": "execute_result"
    }
   ],
   "source": [
    "# Вычисление Евклидовой нормы:\n",
    "opnorm(d)"
   ]
  },
  {
   "cell_type": "code",
   "execution_count": 28,
   "id": "352f173fbbb58d0d",
   "metadata": {
    "ExecuteTime": {
     "end_time": "2023-12-02T20:46:23.663062200Z",
     "start_time": "2023-12-02T20:46:23.652062400Z"
    },
    "collapsed": false,
    "jupyter": {
     "outputs_hidden": false
    }
   },
   "outputs": [
    {
     "data": {
      "text/plain": [
       "8.0"
      ]
     },
     "execution_count": 28,
     "metadata": {},
     "output_type": "execute_result"
    }
   ],
   "source": [
    "# Вычисление p-нормы:\n",
    "p=1\n",
    "opnorm(d,p)"
   ]
  },
  {
   "cell_type": "code",
   "execution_count": 29,
   "id": "f3e567befe61d97",
   "metadata": {
    "ExecuteTime": {
     "end_time": "2023-12-02T20:46:23.730063700Z",
     "start_time": "2023-12-02T20:46:23.656062500Z"
    },
    "collapsed": false,
    "jupyter": {
     "outputs_hidden": false
    }
   },
   "outputs": [
    {
     "data": {
      "text/plain": [
       "3×3 Matrix{Int64}:\n",
       " 0   1  -2\n",
       " 3   2  -1\n",
       " 2  -4   5"
      ]
     },
     "execution_count": 29,
     "metadata": {},
     "output_type": "execute_result"
    }
   ],
   "source": [
    "# Поворот на 180 градусов:\n",
    "rot180(d)"
   ]
  },
  {
   "cell_type": "code",
   "execution_count": 30,
   "id": "9573d6f1aeee49bf",
   "metadata": {
    "ExecuteTime": {
     "end_time": "2023-12-02T20:46:23.794064700Z",
     "start_time": "2023-12-02T20:46:23.686062300Z"
    },
    "collapsed": false,
    "jupyter": {
     "outputs_hidden": false
    }
   },
   "outputs": [
    {
     "data": {
      "text/plain": [
       "3×3 Matrix{Int64}:\n",
       " -2   1  0\n",
       " -1   2  3\n",
       "  5  -4  2"
      ]
     },
     "execution_count": 30,
     "metadata": {},
     "output_type": "execute_result"
    }
   ],
   "source": [
    "# Переворачивание строк:\n",
    "reverse(d,dims=1)"
   ]
  },
  {
   "cell_type": "code",
   "execution_count": 31,
   "id": "4693cce58cd00f67",
   "metadata": {
    "ExecuteTime": {
     "end_time": "2023-12-02T20:46:23.795064100Z",
     "start_time": "2023-12-02T20:46:23.782063100Z"
    },
    "collapsed": false,
    "jupyter": {
     "outputs_hidden": false
    }
   },
   "outputs": [
    {
     "data": {
      "text/plain": [
       "3×3 Matrix{Int64}:\n",
       " 2  -4   5\n",
       " 3   2  -1\n",
       " 0   1  -2"
      ]
     },
     "execution_count": 31,
     "metadata": {},
     "output_type": "execute_result"
    }
   ],
   "source": [
    "# Переворачивание столбцов\n",
    "reverse(d,dims=2)"
   ]
  },
  {
   "cell_type": "markdown",
   "id": "64473d8d10828e89",
   "metadata": {
    "collapsed": false,
    "jupyter": {
     "outputs_hidden": false
    }
   },
   "source": [
    "## Матричное умножение, единичная матрица, скалярное произведение"
   ]
  },
  {
   "cell_type": "code",
   "execution_count": 32,
   "id": "ecfbf39539f3c23",
   "metadata": {
    "ExecuteTime": {
     "end_time": "2023-12-02T20:46:23.796064900Z",
     "start_time": "2023-12-02T20:46:23.788065Z"
    },
    "collapsed": false,
    "jupyter": {
     "outputs_hidden": false
    }
   },
   "outputs": [
    {
     "data": {
      "text/plain": [
       "2×3 Matrix{Int64}:\n",
       " 8  5   8\n",
       " 9  7  10"
      ]
     },
     "execution_count": 32,
     "metadata": {},
     "output_type": "execute_result"
    }
   ],
   "source": [
    "# Матрица 2x3 со случайными целыми значениями от 1 до 10:\n",
    "A = rand(1:10,(2,3))"
   ]
  },
  {
   "cell_type": "code",
   "execution_count": 33,
   "id": "3b7efe488e5ef142",
   "metadata": {
    "ExecuteTime": {
     "end_time": "2023-12-02T20:46:23.797065500Z",
     "start_time": "2023-12-02T20:46:23.792063400Z"
    },
    "collapsed": false,
    "jupyter": {
     "outputs_hidden": false
    }
   },
   "outputs": [
    {
     "data": {
      "text/plain": [
       "3×4 Matrix{Int64}:\n",
       " 7   8  9  9\n",
       " 5  10  9  8\n",
       " 1   6  9  6"
      ]
     },
     "execution_count": 33,
     "metadata": {},
     "output_type": "execute_result"
    }
   ],
   "source": [
    "# Матрица 3x4 со случайными целыми значениями от 1 до 10:\n",
    "B = rand(1:10,(3,4))"
   ]
  },
  {
   "cell_type": "code",
   "execution_count": 34,
   "id": "b16662014d3645e9",
   "metadata": {
    "ExecuteTime": {
     "end_time": "2023-12-02T20:46:24.691064300Z",
     "start_time": "2023-12-02T20:46:23.796064900Z"
    },
    "collapsed": false,
    "jupyter": {
     "outputs_hidden": false
    }
   },
   "outputs": [
    {
     "data": {
      "text/plain": [
       "2×4 Matrix{Int64}:\n",
       "  89  162  189  160\n",
       " 108  202  234  197"
      ]
     },
     "execution_count": 34,
     "metadata": {},
     "output_type": "execute_result"
    }
   ],
   "source": [
    "# Произведение матриц A и B:\n",
    "A*B"
   ]
  },
  {
   "cell_type": "code",
   "execution_count": 35,
   "id": "2ad2e7a25d0ca2c4",
   "metadata": {
    "ExecuteTime": {
     "end_time": "2023-12-02T20:46:24.722065700Z",
     "start_time": "2023-12-02T20:46:24.690066700Z"
    },
    "collapsed": false,
    "jupyter": {
     "outputs_hidden": false
    }
   },
   "outputs": [
    {
     "data": {
      "text/plain": [
       "3×3 Matrix{Int64}:\n",
       " 1  0  0\n",
       " 0  1  0\n",
       " 0  0  1"
      ]
     },
     "execution_count": 35,
     "metadata": {},
     "output_type": "execute_result"
    }
   ],
   "source": [
    "# Единичная матрица 3x3:\n",
    "Matrix{Int}(I, 3, 3)"
   ]
  },
  {
   "cell_type": "code",
   "execution_count": 36,
   "id": "3618d92a16be93d0",
   "metadata": {
    "ExecuteTime": {
     "end_time": "2023-12-02T20:46:24.724064Z",
     "start_time": "2023-12-02T20:46:24.714065100Z"
    },
    "collapsed": false,
    "jupyter": {
     "outputs_hidden": false
    }
   },
   "outputs": [
    {
     "data": {
      "text/plain": [
       "-17"
      ]
     },
     "execution_count": 36,
     "metadata": {},
     "output_type": "execute_result"
    }
   ],
   "source": [
    "# Скалярное произведение векторов X и Y:\n",
    "X = [2, 4, -5]\n",
    "Y = [1,-1,3]\n",
    "dot(X,Y)"
   ]
  },
  {
   "cell_type": "code",
   "execution_count": 37,
   "id": "5aefe61db49b1f3b",
   "metadata": {
    "ExecuteTime": {
     "end_time": "2023-12-02T20:46:24.830063800Z",
     "start_time": "2023-12-02T20:46:24.717067100Z"
    },
    "collapsed": false,
    "jupyter": {
     "outputs_hidden": false
    }
   },
   "outputs": [
    {
     "data": {
      "text/plain": [
       "-17"
      ]
     },
     "execution_count": 37,
     "metadata": {},
     "output_type": "execute_result"
    }
   ],
   "source": [
    "# тоже скалярное произведение:\n",
    "X'Y"
   ]
  },
  {
   "cell_type": "markdown",
   "id": "aae7e5f330056027",
   "metadata": {
    "collapsed": false,
    "jupyter": {
     "outputs_hidden": false
    }
   },
   "source": [
    "## Факторизация. Специальные матричные структуры"
   ]
  },
  {
   "cell_type": "code",
   "execution_count": 38,
   "id": "32ffe45398f4f4c7",
   "metadata": {
    "ExecuteTime": {
     "end_time": "2023-12-02T20:46:24.937066200Z",
     "start_time": "2023-12-02T20:46:24.735064300Z"
    },
    "collapsed": false,
    "jupyter": {
     "outputs_hidden": false
    }
   },
   "outputs": [
    {
     "data": {
      "text/plain": [
       "3×3 Matrix{Float64}:\n",
       " 0.162877  0.701688   0.438354\n",
       " 0.402161  0.0982077  0.457615\n",
       " 0.405168  0.528076   0.200503"
      ]
     },
     "execution_count": 38,
     "metadata": {},
     "output_type": "execute_result"
    }
   ],
   "source": [
    "# Задаём квадратную матрицу 3x3 со случайными значениями:\n",
    "A = rand(3, 3)"
   ]
  },
  {
   "cell_type": "code",
   "execution_count": 39,
   "id": "3e07dca9fd0e45d0",
   "metadata": {
    "ExecuteTime": {
     "end_time": "2023-12-02T20:46:25.555067200Z",
     "start_time": "2023-12-02T20:46:24.939065900Z"
    },
    "collapsed": false,
    "jupyter": {
     "outputs_hidden": false
    }
   },
   "outputs": [
    {
     "data": {
      "text/plain": [
       "3-element Vector{Float64}:\n",
       " 1.0\n",
       " 1.0\n",
       " 1.0"
      ]
     },
     "execution_count": 39,
     "metadata": {},
     "output_type": "execute_result"
    }
   ],
   "source": [
    "# Задаём единичный вектор:\n",
    "x = fill(1.0, 3)"
   ]
  },
  {
   "cell_type": "code",
   "execution_count": 40,
   "id": "37dd2997885ec67b",
   "metadata": {
    "ExecuteTime": {
     "end_time": "2023-12-02T20:46:25.662066400Z",
     "start_time": "2023-12-02T20:46:25.558070900Z"
    },
    "collapsed": false,
    "jupyter": {
     "outputs_hidden": false
    }
   },
   "outputs": [
    {
     "data": {
      "text/plain": [
       "3-element Vector{Float64}:\n",
       " 1.3029191742968955\n",
       " 0.9579836390438312\n",
       " 1.1337475715301344"
      ]
     },
     "execution_count": 40,
     "metadata": {},
     "output_type": "execute_result"
    }
   ],
   "source": [
    "# Задаём вектор b:\n",
    "b = A*x"
   ]
  },
  {
   "cell_type": "code",
   "execution_count": 41,
   "id": "9e79d5a60f8b66aa",
   "metadata": {
    "ExecuteTime": {
     "end_time": "2023-12-02T20:46:26.641069Z",
     "start_time": "2023-12-02T20:46:25.662066400Z"
    },
    "collapsed": false,
    "jupyter": {
     "outputs_hidden": false
    }
   },
   "outputs": [
    {
     "data": {
      "text/plain": [
       "3-element Vector{Float64}:\n",
       " 1.0000000000000004\n",
       " 0.9999999999999999\n",
       " 0.9999999999999998"
      ]
     },
     "execution_count": 41,
     "metadata": {},
     "output_type": "execute_result"
    }
   ],
   "source": [
    "# Решение исходного уравнения получаем с помощью функции \\\n",
    "# (убеждаемся, что x - единичный вектор):\n",
    "A\\b"
   ]
  },
  {
   "cell_type": "code",
   "execution_count": 42,
   "id": "1eeb94c4a3d1e27f",
   "metadata": {
    "ExecuteTime": {
     "end_time": "2023-12-02T20:46:27.145067200Z",
     "start_time": "2023-12-02T20:46:26.643064900Z"
    },
    "collapsed": false,
    "jupyter": {
     "outputs_hidden": false
    }
   },
   "outputs": [
    {
     "data": {
      "text/plain": [
       "LU{Float64, Matrix{Float64}, Vector{Int64}}\n",
       "L factor:\n",
       "3×3 Matrix{Float64}:\n",
       " 1.0        0.0      0.0\n",
       " 0.402      1.0      0.0\n",
       " 0.992579  -0.87035  1.0\n",
       "U factor:\n",
       "3×3 Matrix{Float64}:\n",
       " 0.405168  0.528076  0.200503\n",
       " 0.0       0.489401  0.357752\n",
       " 0.0       0.0       0.569969"
      ]
     },
     "execution_count": 42,
     "metadata": {},
     "output_type": "execute_result"
    }
   ],
   "source": [
    "# LU-факторизация:\n",
    "Alu = lu(A)"
   ]
  },
  {
   "cell_type": "code",
   "execution_count": 43,
   "id": "63bdbc91470efb0a",
   "metadata": {
    "ExecuteTime": {
     "end_time": "2023-12-02T20:46:27.160062600Z",
     "start_time": "2023-12-02T20:46:27.149062400Z"
    },
    "collapsed": false,
    "jupyter": {
     "outputs_hidden": false
    }
   },
   "outputs": [
    {
     "data": {
      "text/plain": [
       "3-element Vector{Float64}:\n",
       " 1.0000000000000004\n",
       " 0.9999999999999999\n",
       " 0.9999999999999998"
      ]
     },
     "execution_count": 43,
     "metadata": {},
     "output_type": "execute_result"
    }
   ],
   "source": [
    "# Решение СЛАУ через матрицу A:\n",
    "A\\b"
   ]
  },
  {
   "cell_type": "code",
   "execution_count": 44,
   "id": "d25fb45b445daa9f",
   "metadata": {
    "ExecuteTime": {
     "end_time": "2023-12-02T20:46:27.161064300Z",
     "start_time": "2023-12-02T20:46:27.156062200Z"
    },
    "collapsed": false,
    "jupyter": {
     "outputs_hidden": false
    }
   },
   "outputs": [
    {
     "data": {
      "text/plain": [
       "3-element Vector{Float64}:\n",
       " 1.0000000000000004\n",
       " 0.9999999999999999\n",
       " 0.9999999999999998"
      ]
     },
     "execution_count": 44,
     "metadata": {},
     "output_type": "execute_result"
    }
   ],
   "source": [
    "# Решение СЛАУ через объект факторизации:\n",
    "Alu\\b"
   ]
  },
  {
   "cell_type": "code",
   "execution_count": 45,
   "id": "16589f6e50b68eeb",
   "metadata": {
    "ExecuteTime": {
     "end_time": "2023-12-02T20:46:27.263062900Z",
     "start_time": "2023-12-02T20:46:27.162064Z"
    },
    "collapsed": false,
    "jupyter": {
     "outputs_hidden": false
    }
   },
   "outputs": [
    {
     "data": {
      "text/plain": [
       "0.11301873538996511"
      ]
     },
     "execution_count": 45,
     "metadata": {},
     "output_type": "execute_result"
    }
   ],
   "source": [
    "# Детерминант матрицы A:\n",
    "det(A)"
   ]
  },
  {
   "cell_type": "code",
   "execution_count": 46,
   "id": "7ee8b2628452c654",
   "metadata": {
    "ExecuteTime": {
     "end_time": "2023-12-02T20:46:27.264063300Z",
     "start_time": "2023-12-02T20:46:27.216064100Z"
    },
    "collapsed": false,
    "jupyter": {
     "outputs_hidden": false
    }
   },
   "outputs": [
    {
     "data": {
      "text/plain": [
       "0.11301873538996511"
      ]
     },
     "execution_count": 46,
     "metadata": {},
     "output_type": "execute_result"
    }
   ],
   "source": [
    "# Детерминант матрицы A через объект факторизации:\n",
    "det(Alu)"
   ]
  },
  {
   "cell_type": "code",
   "execution_count": 47,
   "id": "a4827bfb85c94696",
   "metadata": {
    "ExecuteTime": {
     "end_time": "2023-12-02T20:46:27.880067200Z",
     "start_time": "2023-12-02T20:46:27.220064900Z"
    },
    "collapsed": false,
    "jupyter": {
     "outputs_hidden": false
    }
   },
   "outputs": [
    {
     "data": {
      "text/plain": [
       "LinearAlgebra.QRCompactWY{Float64, Matrix{Float64}, Matrix{Float64}}\n",
       "Q factor:\n",
       "3×3 LinearAlgebra.QRCompactWYQ{Float64, Matrix{Float64}, Matrix{Float64}}:\n",
       " -0.274365   0.843755  -0.461304\n",
       " -0.677435  -0.510059  -0.530021\n",
       " -0.6825     0.167084   0.711532\n",
       "R factor:\n",
       "3×3 Matrix{Float64}:\n",
       " -0.593653  -0.61946   -0.567117\n",
       "  0.0        0.630194   0.169954\n",
       "  0.0        0.0       -0.302095"
      ]
     },
     "execution_count": 47,
     "metadata": {},
     "output_type": "execute_result"
    }
   ],
   "source": [
    "# QR-факторизация:\n",
    "Aqr = qr(A)"
   ]
  },
  {
   "cell_type": "code",
   "execution_count": 48,
   "id": "79f49c50cfadf144",
   "metadata": {
    "ExecuteTime": {
     "end_time": "2023-12-02T20:46:28.207064300Z",
     "start_time": "2023-12-02T20:46:27.882064Z"
    },
    "collapsed": false,
    "jupyter": {
     "outputs_hidden": false
    }
   },
   "outputs": [
    {
     "data": {
      "text/plain": [
       "3×3 LinearAlgebra.QRCompactWYQ{Float64, Matrix{Float64}, Matrix{Float64}}:\n",
       " -0.274365   0.843755  -0.461304\n",
       " -0.677435  -0.510059  -0.530021\n",
       " -0.6825     0.167084   0.711532"
      ]
     },
     "execution_count": 48,
     "metadata": {},
     "output_type": "execute_result"
    }
   ],
   "source": [
    "# Матрица Q:\n",
    "Aqr.Q"
   ]
  },
  {
   "cell_type": "code",
   "execution_count": 49,
   "id": "35bf3dd1b9c6f2e8",
   "metadata": {
    "ExecuteTime": {
     "end_time": "2023-12-02T20:46:28.221063Z",
     "start_time": "2023-12-02T20:46:28.210063200Z"
    },
    "collapsed": false,
    "jupyter": {
     "outputs_hidden": false
    }
   },
   "outputs": [
    {
     "data": {
      "text/plain": [
       "3×3 Matrix{Float64}:\n",
       " -0.593653  -0.61946   -0.567117\n",
       "  0.0        0.630194   0.169954\n",
       "  0.0        0.0       -0.302095"
      ]
     },
     "execution_count": 49,
     "metadata": {},
     "output_type": "execute_result"
    }
   ],
   "source": [
    "# Матрица R:\n",
    "Aqr.R"
   ]
  },
  {
   "cell_type": "code",
   "execution_count": 50,
   "id": "2967f0fb5a04031f",
   "metadata": {
    "ExecuteTime": {
     "end_time": "2023-12-02T20:46:28.297064100Z",
     "start_time": "2023-12-02T20:46:28.214064700Z"
    },
    "collapsed": false,
    "jupyter": {
     "outputs_hidden": false
    }
   },
   "outputs": [
    {
     "data": {
      "text/plain": [
       "3×3 Matrix{Float64}:\n",
       " 1.0          2.22045e-16  -2.22045e-16\n",
       " 3.33067e-16  1.0           1.11022e-16\n",
       " 0.0          5.55112e-17   1.0"
      ]
     },
     "execution_count": 50,
     "metadata": {},
     "output_type": "execute_result"
    }
   ],
   "source": [
    "# Проверка, что матрица Q - ортогональная:\n",
    "Aqr.Q'*Aqr.Q"
   ]
  },
  {
   "cell_type": "code",
   "execution_count": 51,
   "id": "5f712ac942b0ddc",
   "metadata": {
    "ExecuteTime": {
     "end_time": "2023-12-02T20:46:28.435066800Z",
     "start_time": "2023-12-02T20:46:28.298067500Z"
    },
    "collapsed": false,
    "jupyter": {
     "outputs_hidden": false
    }
   },
   "outputs": [
    {
     "data": {
      "text/plain": [
       "3×3 Matrix{Float64}:\n",
       " 0.325755  1.10385   0.843522\n",
       " 1.10385   0.196415  0.985691\n",
       " 0.843522  0.985691  0.401007"
      ]
     },
     "execution_count": 51,
     "metadata": {},
     "output_type": "execute_result"
    }
   ],
   "source": [
    "# Симметризация матрицы A:\n",
    "Asym = A + A'"
   ]
  },
  {
   "cell_type": "code",
   "execution_count": 52,
   "id": "a24d3756b5c4c3c0",
   "metadata": {
    "ExecuteTime": {
     "end_time": "2023-12-02T20:46:30.072067500Z",
     "start_time": "2023-12-02T20:46:28.438062700Z"
    },
    "collapsed": false,
    "jupyter": {
     "outputs_hidden": false
    }
   },
   "outputs": [
    {
     "data": {
      "text/plain": [
       "Eigen{Float64, Float64, Matrix{Float64}, Vector{Float64}}\n",
       "values:\n",
       "3-element Vector{Float64}:\n",
       " -0.8800576238910768\n",
       " -0.4600671197873084\n",
       "  2.2633018521133477\n",
       "vectors:\n",
       "3×3 Matrix{Float64}:\n",
       "  0.555542  -0.596011  -0.579779\n",
       " -0.794431  -0.174624  -0.581709\n",
       "  0.245462   0.783758  -0.570501"
      ]
     },
     "execution_count": 52,
     "metadata": {},
     "output_type": "execute_result"
    }
   ],
   "source": [
    "# Спектральное разложение симметризованной матрицы:\n",
    "AsymEig = eigen(Asym)"
   ]
  },
  {
   "cell_type": "code",
   "execution_count": 53,
   "id": "47541ba3187243a2",
   "metadata": {
    "ExecuteTime": {
     "end_time": "2023-12-02T20:46:30.098067900Z",
     "start_time": "2023-12-02T20:46:30.074064800Z"
    },
    "collapsed": false,
    "jupyter": {
     "outputs_hidden": false
    }
   },
   "outputs": [
    {
     "data": {
      "text/plain": [
       "3-element Vector{Float64}:\n",
       " -0.8800576238910768\n",
       " -0.4600671197873084\n",
       "  2.2633018521133477"
      ]
     },
     "execution_count": 53,
     "metadata": {},
     "output_type": "execute_result"
    }
   ],
   "source": [
    "# Собственные значения:\n",
    "AsymEig.values"
   ]
  },
  {
   "cell_type": "code",
   "execution_count": 54,
   "id": "7287e7e73d3a710b",
   "metadata": {
    "ExecuteTime": {
     "end_time": "2023-12-02T20:46:30.099067900Z",
     "start_time": "2023-12-02T20:46:30.083062200Z"
    },
    "collapsed": false,
    "jupyter": {
     "outputs_hidden": false
    }
   },
   "outputs": [
    {
     "data": {
      "text/plain": [
       "3×3 Matrix{Float64}:\n",
       "  0.555542  -0.596011  -0.579779\n",
       " -0.794431  -0.174624  -0.581709\n",
       "  0.245462   0.783758  -0.570501"
      ]
     },
     "execution_count": 54,
     "metadata": {},
     "output_type": "execute_result"
    }
   ],
   "source": [
    "#Собственные векторы:\n",
    "AsymEig.vectors"
   ]
  },
  {
   "cell_type": "code",
   "execution_count": 55,
   "id": "273b35f671dde917",
   "metadata": {
    "ExecuteTime": {
     "end_time": "2023-12-02T20:46:30.491064200Z",
     "start_time": "2023-12-02T20:46:30.087062700Z"
    },
    "collapsed": false,
    "jupyter": {
     "outputs_hidden": false
    }
   },
   "outputs": [
    {
     "data": {
      "text/plain": [
       "3×3 Matrix{Float64}:\n",
       "  1.0          1.66533e-15  1.22125e-15\n",
       "  7.77156e-16  1.0          9.4369e-16\n",
       " -2.22045e-16  4.44089e-16  1.0"
      ]
     },
     "execution_count": 55,
     "metadata": {},
     "output_type": "execute_result"
    }
   ],
   "source": [
    "# Проверяем, что получится единичная матрица:\n",
    "inv(AsymEig)*Asym"
   ]
  },
  {
   "cell_type": "code",
   "execution_count": 56,
   "id": "7a39429c56f6b9f2",
   "metadata": {
    "ExecuteTime": {
     "end_time": "2023-12-02T20:46:30.607062600Z",
     "start_time": "2023-12-02T20:46:30.493065600Z"
    },
    "collapsed": false,
    "jupyter": {
     "outputs_hidden": false
    }
   },
   "outputs": [
    {
     "data": {
      "text/plain": [
       "1000×1000 Matrix{Float64}:\n",
       "  0.819247    1.3347     -0.87929   …  -1.66008    -0.921932   0.0764337\n",
       " -0.309981   -0.611186    0.31408       0.845723   -0.289022  -1.03657\n",
       "  0.0424235   0.345224    1.39757      -1.08695    -0.143937   1.91639\n",
       " -1.62914    -0.753639   -1.49271       0.591753   -0.164626   1.79113\n",
       " -1.50272     0.746163    0.682439      0.601052    0.757437   0.445817\n",
       " -0.888618    0.450755   -1.64509   …   1.60036     1.19205    0.856004\n",
       " -0.925578    0.0226657  -0.587619     -3.47011     0.119459  -2.00127\n",
       "  0.53807     0.809893   -1.03616       0.703836   -0.518179  -0.258721\n",
       " -0.579949    2.16316     0.562024     -0.121357   -1.36689   -0.00640057\n",
       " -1.59626    -1.43916    -1.53075       1.53479    -1.34931    1.04062\n",
       "  0.567721    0.244734   -2.05328   …   0.178715   -0.263876   1.32741\n",
       " -0.912982    1.72539    -0.146148     -0.0229004   1.42372    1.52254\n",
       " -1.54976     2.37209     0.228364     -0.919874   -1.36234   -0.251655\n",
       "  ⋮                                 ⋱                         \n",
       "  0.373113   -0.891633   -0.654094      0.229212    0.730019   1.02314\n",
       "  2.27802    -0.20563    -1.37565      -2.14771     0.465308   0.164445\n",
       " -1.14314    -0.0267214   0.885573  …  -1.05389    -0.509736  -0.0423384\n",
       "  2.62126     0.509027   -0.19033       1.14442    -1.20233    0.368025\n",
       " -0.73675     0.377398    0.151726      0.77646    -0.297179  -1.1105\n",
       "  0.302992    0.313371    0.955642     -0.555839   -2.74856    0.685366\n",
       "  2.0468      1.0978      0.527581      0.627538   -0.777665  -1.2581\n",
       "  0.250058   -0.211506    0.314563  …   0.321016    0.554334  -0.337226\n",
       "  1.5011     -0.387366    0.398708      1.06983     0.245423  -0.44981\n",
       " -0.148577    0.962474   -0.672456      0.679968    1.22976    1.62118\n",
       "  1.2154     -0.073345    0.741257      0.0260776  -0.50082    1.40176\n",
       "  0.650077    0.295495   -0.252913      0.734384   -0.709425   0.378955"
      ]
     },
     "execution_count": 56,
     "metadata": {},
     "output_type": "execute_result"
    }
   ],
   "source": [
    "# Матрица 1000 х 1000:\n",
    "n = 1000\n",
    "A = randn(n,n)"
   ]
  },
  {
   "cell_type": "code",
   "execution_count": 57,
   "id": "9188ffbf8cd98f8c",
   "metadata": {
    "ExecuteTime": {
     "end_time": "2023-12-02T20:46:30.637069300Z",
     "start_time": "2023-12-02T20:46:30.609062400Z"
    },
    "collapsed": false,
    "jupyter": {
     "outputs_hidden": false
    }
   },
   "outputs": [
    {
     "data": {
      "text/plain": [
       "1000×1000 Matrix{Float64}:\n",
       "  1.63849    1.02472   -0.836866    …  -1.80866     0.293468   0.726511\n",
       "  1.02472   -1.22237    0.659304        1.8082     -0.362367  -0.741079\n",
       " -0.836866   0.659304   2.79514        -1.7594      0.597321   1.66348\n",
       " -1.14183   -1.28642   -1.0303          1.07173     0.068439   3.09274\n",
       " -1.21244    1.03349    0.386698        0.130618    2.80936    1.69901\n",
       " -0.366611  -0.798785  -2.08535     …   1.63735     2.02205    2.40125\n",
       " -2.02266    0.204185  -0.718416       -3.79614     1.60051   -2.63461\n",
       "  0.68706    0.710628  -1.77431         1.18172     0.105465  -0.104329\n",
       " -0.615954   1.11954   -1.04574        -0.468595   -0.387612   1.3742\n",
       " -2.67528   -0.866521  -2.32624         1.21981    -0.194922   2.07119\n",
       " -1.55136    1.27545   -2.82866     …   0.154894    1.06473    0.85169\n",
       " -0.782705   2.4137    -0.00975513     -0.244604    2.42722    1.60479\n",
       " -2.23466    1.84357   -1.44457        -0.600433   -1.17243    0.0527268\n",
       "  ⋮                                 ⋱                         \n",
       "  2.67003    0.395306   0.0533315      -0.317618    1.10087   -0.741885\n",
       "  1.71319    0.971936  -1.39736        -4.0335     -0.949127   0.799277\n",
       " -1.54989   -1.32897   -0.59849     …  -0.51018     0.596627   0.285537\n",
       "  4.86693    0.667435   2.32306         2.51611    -1.97221    0.620229\n",
       " -0.124299   1.15925   -0.343404       -0.296737   -0.919718  -0.844254\n",
       "  1.36081   -1.35149    1.66824        -1.6374     -2.27744    2.12124\n",
       "  1.99041    0.549997   0.127205        0.310825   -1.55816   -0.564488\n",
       "  0.716492  -0.171212   0.862548    …  -0.24523     0.298861  -2.27321\n",
       "  0.255441   1.54474   -1.6123         -0.0904432  -0.733781  -0.587829\n",
       " -1.80866    1.8082    -1.7594          1.35994     1.25584    2.35556\n",
       "  0.293468  -0.362367   0.597321        1.25584    -1.00164    0.692336\n",
       "  0.726511  -0.741079   1.66348         2.35556     0.692336   0.75791"
      ]
     },
     "execution_count": 57,
     "metadata": {},
     "output_type": "execute_result"
    }
   ],
   "source": [
    "# Симметризация матрицы:\n",
    "Asym = A + A'"
   ]
  },
  {
   "cell_type": "code",
   "execution_count": 58,
   "id": "9ca70e8e6752f110",
   "metadata": {
    "ExecuteTime": {
     "end_time": "2023-12-02T20:46:30.989063200Z",
     "start_time": "2023-12-02T20:46:30.626065600Z"
    },
    "collapsed": false,
    "jupyter": {
     "outputs_hidden": false
    }
   },
   "outputs": [
    {
     "data": {
      "text/plain": [
       "true"
      ]
     },
     "execution_count": 58,
     "metadata": {},
     "output_type": "execute_result"
    }
   ],
   "source": [
    "# Проверка, является ли матрица симметричной:\n",
    "issymmetric(Asym)"
   ]
  },
  {
   "cell_type": "code",
   "execution_count": 59,
   "id": "c3c26285e416e3a7",
   "metadata": {
    "ExecuteTime": {
     "end_time": "2023-12-02T20:46:31.023067Z",
     "start_time": "2023-12-02T20:46:30.991062700Z"
    },
    "collapsed": false,
    "jupyter": {
     "outputs_hidden": false
    }
   },
   "outputs": [
    {
     "data": {
      "text/plain": [
       "1000×1000 Matrix{Float64}:\n",
       "  1.63849    1.02472   -0.836866    …  -1.80866     0.293468   0.726511\n",
       "  1.02472   -1.22237    0.659304        1.8082     -0.362367  -0.741079\n",
       " -0.836866   0.659304   2.79514        -1.7594      0.597321   1.66348\n",
       " -1.14183   -1.28642   -1.0303          1.07173     0.068439   3.09274\n",
       " -1.21244    1.03349    0.386698        0.130618    2.80936    1.69901\n",
       " -0.366611  -0.798785  -2.08535     …   1.63735     2.02205    2.40125\n",
       " -2.02266    0.204185  -0.718416       -3.79614     1.60051   -2.63461\n",
       "  0.68706    0.710628  -1.77431         1.18172     0.105465  -0.104329\n",
       " -0.615954   1.11954   -1.04574        -0.468595   -0.387612   1.3742\n",
       " -2.67528   -0.866521  -2.32624         1.21981    -0.194922   2.07119\n",
       " -1.55136    1.27545   -2.82866     …   0.154894    1.06473    0.85169\n",
       " -0.782705   2.4137    -0.00975513     -0.244604    2.42722    1.60479\n",
       " -2.23466    1.84357   -1.44457        -0.600433   -1.17243    0.0527268\n",
       "  ⋮                                 ⋱                         \n",
       "  2.67003    0.395306   0.0533315      -0.317618    1.10087   -0.741885\n",
       "  1.71319    0.971936  -1.39736        -4.0335     -0.949127   0.799277\n",
       " -1.54989   -1.32897   -0.59849     …  -0.51018     0.596627   0.285537\n",
       "  4.86693    0.667435   2.32306         2.51611    -1.97221    0.620229\n",
       " -0.124299   1.15925   -0.343404       -0.296737   -0.919718  -0.844254\n",
       "  1.36081   -1.35149    1.66824        -1.6374     -2.27744    2.12124\n",
       "  1.99041    0.549997   0.127205        0.310825   -1.55816   -0.564488\n",
       "  0.716492  -0.171212   0.862548    …  -0.24523     0.298861  -2.27321\n",
       "  0.255441   1.54474   -1.6123         -0.0904432  -0.733781  -0.587829\n",
       " -1.80866    1.8082    -1.7594          1.35994     1.25584    2.35556\n",
       "  0.293468  -0.362367   0.597321        1.25584    -1.00164    0.692336\n",
       "  0.726511  -0.741079   1.66348         2.35556     0.692336   0.75791"
      ]
     },
     "execution_count": 59,
     "metadata": {},
     "output_type": "execute_result"
    }
   ],
   "source": [
    "# Добавление шума:\n",
    "Asym_noisy = copy(Asym)\n",
    "Asym_noisy[1,2] += 5eps()\n",
    "Asym_noisy"
   ]
  },
  {
   "cell_type": "code",
   "execution_count": 60,
   "id": "d12ba944f4e9e410",
   "metadata": {
    "ExecuteTime": {
     "end_time": "2023-12-02T20:46:31.024067700Z",
     "start_time": "2023-12-02T20:46:31.010063300Z"
    },
    "collapsed": false,
    "jupyter": {
     "outputs_hidden": false
    }
   },
   "outputs": [
    {
     "data": {
      "text/plain": [
       "false"
      ]
     },
     "execution_count": 60,
     "metadata": {},
     "output_type": "execute_result"
    }
   ],
   "source": [
    "# Проверка, является ли матрица симметричной:\n",
    "issymmetric(Asym_noisy)"
   ]
  },
  {
   "cell_type": "code",
   "execution_count": 61,
   "id": "3fee6e71bd38983b",
   "metadata": {
    "ExecuteTime": {
     "end_time": "2023-12-02T20:46:31.605067200Z",
     "start_time": "2023-12-02T20:46:31.017067700Z"
    },
    "collapsed": false,
    "jupyter": {
     "outputs_hidden": false
    }
   },
   "outputs": [
    {
     "data": {
      "text/plain": [
       "1000×1000 Symmetric{Float64, Matrix{Float64}}:\n",
       "  1.63849    1.02472   -0.836866    …  -1.80866     0.293468   0.726511\n",
       "  1.02472   -1.22237    0.659304        1.8082     -0.362367  -0.741079\n",
       " -0.836866   0.659304   2.79514        -1.7594      0.597321   1.66348\n",
       " -1.14183   -1.28642   -1.0303          1.07173     0.068439   3.09274\n",
       " -1.21244    1.03349    0.386698        0.130618    2.80936    1.69901\n",
       " -0.366611  -0.798785  -2.08535     …   1.63735     2.02205    2.40125\n",
       " -2.02266    0.204185  -0.718416       -3.79614     1.60051   -2.63461\n",
       "  0.68706    0.710628  -1.77431         1.18172     0.105465  -0.104329\n",
       " -0.615954   1.11954   -1.04574        -0.468595   -0.387612   1.3742\n",
       " -2.67528   -0.866521  -2.32624         1.21981    -0.194922   2.07119\n",
       " -1.55136    1.27545   -2.82866     …   0.154894    1.06473    0.85169\n",
       " -0.782705   2.4137    -0.00975513     -0.244604    2.42722    1.60479\n",
       " -2.23466    1.84357   -1.44457        -0.600433   -1.17243    0.0527268\n",
       "  ⋮                                 ⋱                         \n",
       "  2.67003    0.395306   0.0533315      -0.317618    1.10087   -0.741885\n",
       "  1.71319    0.971936  -1.39736        -4.0335     -0.949127   0.799277\n",
       " -1.54989   -1.32897   -0.59849     …  -0.51018     0.596627   0.285537\n",
       "  4.86693    0.667435   2.32306         2.51611    -1.97221    0.620229\n",
       " -0.124299   1.15925   -0.343404       -0.296737   -0.919718  -0.844254\n",
       "  1.36081   -1.35149    1.66824        -1.6374     -2.27744    2.12124\n",
       "  1.99041    0.549997   0.127205        0.310825   -1.55816   -0.564488\n",
       "  0.716492  -0.171212   0.862548    …  -0.24523     0.298861  -2.27321\n",
       "  0.255441   1.54474   -1.6123         -0.0904432  -0.733781  -0.587829\n",
       " -1.80866    1.8082    -1.7594          1.35994     1.25584    2.35556\n",
       "  0.293468  -0.362367   0.597321        1.25584    -1.00164    0.692336\n",
       "  0.726511  -0.741079   1.66348         2.35556     0.692336   0.75791"
      ]
     },
     "execution_count": 61,
     "metadata": {},
     "output_type": "execute_result"
    }
   ],
   "source": [
    "# Явно указываем, что матрица является симметричной:\n",
    "Asym_explicit = Symmetric(Asym_noisy)"
   ]
  },
  {
   "cell_type": "code",
   "execution_count": 62,
   "id": "2b5bb959499520c3",
   "metadata": {
    "ExecuteTime": {
     "end_time": "2023-12-02T20:47:15.237012300Z",
     "start_time": "2023-12-02T20:46:31.607064700Z"
    },
    "collapsed": false,
    "jupyter": {
     "outputs_hidden": false
    }
   },
   "outputs": [
    {
     "name": "stdout",
     "output_type": "stream",
     "text": [
      "  186.976 ms (11 allocations: 7.99 MiB)\n",
      "  772.360 ms (14 allocations: 7.93 MiB)\n",
      "  192.327 ms (11 allocations: 7.99 MiB)\n"
     ]
    }
   ],
   "source": [
    "using BenchmarkTools\n",
    "# Оценка эффективности выполнения операции по нахождению\n",
    "# собственных значений симметризованной матрицы:\n",
    "@btime eigvals(Asym);\n",
    "# Оценка эффективности выполнения операции по нахождению\n",
    "# собственных значений зашумлённой матрицы:\n",
    "@btime eigvals(Asym_noisy);\n",
    "# Оценка эффективности выполнения операции по нахождению\n",
    "# собственных значений зашумлённой матрицы,\n",
    "# для которой явно указано, что она симметричная:\n",
    "@btime eigvals(Asym_explicit);"
   ]
  },
  {
   "cell_type": "code",
   "execution_count": 63,
   "id": "af64382f42ceff79",
   "metadata": {
    "ExecuteTime": {
     "end_time": "2023-12-02T20:47:15.973012500Z",
     "start_time": "2023-12-02T20:47:15.230011800Z"
    },
    "collapsed": false,
    "jupyter": {
     "outputs_hidden": false
    }
   },
   "outputs": [
    {
     "data": {
      "text/plain": [
       "1000000×1000000 SymTridiagonal{Float64, Vector{Float64}}:\n",
       " 0.272681   2.73483     ⋅        …    ⋅          ⋅          ⋅ \n",
       " 2.73483    1.51212   -0.731553       ⋅          ⋅          ⋅ \n",
       "  ⋅        -0.731553   0.271751       ⋅          ⋅          ⋅ \n",
       "  ⋅          ⋅         0.429758       ⋅          ⋅          ⋅ \n",
       "  ⋅          ⋅          ⋅             ⋅          ⋅          ⋅ \n",
       "  ⋅          ⋅          ⋅        …    ⋅          ⋅          ⋅ \n",
       "  ⋅          ⋅          ⋅             ⋅          ⋅          ⋅ \n",
       "  ⋅          ⋅          ⋅             ⋅          ⋅          ⋅ \n",
       "  ⋅          ⋅          ⋅             ⋅          ⋅          ⋅ \n",
       "  ⋅          ⋅          ⋅             ⋅          ⋅          ⋅ \n",
       "  ⋅          ⋅          ⋅        …    ⋅          ⋅          ⋅ \n",
       "  ⋅          ⋅          ⋅             ⋅          ⋅          ⋅ \n",
       "  ⋅          ⋅          ⋅             ⋅          ⋅          ⋅ \n",
       " ⋮                               ⋱                        \n",
       "  ⋅          ⋅          ⋅             ⋅          ⋅          ⋅ \n",
       "  ⋅          ⋅          ⋅             ⋅          ⋅          ⋅ \n",
       "  ⋅          ⋅          ⋅        …    ⋅          ⋅          ⋅ \n",
       "  ⋅          ⋅          ⋅             ⋅          ⋅          ⋅ \n",
       "  ⋅          ⋅          ⋅             ⋅          ⋅          ⋅ \n",
       "  ⋅          ⋅          ⋅             ⋅          ⋅          ⋅ \n",
       "  ⋅          ⋅          ⋅             ⋅          ⋅          ⋅ \n",
       "  ⋅          ⋅          ⋅        …    ⋅          ⋅          ⋅ \n",
       "  ⋅          ⋅          ⋅           -0.051322    ⋅          ⋅ \n",
       "  ⋅          ⋅          ⋅            1.54706   -0.273999    ⋅ \n",
       "  ⋅          ⋅          ⋅           -0.273999  -0.966329   0.982085\n",
       "  ⋅          ⋅          ⋅             ⋅         0.982085  -1.06031"
      ]
     },
     "execution_count": 63,
     "metadata": {},
     "output_type": "execute_result"
    }
   ],
   "source": [
    "# Трёхдиагональная матрица 1000000 х 1000000:\n",
    "n = 1000000;\n",
    "A = SymTridiagonal(randn(n), randn(n-1))"
   ]
  },
  {
   "cell_type": "code",
   "execution_count": 64,
   "id": "8ea78359b6a966ea",
   "metadata": {
    "ExecuteTime": {
     "end_time": "2023-12-02T20:47:31.101014Z",
     "start_time": "2023-12-02T20:47:15.975012100Z"
    },
    "collapsed": false,
    "jupyter": {
     "outputs_hidden": false
    }
   },
   "outputs": [
    {
     "name": "stdout",
     "output_type": "stream",
     "text": [
      "  548.205 ms (17 allocations: 183.11 MiB)\n"
     ]
    },
    {
     "data": {
      "text/plain": [
       "6.392585152921395"
      ]
     },
     "execution_count": 64,
     "metadata": {},
     "output_type": "execute_result"
    }
   ],
   "source": [
    "# Оценка эффективности выполнения операции по нахождению\n",
    "# собственных значений:\n",
    "@btime eigmax(A)"
   ]
  },
  {
   "cell_type": "code",
   "execution_count": 65,
   "id": "b583db4aca61520d",
   "metadata": {
    "ExecuteTime": {
     "end_time": "2023-12-02T20:47:31.364012600Z",
     "start_time": "2023-12-02T20:47:31.104011500Z"
    },
    "collapsed": false,
    "jupyter": {
     "outputs_hidden": false
    }
   },
   "outputs": [
    {
     "ename": "LoadError",
     "evalue": "OutOfMemoryError()",
     "output_type": "error",
     "traceback": [
      "OutOfMemoryError()",
      "",
      "Stacktrace:",
      " [1] Array",
      "   @ .\\boot.jl:479 [inlined]",
      " [2] Array",
      "   @ .\\boot.jl:487 [inlined]",
      " [3] zeros",
      "   @ .\\array.jl:584 [inlined]",
      " [4] zeros",
      "   @ .\\array.jl:580 [inlined]",
      " [5] Matrix{Float64}(M::SymTridiagonal{Float64, Vector{Float64}})",
      "   @ LinearAlgebra C:\\Users\\vemanaeva\\AppData\\Local\\Programs\\Julia-1.9.3\\share\\julia\\stdlib\\v1.9\\LinearAlgebra\\src\\tridiag.jl:127",
      " [6] (Matrix)(M::SymTridiagonal{Float64, Vector{Float64}})",
      "   @ LinearAlgebra C:\\Users\\vemanaeva\\AppData\\Local\\Programs\\Julia-1.9.3\\share\\julia\\stdlib\\v1.9\\LinearAlgebra\\src\\tridiag.jl:137",
      " [7] top-level scope",
      "   @ In[65]:1"
     ]
    }
   ],
   "source": [
    "B = Matrix(A)"
   ]
  },
  {
   "cell_type": "markdown",
   "id": "bded67f44f05d6cf",
   "metadata": {
    "collapsed": false,
    "jupyter": {
     "outputs_hidden": false
    }
   },
   "source": [
    "## Общая линейная алгебра"
   ]
  },
  {
   "cell_type": "code",
   "execution_count": 66,
   "id": "188c7c1db93f9307",
   "metadata": {
    "ExecuteTime": {
     "end_time": "2023-12-02T20:47:32.187014Z",
     "start_time": "2023-12-02T20:47:31.366013300Z"
    },
    "collapsed": false,
    "jupyter": {
     "outputs_hidden": false
    }
   },
   "outputs": [
    {
     "data": {
      "text/plain": [
       "3×3 Matrix{Rational{BigInt}}:\n",
       " 3//10  7//10  1//10\n",
       " 3//10  7//10  9//10\n",
       " 1//2   1//5   9//10"
      ]
     },
     "execution_count": 66,
     "metadata": {},
     "output_type": "execute_result"
    }
   ],
   "source": [
    "# Матрица с рациональными элементами:\n",
    "Arational = Matrix{Rational{BigInt}}(rand(1:10, 3, 3))/10"
   ]
  },
  {
   "cell_type": "code",
   "execution_count": 67,
   "id": "55c745dae22539e2",
   "metadata": {
    "ExecuteTime": {
     "end_time": "2023-12-02T20:47:32.246012400Z",
     "start_time": "2023-12-02T20:47:32.188014600Z"
    },
    "collapsed": false,
    "jupyter": {
     "outputs_hidden": false
    }
   },
   "outputs": [
    {
     "data": {
      "text/plain": [
       "3-element Vector{Int64}:\n",
       " 1\n",
       " 1\n",
       " 1"
      ]
     },
     "execution_count": 67,
     "metadata": {},
     "output_type": "execute_result"
    }
   ],
   "source": [
    "# Единичный вектор:\n",
    "x = fill(1, 3)"
   ]
  },
  {
   "cell_type": "code",
   "execution_count": 68,
   "id": "fad17da6580ba93f",
   "metadata": {
    "ExecuteTime": {
     "end_time": "2023-12-02T20:47:33.168012400Z",
     "start_time": "2023-12-02T20:47:32.207013500Z"
    },
    "collapsed": false,
    "jupyter": {
     "outputs_hidden": false
    }
   },
   "outputs": [
    {
     "data": {
      "text/plain": [
       "3-element Vector{Rational{BigInt}}:\n",
       " 11//10\n",
       " 19//10\n",
       "  8//5"
      ]
     },
     "execution_count": 68,
     "metadata": {},
     "output_type": "execute_result"
    }
   ],
   "source": [
    "# Задаём вектор b:\n",
    "b = Arational*x"
   ]
  },
  {
   "cell_type": "code",
   "execution_count": 69,
   "id": "89b59e48da54edf6",
   "metadata": {
    "ExecuteTime": {
     "end_time": "2023-12-02T20:47:37.054017Z",
     "start_time": "2023-12-02T20:47:33.169013800Z"
    },
    "collapsed": false,
    "jupyter": {
     "outputs_hidden": false
    }
   },
   "outputs": [
    {
     "data": {
      "text/plain": [
       "3-element Vector{Rational{BigInt}}:\n",
       " 1//1\n",
       " 1//1\n",
       " 1//1"
      ]
     },
     "execution_count": 69,
     "metadata": {},
     "output_type": "execute_result"
    }
   ],
   "source": [
    "# Решение исходного уравнения получаем с помощью функции \\\n",
    "# (убеждаемся, что x - единичный вектор):\n",
    "Arational\\b"
   ]
  },
  {
   "cell_type": "code",
   "execution_count": 70,
   "id": "6a15867e81ac071f",
   "metadata": {
    "ExecuteTime": {
     "end_time": "2023-12-02T20:47:37.730012100Z",
     "start_time": "2023-12-02T20:47:37.056012600Z"
    },
    "collapsed": false,
    "jupyter": {
     "outputs_hidden": false
    }
   },
   "outputs": [
    {
     "data": {
      "text/plain": [
       "LU{Rational{BigInt}, Matrix{Rational{BigInt}}, Vector{Int64}}\n",
       "L factor:\n",
       "3×3 Matrix{Rational{BigInt}}:\n",
       " 1//1  0//1  0//1\n",
       " 3//5  1//1  0//1\n",
       " 3//5  1//1  1//1\n",
       "U factor:\n",
       "3×3 Matrix{Rational{BigInt}}:\n",
       " 1//2   1//5    9//10\n",
       " 0//1  29//50   9//25\n",
       " 0//1   0//1   -4//5"
      ]
     },
     "execution_count": 70,
     "metadata": {},
     "output_type": "execute_result"
    }
   ],
   "source": [
    "# LU-разложение:\n",
    "lu(Arational)"
   ]
  },
  {
   "cell_type": "markdown",
   "id": "86f0e469-61a5-431f-8644-c87b2de4a131",
   "metadata": {},
   "source": [
    "# Самостоятельная работа"
   ]
  },
  {
   "cell_type": "markdown",
   "id": "86f20fd3db90742f",
   "metadata": {
    "collapsed": false,
    "jupyter": {
     "outputs_hidden": false
    }
   },
   "source": [
    "## 1. Произведение векторов"
   ]
  },
  {
   "cell_type": "markdown",
   "id": "1b4b3d2b8f4f682f",
   "metadata": {
    "collapsed": false,
    "jupyter": {
     "outputs_hidden": false
    }
   },
   "source": [
    "### 1. Задайте вектор v. Умножьте вектор v скалярно сам на себя и сохраните результат в dot_v"
   ]
  },
  {
   "cell_type": "code",
   "execution_count": 71,
   "id": "532e66c0-b135-4fde-80dc-b09c128fc9d1",
   "metadata": {
    "ExecuteTime": {
     "end_time": "2023-12-02T20:47:38.198011200Z",
     "start_time": "2023-12-02T20:47:37.732012200Z"
    }
   },
   "outputs": [
    {
     "data": {
      "text/plain": [
       "3-element Vector{Int64}:\n",
       " 76\n",
       " 62\n",
       " 35"
      ]
     },
     "metadata": {},
     "output_type": "display_data"
    },
    {
     "data": {
      "text/plain": [
       "10845"
      ]
     },
     "execution_count": 71,
     "metadata": {},
     "output_type": "execute_result"
    }
   ],
   "source": [
    "v = rand(1:100, 3); display(v)\n",
    "dot_v = v'v"
   ]
  },
  {
   "cell_type": "markdown",
   "id": "91d9fa996ec0986b",
   "metadata": {
    "collapsed": false,
    "jupyter": {
     "outputs_hidden": false
    }
   },
   "source": [
    "### 2. Умножьте v матрично на себя (внешнее произведение), присвоив результат переменной outer_v."
   ]
  },
  {
   "cell_type": "code",
   "execution_count": 72,
   "id": "b1e6ea3de7db5fc8",
   "metadata": {
    "ExecuteTime": {
     "end_time": "2023-12-02T20:47:38.308016300Z",
     "start_time": "2023-12-02T20:47:38.193012100Z"
    },
    "collapsed": false,
    "jupyter": {
     "outputs_hidden": false
    }
   },
   "outputs": [
    {
     "data": {
      "text/plain": [
       "3×3 Matrix{Int64}:\n",
       " 5776  4712  2660\n",
       " 4712  3844  2170\n",
       " 2660  2170  1225"
      ]
     },
     "execution_count": 72,
     "metadata": {},
     "output_type": "execute_result"
    }
   ],
   "source": [
    "outer_v = v*v'"
   ]
  },
  {
   "cell_type": "markdown",
   "id": "f04597a2887e7e5d",
   "metadata": {
    "collapsed": false,
    "jupyter": {
     "outputs_hidden": false
    }
   },
   "source": [
    "## 2. Системы линейных уравнений"
   ]
  },
  {
   "cell_type": "markdown",
   "id": "ef4fe7341fb5047a",
   "metadata": {
    "collapsed": false,
    "jupyter": {
     "outputs_hidden": false
    }
   },
   "source": [
    "### 1. Решить СЛАУ с двумя неизвестными."
   ]
  },
  {
   "cell_type": "code",
   "execution_count": 73,
   "id": "11a3502b298b6ff6",
   "metadata": {
    "ExecuteTime": {
     "end_time": "2023-12-02T20:47:39.711011900Z",
     "start_time": "2023-12-02T20:47:38.322013800Z"
    },
    "collapsed": false,
    "jupyter": {
     "outputs_hidden": false
    }
   },
   "outputs": [
    {
     "name": "stdout",
     "output_type": "stream",
     "text": [
      "Нет решений\n"
     ]
    }
   ],
   "source": [
    "function LinearDep(mtrx::Matrix, vec::Vector)\n",
    "    # returns isSolvable::Bool, ind::Vector{Int64} -- вектор \n",
    "    A = hcat(mtrx, vec)\n",
    "    Ac = copy(mtrx); bc = copy(vec)\n",
    "    s1 = size(A)[1]; s2 = size(A)[2]-1\n",
    "    t = [false for i in 1:size(A)[1]]\n",
    "    poss_j = collect(2:s2)\n",
    "    for i in 1:s2\n",
    "        for j in i+1:s1\n",
    "            mbool = true\n",
    "            temp = A[j, :]./A[i, :]\n",
    "            if length(unique(temp[1:s2])) == 1\n",
    "                if temp[s2+1] == temp[1]\n",
    "                    t[j] = true\n",
    "                else\n",
    "                    return false, []\n",
    "                end\n",
    "            end\n",
    "            tii = i\n",
    "            if Ac[i, i] == 0\n",
    "                tii = sortperm(abs.(Ac[i, :]))[s2]\n",
    "                if Ac[i, tii] == 0\n",
    "                    mbool = false\n",
    "                end\n",
    "            end\n",
    "            if mbool\n",
    "                c = -Ac[j, tii] / Ac[i, tii]\n",
    "                if isequal(Ac[j, :].+(c*Ac[i, :]), zeros(Float64, s2))\n",
    "                    if bc[j] + c*bc[i] != 0\n",
    "                        return false, []\n",
    "                    else\n",
    "                        t[j] = true\n",
    "                        Ac[j, :] = Ac[j, :].+(c*Ac[i, :])\n",
    "                        bc[j] += c*bc[i]\n",
    "                    end\n",
    "                else\n",
    "                    Ac[j, :].+= (c*Ac[i, :])\n",
    "                    bc[j] += c*bc[i]\n",
    "                end\n",
    "            end\n",
    "        end\n",
    "    end\n",
    "    for i in 1:s1\n",
    "        if isequal(Ac[i, :], zeros(Float64, s2))\n",
    "            t[i] = true\n",
    "        end\n",
    "    end\n",
    "    answ = deleteat!(collect(1:s1), t)\n",
    "    if length(answ) >= s2\n",
    "        return true, answ\n",
    "    else \n",
    "        return false, [pi]\n",
    "    end\n",
    "end\n",
    "\n",
    "function SLAU_solver(A::Matrix, b::Vector)\n",
    "    if ndims(A) != 2 || size(A)[1] != length(b)\n",
    "        println(\"Не совпадают размерности!\")\n",
    "        return\n",
    "    end\n",
    "    s1 = size(A)[1]; s2 = size(A)[2]\n",
    "    if s1 == s2 && det(A) != 0\n",
    "        return A\\b\n",
    "    elseif s1 < s2\n",
    "        println(\"Уравнений меньше, чем переменных\")\n",
    "        return\n",
    "    else # s1 > s2 || (s1 == s2 && det(A) == 0)\n",
    "        isSolvable, indNonLinear = LinearDep(A, b)\n",
    "        if !isSolvable && isequal(indNonLinear, [])\n",
    "            println(\"Нет решений\")\n",
    "            return\n",
    "        elseif !isSolvable && isequal(indNonLinear, [pi])\n",
    "            println(\"Бесконечное количество решений\")\n",
    "            return\n",
    "        else \n",
    "            length(indNonLinear) > s2 ? indNonLinear = indNonLinear[1:s2] : \n",
    "            return A[indNonLinear, :]\\b[indNonLinear]\n",
    "        end\n",
    "    end\n",
    "end\n",
    "A = Float64[1 2 3; 1/3 2 1; 2 3 6; 3 4 5]\n",
    "b = Float64[1, 1, 4, 5]\n",
    "SLAU_solver(A, b)"
   ]
  },
  {
   "cell_type": "markdown",
   "id": "cacdc151c75e9816",
   "metadata": {
    "collapsed": false,
    "jupyter": {
     "outputs_hidden": false
    }
   },
   "source": [
    "#### a)\n",
    "\n",
    "$$\n",
    "\\begin{cases}\n",
    "x+y=2,\\\\\n",
    "x-y=3.\n",
    "\\end{cases}\n",
    "$$\n",
    "\n",
    "Решение существует (система линейно независима)"
   ]
  },
  {
   "cell_type": "code",
   "execution_count": 74,
   "id": "20a50000d66612c1",
   "metadata": {
    "ExecuteTime": {
     "end_time": "2023-12-02T20:47:39.758015300Z",
     "start_time": "2023-12-02T20:47:39.713012200Z"
    },
    "collapsed": false,
    "jupyter": {
     "outputs_hidden": false
    }
   },
   "outputs": [
    {
     "data": {
      "text/plain": [
       "2-element Vector{Float64}:\n",
       "  2.5\n",
       " -0.5"
      ]
     },
     "execution_count": 74,
     "metadata": {},
     "output_type": "execute_result"
    }
   ],
   "source": [
    "A = Float64[1 1; 1 -1]\n",
    "b = Float64[2, 3]\n",
    "SLAU_solver(A, b)"
   ]
  },
  {
   "cell_type": "markdown",
   "id": "515a79104ff67ee8",
   "metadata": {
    "collapsed": false,
    "jupyter": {
     "outputs_hidden": false
    }
   },
   "source": [
    "#### b)\n",
    "\n",
    "$$\n",
    "\\begin{cases}\n",
    "x+y=2,\\\\\n",
    "2x+2y=4.\n",
    "\\end{cases}\n",
    "$$\n",
    "\n",
    "Бесконечное количество решений (вся система линейно зависима (и коэффициенты, и вектор ответов))"
   ]
  },
  {
   "cell_type": "code",
   "execution_count": 75,
   "id": "7e71fafe4ccecfbb",
   "metadata": {
    "ExecuteTime": {
     "end_time": "2023-12-02T20:47:39.772010300Z",
     "start_time": "2023-12-02T20:47:39.760016Z"
    },
    "collapsed": false,
    "jupyter": {
     "outputs_hidden": false
    }
   },
   "outputs": [
    {
     "name": "stdout",
     "output_type": "stream",
     "text": [
      "Бесконечное количество решений\n"
     ]
    }
   ],
   "source": [
    "A = Float64[1 1; 2 2]\n",
    "b = Float64[2, 4]\n",
    "SLAU_solver(A, b)"
   ]
  },
  {
   "cell_type": "markdown",
   "id": "c187d557cb40bea9",
   "metadata": {
    "collapsed": false,
    "jupyter": {
     "outputs_hidden": false
    }
   },
   "source": [
    "#### c)\n",
    "\n",
    "$$\n",
    "\\begin{cases}\n",
    "x+y=2,\\\\\n",
    "2x+2y=5.\n",
    "\\end{cases}\n",
    "$$\n",
    "\n",
    "Решений нет (матрица коэффициентов линейно зависима, при этом векторы нет)"
   ]
  },
  {
   "cell_type": "code",
   "execution_count": 76,
   "id": "3de827d083a485cd",
   "metadata": {
    "ExecuteTime": {
     "end_time": "2023-12-02T20:47:39.773014800Z",
     "start_time": "2023-12-02T20:47:39.764016200Z"
    },
    "collapsed": false,
    "jupyter": {
     "outputs_hidden": false
    }
   },
   "outputs": [
    {
     "name": "stdout",
     "output_type": "stream",
     "text": [
      "Нет решений\n"
     ]
    }
   ],
   "source": [
    "A = Float64[1 1; 2 2]\n",
    "b = Float64[2, 5]\n",
    "SLAU_solver(A, b)"
   ]
  },
  {
   "cell_type": "markdown",
   "id": "42b5a1fc0f74ceb0",
   "metadata": {
    "collapsed": false,
    "jupyter": {
     "outputs_hidden": false
    }
   },
   "source": [
    "#### d)\n",
    "\n",
    "$$\n",
    "\\begin{cases}\n",
    "x+y = 1,\\\\\n",
    "2x+2y = 2,\\\\\n",
    "3x+3y = 3.\n",
    "\\end{cases}\n",
    "$$\n",
    "\n",
    "Бесконечное количество решений аналитически (вся система линейно зависима)"
   ]
  },
  {
   "cell_type": "code",
   "execution_count": 77,
   "id": "aaddce136b403079",
   "metadata": {
    "ExecuteTime": {
     "end_time": "2023-12-02T20:47:39.878012200Z",
     "start_time": "2023-12-02T20:47:39.768016600Z"
    },
    "collapsed": false,
    "jupyter": {
     "outputs_hidden": false
    }
   },
   "outputs": [
    {
     "name": "stdout",
     "output_type": "stream",
     "text": [
      "Бесконечное количество решений\n"
     ]
    }
   ],
   "source": [
    "A = Float64[1 1; 2 2; 3 3]\n",
    "b = Float64[1, 2, 3]\n",
    "SLAU_solver(A, b)"
   ]
  },
  {
   "cell_type": "markdown",
   "id": "c5e988c117926f40",
   "metadata": {
    "collapsed": false,
    "jupyter": {
     "outputs_hidden": false
    }
   },
   "source": [
    "#### e)\n",
    "\n",
    "$$\n",
    "\\begin{cases}\n",
    "x+y=2,\\\\\n",
    "2x+y=1,\\\\\n",
    "x-y=3.\n",
    "\\end{cases}\n",
    "$$"
   ]
  },
  {
   "cell_type": "code",
   "execution_count": 78,
   "id": "ab53eb520ab2b459",
   "metadata": {
    "ExecuteTime": {
     "end_time": "2023-12-02T20:47:39.878012200Z",
     "start_time": "2023-12-02T20:47:39.804016100Z"
    },
    "collapsed": false,
    "jupyter": {
     "outputs_hidden": false
    }
   },
   "outputs": [
    {
     "name": "stdout",
     "output_type": "stream",
     "text": [
      "Нет решений\n"
     ]
    }
   ],
   "source": [
    "A = Float64[1 1; 2 1; 1 -1]\n",
    "b = Float64[2, 1, 3]\n",
    "SLAU_solver(A, b)"
   ]
  },
  {
   "cell_type": "markdown",
   "id": "a811a9fc8588dba2",
   "metadata": {
    "collapsed": false,
    "jupyter": {
     "outputs_hidden": false
    }
   },
   "source": [
    "#### f)\n",
    "\n",
    "$$\n",
    "\\begin{cases}\n",
    "x+y=2,\\\\\n",
    "2x+y=1,\\\\\n",
    "3x+2y=3.\n",
    "\\end{cases}\n",
    "$$"
   ]
  },
  {
   "cell_type": "code",
   "execution_count": 79,
   "id": "6c525b7776dba3d7",
   "metadata": {
    "ExecuteTime": {
     "end_time": "2023-12-02T20:47:39.879013100Z",
     "start_time": "2023-12-02T20:47:39.811016800Z"
    },
    "collapsed": false,
    "jupyter": {
     "outputs_hidden": false
    }
   },
   "outputs": [
    {
     "data": {
      "text/plain": [
       "2-element Vector{Float64}:\n",
       " -1.0\n",
       "  3.0"
      ]
     },
     "execution_count": 79,
     "metadata": {},
     "output_type": "execute_result"
    }
   ],
   "source": [
    "A = Float64[1 1; 2 1; 3 2]\n",
    "b = Float64[2, 1, 3]\n",
    "SLAU_solver(A, b)"
   ]
  },
  {
   "cell_type": "markdown",
   "id": "eb0ebe9a40c7dd31",
   "metadata": {
    "collapsed": false,
    "jupyter": {
     "outputs_hidden": false
    }
   },
   "source": [
    "### 2. Решить СЛАУ с тремя неизвестными."
   ]
  },
  {
   "cell_type": "markdown",
   "id": "e0989d1d44b5e490",
   "metadata": {
    "collapsed": false,
    "jupyter": {
     "outputs_hidden": false
    }
   },
   "source": [
    "#### a)\n",
    "\n",
    "$$\n",
    "\\begin{cases}\n",
    "x+y+z=2,\\\\\n",
    "x-y-2z=3.\n",
    "\\end{cases}\n",
    "$$"
   ]
  },
  {
   "cell_type": "code",
   "execution_count": 80,
   "id": "1b2f583172ed8d20",
   "metadata": {
    "ExecuteTime": {
     "end_time": "2023-12-02T20:47:39.880012800Z",
     "start_time": "2023-12-02T20:47:39.817020900Z"
    },
    "collapsed": false,
    "jupyter": {
     "outputs_hidden": false
    }
   },
   "outputs": [
    {
     "name": "stdout",
     "output_type": "stream",
     "text": [
      "Уравнений меньше, чем переменных\n"
     ]
    }
   ],
   "source": [
    "A = Float64[1 1 1; 1 -1 -2]\n",
    "b = Float64[2, 3]\n",
    "SLAU_solver(A, b)"
   ]
  },
  {
   "cell_type": "markdown",
   "id": "4cc1892cb949e2e1",
   "metadata": {
    "collapsed": false,
    "jupyter": {
     "outputs_hidden": false
    }
   },
   "source": [
    "#### b)\n",
    "\n",
    "$$\n",
    "\\begin{cases}\n",
    "x+y+z=2,\\\\\n",
    "2x+2y-3z=3,\\\\\n",
    "3x+y+z=1.\n",
    "\\end{cases}\n",
    "$$"
   ]
  },
  {
   "cell_type": "code",
   "execution_count": 81,
   "id": "2dfe8eb33ba90be7",
   "metadata": {
    "ExecuteTime": {
     "end_time": "2023-12-02T20:47:39.881013500Z",
     "start_time": "2023-12-02T20:47:39.823017Z"
    },
    "collapsed": false,
    "jupyter": {
     "outputs_hidden": false
    }
   },
   "outputs": [
    {
     "data": {
      "text/plain": [
       "3-element Vector{Float64}:\n",
       " -0.5\n",
       "  2.5\n",
       "  0.0"
      ]
     },
     "execution_count": 81,
     "metadata": {},
     "output_type": "execute_result"
    }
   ],
   "source": [
    "A = Float64[1 1 1; 2 2 -3; 3 1 1]\n",
    "b = Float64[2, 4, 1]\n",
    "SLAU_solver(A, b)"
   ]
  },
  {
   "cell_type": "markdown",
   "id": "8db6f11fd8460eab",
   "metadata": {
    "collapsed": false,
    "jupyter": {
     "outputs_hidden": false
    }
   },
   "source": [
    "#### c)\n",
    "\n",
    "$$\n",
    "\\begin{cases}\n",
    "x+y+z=1,\\\\\n",
    "x+y+2z=0,\\\\\n",
    "2x+2y+3z=1.\n",
    "\\end{cases}\n",
    "$$"
   ]
  },
  {
   "cell_type": "code",
   "execution_count": 82,
   "id": "1701cfa7e96eb4b9",
   "metadata": {
    "ExecuteTime": {
     "end_time": "2023-12-02T20:47:39.882013300Z",
     "start_time": "2023-12-02T20:47:39.838014400Z"
    },
    "collapsed": false,
    "jupyter": {
     "outputs_hidden": false
    }
   },
   "outputs": [
    {
     "name": "stdout",
     "output_type": "stream",
     "text": [
      "Бесконечное количество решений\n"
     ]
    }
   ],
   "source": [
    "A = Float64[1 1 1; 1 1 2; 2 2 3]\n",
    "b = Float64[1, 0, 1]\n",
    "SLAU_solver(A, b)"
   ]
  },
  {
   "cell_type": "markdown",
   "id": "a01cc60f4a2c174",
   "metadata": {
    "collapsed": false,
    "jupyter": {
     "outputs_hidden": false
    }
   },
   "source": [
    "#### d)\n",
    "\n",
    "$$\n",
    "\\begin{cases}\n",
    "x+y+z=1,\\\\\n",
    "x+y+2z=0,\\\\\n",
    "2x+2y+3z=0.\n",
    "\\end{cases}\n",
    "$$"
   ]
  },
  {
   "cell_type": "code",
   "execution_count": 83,
   "id": "acf2c46601f9e75b",
   "metadata": {
    "ExecuteTime": {
     "end_time": "2023-12-02T20:47:39.894011600Z",
     "start_time": "2023-12-02T20:47:39.842011700Z"
    },
    "collapsed": false,
    "jupyter": {
     "outputs_hidden": false
    }
   },
   "outputs": [
    {
     "name": "stdout",
     "output_type": "stream",
     "text": [
      "Нет решений\n"
     ]
    }
   ],
   "source": [
    "A = Float64[1 1 1; 1 1 2; 2 2 3]\n",
    "b = Float64[1, 0, 0]\n",
    "SLAU_solver(A, b)"
   ]
  },
  {
   "cell_type": "markdown",
   "id": "428b3c672f8ff97",
   "metadata": {
    "collapsed": false,
    "jupyter": {
     "outputs_hidden": false
    }
   },
   "source": [
    "## 3. Операции с матрицами"
   ]
  },
  {
   "cell_type": "markdown",
   "id": "66c7fcc7eb870388",
   "metadata": {
    "collapsed": false,
    "jupyter": {
     "outputs_hidden": false
    }
   },
   "source": []
  },
  {
   "cell_type": "code",
   "execution_count": 84,
   "id": "6c61f608d3b4de2d",
   "metadata": {
    "ExecuteTime": {
     "end_time": "2023-12-02T20:47:40.315021800Z",
     "start_time": "2023-12-02T20:47:39.847012500Z"
    },
    "collapsed": false,
    "jupyter": {
     "outputs_hidden": false
    }
   },
   "outputs": [
    {
     "data": {
      "text/plain": [
       "to_Diagonal (generic function with 1 method)"
      ]
     },
     "execution_count": 84,
     "metadata": {},
     "output_type": "execute_result"
    }
   ],
   "source": [
    "function to_Diagonal(mtrx)\n",
    "    s = size(mtrx)[1]\n",
    "    ordDown = vcat([[if i == s; [i, j-1] else [i, j] end for j in i+1:s] for i in 1:s]...)\n",
    "    ordUP = vcat([[if i == s; [j-1, i] else [j, i] end for j in i+1:s] for i in s:-1:1]...)\n",
    "    answ = [[] for _ in 1:s]\n",
    "    for i in ordDown\n",
    "        if mtrx[i[2], i[1]] != 0\n",
    "            k = mtrx[i[2], i[1]] / mtrx[i[1], i[1]]\n",
    "            answ[i[2]] = [mtrx[i[2], j] - mtrx[i[1], j] * k for j in 1:s]\n",
    "        end\n",
    "    end\n",
    "    for i in ordUP\n",
    "        if mtrx[i[2], i[1]] != 0\n",
    "            k = mtrx[i[2], i[1]] / mtrx[i[1], i[1]]\n",
    "            answ[i[2]] = [mtrx[i[2], j] - mtrx[i[1], j] * k for j in 1:s]\n",
    "        end\n",
    "    end\n",
    "    return copy(hcat(answ...)')\n",
    "end"
   ]
  },
  {
   "cell_type": "markdown",
   "id": "f73daa33d7a928a8",
   "metadata": {
    "collapsed": false,
    "jupyter": {
     "outputs_hidden": false
    }
   },
   "source": [
    "#### a)"
   ]
  },
  {
   "cell_type": "code",
   "execution_count": 85,
   "id": "7d3499d9b48d4d46",
   "metadata": {
    "ExecuteTime": {
     "end_time": "2023-12-02T20:47:40.840016300Z",
     "start_time": "2023-12-02T20:47:40.317013800Z"
    },
    "collapsed": false,
    "jupyter": {
     "outputs_hidden": false
    }
   },
   "outputs": [
    {
     "data": {
      "text/plain": [
       "2×2 Matrix{Float64}:\n",
       " -3.0   0.0\n",
       "  0.0  -3.0"
      ]
     },
     "execution_count": 85,
     "metadata": {},
     "output_type": "execute_result"
    }
   ],
   "source": [
    "A = Float64[1 -2; -2 1]\n",
    "to_Diagonal(A)"
   ]
  },
  {
   "cell_type": "markdown",
   "id": "403c78f8fa84309b",
   "metadata": {
    "collapsed": false,
    "jupyter": {
     "outputs_hidden": false
    }
   },
   "source": [
    "#### b)"
   ]
  },
  {
   "cell_type": "code",
   "execution_count": 86,
   "id": "b2543858c5575755",
   "metadata": {
    "ExecuteTime": {
     "end_time": "2023-12-02T20:47:40.854011200Z",
     "start_time": "2023-12-02T20:47:40.842013200Z"
    },
    "collapsed": false,
    "jupyter": {
     "outputs_hidden": false
    }
   },
   "outputs": [
    {
     "data": {
      "text/plain": [
       "2×2 Matrix{Float64}:\n",
       " -0.333333   0.0\n",
       "  0.0       -1.0"
      ]
     },
     "execution_count": 86,
     "metadata": {},
     "output_type": "execute_result"
    }
   ],
   "source": [
    "A = Float64[1 -2; -2 3]\n",
    "to_Diagonal(A)"
   ]
  },
  {
   "cell_type": "markdown",
   "id": "cdb804078a005107",
   "metadata": {
    "collapsed": false,
    "jupyter": {
     "outputs_hidden": false
    }
   },
   "source": [
    "#### c)"
   ]
  },
  {
   "cell_type": "code",
   "execution_count": 87,
   "id": "176794bbf4b6afd7",
   "metadata": {
    "ExecuteTime": {
     "end_time": "2023-12-02T20:47:40.960011800Z",
     "start_time": "2023-12-02T20:47:40.846010800Z"
    },
    "collapsed": false,
    "jupyter": {
     "outputs_hidden": false
    }
   },
   "outputs": [
    {
     "data": {
      "text/plain": [
       "3×3 Matrix{Float64}:\n",
       "  -3.0    0.0    4.0\n",
       " NaN    -Inf   NaN\n",
       "   4.0    0.0   -4.0"
      ]
     },
     "execution_count": 87,
     "metadata": {},
     "output_type": "execute_result"
    }
   ],
   "source": [
    "A = Float64[1 -2 0; -2 1 2; 0 2 0]\n",
    "to_Diagonal(A)"
   ]
  },
  {
   "cell_type": "markdown",
   "id": "626fd2c303580008",
   "metadata": {
    "collapsed": false,
    "jupyter": {
     "outputs_hidden": false
    }
   },
   "source": [
    "### 2. Вычислите"
   ]
  },
  {
   "cell_type": "code",
   "execution_count": 88,
   "id": "40ac6e7899c3d5eb",
   "metadata": {
    "ExecuteTime": {
     "end_time": "2023-12-02T20:47:41.097012800Z",
     "start_time": "2023-12-02T20:47:40.962014400Z"
    },
    "collapsed": false,
    "jupyter": {
     "outputs_hidden": false
    }
   },
   "outputs": [
    {
     "data": {
      "text/plain": [
       "mtrx_Function (generic function with 1 method)"
      ]
     },
     "execution_count": 88,
     "metadata": {},
     "output_type": "execute_result"
    }
   ],
   "source": [
    "function mtrx_Function(A::Matrix, op)\n",
    "    X = eigvecs(A)\n",
    "    lamb = diagm(eigvals(A))\n",
    "    lambfunc = [op(l) for l in lamb]\n",
    "    answ = X^(-1)*lambfunc*X\n",
    "    return answ\n",
    "end"
   ]
  },
  {
   "cell_type": "markdown",
   "id": "114b4ba5c1779c01",
   "metadata": {
    "collapsed": false,
    "jupyter": {
     "outputs_hidden": false
    }
   },
   "source": [
    "#### a)"
   ]
  },
  {
   "cell_type": "code",
   "execution_count": 89,
   "id": "275f4582ea7aee0b",
   "metadata": {
    "ExecuteTime": {
     "end_time": "2023-12-02T20:47:43.194016100Z",
     "start_time": "2023-12-02T20:47:41.098013200Z"
    },
    "collapsed": false,
    "jupyter": {
     "outputs_hidden": false
    }
   },
   "outputs": [
    {
     "data": {
      "text/plain": [
       "2×2 Matrix{Int64}:\n",
       "  29525  -29524\n",
       " -29524   29525"
      ]
     },
     "metadata": {},
     "output_type": "display_data"
    },
    {
     "data": {
      "text/plain": [
       "2×2 Matrix{Float64}:\n",
       "  29525.0  -29524.0\n",
       " -29524.0   29525.0"
      ]
     },
     "execution_count": 89,
     "metadata": {},
     "output_type": "execute_result"
    }
   ],
   "source": [
    "A = [1 -2; -2 1]; display(A^10)\n",
    "mtrx_Function(A, x -> x^10)"
   ]
  },
  {
   "cell_type": "markdown",
   "id": "5a107cf13da66f11",
   "metadata": {
    "collapsed": false,
    "jupyter": {
     "outputs_hidden": false
    }
   },
   "source": [
    "#### b)"
   ]
  },
  {
   "cell_type": "code",
   "execution_count": 90,
   "id": "5c335bfa079acf93",
   "metadata": {
    "ExecuteTime": {
     "end_time": "2023-12-02T20:47:43.321012600Z",
     "start_time": "2023-12-02T20:47:43.196018800Z"
    },
    "collapsed": false,
    "jupyter": {
     "outputs_hidden": false
    }
   },
   "outputs": [
    {
     "data": {
      "text/plain": [
       "2×2 Matrix{Float64}:\n",
       "  2.1889   -0.45685\n",
       " -0.45685   2.1889"
      ]
     },
     "execution_count": 90,
     "metadata": {},
     "output_type": "execute_result"
    }
   ],
   "source": [
    "A = [5 -2; -2 5]\n",
    "mtrx_Function(A, x-> sqrt(x))"
   ]
  },
  {
   "cell_type": "markdown",
   "id": "242f214f12951ba9",
   "metadata": {
    "collapsed": false,
    "jupyter": {
     "outputs_hidden": false
    }
   },
   "source": [
    "#### c)"
   ]
  },
  {
   "cell_type": "code",
   "execution_count": 91,
   "id": "a3cbb4399466b386",
   "metadata": {
    "ExecuteTime": {
     "end_time": "2023-12-02T20:47:43.421012700Z",
     "start_time": "2023-12-02T20:47:43.323012400Z"
    },
    "collapsed": false,
    "jupyter": {
     "outputs_hidden": false
    }
   },
   "outputs": [
    {
     "data": {
      "text/plain": [
       "2×2 Matrix{Float64}:\n",
       "  0.221125  -1.22112\n",
       " -1.22112    0.221125"
      ]
     },
     "execution_count": 91,
     "metadata": {},
     "output_type": "execute_result"
    }
   ],
   "source": [
    "A = [1 -2; -2 1]\n",
    "mtrx_Function(A, x-> cbrt(x))"
   ]
  },
  {
   "cell_type": "markdown",
   "id": "c8060787719f7306",
   "metadata": {
    "collapsed": false,
    "jupyter": {
     "outputs_hidden": false
    }
   },
   "source": [
    "#### d)"
   ]
  },
  {
   "cell_type": "code",
   "execution_count": 92,
   "id": "399e3fe6f87f92cf",
   "metadata": {
    "ExecuteTime": {
     "end_time": "2023-12-02T20:47:45.485017Z",
     "start_time": "2023-12-02T20:47:43.422013Z"
    },
    "collapsed": false,
    "jupyter": {
     "outputs_hidden": false
    }
   },
   "outputs": [
    {
     "data": {
      "text/plain": [
       "2×2 Matrix{ComplexF64}:\n",
       " 0.553689+0.464394im  -0.889962+0.234276im\n",
       " -1.09755+0.288922im    1.76413+0.145754im"
      ]
     },
     "execution_count": 92,
     "metadata": {},
     "output_type": "execute_result"
    }
   ],
   "source": [
    "A = ComplexF64[1 2; 3 4]\n",
    "mtrx_Function(A, x-> sqrt(x))"
   ]
  },
  {
   "cell_type": "markdown",
   "id": "9e9396b62961abd0",
   "metadata": {
    "collapsed": false,
    "jupyter": {
     "outputs_hidden": false
    }
   },
   "source": [
    "### 3. Найдите собственные значения матрицы"
   ]
  },
  {
   "cell_type": "code",
   "execution_count": 93,
   "id": "fbdb20741ecc33a9",
   "metadata": {
    "ExecuteTime": {
     "end_time": "2023-12-02T20:47:52.524011300Z",
     "start_time": "2023-12-02T20:47:45.487016700Z"
    },
    "collapsed": false,
    "jupyter": {
     "outputs_hidden": false
    }
   },
   "outputs": [
    {
     "name": "stdout",
     "output_type": "stream",
     "text": [
      "  4.329 μs (10 allocations: 2.59 KiB)\n"
     ]
    },
    {
     "data": {
      "text/plain": [
       "5-element Vector{Float64}:\n",
       " -129.84037845927043\n",
       "  -56.00818131207859\n",
       "   42.750686387437305\n",
       "   87.15844501190587\n",
       "  541.9394283720058"
      ]
     },
     "execution_count": 93,
     "metadata": {},
     "output_type": "execute_result"
    }
   ],
   "source": [
    "A = [140 97 74 168 131; 97 106 89 131 36; 74 89 152 144 71; 168 131 144 52 142; 131 36 71 142 36]\n",
    "@btime eigvals(A)"
   ]
  },
  {
   "cell_type": "markdown",
   "id": "f64323e750db78fd",
   "metadata": {
    "collapsed": false,
    "jupyter": {
     "outputs_hidden": false
    }
   },
   "source": [
    "Создайте диагональную матрицу из собственных значений матрицы $A$. Создайте нижнедиагональную матрицу из матрицы $A$. Оцените эффективность выполняемых операций."
   ]
  },
  {
   "cell_type": "code",
   "execution_count": 94,
   "id": "5646bc26302b270",
   "metadata": {
    "ExecuteTime": {
     "end_time": "2023-12-02T20:48:00.325010900Z",
     "start_time": "2023-12-02T20:47:52.519010700Z"
    },
    "collapsed": false,
    "jupyter": {
     "outputs_hidden": false
    }
   },
   "outputs": [
    {
     "name": "stdout",
     "output_type": "stream",
     "text": [
      "  4.471 μs (11 allocations: 2.84 KiB)\n"
     ]
    },
    {
     "data": {
      "text/plain": [
       "5×5 Matrix{Float64}:\n",
       " -129.84    0.0      0.0      0.0       0.0\n",
       "    0.0   -56.0082   0.0      0.0       0.0\n",
       "    0.0     0.0     42.7507   0.0       0.0\n",
       "    0.0     0.0      0.0     87.1584    0.0\n",
       "    0.0     0.0      0.0      0.0     541.939"
      ]
     },
     "execution_count": 94,
     "metadata": {},
     "output_type": "execute_result"
    }
   ],
   "source": [
    "@btime diagm(eigvals(A))"
   ]
  },
  {
   "cell_type": "code",
   "execution_count": 95,
   "id": "e34cc0e4472d16d4",
   "metadata": {
    "ExecuteTime": {
     "end_time": "2023-12-02T20:48:06.742016300Z",
     "start_time": "2023-12-02T20:48:00.319013200Z"
    },
    "collapsed": false,
    "jupyter": {
     "outputs_hidden": false
    }
   },
   "outputs": [
    {
     "name": "stdout",
     "output_type": "stream",
     "text": [
      "  249.171 ns (3 allocations: 224 bytes)\n"
     ]
    },
    {
     "data": {
      "text/plain": [
       "5×5 Bidiagonal{Int64, Vector{Int64}}:\n",
       " 140    ⋅    ⋅    ⋅   ⋅\n",
       "  97  106    ⋅    ⋅   ⋅\n",
       "   ⋅   89  152    ⋅   ⋅\n",
       "   ⋅    ⋅  144   52   ⋅\n",
       "   ⋅    ⋅    ⋅  142  36"
      ]
     },
     "execution_count": 95,
     "metadata": {},
     "output_type": "execute_result"
    }
   ],
   "source": [
    "@btime blA = Bidiagonal(A, :L)"
   ]
  },
  {
   "cell_type": "markdown",
   "id": "d0321d0d-e8f8-46a1-a2d1-3767251eea1e",
   "metadata": {},
   "source": []
  },
  {
   "cell_type": "code",
   "execution_count": null,
   "id": "f13093c1-c825-401e-a172-53c9aba238c9",
   "metadata": {},
   "outputs": [],
   "source": []
  },
  {
   "cell_type": "code",
   "execution_count": null,
   "id": "604e3383-6d00-400e-9f65-ce77cac938b8",
   "metadata": {},
   "outputs": [],
   "source": []
  }
 ],
 "metadata": {
  "kernelspec": {
   "display_name": "Julia 1.9.3",
   "language": "julia",
   "name": "julia-1.9"
  },
  "language_info": {
   "file_extension": ".jl",
   "mimetype": "application/julia",
   "name": "julia",
   "version": "1.9.3"
  }
 },
 "nbformat": 4,
 "nbformat_minor": 5
}
