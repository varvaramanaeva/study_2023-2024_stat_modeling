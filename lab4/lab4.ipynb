{
 "cells": [
  {
   "cell_type": "markdown",
   "id": "0614ab6a-9a53-4eab-a2ef-a4399cbee45e",
   "metadata": {},
   "source": [
    "# Повторение примеров"
   ]
  },
  {
   "cell_type": "code",
   "execution_count": 1,
   "id": "ec9fd5db-2c26-4819-b6db-978e57ef96eb",
   "metadata": {
    "ExecuteTime": {
     "end_time": "2023-11-16T19:00:48.272894800Z",
     "start_time": "2023-11-16T19:00:47.186610500Z"
    }
   },
   "outputs": [],
   "source": []
  },
  {
   "cell_type": "markdown",
   "id": "86f0e469-61a5-431f-8644-c87b2de4a131",
   "metadata": {},
   "source": [
    "# Самостоятельная работа"
   ]
  },
  {
   "cell_type": "code",
   "execution_count": 2,
   "id": "532e66c0-b135-4fde-80dc-b09c128fc9d1",
   "metadata": {
    "ExecuteTime": {
     "end_time": "2023-11-16T19:00:48.272894800Z",
     "start_time": "2023-11-16T19:00:48.263229700Z"
    }
   },
   "outputs": [],
   "source": []
  }
 ],
 "metadata": {
  "kernelspec": {
   "display_name": "Julia 1.9.3",
   "language": "julia",
   "name": "julia-1.9"
  },
  "language_info": {
   "file_extension": ".jl",
   "mimetype": "application/julia",
   "name": "julia",
   "version": "1.9.3"
  }
 },
 "nbformat": 4,
 "nbformat_minor": 5
}
