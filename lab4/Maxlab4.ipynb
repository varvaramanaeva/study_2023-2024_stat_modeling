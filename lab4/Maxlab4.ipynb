{
 "cells": [
  {
   "cell_type": "code",
   "execution_count": 1,
   "id": "54624533-6504-481a-b3cc-29335b4f9aba",
   "metadata": {
    "ExecuteTime": {
     "end_time": "2023-12-02T19:53:16.032125200Z",
     "start_time": "2023-12-02T19:53:13.908788300Z"
    }
   },
   "outputs": [
    {
     "name": "stdout",
     "output_type": "stream",
     "text": [
      "[1, 2, 3, 4, 5]"
     ]
    },
    {
     "data": {
      "text/plain": "55"
     },
     "execution_count": 1,
     "metadata": {},
     "output_type": "execute_result"
    }
   ],
   "source": [
    "using LinearAlgebra\n",
    "# 1.1\n",
    "v = Vector(1:5); show(v)\n",
    "dot_v = dot(v, v) # Скалярное произведение"
   ]
  },
  {
   "cell_type": "code",
   "execution_count": 2,
   "id": "cf0a056b-fd19-4b8f-9697-8fb201c5740d",
   "metadata": {
    "ExecuteTime": {
     "end_time": "2023-12-02T19:53:18.140127700Z",
     "start_time": "2023-12-02T19:53:16.033126200Z"
    }
   },
   "outputs": [
    {
     "data": {
      "text/plain": "5×5 Matrix{Int64}:\n 1   2   3   4   5\n 2   4   6   8  10\n 3   6   9  12  15\n 4   8  12  16  20\n 5  10  15  20  25"
     },
     "execution_count": 2,
     "metadata": {},
     "output_type": "execute_result"
    }
   ],
   "source": [
    "# 1.2\n",
    "outer_v = kron(v, v) # Внешнее произведение\n",
    "reshape(outer_v, (5, 5))"
   ]
  },
  {
   "cell_type": "code",
   "execution_count": 3,
   "id": "8b4e252d-a3fc-4ec9-bb0c-842bcee91a94",
   "metadata": {
    "ExecuteTime": {
     "end_time": "2023-12-02T19:53:20.878124700Z",
     "start_time": "2023-12-02T19:53:18.142128100Z"
    }
   },
   "outputs": [
    {
     "data": {
      "text/plain": "2-element Vector{Float64}:\n  1.5\n -0.5"
     },
     "metadata": {},
     "output_type": "display_data"
    }
   ],
   "source": [
    "function SLOUGH_solving(A, B) # Решение СЛАУ\n",
    "    try A \\ B\n",
    "    catch e\n",
    "        return \"Нет решения или их бесконечное число.\"\n",
    "    else\n",
    "        return A \\ B\n",
    "    end\n",
    "end\n",
    "# 2.1a\n",
    "m, v = Matrix{Float64}([1 1; 1 -1]), Vector{Float64}([1, 2])\n",
    "display(SLOUGH_solving(m, v))\n",
    "#=\n",
    "using LinearSolve\n",
    "prob = LinearProblem(m, v)\n",
    "sol = solve(prob)\n",
    "sol.u\n",
    "=#"
   ]
  },
  {
   "cell_type": "code",
   "execution_count": 4,
   "id": "5000610d-12bd-46cc-b8b2-98db8ef2bc48",
   "metadata": {
    "ExecuteTime": {
     "end_time": "2023-12-02T19:53:21.621123500Z",
     "start_time": "2023-12-02T19:53:20.868125600Z"
    }
   },
   "outputs": [
    {
     "data": {
      "text/plain": "\"Нет решения или их бесконечное число.\""
     },
     "metadata": {},
     "output_type": "display_data"
    }
   ],
   "source": [
    "# 2.1b\n",
    "m, v = Matrix{Float64}([1 1; 2 2]), Vector{Float64}([2, 4])\n",
    "display(SLOUGH_solving(m, v)) # Бесконечно много"
   ]
  },
  {
   "cell_type": "code",
   "execution_count": 5,
   "id": "6e7047cd-0368-4e08-a851-7b73a8555841",
   "metadata": {
    "ExecuteTime": {
     "end_time": "2023-12-02T19:53:21.649127400Z",
     "start_time": "2023-12-02T19:53:21.624124200Z"
    }
   },
   "outputs": [
    {
     "data": {
      "text/plain": "\"Нет решения или их бесконечное число.\""
     },
     "metadata": {},
     "output_type": "display_data"
    }
   ],
   "source": [
    "# 2.1c\n",
    "m, v = Matrix{Float64}([1 1; 2 2]), Vector{Float64}([2, 5])\n",
    "display(SLOUGH_solving(m, v)) # Нет решения"
   ]
  },
  {
   "cell_type": "code",
   "execution_count": 6,
   "id": "eef4924b-dd34-46f8-ac76-c809b819e0d4",
   "metadata": {
    "ExecuteTime": {
     "end_time": "2023-12-02T19:53:21.714123600Z",
     "start_time": "2023-12-02T19:53:21.630124200Z"
    }
   },
   "outputs": [
    {
     "data": {
      "text/plain": "2-element Vector{Float64}:\n 0.4999999999999999\n 0.5"
     },
     "metadata": {},
     "output_type": "display_data"
    }
   ],
   "source": [
    "# 2.1d\n",
    "m, v = Matrix{Float64}([1 1; 2 2; 3 3]), Vector{Float64}([1, 2, 3])\n",
    "display(SLOUGH_solving(m, v))"
   ]
  },
  {
   "cell_type": "code",
   "execution_count": 7,
   "id": "901c20f5-ac05-4654-9db7-6ce03854b158",
   "metadata": {
    "ExecuteTime": {
     "end_time": "2023-12-02T19:53:21.715123800Z",
     "start_time": "2023-12-02T19:53:21.665123600Z"
    }
   },
   "outputs": [
    {
     "data": {
      "text/plain": "2-element Vector{Float64}:\n  1.5000000000000002\n -0.9999999999999999"
     },
     "metadata": {},
     "output_type": "display_data"
    }
   ],
   "source": [
    "# 2.1e\n",
    "m, v = Matrix{Float64}([1 1; 2 1; 1 -1]), Vector{Float64}([2, 1, 3])\n",
    "display(SLOUGH_solving(m, v))"
   ]
  },
  {
   "cell_type": "code",
   "execution_count": 8,
   "id": "d4a66042-4273-4c83-952c-78275874c811",
   "metadata": {
    "ExecuteTime": {
     "end_time": "2023-12-02T19:53:21.715123800Z",
     "start_time": "2023-12-02T19:53:21.673124900Z"
    }
   },
   "outputs": [
    {
     "data": {
      "text/plain": "2-element Vector{Float64}:\n -0.9999999999999989\n  2.9999999999999982"
     },
     "metadata": {},
     "output_type": "display_data"
    }
   ],
   "source": [
    "# 2.1f\n",
    "m, v = Matrix{Float64}([1 1; 2 1; 3 2]), Vector{Float64}([2, 1, 3])\n",
    "display(SLOUGH_solving(m, v))"
   ]
  },
  {
   "cell_type": "code",
   "execution_count": 9,
   "id": "3fe9b508-6e96-4b33-8bca-d72b9942d0a6",
   "metadata": {
    "ExecuteTime": {
     "end_time": "2023-12-02T19:53:21.715123800Z",
     "start_time": "2023-12-02T19:53:21.677124600Z"
    }
   },
   "outputs": [
    {
     "data": {
      "text/plain": "3-element Vector{Float64}:\n  3.5\n -3.5\n  2.0"
     },
     "metadata": {},
     "output_type": "display_data"
    }
   ],
   "source": [
    "# 2.2a\n",
    "m, v = Matrix{Float64}([1 1 1; 1 -1 -2; 0 0 1]), Vector{Float64}([2, 3, 2])\n",
    "display(SLOUGH_solving(m, v))"
   ]
  },
  {
   "cell_type": "code",
   "execution_count": 10,
   "outputs": [
    {
     "data": {
      "text/plain": "3-element Vector{Float64}:\n -0.5\n  2.5\n -0.0"
     },
     "metadata": {},
     "output_type": "display_data"
    }
   ],
   "source": [
    "# 2.2b\n",
    "m, v = Matrix{Float64}([1 1 1; 2 2 3; 3 1 1]), Vector{Float64}([2, 4, 1])\n",
    "display(SLOUGH_solving(m, v))"
   ],
   "metadata": {
    "collapsed": false,
    "ExecuteTime": {
     "end_time": "2023-12-02T19:53:21.715123800Z",
     "start_time": "2023-12-02T19:53:21.681123200Z"
    }
   },
   "id": "0ba7406d-9713-4493-a0f1-3e38f56d2180"
  },
  {
   "cell_type": "code",
   "execution_count": 11,
   "outputs": [
    {
     "data": {
      "text/plain": "\"Нет решения или их бесконечное число.\""
     },
     "metadata": {},
     "output_type": "display_data"
    }
   ],
   "source": [
    "# 2.2c\n",
    "m, v = Matrix{Float64}([1 1 1; 1 1 2; 2 2 3]), Vector{Float64}([1, 0, 1])\n",
    "display(SLOUGH_solving(m, v))"
   ],
   "metadata": {
    "collapsed": false,
    "ExecuteTime": {
     "end_time": "2023-12-02T19:53:21.716123500Z",
     "start_time": "2023-12-02T19:53:21.685126300Z"
    }
   },
   "id": "c065e97b-535a-4593-b790-fa622f903cca"
  },
  {
   "cell_type": "code",
   "execution_count": 12,
   "outputs": [
    {
     "data": {
      "text/plain": "\"Нет решения или их бесконечное число.\""
     },
     "metadata": {},
     "output_type": "display_data"
    }
   ],
   "source": [
    "# 2.2d\n",
    "m, v = Matrix{Float64}([1 1 1; 1 1 2; 2 2 3]), Vector{Float64}([1, 0, 0])\n",
    "display(SLOUGH_solving(m, v))"
   ],
   "metadata": {
    "collapsed": false,
    "ExecuteTime": {
     "end_time": "2023-12-02T19:53:21.717123400Z",
     "start_time": "2023-12-02T19:53:21.688122800Z"
    }
   },
   "id": "f7fd1cd8-fb53-4948-b4b3-ef790a2b9a2b"
  },
  {
   "cell_type": "code",
   "execution_count": 13,
   "outputs": [
    {
     "name": "stdout",
     "output_type": "stream",
     "text": [
      "-2.0 = -2.0 / 1.0\n"
     ]
    },
    {
     "data": {
      "text/plain": "2-element Vector{Vector{Any}}:\n [-3.0, 0.0]\n [0.0, -3.0]"
     },
     "execution_count": 13,
     "metadata": {},
     "output_type": "execute_result"
    }
   ],
   "source": [
    "function todiagonal(M)\n",
    "    s = size(M)[1]\n",
    "    ordDown = vcat([[if i == s; [i, j-1] else [i, j] end for j in i+1:s] for i in 1:s]...)\n",
    "    ordUP = vcat([[if i == s; [j-1, i] else [j, i] end for j in i+1:s] for i in s:-1:1]...)\n",
    "    res = [[] for _ in 1:s]\n",
    "    for y in ordDown\n",
    "        if M[y[2], y[1]] != 0\n",
    "            coef = M[y[2], y[1]] / M[y[1], y[1]]\n",
    "            res[y[2]] = [M[y[2], i] - M[y[1], i] * coef for i in 1:s]\n",
    "        end\n",
    "    end\n",
    "    for y in ordUP\n",
    "        if M[y[2], y[1]] != 0\n",
    "            coef = M[y[2], y[1]] / M[y[1], y[1]]\n",
    "            println(coef, \" = \", M[y[2], y[1]], \" / \", M[y[1], y[1]])\n",
    "            res[y[2]] = [M[y[2], i] - M[y[1], i] * coef for i in 1:s]\n",
    "        end\n",
    "    end\n",
    "    return res\n",
    "end\n",
    "\n",
    "# 3.1a\n",
    "matr = Matrix{Float64}([1 -2; -2 1])\n",
    "todiagonal(matr)"
   ],
   "metadata": {
    "collapsed": false,
    "ExecuteTime": {
     "end_time": "2023-12-02T19:53:23.156521200Z",
     "start_time": "2023-12-02T19:53:21.692130100Z"
    }
   },
   "id": "08f40cb0-d175-4b4c-9da9-3ecf145ec6ca"
  },
  {
   "cell_type": "code",
   "execution_count": 14,
   "id": "42d02ea0-fbc9-4cc8-8340-3478196b7d57",
   "metadata": {
    "ExecuteTime": {
     "end_time": "2023-12-02T19:53:23.157520100Z",
     "start_time": "2023-12-02T19:53:23.153518700Z"
    }
   },
   "outputs": [
    {
     "name": "stdout",
     "output_type": "stream",
     "text": [
      "-0.6666666666666666 = -2.0 / 3.0\n"
     ]
    },
    {
     "data": {
      "text/plain": "2-element Vector{Vector{Any}}:\n [-0.33333333333333326, 0.0]\n [0.0, -1.0]"
     },
     "execution_count": 14,
     "metadata": {},
     "output_type": "execute_result"
    }
   ],
   "source": [
    "# 3.1b\n",
    "matr = Matrix{Float64}([1 -2; -2 3])\n",
    "todiagonal(matr)"
   ]
  },
  {
   "cell_type": "code",
   "execution_count": 15,
   "id": "e9655329-bc0a-49e6-971b-cc56c4ea66be",
   "metadata": {
    "ExecuteTime": {
     "end_time": "2023-12-02T19:53:23.223515400Z",
     "start_time": "2023-12-02T19:53:23.158519200Z"
    }
   },
   "outputs": [
    {
     "name": "stdout",
     "output_type": "stream",
     "text": [
      "Inf = 2.0 / 0.0\n",
      "-2.0 = -2.0 / 1.0\n"
     ]
    },
    {
     "data": {
      "text/plain": "3-element Vector{Vector{Any}}:\n [-3.0, 0.0, 4.0]\n [NaN, -Inf, NaN]\n [4.0, 0.0, -4.0]"
     },
     "execution_count": 15,
     "metadata": {},
     "output_type": "execute_result"
    }
   ],
   "source": [
    "# 3.1c\n",
    "matr = Matrix{Float64}([1 -2 0; -2 1 2; 0 2 0])\n",
    "todiagonal(matr)"
   ]
  },
  {
   "cell_type": "code",
   "execution_count": 16,
   "id": "e047008a-7e4b-4bde-a442-bc3968778cfb",
   "metadata": {
    "ExecuteTime": {
     "end_time": "2023-12-02T19:53:24.768518500Z",
     "start_time": "2023-12-02T19:53:23.190515700Z"
    }
   },
   "outputs": [
    {
     "data": {
      "text/plain": "2×2 Matrix{Float64}:\n  29525.0  -29524.0\n -29524.0   29525.0"
     },
     "execution_count": 16,
     "metadata": {},
     "output_type": "execute_result"
    }
   ],
   "source": [
    "# 3.2a\n",
    "Matrix{Float64}([1 -2; -2 1])^10"
   ]
  },
  {
   "cell_type": "code",
   "execution_count": 17,
   "id": "c9a26850-44e9-4cc3-b288-510b396b7ddc",
   "metadata": {
    "ExecuteTime": {
     "end_time": "2023-12-02T19:53:28.446909900Z",
     "start_time": "2023-12-02T19:53:24.767519Z"
    }
   },
   "outputs": [
    {
     "data": {
      "text/plain": "2×2 Matrix{Float64}:\n -0.707107  -0.707107\n -0.707107   0.707107"
     },
     "metadata": {},
     "output_type": "display_data"
    },
    {
     "data": {
      "text/plain": "2×2 Diagonal{Float64, Vector{Float64}}:\n 3.0   ⋅ \n  ⋅   7.0"
     },
     "metadata": {},
     "output_type": "display_data"
    },
    {
     "data": {
      "text/plain": "2×2 Matrix{ComplexF64}:\n 1.73205+0.0im      0.0+0.0im\n     0.0+0.0im  2.64575+0.0im"
     },
     "execution_count": 17,
     "metadata": {},
     "output_type": "execute_result"
    }
   ],
   "source": [
    "# 3.2b\n",
    "A = Matrix{Float64}([5 -2; -2 5])\n",
    "X = eigvecs(A); display(X)\n",
    "lamb = Diagonal(eigvals(A)); display(lamb)\n",
    "lambsqrt = [(l + 0*im)^(1/2) for l in lamb]\n",
    "Asqrt = X*X^(-1)*lambsqrt"
   ]
  },
  {
   "cell_type": "code",
   "execution_count": 18,
   "id": "25305b38-53c6-4126-b522-6cdbdca4a8f1",
   "metadata": {
    "ExecuteTime": {
     "end_time": "2023-12-02T19:53:28.517911800Z",
     "start_time": "2023-12-02T19:53:28.448910300Z"
    }
   },
   "outputs": [
    {
     "data": {
      "text/plain": "2×2 Matrix{Float64}:\n -0.707107  -0.707107\n -0.707107   0.707107"
     },
     "metadata": {},
     "output_type": "display_data"
    },
    {
     "data": {
      "text/plain": "2×2 Diagonal{Float64, Vector{Float64}}:\n -1.0   ⋅ \n   ⋅   3.0"
     },
     "metadata": {},
     "output_type": "display_data"
    },
    {
     "data": {
      "text/plain": "2×2 Matrix{ComplexF64}:\n 0.5+0.866025im      0.0+0.0im\n 0.0+0.0im       1.44225+0.0im"
     },
     "execution_count": 18,
     "metadata": {},
     "output_type": "execute_result"
    }
   ],
   "source": [
    "# 3.2a\n",
    "A = Matrix{Float64}([1 -2; -2 1])\n",
    "X = eigvecs(A); display(X)\n",
    "lamb = Diagonal(eigvals(A)); display(lamb)\n",
    "lambsqrt = [(l + 0*im)^(1/3) for l in lamb]\n",
    "Asqrt = X*X^(-1)*lambsqrt"
   ]
  },
  {
   "cell_type": "code",
   "execution_count": 19,
   "id": "a3549d07-b11b-434c-8be5-ec9211dca630",
   "metadata": {
    "ExecuteTime": {
     "end_time": "2023-12-02T19:53:28.597917300Z",
     "start_time": "2023-12-02T19:53:28.514910600Z"
    }
   },
   "outputs": [
    {
     "data": {
      "text/plain": "2×2 Matrix{Float64}:\n -0.850651  0.525731\n  0.525731  0.850651"
     },
     "metadata": {},
     "output_type": "display_data"
    },
    {
     "data": {
      "text/plain": "2×2 Diagonal{Float64, Vector{Float64}}:\n -0.236068   ⋅ \n   ⋅        4.23607"
     },
     "metadata": {},
     "output_type": "display_data"
    },
    {
     "data": {
      "text/plain": "2×2 Matrix{ComplexF64}:\n 0.0+0.485868im     1.14251e-16+0.0im\n 0.0-2.69711e-17im      2.05817+0.0im"
     },
     "execution_count": 19,
     "metadata": {},
     "output_type": "execute_result"
    }
   ],
   "source": [
    "# 3.2d\n",
    "A = Matrix{Float64}([1 2; 2 3])\n",
    "X = eigvecs(A); display(X)\n",
    "lamb = Diagonal(eigvals(A)); display(lamb)\n",
    "lambsqrt = [(l + 0*im)^(1/2) for l in lamb]\n",
    "Asqrt = X*X^(-1)*lambsqrt"
   ]
  },
  {
   "cell_type": "code",
   "execution_count": 20,
   "id": "b107ec38-8182-4ecc-a699-7ccaad666526",
   "metadata": {
    "ExecuteTime": {
     "end_time": "2023-12-02T19:53:29.324915700Z",
     "start_time": "2023-12-02T19:53:28.579915700Z"
    }
   },
   "outputs": [
    {
     "name": "stdout",
     "output_type": "stream",
     "text": [
      "Первый вариант (полный):\n"
     ]
    },
    {
     "data": {
      "text/plain": "Eigen{Float64, Float64, Matrix{Float64}, Vector{Float64}}\nvalues:\n5-element Vector{Float64}:\n -129.8403784592704\n  -56.00818131207872\n   42.7506863874373\n   87.15844501190563\n  541.9394283720052\nvectors:\n5×5 Matrix{Float64}:\n  0.150344   0.646077   0.0107027   0.549067   -0.508322\n  0.255635  -0.174498   0.834574   -0.239745   -0.387568\n  0.186392   0.238588  -0.422234   -0.731826   -0.441003\n -0.821717  -0.243216  -0.0271033   0.0364277  -0.513387\n  0.44954   -0.660346  -0.35264     0.322725   -0.365172"
     },
     "metadata": {},
     "output_type": "display_data"
    },
    {
     "name": "stdout",
     "output_type": "stream",
     "text": [
      "\n",
      "Второй вариант (только значения):\n"
     ]
    },
    {
     "data": {
      "text/plain": "5-element Vector{Float64}:\n -129.84037845927043\n  -56.00818131207859\n   42.750686387437305\n   87.15844501190587\n  541.9394283720058"
     },
     "metadata": {},
     "output_type": "display_data"
    }
   ],
   "source": [
    "# 3.3\n",
    "A = [140 97 74 168 131; 97 106 89 131 36; 74 89 152 144 71; 168 131 144 52 142; 131 36 71 142 36]\n",
    "println(\"Первый вариант (полный):\"); display(eigen(A))\n",
    "println(\"\\nВторой вариант (только значения):\"); display(eigvals(A))"
   ]
  },
  {
   "cell_type": "code",
   "execution_count": 21,
   "id": "e2fa3e30-7d84-4353-b8f1-ec893ed1e32a",
   "metadata": {
    "ExecuteTime": {
     "end_time": "2023-12-02T19:53:30.990070400Z",
     "start_time": "2023-12-02T19:53:29.326911Z"
    }
   },
   "outputs": [
    {
     "data": {
      "text/plain": "5×5 Diagonal{Int64, Vector{Int64}}:\n 140    ⋅    ⋅   ⋅   ⋅\n   ⋅  106    ⋅   ⋅   ⋅\n   ⋅    ⋅  152   ⋅   ⋅\n   ⋅    ⋅    ⋅  52   ⋅\n   ⋅    ⋅    ⋅   ⋅  36"
     },
     "metadata": {},
     "output_type": "display_data"
    },
    {
     "data": {
      "text/plain": "5×5 Bidiagonal{Int64, Vector{Int64}}:\n 140   97    ⋅    ⋅    ⋅\n   ⋅  106   89    ⋅    ⋅\n   ⋅    ⋅  152  144    ⋅\n   ⋅    ⋅    ⋅   52  142\n   ⋅    ⋅    ⋅    ⋅   36"
     },
     "metadata": {},
     "output_type": "display_data"
    },
    {
     "data": {
      "text/plain": "5×5 Bidiagonal{Int64, Vector{Int64}}:\n 140    ⋅    ⋅    ⋅   ⋅\n  97  106    ⋅    ⋅   ⋅\n   ⋅   89  152    ⋅   ⋅\n   ⋅    ⋅  144   52   ⋅\n   ⋅    ⋅    ⋅  142  36"
     },
     "metadata": {},
     "output_type": "display_data"
    },
    {
     "data": {
      "text/plain": "5×5 Tridiagonal{Int64, Vector{Int64}}:\n 140   97    ⋅    ⋅    ⋅\n  97  106   89    ⋅    ⋅\n   ⋅   89  152  144    ⋅\n   ⋅    ⋅  144   52  142\n   ⋅    ⋅    ⋅  142   36"
     },
     "metadata": {},
     "output_type": "display_data"
    }
   ],
   "source": [
    "# 3.3+\n",
    "dA = Diagonal(A); buA = Bidiagonal(A, :U); blA = Bidiagonal(A, :L); tA = Tridiagonal(A)\n",
    "display(dA); display(buA); display(blA); display(tA)"
   ]
  },
  {
   "cell_type": "code",
   "execution_count": 22,
   "id": "aefa6e27-7c4f-406b-844f-8153d7a9ea9f",
   "metadata": {
    "ExecuteTime": {
     "end_time": "2023-12-02T19:53:31.319069100Z",
     "start_time": "2023-12-02T19:53:30.992069Z"
    }
   },
   "outputs": [
    {
     "data": {
      "text/plain": "2-element Vector{Float64}:\n  0.6666666666666667\n -1.0"
     },
     "metadata": {},
     "output_type": "display_data"
    },
    {
     "name": "stdout",
     "output_type": "stream",
     "text": [
      "Непродуктивной.\n"
     ]
    }
   ],
   "source": [
    "function economicModel(M, y)\n",
    "    #=\n",
    "    https://www.hse.ru/data/2014/09/04/1316345039/лекция%204.pdf\n",
    "    x - Ax = y => (1-A)*x = y => x = (1 - A)^-1 * y\n",
    "    =#\n",
    "    x = (Diagonal(fill(1, 2)) - M)^(-1) * y\n",
    "    return x\n",
    "end\n",
    "# 4.1a\n",
    "A = [1 2; 3 4]; Y = [2; 1]\n",
    "X = economicModel(A, Y); display(X)\n",
    "if mapreduce(z -> if z < 0 1 else 0 end, +, X) > 0 println(\"Непродуктивной.\") else println(\"Продуктивной.\") end"
   ]
  },
  {
   "cell_type": "code",
   "execution_count": 23,
   "id": "15cb0775-b52b-4c51-a299-d748ec7e03b4",
   "metadata": {
    "ExecuteTime": {
     "end_time": "2023-12-02T19:53:31.573069700Z",
     "start_time": "2023-12-02T19:53:31.321068700Z"
    }
   },
   "outputs": [
    {
     "data": {
      "text/plain": "2-element Vector{Float64}:\n  0.5\n -1.75"
     },
     "metadata": {},
     "output_type": "display_data"
    },
    {
     "name": "stdout",
     "output_type": "stream",
     "text": [
      "Непродуктивной.\n"
     ]
    }
   ],
   "source": [
    "# 4.1b\n",
    "A = [1 2; 3 4]*0.5; Y = [2; 1]\n",
    "X = economicModel(A, Y); display(X)\n",
    "if mapreduce(z -> if z < 0 1 else 0 end, +, X) > 0 println(\"Непродуктивной.\") else println(\"Продуктивной.\") end"
   ]
  },
  {
   "cell_type": "code",
   "execution_count": 24,
   "id": "65093f54-afa9-433c-8420-d6eea57d8f94",
   "metadata": {
    "ExecuteTime": {
     "end_time": "2023-12-02T19:53:31.636072300Z",
     "start_time": "2023-12-02T19:53:31.575070100Z"
    }
   },
   "outputs": [
    {
     "data": {
      "text/plain": "2-element Vector{Float64}:\n  4.583333333333334\n 10.625"
     },
     "metadata": {},
     "output_type": "display_data"
    },
    {
     "name": "stdout",
     "output_type": "stream",
     "text": [
      "Продуктивной.\n"
     ]
    }
   ],
   "source": [
    "# 4.1c\n",
    "; display(X)\n",
    "if mapreduce(z -> if z < 0 1 else 0 end, +, X) > 0 println(\"Непродуктивной.\") else println(\"Продуктивной.\") end"
   ]
  },
  {
   "cell_type": "code",
   "execution_count": 25,
   "id": "d713dcca-37f8-4610-ac4e-aacf6b6d87d8",
   "metadata": {
    "ExecuteTime": {
     "end_time": "2023-12-02T19:53:31.722068Z",
     "start_time": "2023-12-02T19:53:31.637072200Z"
    }
   },
   "outputs": [
    {
     "data": {
      "text/plain": "2×2 Matrix{Float64}:\n -0.0  -0.333333\n -0.5   0.0"
     },
     "metadata": {},
     "output_type": "display_data"
    },
    {
     "name": "stdout",
     "output_type": "stream",
     "text": [
      "Непродуктивной.\n"
     ]
    }
   ],
   "source": [
    "function OnesModel(M)\n",
    "    x = (Diagonal(fill(1, size(M, 1))) - M)^(-1)\n",
    "    return x\n",
    "end\n",
    "# 4.2a\n",
    "A = [1 2; 3 1]\n",
    "X = OnesModel(A); display(X)\n",
    "if mapreduce(z -> if z < 0 1 else 0 end, +, X) > 0 println(\"Непродуктивной.\") else println(\"Продуктивной.\") end"
   ]
  },
  {
   "cell_type": "code",
   "execution_count": 26,
   "id": "1d8a9474-bc04-478f-a674-be7e29973b84",
   "metadata": {
    "ExecuteTime": {
     "end_time": "2023-12-02T19:53:31.805070700Z",
     "start_time": "2023-12-02T19:53:31.724068400Z"
    }
   },
   "outputs": [
    {
     "data": {
      "text/plain": "2×2 Matrix{Float64}:\n -0.4  -0.8\n -1.2  -0.4"
     },
     "metadata": {},
     "output_type": "display_data"
    },
    {
     "name": "stdout",
     "output_type": "stream",
     "text": [
      "Непродуктивной.\n"
     ]
    }
   ],
   "source": [
    "# 4.2b\n",
    "A = [1 2; 3 1]*0.5\n",
    "X = OnesModel(A); display(X)\n",
    "if mapreduce(z -> if z < 0 1 else 0 end, +, X) > 0 println(\"Непродуктивной.\") else println(\"Продуктивной.\") end"
   ]
  },
  {
   "cell_type": "code",
   "execution_count": 27,
   "id": "9a01fde0-998b-4ec3-8a47-26498c793dd2",
   "metadata": {
    "ExecuteTime": {
     "end_time": "2023-12-02T19:53:31.867067700Z",
     "start_time": "2023-12-02T19:53:31.805070700Z"
    }
   },
   "outputs": [
    {
     "data": {
      "text/plain": "2×2 Matrix{Float64}:\n 1.2  0.266667\n 0.4  1.2"
     },
     "metadata": {},
     "output_type": "display_data"
    },
    {
     "name": "stdout",
     "output_type": "stream",
     "text": [
      "Продуктивной.\n"
     ]
    }
   ],
   "source": [
    "# 4.2c\n",
    "A = [1 2; 3 1]*0.1\n",
    "X = OnesModel(A); display(X)\n",
    "if mapreduce(z -> if z < 0 1 else 0 end, +, X) > 0 println(\"Непродуктивной.\") else println(\"Продуктивной.\") end"
   ]
  },
  {
   "cell_type": "code",
   "execution_count": 28,
   "id": "0f6964ba-c3e5-4113-a781-3b9d4120b94e",
   "metadata": {
    "ExecuteTime": {
     "end_time": "2023-12-02T19:53:32.219072500Z",
     "start_time": "2023-12-02T19:53:31.863071300Z"
    }
   },
   "outputs": [
    {
     "data": {
      "text/plain": "UnitarCheck (generic function with 1 method)"
     },
     "execution_count": 28,
     "metadata": {},
     "output_type": "execute_result"
    }
   ],
   "source": [
    "# НЕ ИСПОЛЬЗУЕТСЯ\n",
    "function UnitarCheck(M)\n",
    "    #=\n",
    "    Матрицы, у которых все собственные значения по модулю равны 1, называются унитарными матрицами.\n",
    "    Свойства:\n",
    "    Каждая унитарная матрица является квадратной матрицей.\n",
    "    Абсолютное значение определителя унитарной матрицы равно единице.\n",
    "    матрица A называется унитарной, если A^(-1)= A\n",
    "    Главное: если A^(-1) = A*, при A* - сопряженное транспонирование A, то A - унитарная.\n",
    "    =#\n",
    "    x = 0\n",
    "    try if conj(transpose(M)) == M^(-1) x += 1 end\n",
    "    catch e\n",
    "        return \"Непродуктивной. $(-1)\"\n",
    "    end\n",
    "    if size(M, 1) == size(M, 2) x += 1 end\n",
    "    if abs(det(M)) == 1 x += 1 end\n",
    "    \n",
    "    if x == 3 return \"Продуктивной. $(x)\" else \"Непродуктивной. $(x)\" end\n",
    "end"
   ]
  },
  {
   "cell_type": "code",
   "execution_count": 29,
   "id": "71dce5cf-c491-4c03-96be-71853860b53c",
   "metadata": {
    "ExecuteTime": {
     "end_time": "2023-12-02T19:53:32.303070300Z",
     "start_time": "2023-12-02T19:53:32.220072400Z"
    }
   },
   "outputs": [
    {
     "data": {
      "text/plain": "2-element Vector{Float64}:\n -1.4494897427831779\n  3.4494897427831783"
     },
     "metadata": {},
     "output_type": "display_data"
    },
    {
     "data": {
      "text/plain": "\"Непродуктивной.\""
     },
     "execution_count": 29,
     "metadata": {},
     "output_type": "execute_result"
    }
   ],
   "source": [
    "eigenvalues(M) = eigen(M).values\n",
    "# 4.3a\n",
    "A = [1 2; 3 1]\n",
    "X = eigenvalues(A); display(X)\n",
    "if mapreduce(z -> if abs(z) < 1 1 else 0 end, +, X) > 0 return \"Продуктивной.\" else \"Непродуктивной.\" end"
   ]
  },
  {
   "cell_type": "code",
   "execution_count": 30,
   "id": "27f85245-f585-4f99-8dff-a69ee8da906c",
   "metadata": {
    "ExecuteTime": {
     "end_time": "2023-12-02T19:53:32.365071600Z",
     "start_time": "2023-12-02T19:53:32.302071100Z"
    }
   },
   "outputs": [
    {
     "data": {
      "text/plain": "2-element Vector{Float64}:\n -0.7247448713915892\n  1.724744871391589"
     },
     "metadata": {},
     "output_type": "display_data"
    },
    {
     "data": {
      "text/plain": "\"Продуктивной.\""
     },
     "execution_count": 30,
     "metadata": {},
     "output_type": "execute_result"
    }
   ],
   "source": [
    "# 4.3b\n",
    "A = [1 2; 3 1]*0.5\n",
    "X = eigenvalues(A); display(X)\n",
    "if mapreduce(z -> if abs(z) < 1 1 else 0 end, +, X) > 0 return \"Продуктивной.\" else \"Непродуктивной.\" end"
   ]
  },
  {
   "cell_type": "code",
   "execution_count": 31,
   "id": "eec0882e-95c1-4ad5-92f0-9afd3a0eb85f",
   "metadata": {
    "ExecuteTime": {
     "end_time": "2023-12-02T19:53:32.430071200Z",
     "start_time": "2023-12-02T19:53:32.366071300Z"
    }
   },
   "outputs": [
    {
     "data": {
      "text/plain": "2-element Vector{Float64}:\n -0.14494897427831785\n  0.34494897427831783"
     },
     "metadata": {},
     "output_type": "display_data"
    },
    {
     "data": {
      "text/plain": "\"Продуктивной.\""
     },
     "execution_count": 31,
     "metadata": {},
     "output_type": "execute_result"
    }
   ],
   "source": [
    "# 4.3c\n",
    "A = [1 2; 3 1]*0.1\n",
    "X = eigenvalues(A); display(X)\n",
    "if mapreduce(z -> if abs(z) < 1 1 else 0 end, +, X) > 0 return \"Продуктивной.\" else \"Непродуктивной.\" end"
   ]
  },
  {
   "cell_type": "code",
   "execution_count": 32,
   "id": "0f6919c7-f105-4a57-9169-e6b3d2b77c09",
   "metadata": {
    "ExecuteTime": {
     "end_time": "2023-12-02T19:53:32.519073600Z",
     "start_time": "2023-12-02T19:53:32.422070900Z"
    }
   },
   "outputs": [
    {
     "data": {
      "text/plain": "3-element Vector{Float64}:\n 0.0\n 0.1\n 0.4"
     },
     "metadata": {},
     "output_type": "display_data"
    },
    {
     "data": {
      "text/plain": "\"Продуктивной.\""
     },
     "execution_count": 32,
     "metadata": {},
     "output_type": "execute_result"
    }
   ],
   "source": [
    "# 4.3d\n",
    "A = [0.1 0.2 0.3; 0.0 0.1 0.3; 0.0 0.1 0.3]\n",
    "X = eigenvalues(A); display(X)\n",
    "if mapreduce(z -> if abs(z) < 1 1 else 0 end, +, X) > 0 return \"Продуктивной.\" else \"Непродуктивной.\" end"
   ]
  },
  {
   "cell_type": "code",
   "execution_count": 33,
   "id": "9a723a57-4925-4eec-9843-776bbf838e67",
   "metadata": {
    "ExecuteTime": {
     "end_time": "2023-12-02T19:53:32.519073600Z",
     "start_time": "2023-12-02T19:53:32.507071100Z"
    }
   },
   "outputs": [],
   "source": []
  }
 ],
 "metadata": {
  "kernelspec": {
   "display_name": "Julia 1.9.3",
   "language": "julia",
   "name": "julia-1.9"
  },
  "language_info": {
   "file_extension": ".jl",
   "mimetype": "application/julia",
   "name": "julia",
   "version": "1.9.3"
  }
 },
 "nbformat": 4,
 "nbformat_minor": 5
}
