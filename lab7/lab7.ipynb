{
 "cells": [
  {
   "cell_type": "markdown",
   "id": "0614ab6a-9a53-4eab-a2ef-a4399cbee45e",
   "metadata": {},
   "source": [
    "# Повторение примеров"
   ]
  },
  {
   "cell_type": "markdown",
   "source": [
    "## Julia для науки о данных"
   ],
   "metadata": {
    "collapsed": false
   },
   "id": "a9c6fa8496eae6ba"
  },
  {
   "cell_type": "markdown",
   "source": [
    "### Считывание данных"
   ],
   "metadata": {
    "collapsed": false
   },
   "id": "5c3b1536d76dc049"
  },
  {
   "cell_type": "code",
   "execution_count": 1,
   "id": "ec9fd5db-2c26-4819-b6db-978e57ef96eb",
   "metadata": {
    "ExecuteTime": {
     "end_time": "2023-11-16T19:00:48.272894800Z",
     "start_time": "2023-11-16T19:00:47.186610500Z"
    }
   },
   "outputs": [],
   "source": [
    "using CSV, DataFrames, DelimitedFiles\n",
    "\n",
    "# Считывание данных и их запись в структуру:\n",
    "P = CSV.File(\"programminglanguages.csv\") |> DataFrame\n",
    "# Функция определения по названию языка программирования года его создания:\n",
    "function language_created_year(P,language::String)\n",
    "    loc = findfirst(P[:,2].==language)\n",
    "    return P[loc,1]\n",
    "end\n",
    "# Пример вызова функции и определение даты создания языка Python:\n",
    "language_created_year(P,\"Python\")\n",
    "# Пример вызова функции и определение даты создания языка Julia:\n",
    "language_created_year(P,\"Julia\")"
   ]
  },
  {
   "cell_type": "code",
   "execution_count": null,
   "outputs": [],
   "source": [
    "language_created_year(P,\"julia\")"
   ],
   "metadata": {
    "collapsed": false
   },
   "id": "e3b2ec63a6cb1622"
  },
  {
   "cell_type": "code",
   "execution_count": null,
   "outputs": [],
   "source": [
    "# Функция определения по названию языка программирования года его создания (без учёта регистра):\n",
    "function language_created_year_v2(P,language::String)\n",
    "loc = findfirst(lowercase.(P[:,2]).==lowercase.(language))\n",
    "return P[loc,1]\n",
    "end\n",
    "# Пример вызова функции и определение даты создания языка julia:\n",
    "language_created_year_v2(P,\"julia\")"
   ],
   "metadata": {
    "collapsed": false
   },
   "id": "2e601a9284ffd25"
  },
  {
   "cell_type": "code",
   "execution_count": null,
   "outputs": [],
   "source": [
    "# Построчное считывание данных с указанием разделителя:\n",
    "Tx = readdlm(\"programminglanguages.csv\", ',')"
   ],
   "metadata": {
    "collapsed": false
   },
   "id": "6206a6c218a50762"
  },
  {
   "cell_type": "markdown",
   "source": [
    "### Запись данных в файл"
   ],
   "metadata": {
    "collapsed": false
   },
   "id": "c28e6ef4b99d123b"
  },
  {
   "cell_type": "code",
   "execution_count": null,
   "outputs": [],
   "source": [
    "# Запись данных в CSV-файл:\n",
    "CSV.write(\"programming_languages_data2.csv\", P)"
   ],
   "metadata": {
    "collapsed": false
   },
   "id": "9657aaed69655705"
  },
  {
   "cell_type": "code",
   "execution_count": null,
   "outputs": [],
   "source": [
    "# Пример записи данных в текстовый файл с разделителем ',':\n",
    "writedlm(\"programming_languages_data.txt\", Tx, ',')"
   ],
   "metadata": {
    "collapsed": false
   },
   "id": "77bafda200781c1f"
  },
  {
   "cell_type": "code",
   "execution_count": null,
   "outputs": [],
   "source": [
    "# Пример записи данных в текстовый файл с разделителем '-':\n",
    "writedlm(\"programming_languages_data2.txt\", Tx, '-')"
   ],
   "metadata": {
    "collapsed": false
   },
   "id": "1581bb961889ff51"
  },
  {
   "cell_type": "code",
   "execution_count": null,
   "outputs": [],
   "source": [
    "# Построчное считывание данных с указанием разделителя:\n",
    "P_new_delim = readdlm(\"programming_languages_data2.txt\", '-')"
   ],
   "metadata": {
    "collapsed": false
   },
   "id": "ad27aeb0df8a8cb4"
  },
  {
   "cell_type": "markdown",
   "source": [
    "### Словари"
   ],
   "metadata": {
    "collapsed": false
   },
   "id": "ec48e09ad22b5fa0"
  },
  {
   "cell_type": "code",
   "execution_count": null,
   "outputs": [],
   "source": [
    "# Инициализация словаря:\n",
    "dict = Dict{Integer,Vector{String}}()"
   ],
   "metadata": {
    "collapsed": false
   },
   "id": "6a60b702eabe0cce"
  },
  {
   "cell_type": "code",
   "execution_count": null,
   "outputs": [],
   "source": [
    "# Инициализация словаря:\n",
    "dict2 = Dict()"
   ],
   "metadata": {
    "collapsed": false
   },
   "id": "c77972af043cec5e"
  },
  {
   "cell_type": "code",
   "execution_count": null,
   "outputs": [],
   "source": [
    "# Заполнение словаря данными:\n",
    "for i = 1:size(P,1)\n",
    "    year,lang = P[i,:]\n",
    "    if year in keys(dict)\n",
    "        dict[year] = push!(dict[year],lang)\n",
    "    else\n",
    "        dict[year] = [lang]\n",
    "    end\n",
    "end\n",
    "dict"
   ],
   "metadata": {
    "collapsed": false
   },
   "id": "2b865d17272d0390"
  },
  {
   "cell_type": "code",
   "execution_count": null,
   "outputs": [],
   "source": [
    "# Пример определения в словаре языков программирования, созданных в 2003 году:\n",
    "dict[2003]"
   ],
   "metadata": {
    "collapsed": false
   },
   "id": "7e1e07465b368c0c"
  },
  {
   "cell_type": "markdown",
   "source": [
    "### DataFrames"
   ],
   "metadata": {
    "collapsed": false
   },
   "id": "ae2f7aacc848119e"
  },
  {
   "cell_type": "code",
   "execution_count": null,
   "outputs": [],
   "source": [
    "# Задаём переменную со структурой DataFrame:\n",
    "df = DataFrame(year = P[:,1], language = P[:,2])\n",
    "# Вывод всех значения столбца year:\n",
    "df[!,:year]"
   ],
   "metadata": {
    "collapsed": false
   },
   "id": "d35ca9feaa9bffb2"
  },
  {
   "cell_type": "code",
   "execution_count": null,
   "outputs": [],
   "source": [
    "# Получение статистических сведений о фрейме:\n",
    "describe(df)"
   ],
   "metadata": {
    "collapsed": false
   },
   "id": "24828615e4296e3d"
  },
  {
   "cell_type": "markdown",
   "source": [
    "### RDatasets"
   ],
   "metadata": {
    "collapsed": false
   },
   "id": "779537909822dcf3"
  },
  {
   "cell_type": "code",
   "execution_count": null,
   "outputs": [],
   "source": [
    "# Подгружаем пакет RDatasets:\n",
    "using RDatasets\n",
    "# Задаём структуру данных в виде набора данных:\n",
    "iris = dataset(\"datasets\", \"iris\")"
   ],
   "metadata": {
    "collapsed": false
   },
   "id": "6d89771971ce6fbd"
  },
  {
   "cell_type": "code",
   "execution_count": null,
   "outputs": [],
   "source": [
    "# Определения типа переменной:\n",
    "typeof(iris)"
   ],
   "metadata": {
    "collapsed": false
   },
   "id": "45cd1fb94a29876"
  },
  {
   "cell_type": "code",
   "execution_count": null,
   "outputs": [],
   "source": [
    "describe(iris)"
   ],
   "metadata": {
    "collapsed": false
   },
   "id": "8fe99efe58a05548"
  },
  {
   "cell_type": "markdown",
   "source": [
    "### Работа с переменными отсутствующего типа (Missing Values)"
   ],
   "metadata": {
    "collapsed": false
   },
   "id": "d41cb94fb98cc50a"
  },
  {
   "cell_type": "code",
   "execution_count": null,
   "outputs": [],
   "source": [
    "# Отсутствующий тип:\n",
    "a = missing\n",
    "typeof(a)"
   ],
   "metadata": {
    "collapsed": false
   },
   "id": "ec135ca92d72fe33"
  },
  {
   "cell_type": "code",
   "execution_count": null,
   "outputs": [],
   "source": [
    "# Пример операции с переменной отсутствующего типа:\n",
    "a + 1"
   ],
   "metadata": {
    "collapsed": false
   },
   "id": "c00d46e6b3ebc54e"
  },
  {
   "cell_type": "code",
   "execution_count": null,
   "outputs": [],
   "source": [
    "# Определение перечня продуктов:\n",
    "foods = [\"apple\", \"cucumber\", \"tomato\", \"banana\"]\n",
    "# Определение калорий:\n",
    "calories = [missing,47,22,105]"
   ],
   "metadata": {
    "collapsed": false
   },
   "id": "f3b45a02c8b54840"
  },
  {
   "cell_type": "code",
   "execution_count": null,
   "outputs": [],
   "source": [
    "# Определение типа переменной:\n",
    "typeof(calories)"
   ],
   "metadata": {
    "collapsed": false
   },
   "id": "4adafb6c996f8347"
  },
  {
   "cell_type": "code",
   "execution_count": null,
   "outputs": [],
   "source": [
    "# Подключаем пакет Statistics:\n",
    "using Statistics\n",
    "# Определение среднего значения:\n",
    "mean(calories)"
   ],
   "metadata": {
    "collapsed": false
   },
   "id": "e5cbdbf5cd5815ab"
  },
  {
   "cell_type": "code",
   "execution_count": null,
   "outputs": [],
   "source": [
    "# Определение среднего значения без значений с отсутствующим типом:\n",
    "mean(skipmissing(calories))"
   ],
   "metadata": {
    "collapsed": false
   },
   "id": "b99d01b25d566465"
  },
  {
   "cell_type": "code",
   "execution_count": null,
   "outputs": [],
   "source": [
    "# Задание сведений о ценах:\n",
    "prices = [0.85,1.6,0.8,0.6]\n",
    "# Формирование данных о калориях:\n",
    "dataframe_calories = DataFrame(item=foods,calories=calories)\n",
    "# Формирование данных о ценах:\n",
    "dataframe_prices = DataFrame(item=foods,price=prices)\n",
    "# Объединение данных о калориях и ценах:\n",
    "DF = join(dataframe_calories,dataframe_prices,on=:item)"
   ],
   "metadata": {
    "collapsed": false
   },
   "id": "7d7313e5a559cc86"
  },
  {
   "cell_type": "markdown",
   "source": [
    "### FileIO"
   ],
   "metadata": {
    "collapsed": false
   },
   "id": "b18f0a0c9882f8b5"
  },
  {
   "cell_type": "code",
   "execution_count": null,
   "outputs": [],
   "source": [
    "# Подключаем пакет FileIO:\n",
    "using FileIO\n",
    "using ImageIO\n",
    "# Загрузка изображения:\n",
    "X1 = load(\"julialogo.png\")"
   ],
   "metadata": {
    "collapsed": false
   },
   "id": "ee0fc1748f99510e"
  },
  {
   "cell_type": "code",
   "execution_count": null,
   "outputs": [],
   "source": [
    "# Определение типа и размера данных:\n",
    "@show typeof(X1);\n",
    "@show size(X1);"
   ],
   "metadata": {
    "collapsed": false
   },
   "id": "c9ec6da77e5b2e1b"
  },
  {
   "cell_type": "markdown",
   "source": [
    "## Обработка данных: стандартные алгоритмы машинного обучения в Julia"
   ],
   "metadata": {
    "collapsed": false
   },
   "id": "b3cd61eb216fe00c"
  },
  {
   "cell_type": "markdown",
   "source": [
    "### Кластеризация данных. Метод k-средних"
   ],
   "metadata": {
    "collapsed": false
   },
   "id": "bc2e9d789f36a60d"
  },
  {
   "cell_type": "code",
   "execution_count": null,
   "outputs": [],
   "source": [
    "using Plots\n",
    "# Загрузка данных:\n",
    "houses = CSV.File(\"houses.csv\") |> DataFrame"
   ],
   "metadata": {
    "collapsed": false
   },
   "id": "a40ee95eb6c2fb7a"
  },
  {
   "cell_type": "code",
   "execution_count": null,
   "outputs": [],
   "source": [
    "plot(size=(500,500),leg=false)\n",
    "x = houses[!,:sq__ft]\n",
    "y = houses[!,:price]\n",
    "scatter(x,y,markersize=3)"
   ],
   "metadata": {
    "collapsed": false
   },
   "id": "30d3e76235b8a2fb"
  },
  {
   "cell_type": "code",
   "execution_count": null,
   "outputs": [],
   "source": [
    "# Фильтрация данных по заданному условию:\n",
    "filter_houses = houses[houses[!,:sq__ft].>0,:]\n",
    "# Построение графика:\n",
    "x = filter_houses[!,:sq__ft]\n",
    "y = filter_houses[!,:price]\n",
    "scatter(x,y)"
   ],
   "metadata": {
    "collapsed": false
   },
   "id": "4504b3c430ab8c94"
  },
  {
   "cell_type": "code",
   "execution_count": null,
   "outputs": [],
   "source": [
    "# Определение средней цены для определённого типа домов:\n",
    "by(filter_houses,:type,filter_houses->mean(filter_houses[!,:price]))"
   ],
   "metadata": {
    "collapsed": false
   },
   "id": "f640aa60a86d86f"
  },
  {
   "cell_type": "code",
   "execution_count": null,
   "outputs": [],
   "source": [
    "using Clustering\n",
    "# Добавление данных :latitude и :longitude в новый фрейм:\n",
    "X = filter_houses[[:latitude,:longitude]]\n",
    "# Конвертация данных в матричный вид:\n",
    "X = convert(Matrix{Float64}, X)"
   ],
   "metadata": {
    "collapsed": false
   },
   "id": "5991d2588088ee89"
  },
  {
   "cell_type": "code",
   "execution_count": null,
   "outputs": [],
   "source": [
    "# Транспонирование матрицы с данными:\n",
    "X = X'\n",
    "# Задание количества кластеров:\n",
    "k = length(unique(filter_houses[!,:zip]))\n",
    "# Определение k-среднего:\n",
    "C = kmeans(X,k)"
   ],
   "metadata": {
    "collapsed": false
   },
   "id": "365ef29e0ae8c298"
  },
  {
   "cell_type": "code",
   "execution_count": null,
   "outputs": [],
   "source": [
    "# Формирование фрейма данных:\n",
    "df = DataFrame(cluster = C.assignments,city = filter_houses[!,:city], latitude = filter_houses[!,:latitude],longitude = filter_houses[!,:longitude],zip = filter_houses[!,:zip])"
   ],
   "metadata": {
    "collapsed": false
   },
   "id": "2308f8f3106c5b49"
  },
  {
   "cell_type": "code",
   "execution_count": null,
   "outputs": [],
   "source": [
    "clusters_figure = plot(legend = false)\n",
    "for i = 1:k\n",
    "clustered_houses = df[df[!,:cluster].== i,:]\n",
    "xvals = clustered_houses[!,:latitude]\n",
    "yvals = clustered_houses[!,:longitude]\n",
    "scatter!(clusters_figure,xvals,yvals,markersize=4)\n",
    "end\n",
    "xlabel!(\"Latitude\")\n",
    "ylabel!(\"Longitude\")\n",
    "title!(\"Houses color-coded by cluster\")\n",
    "display(clusters_figure)"
   ],
   "metadata": {
    "collapsed": false
   },
   "id": "8deab1ee60164bc"
  },
  {
   "cell_type": "code",
   "execution_count": null,
   "outputs": [],
   "source": [
    "unique_zips = unique(filter_houses[!,:zip])\n",
    "zips_figure = plot(legend = false)\n",
    "for uzip in unique_zips\n",
    "subs = filter_houses[filter_houses[!,:zip].==uzip,:]\n",
    "x = subs[!,:latitude]\n",
    "y = subs[!,:longitude]\n",
    "scatter!(zips_figure,x,y)\n",
    "end\n",
    "xlabel!(\"Latitude\")\n",
    "ylabel!(\"Longitude\")\n",
    "title!(\"Houses color-coded by zip code\")\n",
    "display(zips_figure)"
   ],
   "metadata": {
    "collapsed": false
   },
   "id": "7334259932159610"
  },
  {
   "cell_type": "markdown",
   "source": [
    "### Кластеризация данных. Метод k ближайших соседей"
   ],
   "metadata": {
    "collapsed": false
   },
   "id": "fde9613341914037"
  },
  {
   "cell_type": "code",
   "execution_count": null,
   "outputs": [],
   "source": [
    "using NearestNeighbors\n",
    "knearest = 10\n",
    "id = 70\n",
    "point = X[:,id]\n",
    "# Поиск ближайших соседей:\n",
    "kdtree = KDTree(X)\n",
    "idxs, dists = knn(kdtree, point, knearest, true)\n",
    "# Все объекты недвижимости:\n",
    "x = filter_houses[!,:latitude];\n",
    "y = filter_houses[!,:longitude];\n",
    "scatter(x,y)\n",
    "# Соседи:\n",
    "x = filter_houses[idxs,:latitude];\n",
    "y = filter_houses[idxs,:longitude];\n",
    "scatter!(x,y)"
   ],
   "metadata": {
    "collapsed": false
   },
   "id": "89e69b5ce19293dd"
  },
  {
   "cell_type": "code",
   "execution_count": null,
   "outputs": [],
   "source": [
    "# Фильтрация по районам соседних домов:\n",
    "cities = filter_houses[idxs,:city]"
   ],
   "metadata": {
    "collapsed": false
   },
   "id": "438130b30f2e695"
  },
  {
   "cell_type": "markdown",
   "source": [
    "### Обработка данных. Метод главных компонент"
   ],
   "metadata": {
    "collapsed": false
   },
   "id": "79661357271417a6"
  },
  {
   "cell_type": "code",
   "execution_count": null,
   "outputs": [],
   "source": [
    "# Фрейм с указанием площади и цены недвижимости:\n",
    "F = filter_houses[[:sq__ft,:price]]\n",
    "# Конвертация данных в массив:\n",
    "F = convert(Array{Float64,2},F)'\n",
    "# Подключение пакета MultivariateStats:\n",
    "using MultivariateStats\n",
    "# Приведение типов данных к распределению для PCA:\n",
    "M = fit(PCA, F)\n",
    "# Выделение значений главных компонент в отдельную переменную:\n",
    "Xr = reconstruct(M, y)\n",
    "# Построение графика с выделением главных компонент:\n",
    "scatter(F[1,:],F[2,:])\n",
    "scatter!(Xr[1,:],Xr[2,:])"
   ],
   "metadata": {
    "collapsed": false
   },
   "id": "90aff3a332af98af"
  },
  {
   "cell_type": "markdown",
   "source": [
    "### Обработка данных. Линейная регрессия"
   ],
   "metadata": {
    "collapsed": false
   },
   "id": "bb093b2c69639edd"
  },
  {
   "cell_type": "code",
   "execution_count": null,
   "outputs": [],
   "source": [
    "xvals = repeat(1:0.5:10,inner=2)\n",
    "yvals = 3 .+ xvals + 2*rand(length(xvals)) .- 1\n",
    "scatter(xvals,yvals,color=:black,leg=false)"
   ],
   "metadata": {
    "collapsed": false
   },
   "id": "a07971778ab87ca4"
  },
  {
   "cell_type": "code",
   "execution_count": null,
   "outputs": [],
   "source": [
    "function find_best_fit(xvals,yvals)\n",
    "meanx = mean(xvals)\n",
    "meany = mean(yvals)\n",
    "stdx = std(xvals)\n",
    "stdy = std(yvals)\n",
    "r = cor(xvals,yvals)\n",
    "a = r*stdy/stdx\n",
    "b = meany - a*meanx\n",
    "return a,b\n",
    "end"
   ],
   "metadata": {
    "collapsed": false
   },
   "id": "bad65d3666fb010a"
  },
  {
   "cell_type": "code",
   "execution_count": null,
   "outputs": [],
   "source": [
    "a,b = find_best_fit(xvals,yvals)\n",
    "ynew = a * xvals .+ b\n",
    "plot!(xvals,ynew)"
   ],
   "metadata": {
    "collapsed": false
   },
   "id": "c3481b34e6da7865"
  },
  {
   "cell_type": "code",
   "execution_count": null,
   "outputs": [],
   "source": [
    "xvals = 1:100000;\n",
    "xvals = repeat(xvals,inner=3);\n",
    "yvals = 3 .+ xvals + 2*rand(length(xvals)) .- 1;\n",
    "@show size(xvals)\n",
    "@show size(yvals)\n",
    "@time a,b = find_best_fit(xvals,yvals)"
   ],
   "metadata": {
    "collapsed": false
   },
   "id": "614f5a83ac0b3f95"
  },
  {
   "cell_type": "code",
   "execution_count": null,
   "outputs": [],
   "source": [
    "using PyCall\n",
    "using Conda\n",
    "py\"\"\"\n",
    "import numpy\n",
    "def find_best_fit_python(xvals,yvals):\n",
    "meanx = numpy.mean(xvals)\n",
    "meany = numpy.mean(yvals)\n",
    "stdx = numpy.std(xvals)\n",
    "stdy = numpy.std(yvals)\n",
    "r = numpy.corrcoef(xvals,yvals)[0][1]\n",
    "a = r*stdy/stdx\n",
    "b = meany - a*meanx\n",
    "return a,b\n",
    "\"\"\"\n",
    "xpy = PyObject(xvals)\n",
    "ypy = PyObject(yvals)\n",
    "@time a,b = find_best_fit_python(xpy,ypy)"
   ],
   "metadata": {
    "collapsed": false
   },
   "id": "1676e42c87beb0b8"
  },
  {
   "cell_type": "code",
   "execution_count": null,
   "outputs": [],
   "source": [
    "using BenchmarkTools\n",
    "@btime a,b = find_best_fit_python(xvals,yvals)\n",
    "@btime a,b = find_best_fit(xvals,yvals)"
   ],
   "metadata": {
    "collapsed": false
   },
   "id": "dce80efa4fa7e7a5"
  },
  {
   "cell_type": "markdown",
   "id": "86f0e469-61a5-431f-8644-c87b2de4a131",
   "metadata": {},
   "source": [
    "# Самостоятельная работа"
   ]
  },
  {
   "cell_type": "markdown",
   "source": [
    "## Кластеризация\n",
    "\n",
    "Используйте Clustering.jl для кластеризации на основе k-средних. Сделайте точечную диаграмму полученных кластеров.\n",
    "Подсказка: вам нужно будет проиндексировать фрейм данных, преобразовать его в массив и транспонировать."
   ],
   "metadata": {
    "collapsed": false
   },
   "id": "ec6e8cade3250fe8"
  },
  {
   "cell_type": "code",
   "execution_count": 2,
   "id": "532e66c0-b135-4fde-80dc-b09c128fc9d1",
   "metadata": {
    "ExecuteTime": {
     "end_time": "2023-11-16T19:00:48.272894800Z",
     "start_time": "2023-11-16T19:00:48.263229700Z"
    }
   },
   "outputs": [],
   "source": []
  },
  {
   "cell_type": "markdown",
   "source": [
    "## Регрессия (метод наименьших квадратов в случае линейной регрессии)\n",
    "\n",
    "Часть 1."
   ],
   "metadata": {
    "collapsed": false
   },
   "id": "61b99327c1daff51"
  },
  {
   "cell_type": "code",
   "execution_count": null,
   "outputs": [],
   "source": [],
   "metadata": {
    "collapsed": false
   },
   "id": "9aef5c9d36283a87"
  },
  {
   "cell_type": "markdown",
   "source": [
    "Часть 2."
   ],
   "metadata": {
    "collapsed": false
   },
   "id": "124276ad1a69f35d"
  },
  {
   "cell_type": "code",
   "execution_count": null,
   "outputs": [],
   "source": [],
   "metadata": {
    "collapsed": false
   },
   "id": "6035a5dbf766e09d"
  },
  {
   "cell_type": "markdown",
   "source": [
    "## Модель ценообразования биномиальных опционов"
   ],
   "metadata": {
    "collapsed": false
   },
   "id": "e39ff8c93b285e24"
  },
  {
   "cell_type": "code",
   "execution_count": null,
   "outputs": [],
   "source": [],
   "metadata": {
    "collapsed": false
   },
   "id": "5c2065616902107f"
  },
  {
   "cell_type": "code",
   "execution_count": null,
   "outputs": [],
   "source": [],
   "metadata": {
    "collapsed": false
   },
   "id": "c138fecadffee791"
  },
  {
   "cell_type": "code",
   "execution_count": null,
   "outputs": [],
   "source": [],
   "metadata": {
    "collapsed": false
   },
   "id": "e38781b10bff22be"
  },
  {
   "cell_type": "code",
   "execution_count": null,
   "outputs": [],
   "source": [],
   "metadata": {
    "collapsed": false
   },
   "id": "e11570ead1f2bd5c"
  }
 ],
 "metadata": {
  "kernelspec": {
   "display_name": "Julia 1.9.3",
   "language": "julia",
   "name": "julia-1.9"
  },
  "language_info": {
   "file_extension": ".jl",
   "mimetype": "application/julia",
   "name": "julia",
   "version": "1.9.3"
  }
 },
 "nbformat": 4,
 "nbformat_minor": 5
}
