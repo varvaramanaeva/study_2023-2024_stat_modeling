{
 "cells": [
  {
   "cell_type": "markdown",
   "id": "0614ab6a-9a53-4eab-a2ef-a4399cbee45e",
   "metadata": {},
   "source": [
    "# Повторение примеров"
   ]
  },
  {
   "cell_type": "markdown",
   "id": "33fb86d0-cb52-42db-901d-80e010aff76e",
   "metadata": {},
   "source": [
    "## Реализация кортежей"
   ]
  },
  {
   "cell_type": "code",
   "execution_count": 1,
   "id": "884e1089-ba30-4dad-9110-f0af7ae7962d",
   "metadata": {},
   "outputs": [
    {
     "data": {
      "text/plain": [
       "()"
      ]
     },
     "execution_count": 1,
     "metadata": {},
     "output_type": "execute_result"
    }
   ],
   "source": [
    "# пустой кортеж:\n",
    "()"
   ]
  },
  {
   "cell_type": "code",
   "execution_count": 2,
   "id": "fe22382e-78b1-471c-bc52-1afa83f3ff66",
   "metadata": {},
   "outputs": [
    {
     "data": {
      "text/plain": [
       "(\"Python\", \"Julia\", \"R\")"
      ]
     },
     "execution_count": 2,
     "metadata": {},
     "output_type": "execute_result"
    }
   ],
   "source": [
    "# кортеж из элементов типа String:\n",
    "favoritelang = (\"Python\",\"Julia\",\"R\")"
   ]
  },
  {
   "cell_type": "code",
   "execution_count": 3,
   "id": "602ed5c3-f4d3-4ed0-94d5-0155b8d1bbb0",
   "metadata": {},
   "outputs": [
    {
     "data": {
      "text/plain": [
       "(1, 2, 3)"
      ]
     },
     "execution_count": 3,
     "metadata": {},
     "output_type": "execute_result"
    }
   ],
   "source": [
    "# кортеж из целых чисел:\n",
    "x1 = (1, 2, 3)"
   ]
  },
  {
   "cell_type": "code",
   "execution_count": 4,
   "id": "6ab13ccf-1c83-4dc2-a55e-70abe64aace8",
   "metadata": {},
   "outputs": [
    {
     "data": {
      "text/plain": [
       "(1, 2.0, \"tmp\")"
      ]
     },
     "execution_count": 4,
     "metadata": {},
     "output_type": "execute_result"
    }
   ],
   "source": [
    "# кортеж из элементов разных типов:\n",
    "x2 = (1, 2.0, \"tmp\")"
   ]
  },
  {
   "cell_type": "code",
   "execution_count": 5,
   "id": "6098cbe3-0c23-4f12-bb2c-77492ef4d30a",
   "metadata": {},
   "outputs": [
    {
     "data": {
      "text/plain": [
       "(a = 2, b = 3)"
      ]
     },
     "execution_count": 5,
     "metadata": {},
     "output_type": "execute_result"
    }
   ],
   "source": [
    "# именованный кортеж:\n",
    "x3 = (a=2, b=1+2)"
   ]
  },
  {
   "cell_type": "code",
   "execution_count": 6,
   "id": "628a3f9a-e3e1-43a9-95ff-6e6f052660d2",
   "metadata": {},
   "outputs": [
    {
     "data": {
      "text/plain": [
       "3"
      ]
     },
     "execution_count": 6,
     "metadata": {},
     "output_type": "execute_result"
    }
   ],
   "source": [
    "# длина кортежа x2:\n",
    "length(x2)"
   ]
  },
  {
   "cell_type": "code",
   "execution_count": 7,
   "id": "c2bb68c2-22d7-453b-a346-baf09f6c2ba5",
   "metadata": {},
   "outputs": [
    {
     "data": {
      "text/plain": [
       "(1, 2.0, \"tmp\")"
      ]
     },
     "execution_count": 7,
     "metadata": {},
     "output_type": "execute_result"
    }
   ],
   "source": [
    "# обратиться к элементам кортежа x2:\n",
    "x2[1], x2[2], x2[3]"
   ]
  },
  {
   "cell_type": "code",
   "execution_count": 8,
   "id": "c1f62ae3-d778-4492-85fc-34774ba6a058",
   "metadata": {},
   "outputs": [
    {
     "data": {
      "text/plain": [
       "5"
      ]
     },
     "execution_count": 8,
     "metadata": {},
     "output_type": "execute_result"
    }
   ],
   "source": [
    "# произвести какую-либо операцию (сложение) с вторым и третьим элементами кортежа x1:\n",
    "с = x1[2] + x1[3]"
   ]
  },
  {
   "cell_type": "code",
   "execution_count": 9,
   "id": "0f22b848-2cfc-4eca-a272-8fb4d38ce07d",
   "metadata": {},
   "outputs": [
    {
     "data": {
      "text/plain": [
       "(2, 3, 3)"
      ]
     },
     "execution_count": 9,
     "metadata": {},
     "output_type": "execute_result"
    }
   ],
   "source": [
    "# обращение к элементам именованного кортежа x3:\n",
    "x3.a, x3.b, x3[2]"
   ]
  },
  {
   "cell_type": "code",
   "execution_count": 10,
   "id": "7cf05c09-83be-4bb1-b050-e44a401f7d9f",
   "metadata": {},
   "outputs": [
    {
     "data": {
      "text/plain": [
       "(true, false)"
      ]
     },
     "execution_count": 10,
     "metadata": {},
     "output_type": "execute_result"
    }
   ],
   "source": [
    "# проверка вхождения элементов tmp и 0 в кортеж x2 (два способа обращения к методу in()):\n",
    "in(\"tmp\", x2), 0 in x2"
   ]
  },
  {
   "cell_type": "markdown",
   "id": "2e5849c046cd4261",
   "metadata": {
    "collapsed": false,
    "jupyter": {
     "outputs_hidden": false
    }
   },
   "source": [
    "## Реализация словарей"
   ]
  },
  {
   "cell_type": "code",
   "execution_count": 11,
   "id": "ec9fd5db-2c26-4819-b6db-978e57ef96eb",
   "metadata": {
    "ExecuteTime": {
     "end_time": "2023-11-16T19:00:48.272894800Z",
     "start_time": "2023-11-16T19:00:47.186610500Z"
    }
   },
   "outputs": [
    {
     "data": {
      "text/plain": [
       "Dict{String, Any} with 2 entries:\n",
       "  \"Бухгалтерия\" => \"555-2368\"\n",
       "  \"Иванов И.И.\" => (\"867-5309\", \"333-5544\")"
      ]
     },
     "execution_count": 11,
     "metadata": {},
     "output_type": "execute_result"
    }
   ],
   "source": [
    "# создать словарь с именем phonebook:\n",
    "phonebook = Dict(\"Иванов И.И.\" => (\"867-5309\",\"333-5544\"), \"Бухгалтерия\" => \"555-2368\")\n",
    "phonebook"
   ]
  },
  {
   "cell_type": "code",
   "execution_count": 12,
   "id": "e070597ef0d423e9",
   "metadata": {
    "collapsed": false,
    "jupyter": {
     "outputs_hidden": false
    }
   },
   "outputs": [
    {
     "data": {
      "text/plain": [
       "KeySet for a Dict{String, Any} with 2 entries. Keys:\n",
       "  \"Бухгалтерия\"\n",
       "  \"Иванов И.И.\""
      ]
     },
     "execution_count": 12,
     "metadata": {},
     "output_type": "execute_result"
    }
   ],
   "source": [
    "# вывести ключи словаря:\n",
    "keys(phonebook)"
   ]
  },
  {
   "cell_type": "code",
   "execution_count": 13,
   "id": "97f8389a40f53541",
   "metadata": {
    "collapsed": false,
    "jupyter": {
     "outputs_hidden": false
    }
   },
   "outputs": [
    {
     "data": {
      "text/plain": [
       "ValueIterator for a Dict{String, Any} with 2 entries. Values:\n",
       "  \"555-2368\"\n",
       "  (\"867-5309\", \"333-5544\")"
      ]
     },
     "execution_count": 13,
     "metadata": {},
     "output_type": "execute_result"
    }
   ],
   "source": [
    "# вывести значения элементов словаря:\n",
    "values(phonebook)"
   ]
  },
  {
   "cell_type": "code",
   "execution_count": 14,
   "id": "5852f103f0bea1cd",
   "metadata": {
    "collapsed": false,
    "jupyter": {
     "outputs_hidden": false
    }
   },
   "outputs": [
    {
     "data": {
      "text/plain": [
       "Dict{String, Any} with 2 entries:\n",
       "  \"Бухгалтерия\" => \"555-2368\"\n",
       "  \"Иванов И.И.\" => (\"867-5309\", \"333-5544\")"
      ]
     },
     "execution_count": 14,
     "metadata": {},
     "output_type": "execute_result"
    }
   ],
   "source": [
    "# вывести заданные в словаре пары \"ключ - значение\":\n",
    "pairs(phonebook)"
   ]
  },
  {
   "cell_type": "code",
   "execution_count": 15,
   "id": "9f7d47754a00f720",
   "metadata": {
    "collapsed": false,
    "jupyter": {
     "outputs_hidden": false
    }
   },
   "outputs": [
    {
     "data": {
      "text/plain": [
       "true"
      ]
     },
     "execution_count": 15,
     "metadata": {},
     "output_type": "execute_result"
    }
   ],
   "source": [
    "# проверка вхождения ключа в словарь:\n",
    "haskey(phonebook, \"Иванов И.И.\")"
   ]
  },
  {
   "cell_type": "code",
   "execution_count": 16,
   "id": "5b9793ef4edf989",
   "metadata": {
    "collapsed": false,
    "jupyter": {
     "outputs_hidden": false
    }
   },
   "outputs": [
    {
     "data": {
      "text/plain": [
       "\"555-3344\""
      ]
     },
     "execution_count": 16,
     "metadata": {},
     "output_type": "execute_result"
    }
   ],
   "source": [
    "# добавить элемент в словарь:\n",
    "phonebook[\"Сидоров П.С.\"] = \"555-3344\""
   ]
  },
  {
   "cell_type": "code",
   "execution_count": 17,
   "id": "74e87fe3b5e2a95c",
   "metadata": {
    "collapsed": false,
    "jupyter": {
     "outputs_hidden": false
    }
   },
   "outputs": [
    {
     "data": {
      "text/plain": [
       "(\"867-5309\", \"333-5544\")"
      ]
     },
     "execution_count": 17,
     "metadata": {},
     "output_type": "execute_result"
    }
   ],
   "source": [
    "# удалить ключ и связанные с ним значения из словаря\n",
    "pop!(phonebook, \"Иванов И.И.\")"
   ]
  },
  {
   "cell_type": "code",
   "execution_count": 18,
   "id": "6cf272313c55b847",
   "metadata": {
    "collapsed": false,
    "jupyter": {
     "outputs_hidden": false
    }
   },
   "outputs": [
    {
     "data": {
      "text/plain": [
       "(Dict{String, Real}(\"bar\" => 13.0, \"baz\" => 17, \"foo\" => 0.0), Dict{String, Real}(\"bar\" => 42.0, \"baz\" => 17, \"foo\" => 0.0))"
      ]
     },
     "execution_count": 18,
     "metadata": {},
     "output_type": "execute_result"
    }
   ],
   "source": [
    "# Объединение словарей (функция merge()):\n",
    "a = Dict(\"foo\" => 0.0, \"bar\" => 42.0);\n",
    "b = Dict(\"baz\" => 17, \"bar\" => 13.0);\n",
    "merge(a, b), merge(b,a)"
   ]
  },
  {
   "cell_type": "markdown",
   "id": "a60db756c91ac72a",
   "metadata": {
    "collapsed": false,
    "jupyter": {
     "outputs_hidden": false
    }
   },
   "source": [
    "## Реализация множеств"
   ]
  },
  {
   "cell_type": "code",
   "execution_count": 19,
   "id": "686bc857d08ea5d",
   "metadata": {
    "collapsed": false,
    "jupyter": {
     "outputs_hidden": false
    }
   },
   "outputs": [
    {
     "data": {
      "text/plain": [
       "Set{Int64} with 4 elements:\n",
       "  5\n",
       "  4\n",
       "  3\n",
       "  1"
      ]
     },
     "execution_count": 19,
     "metadata": {},
     "output_type": "execute_result"
    }
   ],
   "source": [
    "# создать множество из четырёх целочисленных значений:\n",
    "A = Set([1, 3, 4, 5])"
   ]
  },
  {
   "cell_type": "code",
   "execution_count": 20,
   "id": "2c049c5c6c873728",
   "metadata": {
    "collapsed": false,
    "jupyter": {
     "outputs_hidden": false
    }
   },
   "outputs": [
    {
     "data": {
      "text/plain": [
       "Set{Char} with 5 elements:\n",
       "  'a'\n",
       "  'd'\n",
       "  'r'\n",
       "  'k'\n",
       "  'b'"
      ]
     },
     "execution_count": 20,
     "metadata": {},
     "output_type": "execute_result"
    }
   ],
   "source": [
    "# создать множество из 11 символьных значений:\n",
    "B = Set(\"abrakadabra\")"
   ]
  },
  {
   "cell_type": "code",
   "execution_count": 21,
   "id": "f1e72f06d6f54032",
   "metadata": {
    "collapsed": false,
    "jupyter": {
     "outputs_hidden": false
    }
   },
   "outputs": [
    {
     "data": {
      "text/plain": [
       "false"
      ]
     },
     "execution_count": 21,
     "metadata": {},
     "output_type": "execute_result"
    }
   ],
   "source": [
    "# проверка эквивалентности двух множеств:\n",
    "S1 = Set([1,2]);\n",
    "S2 = Set([3,4]);\n",
    "issetequal(S1,S2)"
   ]
  },
  {
   "cell_type": "code",
   "execution_count": 22,
   "id": "b8bb3f0f77a81687",
   "metadata": {
    "collapsed": false,
    "jupyter": {
     "outputs_hidden": false
    }
   },
   "outputs": [
    {
     "data": {
      "text/plain": [
       "true"
      ]
     },
     "execution_count": 22,
     "metadata": {},
     "output_type": "execute_result"
    }
   ],
   "source": [
    "S3 = Set([1,2,2,3,1,2,3,2,1]);\n",
    "S4 = Set([2,3,1]);\n",
    "issetequal(S3,S4)"
   ]
  },
  {
   "cell_type": "code",
   "execution_count": 23,
   "id": "f9c1d371a7bd8c58",
   "metadata": {
    "collapsed": false,
    "jupyter": {
     "outputs_hidden": false
    }
   },
   "outputs": [
    {
     "data": {
      "text/plain": [
       "Set{Int64} with 4 elements:\n",
       "  4\n",
       "  2\n",
       "  3\n",
       "  1"
      ]
     },
     "execution_count": 23,
     "metadata": {},
     "output_type": "execute_result"
    }
   ],
   "source": [
    "# объединение множеств:\n",
    "C=union(S1,S2)\n",
    "C"
   ]
  },
  {
   "cell_type": "code",
   "execution_count": 24,
   "id": "173a6c82f74dcf32",
   "metadata": {
    "collapsed": false,
    "jupyter": {
     "outputs_hidden": false
    }
   },
   "outputs": [
    {
     "data": {
      "text/plain": [
       "Set{Int64} with 2 elements:\n",
       "  2\n",
       "  1"
      ]
     },
     "execution_count": 24,
     "metadata": {},
     "output_type": "execute_result"
    }
   ],
   "source": [
    "# пересечение множеств:\n",
    "D = intersect(S1,S3)\n",
    "D"
   ]
  },
  {
   "cell_type": "code",
   "execution_count": 25,
   "id": "5ef9d4aa5ef8324a",
   "metadata": {
    "collapsed": false,
    "jupyter": {
     "outputs_hidden": false
    }
   },
   "outputs": [
    {
     "data": {
      "text/plain": [
       "Set{Int64} with 1 element:\n",
       "  3"
      ]
     },
     "execution_count": 25,
     "metadata": {},
     "output_type": "execute_result"
    }
   ],
   "source": [
    "# разность множеств:\n",
    "E = setdiff(S3,S1)\n",
    "E"
   ]
  },
  {
   "cell_type": "code",
   "execution_count": 26,
   "id": "f87e3d1af86af8fd",
   "metadata": {
    "collapsed": false,
    "jupyter": {
     "outputs_hidden": false
    }
   },
   "outputs": [
    {
     "data": {
      "text/plain": [
       "true"
      ]
     },
     "execution_count": 26,
     "metadata": {},
     "output_type": "execute_result"
    }
   ],
   "source": [
    "# проверка вхождения элементов одного множества в другое:\n",
    "issubset(S1,S4)"
   ]
  },
  {
   "cell_type": "code",
   "execution_count": 27,
   "id": "debaa3de1cdc6248",
   "metadata": {
    "collapsed": false,
    "jupyter": {
     "outputs_hidden": false
    }
   },
   "outputs": [
    {
     "data": {
      "text/plain": [
       "Set{Int64} with 4 elements:\n",
       "  2\n",
       "  99\n",
       "  3\n",
       "  1"
      ]
     },
     "execution_count": 27,
     "metadata": {},
     "output_type": "execute_result"
    }
   ],
   "source": [
    "# добавление элемента в множество:\n",
    "push!(S4, 99)"
   ]
  },
  {
   "cell_type": "code",
   "execution_count": 28,
   "id": "1dbe0a39eefa7143",
   "metadata": {
    "collapsed": false,
    "jupyter": {
     "outputs_hidden": false
    }
   },
   "outputs": [
    {
     "data": {
      "text/plain": [
       "2"
      ]
     },
     "execution_count": 28,
     "metadata": {},
     "output_type": "execute_result"
    }
   ],
   "source": [
    "# удаление последнего элемента множества:\n",
    "pop!(S4)"
   ]
  },
  {
   "cell_type": "markdown",
   "id": "3b0210b845dd1498",
   "metadata": {
    "collapsed": false,
    "jupyter": {
     "outputs_hidden": false
    }
   },
   "source": [
    "## Реализация массивов"
   ]
  },
  {
   "cell_type": "code",
   "execution_count": 29,
   "id": "6c7655a9e461af23",
   "metadata": {
    "collapsed": false,
    "jupyter": {
     "outputs_hidden": false
    }
   },
   "outputs": [
    {
     "data": {
      "text/plain": [
       "Any[]"
      ]
     },
     "execution_count": 29,
     "metadata": {},
     "output_type": "execute_result"
    }
   ],
   "source": [
    "# создание пустого массива с абстрактным типом:\n",
    "empty_array_1 = []"
   ]
  },
  {
   "cell_type": "code",
   "execution_count": 30,
   "id": "f4edae98fb756981",
   "metadata": {
    "collapsed": false,
    "jupyter": {
     "outputs_hidden": false
    }
   },
   "outputs": [
    {
     "data": {
      "text/plain": [
       "Float64[]"
      ]
     },
     "execution_count": 30,
     "metadata": {},
     "output_type": "execute_result"
    }
   ],
   "source": [
    "# создание пустого массива с конкретным типом:\n",
    "empty_array_2 = (Int64)[]\n",
    "empty_array_3 = (Float64)[]"
   ]
  },
  {
   "cell_type": "code",
   "execution_count": 31,
   "id": "d2869def222df774",
   "metadata": {
    "collapsed": false,
    "jupyter": {
     "outputs_hidden": false
    }
   },
   "outputs": [
    {
     "data": {
      "text/plain": [
       "3-element Vector{Int64}:\n",
       " 1\n",
       " 2\n",
       " 3"
      ]
     },
     "execution_count": 31,
     "metadata": {},
     "output_type": "execute_result"
    }
   ],
   "source": [
    "# вектор-столбец:\n",
    "a = [1, 2, 3]\n",
    "a"
   ]
  },
  {
   "cell_type": "code",
   "execution_count": 32,
   "id": "cfbf9926fb6dd378",
   "metadata": {
    "collapsed": false,
    "jupyter": {
     "outputs_hidden": false
    }
   },
   "outputs": [
    {
     "data": {
      "text/plain": [
       "1×3 Matrix{Int64}:\n",
       " 1  2  3"
      ]
     },
     "execution_count": 32,
     "metadata": {},
     "output_type": "execute_result"
    }
   ],
   "source": [
    "# вектор-строка:\n",
    "b = [1 2 3]\n",
    "b"
   ]
  },
  {
   "cell_type": "code",
   "execution_count": 33,
   "id": "144d5f4ea6e4b9cd",
   "metadata": {
    "collapsed": false,
    "jupyter": {
     "outputs_hidden": false
    }
   },
   "outputs": [
    {
     "data": {
      "text/plain": [
       "([1 4 7; 2 5 8; 3 6 9], [1 2 3; 4 5 6; 7 8 9])"
      ]
     },
     "execution_count": 33,
     "metadata": {},
     "output_type": "execute_result"
    }
   ],
   "source": [
    "# многомерные массивы (матрицы):\n",
    "A = [[1, 2, 3] [4, 5, 6] [7, 8, 9]]\n",
    "B = [[1 2 3]; [4 5 6]; [7 8 9]]\n",
    "A, B"
   ]
  },
  {
   "cell_type": "code",
   "execution_count": 34,
   "id": "c885ebeeffd5627",
   "metadata": {
    "collapsed": false,
    "jupyter": {
     "outputs_hidden": false
    }
   },
   "outputs": [
    {
     "data": {
      "text/plain": [
       "1×8 Matrix{Float64}:\n",
       " 0.0469965  0.599488  0.252129  0.707828  …  0.56991  0.376603  0.154653"
      ]
     },
     "execution_count": 34,
     "metadata": {},
     "output_type": "execute_result"
    }
   ],
   "source": [
    "# одномерный массив из 8 элементов (массив $1 \\times 8$) со значениями, случайно распределёнными на интервале [0, 1):\n",
    "c = rand(1,8)\n",
    "c"
   ]
  },
  {
   "cell_type": "code",
   "execution_count": 35,
   "id": "3a73ee22dfbcd399",
   "metadata": {
    "collapsed": false,
    "jupyter": {
     "outputs_hidden": false
    }
   },
   "outputs": [
    {
     "data": {
      "text/plain": [
       "2×3 Matrix{Float64}:\n",
       " 0.630296  0.934137  0.81798\n",
       " 0.797798  0.703873  0.988166"
      ]
     },
     "execution_count": 35,
     "metadata": {},
     "output_type": "execute_result"
    }
   ],
   "source": [
    "# многомерный массив $2 \\times 3$ (2 строки, 3 столбца) элементов со значениями, случайно распределёнными на интервале [0, 1):\n",
    "C = rand(2,3)\n",
    "C"
   ]
  },
  {
   "cell_type": "code",
   "execution_count": 36,
   "id": "8fd4e15908ccb86b",
   "metadata": {
    "collapsed": false,
    "jupyter": {
     "outputs_hidden": false
    }
   },
   "outputs": [
    {
     "data": {
      "text/plain": [
       "4×3×2 Array{Float64, 3}:\n",
       "[:, :, 1] =\n",
       " 0.290743  0.596179   0.916233\n",
       " 0.331316  0.0893986  0.585883\n",
       " 0.848618  0.759715   0.616475\n",
       " 0.303702  0.878446   0.192259\n",
       "\n",
       "[:, :, 2] =\n",
       " 0.367442  0.330485    0.831731\n",
       " 0.834432  0.0939463   0.911308\n",
       " 0.936972  0.10629     0.0536688\n",
       " 0.820039  0.00735729  0.132789"
      ]
     },
     "execution_count": 36,
     "metadata": {},
     "output_type": "execute_result"
    }
   ],
   "source": [
    "# трёхмерный массив:\n",
    "D = rand(4, 3, 2)\n",
    "D"
   ]
  },
  {
   "cell_type": "code",
   "execution_count": 37,
   "id": "64fb5d7caab546e",
   "metadata": {
    "collapsed": false,
    "jupyter": {
     "outputs_hidden": false
    }
   },
   "outputs": [
    {
     "data": {
      "text/plain": [
       "10-element Vector{Float64}:\n",
       " 1.0\n",
       " 1.4142135623730951\n",
       " 1.7320508075688772\n",
       " 2.0\n",
       " 2.23606797749979\n",
       " 2.449489742783178\n",
       " 2.6457513110645907\n",
       " 2.8284271247461903\n",
       " 3.0\n",
       " 3.1622776601683795"
      ]
     },
     "execution_count": 37,
     "metadata": {},
     "output_type": "execute_result"
    }
   ],
   "source": [
    "# массив из квадратных корней всех целых чисел от 1 до 10:\n",
    "roots = [sqrt(i) for i in 1:10]\n",
    "roots"
   ]
  },
  {
   "cell_type": "code",
   "execution_count": 38,
   "id": "ca8918a593e87c56",
   "metadata": {
    "collapsed": false,
    "jupyter": {
     "outputs_hidden": false
    }
   },
   "outputs": [
    {
     "data": {
      "text/plain": [
       "5-element Vector{Int64}:\n",
       "   3\n",
       "  27\n",
       "  75\n",
       " 147\n",
       " 243"
      ]
     },
     "execution_count": 38,
     "metadata": {},
     "output_type": "execute_result"
    }
   ],
   "source": [
    "# массив с элементами вида 3*x^2, где x - нечётное число от 1 до 9 (включительно)\n",
    "ar_1 = [3*i^2 for i in 1:2:9]\n",
    "ar_1"
   ]
  },
  {
   "cell_type": "code",
   "execution_count": 39,
   "id": "10bd65a5291ab94a",
   "metadata": {
    "collapsed": false,
    "jupyter": {
     "outputs_hidden": false
    }
   },
   "outputs": [
    {
     "data": {
      "text/plain": [
       "4-element Vector{Int64}:\n",
       "  1\n",
       "  9\n",
       " 49\n",
       " 81"
      ]
     },
     "execution_count": 39,
     "metadata": {},
     "output_type": "execute_result"
    }
   ],
   "source": [
    "# массив квадратов элементов, если квадрат не делится на 5 или 4:\n",
    "ar_2 = [i^2 for i=1:10 if (i^2%5!=0 && i^2%4!=0)]\n",
    "ar_2"
   ]
  },
  {
   "cell_type": "code",
   "execution_count": 40,
   "id": "f0f87efad62ab2e5",
   "metadata": {
    "collapsed": false,
    "jupyter": {
     "outputs_hidden": false
    }
   },
   "outputs": [
    {
     "data": {
      "text/plain": [
       "5-element Vector{Float64}:\n",
       " 1.0\n",
       " 1.0\n",
       " 1.0\n",
       " 1.0\n",
       " 1.0"
      ]
     },
     "execution_count": 40,
     "metadata": {},
     "output_type": "execute_result"
    }
   ],
   "source": [
    "# одномерный массив из пяти единиц:\n",
    "ones(5)"
   ]
  },
  {
   "cell_type": "code",
   "execution_count": 41,
   "id": "223e1edc737a516e",
   "metadata": {
    "collapsed": false,
    "jupyter": {
     "outputs_hidden": false
    }
   },
   "outputs": [
    {
     "data": {
      "text/plain": [
       "2×3 Matrix{Float64}:\n",
       " 1.0  1.0  1.0\n",
       " 1.0  1.0  1.0"
      ]
     },
     "execution_count": 41,
     "metadata": {},
     "output_type": "execute_result"
    }
   ],
   "source": [
    "# двумерный массив 2x3 из единиц:\n",
    "ones(2,3)"
   ]
  },
  {
   "cell_type": "code",
   "execution_count": 42,
   "id": "f3b7793ed7bcf096",
   "metadata": {
    "collapsed": false,
    "jupyter": {
     "outputs_hidden": false
    }
   },
   "outputs": [
    {
     "data": {
      "text/plain": [
       "4-element Vector{Float64}:\n",
       " 0.0\n",
       " 0.0\n",
       " 0.0\n",
       " 0.0"
      ]
     },
     "execution_count": 42,
     "metadata": {},
     "output_type": "execute_result"
    }
   ],
   "source": [
    "# одномерный массив из 4 нулей:\n",
    "zeros(4)"
   ]
  },
  {
   "cell_type": "code",
   "execution_count": 43,
   "id": "74f57d3a48999f02",
   "metadata": {
    "collapsed": false,
    "jupyter": {
     "outputs_hidden": false
    }
   },
   "outputs": [
    {
     "data": {
      "text/plain": [
       "3×2 Matrix{Float64}:\n",
       " 3.5  3.5\n",
       " 3.5  3.5\n",
       " 3.5  3.5"
      ]
     },
     "execution_count": 43,
     "metadata": {},
     "output_type": "execute_result"
    }
   ],
   "source": [
    "# заполнить массив 3x2 цифрами 3.5\n",
    "fill(3.5,(3,2))"
   ]
  },
  {
   "cell_type": "code",
   "execution_count": 44,
   "id": "8dc37139b12c0c80",
   "metadata": {
    "collapsed": false,
    "jupyter": {
     "outputs_hidden": false
    }
   },
   "outputs": [
    {
     "data": {
      "text/plain": [
       "3×6 Matrix{Int64}:\n",
       " 1  2  1  2  1  2\n",
       " 1  2  1  2  1  2\n",
       " 1  2  1  2  1  2"
      ]
     },
     "execution_count": 44,
     "metadata": {},
     "output_type": "execute_result"
    }
   ],
   "source": [
    "# заполнение массива посредством функции repeat():\n",
    "repeat([1 2],3,3)"
   ]
  },
  {
   "cell_type": "code",
   "execution_count": 45,
   "id": "ca76d352bbbefc29",
   "metadata": {
    "collapsed": false,
    "jupyter": {
     "outputs_hidden": false
    }
   },
   "outputs": [
    {
     "data": {
      "text/plain": [
       "2×6 Matrix{Int64}:\n",
       " 1  3  5  7   9  11\n",
       " 2  4  6  8  10  12"
      ]
     },
     "execution_count": 45,
     "metadata": {},
     "output_type": "execute_result"
    }
   ],
   "source": [
    "# преобразование одномерного массива из целых чисел от 1 до 12 в двумерный массив 2x6\n",
    "a = collect(1:12)\n",
    "b = reshape(a,(2,6))"
   ]
  },
  {
   "cell_type": "code",
   "execution_count": 46,
   "id": "714d8f458979ca4b",
   "metadata": {
    "collapsed": false,
    "jupyter": {
     "outputs_hidden": false
    }
   },
   "outputs": [
    {
     "data": {
      "text/plain": [
       "6×2 adjoint(::Matrix{Int64}) with eltype Int64:\n",
       "  1   2\n",
       "  3   4\n",
       "  5   6\n",
       "  7   8\n",
       "  9  10\n",
       " 11  12"
      ]
     },
     "execution_count": 46,
     "metadata": {},
     "output_type": "execute_result"
    }
   ],
   "source": [
    "# транспонирование\n",
    "b'"
   ]
  },
  {
   "cell_type": "code",
   "execution_count": 47,
   "id": "99b8f734d3c67bcd",
   "metadata": {
    "collapsed": false,
    "jupyter": {
     "outputs_hidden": false
    }
   },
   "outputs": [
    {
     "data": {
      "text/plain": [
       "1×8 Matrix{Float64}:\n",
       " 0.0469965  0.599488  0.252129  0.707828  …  0.56991  0.376603  0.154653"
      ]
     },
     "execution_count": 47,
     "metadata": {},
     "output_type": "execute_result"
    }
   ],
   "source": [
    "# транспонирование\n",
    "с = transpose(b)\n",
    "c"
   ]
  },
  {
   "cell_type": "code",
   "execution_count": 48,
   "id": "acb248b8fe92642d",
   "metadata": {
    "collapsed": false,
    "jupyter": {
     "outputs_hidden": false
    }
   },
   "outputs": [
    {
     "data": {
      "text/plain": [
       "10×5 Matrix{Int64}:\n",
       " 17  12  11  12  14\n",
       " 14  13  14  16  20\n",
       " 14  10  19  11  17\n",
       " 17  13  10  17  16\n",
       " 16  10  15  18  15\n",
       " 17  18  16  20  16\n",
       " 11  14  13  15  11\n",
       " 12  19  19  15  20\n",
       " 17  18  20  13  15\n",
       " 11  16  19  11  15"
      ]
     },
     "execution_count": 48,
     "metadata": {},
     "output_type": "execute_result"
    }
   ],
   "source": [
    "# массив 10x5 целых чисел в диапазоне [10, 20]:\n",
    "ar = rand(10:20, 10, 5)\n",
    "ar"
   ]
  },
  {
   "cell_type": "code",
   "execution_count": 49,
   "id": "2eb02954d2c1c5c6",
   "metadata": {
    "collapsed": false,
    "jupyter": {
     "outputs_hidden": false
    }
   },
   "outputs": [
    {
     "data": {
      "text/plain": [
       "10-element Vector{Int64}:\n",
       " 12\n",
       " 13\n",
       " 10\n",
       " 13\n",
       " 10\n",
       " 18\n",
       " 14\n",
       " 19\n",
       " 18\n",
       " 16"
      ]
     },
     "execution_count": 49,
     "metadata": {},
     "output_type": "execute_result"
    }
   ],
   "source": [
    "# выбор всех значений строки в столбце 2:\n",
    "ar[:, 2]"
   ]
  },
  {
   "cell_type": "code",
   "execution_count": 50,
   "id": "575169215e2d8596",
   "metadata": {
    "collapsed": false,
    "jupyter": {
     "outputs_hidden": false
    }
   },
   "outputs": [
    {
     "data": {
      "text/plain": [
       "10×2 Matrix{Int64}:\n",
       " 12  14\n",
       " 13  20\n",
       " 10  17\n",
       " 13  16\n",
       " 10  15\n",
       " 18  16\n",
       " 14  11\n",
       " 19  20\n",
       " 18  15\n",
       " 16  15"
      ]
     },
     "execution_count": 50,
     "metadata": {},
     "output_type": "execute_result"
    }
   ],
   "source": [
    "# выбор всех значений в столбцах 2 и 5:\n",
    "ar[:, [2, 5]]"
   ]
  },
  {
   "cell_type": "code",
   "execution_count": 51,
   "id": "6750faab2d26a33a",
   "metadata": {
    "collapsed": false,
    "jupyter": {
     "outputs_hidden": false
    }
   },
   "outputs": [
    {
     "data": {
      "text/plain": [
       "10×3 Matrix{Int64}:\n",
       " 12  11  12\n",
       " 13  14  16\n",
       " 10  19  11\n",
       " 13  10  17\n",
       " 10  15  18\n",
       " 18  16  20\n",
       " 14  13  15\n",
       " 19  19  15\n",
       " 18  20  13\n",
       " 16  19  11"
      ]
     },
     "execution_count": 51,
     "metadata": {},
     "output_type": "execute_result"
    }
   ],
   "source": [
    "# все значения строк в столбцах 2, 3 и 4:\n",
    "ar[:, 2:4]"
   ]
  },
  {
   "cell_type": "code",
   "execution_count": 52,
   "id": "1b13a2d9d0ff11d3",
   "metadata": {
    "collapsed": false,
    "jupyter": {
     "outputs_hidden": false
    }
   },
   "outputs": [
    {
     "data": {
      "text/plain": [
       "3×2 Matrix{Int64}:\n",
       " 14  20\n",
       " 17  16\n",
       " 17  16"
      ]
     },
     "execution_count": 52,
     "metadata": {},
     "output_type": "execute_result"
    }
   ],
   "source": [
    "# значения в строках 2, 4, 6 и в столбцах 1 и 5:\n",
    "ar[[2, 4, 6], [1, 5]]"
   ]
  },
  {
   "cell_type": "code",
   "execution_count": 53,
   "id": "862c9023c843f111",
   "metadata": {
    "collapsed": false,
    "jupyter": {
     "outputs_hidden": false
    }
   },
   "outputs": [
    {
     "data": {
      "text/plain": [
       "3-element Vector{Int64}:\n",
       " 11\n",
       " 12\n",
       " 14"
      ]
     },
     "execution_count": 53,
     "metadata": {},
     "output_type": "execute_result"
    }
   ],
   "source": [
    "# значения в строке 1 от столбца 3 до последнего столбца:\n",
    "ar[1, 3:end]"
   ]
  },
  {
   "cell_type": "code",
   "execution_count": 54,
   "id": "d05fa9a03c782691",
   "metadata": {
    "collapsed": false,
    "jupyter": {
     "outputs_hidden": false
    }
   },
   "outputs": [
    {
     "data": {
      "text/plain": [
       "10×5 Matrix{Int64}:\n",
       " 11  10  10  11  11\n",
       " 11  10  11  11  14\n",
       " 12  12  13  12  15\n",
       " 14  13  14  13  15\n",
       " 14  13  15  15  15\n",
       " 16  14  16  15  16\n",
       " 17  16  19  16  16\n",
       " 17  18  19  17  17\n",
       " 17  18  19  18  20\n",
       " 17  19  20  20  20"
      ]
     },
     "execution_count": 54,
     "metadata": {},
     "output_type": "execute_result"
    }
   ],
   "source": [
    "# сортировка по столбцам:\n",
    "sort(ar,dims=1)"
   ]
  },
  {
   "cell_type": "code",
   "execution_count": 55,
   "id": "3042896ee055a2ea",
   "metadata": {
    "collapsed": false,
    "jupyter": {
     "outputs_hidden": false
    }
   },
   "outputs": [
    {
     "data": {
      "text/plain": [
       "10×5 Matrix{Int64}:\n",
       " 11  12  12  14  17\n",
       " 13  14  14  16  20\n",
       " 10  11  14  17  19\n",
       " 10  13  16  17  17\n",
       " 10  15  15  16  18\n",
       " 16  16  17  18  20\n",
       " 11  11  13  14  15\n",
       " 12  15  19  19  20\n",
       " 13  15  17  18  20\n",
       " 11  11  15  16  19"
      ]
     },
     "execution_count": 55,
     "metadata": {},
     "output_type": "execute_result"
    }
   ],
   "source": [
    "# сортировка по строкам:\n",
    "sort(ar,dims=2)"
   ]
  },
  {
   "cell_type": "code",
   "execution_count": 56,
   "id": "29d4c5f5dd55f294",
   "metadata": {
    "collapsed": false,
    "jupyter": {
     "outputs_hidden": false
    }
   },
   "outputs": [
    {
     "data": {
      "text/plain": [
       "10×5 BitMatrix:\n",
       " 1  0  0  0  0\n",
       " 0  0  0  1  1\n",
       " 0  0  1  0  1\n",
       " 1  0  0  1  1\n",
       " 1  0  1  1  1\n",
       " 1  1  1  1  1\n",
       " 0  0  0  1  0\n",
       " 0  1  1  1  1\n",
       " 1  1  1  0  1\n",
       " 0  1  1  0  1"
      ]
     },
     "execution_count": 56,
     "metadata": {},
     "output_type": "execute_result"
    }
   ],
   "source": [
    "# поэлементное сравнение с числом (результат - массив логических значений):\n",
    "ar .> 14"
   ]
  },
  {
   "cell_type": "code",
   "execution_count": 57,
   "id": "f07d150dd3eea793",
   "metadata": {
    "collapsed": false,
    "jupyter": {
     "outputs_hidden": false
    }
   },
   "outputs": [
    {
     "data": {
      "text/plain": [
       "29-element Vector{CartesianIndex{2}}:\n",
       " CartesianIndex(1, 1)\n",
       " CartesianIndex(4, 1)\n",
       " CartesianIndex(5, 1)\n",
       " CartesianIndex(6, 1)\n",
       " CartesianIndex(9, 1)\n",
       " CartesianIndex(6, 2)\n",
       " CartesianIndex(8, 2)\n",
       " CartesianIndex(9, 2)\n",
       " CartesianIndex(10, 2)\n",
       " CartesianIndex(3, 3)\n",
       " CartesianIndex(5, 3)\n",
       " CartesianIndex(6, 3)\n",
       " CartesianIndex(8, 3)\n",
       " ⋮\n",
       " CartesianIndex(5, 4)\n",
       " CartesianIndex(6, 4)\n",
       " CartesianIndex(7, 4)\n",
       " CartesianIndex(8, 4)\n",
       " CartesianIndex(2, 5)\n",
       " CartesianIndex(3, 5)\n",
       " CartesianIndex(4, 5)\n",
       " CartesianIndex(5, 5)\n",
       " CartesianIndex(6, 5)\n",
       " CartesianIndex(8, 5)\n",
       " CartesianIndex(9, 5)\n",
       " CartesianIndex(10, 5)"
      ]
     },
     "execution_count": 57,
     "metadata": {},
     "output_type": "execute_result"
    }
   ],
   "source": [
    "# возврат индексов элементов массива, удовлетворяющих условию:\n",
    "findall(ar .> 14)"
   ]
  },
  {
   "cell_type": "code",
   "execution_count": 58,
   "id": "e7798a10-85f7-4b41-b700-36b9cfa867ec",
   "metadata": {},
   "outputs": [
    {
     "data": {
      "text/plain": [
       "29-element Vector{CartesianIndex{2}}:\n",
       " CartesianIndex(1, 1)\n",
       " CartesianIndex(4, 1)\n",
       " CartesianIndex(5, 1)\n",
       " CartesianIndex(6, 1)\n",
       " CartesianIndex(9, 1)\n",
       " CartesianIndex(6, 2)\n",
       " CartesianIndex(8, 2)\n",
       " CartesianIndex(9, 2)\n",
       " CartesianIndex(10, 2)\n",
       " CartesianIndex(3, 3)\n",
       " CartesianIndex(5, 3)\n",
       " CartesianIndex(6, 3)\n",
       " CartesianIndex(8, 3)\n",
       " ⋮\n",
       " CartesianIndex(5, 4)\n",
       " CartesianIndex(6, 4)\n",
       " CartesianIndex(7, 4)\n",
       " CartesianIndex(8, 4)\n",
       " CartesianIndex(2, 5)\n",
       " CartesianIndex(3, 5)\n",
       " CartesianIndex(4, 5)\n",
       " CartesianIndex(5, 5)\n",
       " CartesianIndex(6, 5)\n",
       " CartesianIndex(8, 5)\n",
       " CartesianIndex(9, 5)\n",
       " CartesianIndex(10, 5)"
      ]
     },
     "execution_count": 58,
     "metadata": {},
     "output_type": "execute_result"
    }
   ],
   "source": [
    "findall(x->x>14, ar)"
   ]
  },
  {
   "cell_type": "markdown",
   "id": "86f0e469-61a5-431f-8644-c87b2de4a131",
   "metadata": {},
   "source": [
    "# Самостоятельная работа"
   ]
  },
  {
   "cell_type": "markdown",
   "id": "ea58f988ce7ad057",
   "metadata": {
    "collapsed": false,
    "jupyter": {
     "outputs_hidden": false
    }
   },
   "source": [
    "## 1. Пересечение и объединение множеств $A = \\{ 0, 3, 4, 9 \\} $, $B = \\{ 1, 3, 4, 7 \\}$ и $C = \\{ 0, 1, 2, 4, 7, 8, 9 \\}$"
   ]
  },
  {
   "cell_type": "code",
   "execution_count": 59,
   "id": "532e66c0-b135-4fde-80dc-b09c128fc9d1",
   "metadata": {
    "ExecuteTime": {
     "end_time": "2023-11-16T19:00:48.272894800Z",
     "start_time": "2023-11-16T19:00:48.263229700Z"
    }
   },
   "outputs": [
    {
     "data": {
      "text/plain": [
       "(Any[3, 4], [0, 1, 3, 4, 7, 9])"
      ]
     },
     "execution_count": 59,
     "metadata": {},
     "output_type": "execute_result"
    }
   ],
   "source": [
    "function peresech(x, y)\n",
    "    z = []\n",
    "    for i in x\n",
    "        for j in y\n",
    "            if i == j\n",
    "                append!(z, i)\n",
    "            end\n",
    "        end\n",
    "    end\n",
    "    return z\n",
    "end\n",
    "\n",
    "function obyedin(x, y...)\n",
    "    z = x\n",
    "    for i in y\n",
    "        for j in i\n",
    "            if findfirst(isequal(j), z) == nothing\n",
    "                append!(z, j)\n",
    "            end\n",
    "        end\n",
    "    end\n",
    "    return sort(z)\n",
    "end\n",
    "\n",
    "A = [0, 3, 4, 9]\n",
    "B = [1, 3, 4, 7]\n",
    "C = [0, 1, 2, 4, 7, 8, 9]\n",
    "peresech(A,B), obyedin(A,B)"
   ]
  },
  {
   "cell_type": "code",
   "execution_count": 60,
   "id": "1d30f6ab-30fa-4cf1-b046-aacd82502c36",
   "metadata": {},
   "outputs": [
    {
     "data": {
      "text/plain": [
       "(Set([0, 4, 9, 3]), Set([4, 7, 3, 1]), Set([0, 4, 7, 2, 9, 8, 1]))"
      ]
     },
     "execution_count": 60,
     "metadata": {},
     "output_type": "execute_result"
    }
   ],
   "source": [
    "a = Set([0, 3, 4, 9]); b = Set(B); c = Set(C)\n",
    "a, b, c"
   ]
  },
  {
   "cell_type": "code",
   "execution_count": 61,
   "id": "94033def-3365-41e6-863b-464d3b369c31",
   "metadata": {},
   "outputs": [
    {
     "data": {
      "text/plain": [
       "(Set([4, 3]), Set([0, 4, 7, 9, 3, 1]))"
      ]
     },
     "execution_count": 61,
     "metadata": {},
     "output_type": "execute_result"
    }
   ],
   "source": [
    "intersect(a,b), union(a,b)"
   ]
  },
  {
   "cell_type": "markdown",
   "id": "2498088d-1f65-43f1-9f86-9fb769bebbee",
   "metadata": {},
   "source": [
    "Высчитаем формулу из задания: $P = (A\\cap B)\\cup (A\\cap B)\\cup (A\\cap C)\\cup (B\\cap C)$ (разделена скобками для упрощения восприятия)"
   ]
  },
  {
   "cell_type": "code",
   "execution_count": 62,
   "id": "cf7d00f0-0891-4966-aa75-e9b59b246c1b",
   "metadata": {},
   "outputs": [
    {
     "data": {
      "text/plain": [
       "6-element Vector{Any}:\n",
       " 0\n",
       " 1\n",
       " 3\n",
       " 4\n",
       " 7\n",
       " 9"
      ]
     },
     "execution_count": 62,
     "metadata": {},
     "output_type": "execute_result"
    }
   ],
   "source": [
    "t1 = peresech(A,B)\n",
    "t2 = peresech(A,C)\n",
    "t3 = peresech(B,C)\n",
    "P = obyedin(t1,t1,t2,t3)"
   ]
  },
  {
   "cell_type": "markdown",
   "id": "428af7d5155f644",
   "metadata": {
    "collapsed": false,
    "jupyter": {
     "outputs_hidden": false
    }
   },
   "source": [
    "## 2. Примеры с выполнением операций над множествами элементов разных типов"
   ]
  },
  {
   "cell_type": "code",
   "execution_count": 63,
   "id": "1521cda87f3325fb",
   "metadata": {
    "collapsed": false,
    "jupyter": {
     "outputs_hidden": false
    }
   },
   "outputs": [
    {
     "data": {
      "text/plain": [
       "Set{Any} with 9 elements:\n",
       "  5\n",
       "  4\n",
       "  \"Ка\"\n",
       "  6\n",
       "  2\n",
       "  \"Бака\"\n",
       "  \"Бу\"\n",
       "  3\n",
       "  1"
      ]
     },
     "execution_count": 63,
     "metadata": {},
     "output_type": "execute_result"
    }
   ],
   "source": [
    "t = Set([1 2 3; 4 5 6; \"Бу\" \"Ка\" \"Бака\"])"
   ]
  },
  {
   "cell_type": "code",
   "execution_count": 64,
   "id": "70dd35c3-c826-4bbf-9e95-951998f468af",
   "metadata": {},
   "outputs": [
    {
     "data": {
      "text/plain": [
       "true"
      ]
     },
     "execution_count": 64,
     "metadata": {},
     "output_type": "execute_result"
    }
   ],
   "source": [
    "1 in t"
   ]
  },
  {
   "cell_type": "code",
   "execution_count": 65,
   "id": "582628fa-873e-466c-9ffc-1595c22508e8",
   "metadata": {},
   "outputs": [
    {
     "data": {
      "text/plain": [
       "false"
      ]
     },
     "execution_count": 65,
     "metadata": {},
     "output_type": "execute_result"
    }
   ],
   "source": [
    "0 in t"
   ]
  },
  {
   "cell_type": "code",
   "execution_count": 66,
   "id": "b7bdcd6f-39f5-4d92-b999-c0d4ec98bcb3",
   "metadata": {},
   "outputs": [
    {
     "data": {
      "text/plain": [
       "false"
      ]
     },
     "execution_count": 66,
     "metadata": {},
     "output_type": "execute_result"
    }
   ],
   "source": [
    "[1, 2, 3] in t"
   ]
  },
  {
   "cell_type": "code",
   "execution_count": 67,
   "id": "500aa1eb-92c0-4a8e-96db-c37ac48296b9",
   "metadata": {},
   "outputs": [
    {
     "data": {
      "text/plain": [
       "Set{Any} with 4 elements:\n",
       "  4\n",
       "  2\n",
       "  3\n",
       "  1"
      ]
     },
     "execution_count": 67,
     "metadata": {},
     "output_type": "execute_result"
    }
   ],
   "source": [
    "intersect(Set([1, 2, 3, 4, 7, 8, 10]), t)"
   ]
  },
  {
   "cell_type": "code",
   "execution_count": 68,
   "id": "d89496f6-6431-43a2-baba-55a1d3de096d",
   "metadata": {},
   "outputs": [
    {
     "data": {
      "text/plain": [
       "Set{Any} with 12 elements:\n",
       "  5\n",
       "  \"Ка\"\n",
       "  7\n",
       "  \"Бака\"\n",
       "  8\n",
       "  \"Бу\"\n",
       "  1\n",
       "  4\n",
       "  6\n",
       "  2\n",
       "  10\n",
       "  3"
      ]
     },
     "execution_count": 68,
     "metadata": {},
     "output_type": "execute_result"
    }
   ],
   "source": [
    "union(Set([1, 2, 3, 4, 7, 8, 10]), t)"
   ]
  },
  {
   "cell_type": "code",
   "execution_count": 69,
   "id": "72941a03-0683-46e0-9616-5e9f5be3c2d9",
   "metadata": {},
   "outputs": [
    {
     "data": {
      "text/plain": [
       "Set{Int64} with 3 elements:\n",
       "  7\n",
       "  10\n",
       "  8"
      ]
     },
     "execution_count": 69,
     "metadata": {},
     "output_type": "execute_result"
    }
   ],
   "source": [
    "setdiff(Set([1, 2, 3, 4, 7, 8, 10]), t)"
   ]
  },
  {
   "cell_type": "code",
   "execution_count": 70,
   "id": "1558d495-34a5-4d40-98bf-159aa9b1cfde",
   "metadata": {},
   "outputs": [
    {
     "data": {
      "text/plain": [
       "Set{Any} with 5 elements:\n",
       "  5\n",
       "  \"Ка\"\n",
       "  6\n",
       "  \"Бака\"\n",
       "  \"Бу\""
      ]
     },
     "execution_count": 70,
     "metadata": {},
     "output_type": "execute_result"
    }
   ],
   "source": [
    "setdiff(t, Set([1, 2, 3, 4, 7, 8, 10]))"
   ]
  },
  {
   "cell_type": "markdown",
   "id": "432d4c942d2d4219",
   "metadata": {
    "collapsed": false,
    "jupyter": {
     "outputs_hidden": false
    }
   },
   "source": [
    "## 3. Создать разными способами несколько видов массивов"
   ]
  },
  {
   "cell_type": "markdown",
   "id": "ee3c952e-17cc-4e45-9f1f-a24b7a678e7e",
   "metadata": {},
   "source": [
    "### 1. массив $(1, 2, 3, … N − 1, N)$, $N$ выберите больше 20"
   ]
  },
  {
   "cell_type": "code",
   "execution_count": 71,
   "id": "8c27d63fc98f8d8e",
   "metadata": {
    "collapsed": false,
    "jupyter": {
     "outputs_hidden": false
    }
   },
   "outputs": [
    {
     "data": {
      "text/plain": [
       "100-element Vector{Int64}:\n",
       "   1\n",
       "   2\n",
       "   3\n",
       "   4\n",
       "   5\n",
       "   6\n",
       "   7\n",
       "   8\n",
       "   9\n",
       "  10\n",
       "  11\n",
       "  12\n",
       "  13\n",
       "   ⋮\n",
       "  89\n",
       "  90\n",
       "  91\n",
       "  92\n",
       "  93\n",
       "  94\n",
       "  95\n",
       "  96\n",
       "  97\n",
       "  98\n",
       "  99\n",
       " 100"
      ]
     },
     "execution_count": 71,
     "metadata": {},
     "output_type": "execute_result"
    }
   ],
   "source": [
    "N = 100\n",
    "t = zeros(Int64, N)\n",
    "for i in 1:N\n",
    "    t[i] = i\n",
    "end\n",
    "t"
   ]
  },
  {
   "cell_type": "code",
   "execution_count": 72,
   "id": "86a28b9f-cece-4ad6-9a46-030d3df482a6",
   "metadata": {},
   "outputs": [
    {
     "data": {
      "text/plain": [
       "100-element Vector{Int64}:\n",
       "   1\n",
       "   2\n",
       "   3\n",
       "   4\n",
       "   5\n",
       "   6\n",
       "   7\n",
       "   8\n",
       "   9\n",
       "  10\n",
       "  11\n",
       "  12\n",
       "  13\n",
       "   ⋮\n",
       "  89\n",
       "  90\n",
       "  91\n",
       "  92\n",
       "  93\n",
       "  94\n",
       "  95\n",
       "  96\n",
       "  97\n",
       "  98\n",
       "  99\n",
       " 100"
      ]
     },
     "execution_count": 72,
     "metadata": {},
     "output_type": "execute_result"
    }
   ],
   "source": [
    "t = collect(1:N)\n",
    "t"
   ]
  },
  {
   "cell_type": "code",
   "execution_count": 73,
   "id": "3ec06be0-1d41-46af-87ac-0eb3bd7c44af",
   "metadata": {},
   "outputs": [
    {
     "data": {
      "text/plain": [
       "100-element Vector{Int64}:\n",
       "   1\n",
       "   2\n",
       "   3\n",
       "   4\n",
       "   5\n",
       "   6\n",
       "   7\n",
       "   8\n",
       "   9\n",
       "  10\n",
       "  11\n",
       "  12\n",
       "  13\n",
       "   ⋮\n",
       "  89\n",
       "  90\n",
       "  91\n",
       "  92\n",
       "  93\n",
       "  94\n",
       "  95\n",
       "  96\n",
       "  97\n",
       "  98\n",
       "  99\n",
       " 100"
      ]
     },
     "execution_count": 73,
     "metadata": {},
     "output_type": "execute_result"
    }
   ],
   "source": [
    "t = [i for i in 1:N]"
   ]
  },
  {
   "cell_type": "markdown",
   "id": "5208bf23a4bba7c8",
   "metadata": {
    "collapsed": false,
    "jupyter": {
     "outputs_hidden": false
    }
   },
   "source": [
    "### 2. массив $(N, N − 1 … , 2, 1)$, $N$ выберите больше 20"
   ]
  },
  {
   "cell_type": "code",
   "execution_count": 74,
   "id": "43684939-8f22-411a-b05d-c0ce29387457",
   "metadata": {},
   "outputs": [
    {
     "data": {
      "text/plain": [
       "100-element Vector{Int64}:\n",
       " 100\n",
       "  99\n",
       "  98\n",
       "  97\n",
       "  96\n",
       "  95\n",
       "  94\n",
       "  93\n",
       "  92\n",
       "  91\n",
       "  90\n",
       "  89\n",
       "  88\n",
       "   ⋮\n",
       "  12\n",
       "  11\n",
       "  10\n",
       "   9\n",
       "   8\n",
       "   7\n",
       "   6\n",
       "   5\n",
       "   4\n",
       "   3\n",
       "   2\n",
       "   1"
      ]
     },
     "execution_count": 74,
     "metadata": {},
     "output_type": "execute_result"
    }
   ],
   "source": [
    "t = zeros(Int64, N)\n",
    "for i in N:-1:1\n",
    "    t[N-i+1] = i\n",
    "end\n",
    "t"
   ]
  },
  {
   "cell_type": "code",
   "execution_count": 75,
   "id": "7a1ea66505e48042",
   "metadata": {
    "collapsed": false,
    "jupyter": {
     "outputs_hidden": false
    }
   },
   "outputs": [
    {
     "data": {
      "text/plain": [
       "100-element Vector{Int64}:\n",
       " 100\n",
       "  99\n",
       "  98\n",
       "  97\n",
       "  96\n",
       "  95\n",
       "  94\n",
       "  93\n",
       "  92\n",
       "  91\n",
       "  90\n",
       "  89\n",
       "  88\n",
       "   ⋮\n",
       "  12\n",
       "  11\n",
       "  10\n",
       "   9\n",
       "   8\n",
       "   7\n",
       "   6\n",
       "   5\n",
       "   4\n",
       "   3\n",
       "   2\n",
       "   1"
      ]
     },
     "execution_count": 75,
     "metadata": {},
     "output_type": "execute_result"
    }
   ],
   "source": [
    "t = collect(N:-1:1)\n",
    "t"
   ]
  },
  {
   "cell_type": "code",
   "execution_count": 76,
   "id": "93ea312a-a8ba-4fc0-a265-36115d3f2b6c",
   "metadata": {},
   "outputs": [
    {
     "data": {
      "text/plain": [
       "100-element Vector{Int64}:\n",
       " 100\n",
       "  99\n",
       "  98\n",
       "  97\n",
       "  96\n",
       "  95\n",
       "  94\n",
       "  93\n",
       "  92\n",
       "  91\n",
       "  90\n",
       "  89\n",
       "  88\n",
       "   ⋮\n",
       "  12\n",
       "  11\n",
       "  10\n",
       "   9\n",
       "   8\n",
       "   7\n",
       "   6\n",
       "   5\n",
       "   4\n",
       "   3\n",
       "   2\n",
       "   1"
      ]
     },
     "execution_count": 76,
     "metadata": {},
     "output_type": "execute_result"
    }
   ],
   "source": [
    "t = [N-i+1 for i in 1:N]"
   ]
  },
  {
   "cell_type": "markdown",
   "id": "9c0386fa64ef188",
   "metadata": {
    "collapsed": false,
    "jupyter": {
     "outputs_hidden": false
    }
   },
   "source": [
    "### 3. массив $(1, 2, 3, … , N − 1, N, N − 1, … , 2, 1)$, $N$ выберите больше 20"
   ]
  },
  {
   "cell_type": "code",
   "execution_count": 77,
   "id": "e48edfae-9dd1-4fa7-8a20-40358dee6600",
   "metadata": {},
   "outputs": [
    {
     "data": {
      "text/plain": [
       "199-element Vector{Int64}:\n",
       "  1\n",
       "  2\n",
       "  3\n",
       "  4\n",
       "  5\n",
       "  6\n",
       "  7\n",
       "  8\n",
       "  9\n",
       " 10\n",
       " 11\n",
       " 12\n",
       " 13\n",
       "  ⋮\n",
       " 12\n",
       " 11\n",
       " 10\n",
       "  9\n",
       "  8\n",
       "  7\n",
       "  6\n",
       "  5\n",
       "  4\n",
       "  3\n",
       "  2\n",
       "  1"
      ]
     },
     "execution_count": 77,
     "metadata": {},
     "output_type": "execute_result"
    }
   ],
   "source": [
    "t = zeros(Int64, 2*N-1)\n",
    "for i in 1:N\n",
    "    t[i] = i\n",
    "end\n",
    "for i in 1:N-1\n",
    "    t[i+N] = N-i\n",
    "end\n",
    "t"
   ]
  },
  {
   "cell_type": "code",
   "execution_count": 78,
   "id": "fe282f92ab6de30f",
   "metadata": {
    "collapsed": false,
    "jupyter": {
     "outputs_hidden": false
    }
   },
   "outputs": [
    {
     "data": {
      "text/plain": [
       "199-element Vector{Int64}:\n",
       "  1\n",
       "  2\n",
       "  3\n",
       "  4\n",
       "  5\n",
       "  6\n",
       "  7\n",
       "  8\n",
       "  9\n",
       " 10\n",
       " 11\n",
       " 12\n",
       " 13\n",
       "  ⋮\n",
       " 12\n",
       " 11\n",
       " 10\n",
       "  9\n",
       "  8\n",
       "  7\n",
       "  6\n",
       "  5\n",
       "  4\n",
       "  3\n",
       "  2\n",
       "  1"
      ]
     },
     "execution_count": 78,
     "metadata": {},
     "output_type": "execute_result"
    }
   ],
   "source": [
    "t = cat([i for i in 1:N], [i for i in N-1:-1:1], dims=1)"
   ]
  },
  {
   "cell_type": "code",
   "execution_count": 79,
   "id": "62ecbc1d-71b7-49ed-84d2-45e5340a9afb",
   "metadata": {},
   "outputs": [
    {
     "data": {
      "text/plain": [
       "200-element Vector{Int64}:\n",
       "  1\n",
       "  2\n",
       "  3\n",
       "  4\n",
       "  5\n",
       "  6\n",
       "  7\n",
       "  8\n",
       "  9\n",
       " 10\n",
       " 11\n",
       " 12\n",
       " 13\n",
       "  ⋮\n",
       " 12\n",
       " 11\n",
       " 10\n",
       "  9\n",
       "  8\n",
       "  7\n",
       "  6\n",
       "  5\n",
       "  4\n",
       "  3\n",
       "  2\n",
       "  1"
      ]
     },
     "execution_count": 79,
     "metadata": {},
     "output_type": "execute_result"
    }
   ],
   "source": [
    "t = vcat(collect(1:N), collect(N:-1:1))"
   ]
  },
  {
   "cell_type": "markdown",
   "id": "6407510730a11ebe",
   "metadata": {
    "collapsed": false,
    "jupyter": {
     "outputs_hidden": false
    }
   },
   "source": [
    "### 4. массив с именем `tmp` вида $(4, 6, 3)$"
   ]
  },
  {
   "cell_type": "code",
   "execution_count": 80,
   "id": "20614691982b6b62",
   "metadata": {
    "collapsed": false,
    "jupyter": {
     "outputs_hidden": false
    }
   },
   "outputs": [
    {
     "data": {
      "text/plain": [
       "3-element Vector{Int64}:\n",
       " 4\n",
       " 6\n",
       " 3"
      ]
     },
     "execution_count": 80,
     "metadata": {},
     "output_type": "execute_result"
    }
   ],
   "source": [
    "t1 = 4; t2 = 6; t3 = 3\n",
    "tmp = [t1, t2, t3]"
   ]
  },
  {
   "cell_type": "code",
   "execution_count": 81,
   "id": "62faab5a-f54b-4a43-8bd2-436caba76bf8",
   "metadata": {},
   "outputs": [
    {
     "data": {
      "text/plain": [
       "3-element Vector{Int64}:\n",
       " 4\n",
       " 6\n",
       " 3"
      ]
     },
     "execution_count": 81,
     "metadata": {},
     "output_type": "execute_result"
    }
   ],
   "source": [
    "tmp = [4, 6, 3]"
   ]
  },
  {
   "cell_type": "markdown",
   "id": "7a3a7c6974bac2b8",
   "metadata": {
    "collapsed": false,
    "jupyter": {
     "outputs_hidden": false
    }
   },
   "source": [
    "### 5. массив, в котором первый элемент массива `tmp` повторяется $10$ раз"
   ]
  },
  {
   "cell_type": "code",
   "execution_count": 82,
   "id": "f11897ce9f861271",
   "metadata": {
    "collapsed": false,
    "jupyter": {
     "outputs_hidden": false
    }
   },
   "outputs": [
    {
     "data": {
      "text/plain": [
       "10-element Vector{Int64}:\n",
       " 4\n",
       " 4\n",
       " 4\n",
       " 4\n",
       " 4\n",
       " 4\n",
       " 4\n",
       " 4\n",
       " 4\n",
       " 4"
      ]
     },
     "execution_count": 82,
     "metadata": {},
     "output_type": "execute_result"
    }
   ],
   "source": [
    "t1 = zeros(Int64, 10)\n",
    "for i in 1:10\n",
    "    t1[i] = tmp[1]\n",
    "end\n",
    "t1"
   ]
  },
  {
   "cell_type": "code",
   "execution_count": 83,
   "id": "00a420c0-5077-43e0-9115-300656c3e1e4",
   "metadata": {},
   "outputs": [
    {
     "data": {
      "text/plain": [
       "10-element Vector{Int64}:\n",
       " 4\n",
       " 4\n",
       " 4\n",
       " 4\n",
       " 4\n",
       " 4\n",
       " 4\n",
       " 4\n",
       " 4\n",
       " 4"
      ]
     },
     "execution_count": 83,
     "metadata": {},
     "output_type": "execute_result"
    }
   ],
   "source": [
    "t1 = [tmp[1] for i in 1:10]\n",
    "t1"
   ]
  },
  {
   "cell_type": "code",
   "execution_count": 84,
   "id": "6b4abf31-9f92-4b97-aef9-a066a4ce4ba3",
   "metadata": {},
   "outputs": [
    {
     "data": {
      "text/plain": [
       "10-element Vector{Int64}:\n",
       " 4\n",
       " 4\n",
       " 4\n",
       " 4\n",
       " 4\n",
       " 4\n",
       " 4\n",
       " 4\n",
       " 4\n",
       " 4"
      ]
     },
     "execution_count": 84,
     "metadata": {},
     "output_type": "execute_result"
    }
   ],
   "source": [
    "t1 = fill(tmp[1], 10)"
   ]
  },
  {
   "cell_type": "markdown",
   "id": "b2ee2becf6f79547",
   "metadata": {
    "collapsed": false,
    "jupyter": {
     "outputs_hidden": false
    }
   },
   "source": [
    "### 6. массив, в котором все элементы массива `tmp` повторяются $10$ раз"
   ]
  },
  {
   "cell_type": "code",
   "execution_count": 85,
   "id": "74dadecb3ee7e5cb",
   "metadata": {
    "collapsed": false,
    "jupyter": {
     "outputs_hidden": false
    }
   },
   "outputs": [
    {
     "data": {
      "text/plain": [
       "30-element Vector{Int64}:\n",
       " 4\n",
       " 6\n",
       " 3\n",
       " 4\n",
       " 6\n",
       " 3\n",
       " 4\n",
       " 6\n",
       " 3\n",
       " 4\n",
       " 6\n",
       " 3\n",
       " 4\n",
       " ⋮\n",
       " 4\n",
       " 6\n",
       " 3\n",
       " 4\n",
       " 6\n",
       " 3\n",
       " 4\n",
       " 6\n",
       " 3\n",
       " 4\n",
       " 6\n",
       " 3"
      ]
     },
     "execution_count": 85,
     "metadata": {},
     "output_type": "execute_result"
    }
   ],
   "source": [
    "t2 = zeros(Int64, 30)\n",
    "for i in 0:9\n",
    "    t2[3*i+1] = tmp[1]\n",
    "    t2[3*i+2] = tmp[2]\n",
    "    t2[3*i+3] = tmp[3]\n",
    "end\n",
    "t2"
   ]
  },
  {
   "cell_type": "code",
   "execution_count": 86,
   "id": "70be7b83-2732-4911-94e7-747b3c60cc5b",
   "metadata": {},
   "outputs": [
    {
     "data": {
      "text/plain": [
       "30-element Vector{Int64}:\n",
       " 4\n",
       " 6\n",
       " 3\n",
       " 4\n",
       " 6\n",
       " 3\n",
       " 4\n",
       " 6\n",
       " 3\n",
       " 4\n",
       " 6\n",
       " 3\n",
       " 4\n",
       " ⋮\n",
       " 4\n",
       " 6\n",
       " 3\n",
       " 4\n",
       " 6\n",
       " 3\n",
       " 4\n",
       " 6\n",
       " 3\n",
       " 4\n",
       " 6\n",
       " 3"
      ]
     },
     "execution_count": 86,
     "metadata": {},
     "output_type": "execute_result"
    }
   ],
   "source": [
    "t2 = repeat(tmp, 10)\n",
    "t2"
   ]
  },
  {
   "cell_type": "markdown",
   "id": "3e385b03fed51c0e",
   "metadata": {
    "collapsed": false,
    "jupyter": {
     "outputs_hidden": false
    }
   },
   "source": [
    "### 7. массив, в котором первый элемент массива `tmp` встречается $11$ раз, второй элемент — $10$ раз, третий элемент — $10$ раз"
   ]
  },
  {
   "cell_type": "code",
   "execution_count": 87,
   "id": "c3a949a89a883778",
   "metadata": {
    "collapsed": false,
    "jupyter": {
     "outputs_hidden": false
    }
   },
   "outputs": [
    {
     "data": {
      "text/plain": [
       "31-element Vector{Int64}:\n",
       " 4\n",
       " 4\n",
       " 4\n",
       " 4\n",
       " 4\n",
       " 4\n",
       " 4\n",
       " 4\n",
       " 4\n",
       " 4\n",
       " 4\n",
       " 6\n",
       " 3\n",
       " ⋮\n",
       " 6\n",
       " 3\n",
       " 6\n",
       " 3\n",
       " 6\n",
       " 3\n",
       " 6\n",
       " 3\n",
       " 6\n",
       " 3\n",
       " 6\n",
       " 3"
      ]
     },
     "execution_count": 87,
     "metadata": {},
     "output_type": "execute_result"
    }
   ],
   "source": [
    "t3 = [tmp[1] for i in 1:11]\n",
    "for i in 1:10\n",
    "    append!(t3, tmp[2])\n",
    "    append!(t3, tmp[3])\n",
    "end\n",
    "t3"
   ]
  },
  {
   "cell_type": "code",
   "execution_count": 88,
   "id": "9969bfac-a4fd-49c1-8c8a-625954ab9c07",
   "metadata": {},
   "outputs": [
    {
     "data": {
      "text/plain": [
       "31-element Vector{Int64}:\n",
       " 4\n",
       " 6\n",
       " 3\n",
       " 4\n",
       " 6\n",
       " 3\n",
       " 4\n",
       " 6\n",
       " 3\n",
       " 4\n",
       " 6\n",
       " 3\n",
       " 4\n",
       " ⋮\n",
       " 6\n",
       " 3\n",
       " 4\n",
       " 6\n",
       " 3\n",
       " 4\n",
       " 6\n",
       " 3\n",
       " 4\n",
       " 6\n",
       " 3\n",
       " 4"
      ]
     },
     "execution_count": 88,
     "metadata": {},
     "output_type": "execute_result"
    }
   ],
   "source": [
    "t3 = repeat(tmp, 10)\n",
    "append!(t3, tmp[1])\n",
    "t3"
   ]
  },
  {
   "cell_type": "code",
   "execution_count": 89,
   "id": "d0849671-888b-46b9-b167-64ac744bfbdb",
   "metadata": {},
   "outputs": [
    {
     "data": {
      "text/plain": [
       "31-element Vector{Int64}:\n",
       " 4\n",
       " 4\n",
       " 4\n",
       " 4\n",
       " 4\n",
       " 4\n",
       " 4\n",
       " 4\n",
       " 4\n",
       " 4\n",
       " 4\n",
       " 6\n",
       " 6\n",
       " ⋮\n",
       " 6\n",
       " 6\n",
       " 3\n",
       " 3\n",
       " 3\n",
       " 3\n",
       " 3\n",
       " 3\n",
       " 3\n",
       " 3\n",
       " 3\n",
       " 3"
      ]
     },
     "execution_count": 89,
     "metadata": {},
     "output_type": "execute_result"
    }
   ],
   "source": [
    "t3 = cat([tmp[1] for i in 1:11], [tmp[2] for i in 1:10], [tmp[3] for i in 1:10], dims=1)"
   ]
  },
  {
   "cell_type": "markdown",
   "id": "5f09a1769794404c",
   "metadata": {
    "collapsed": false,
    "jupyter": {
     "outputs_hidden": false
    }
   },
   "source": [
    "### 8. массив, в котором первый элемент массива tmp встречается $10$ раз подряд, второй элемент — $20$ раз подряд, третий элемент — $30$ раз подряд"
   ]
  },
  {
   "cell_type": "code",
   "execution_count": 90,
   "id": "37b22cfdfd0dd255",
   "metadata": {
    "collapsed": false,
    "jupyter": {
     "outputs_hidden": false
    }
   },
   "outputs": [
    {
     "data": {
      "text/plain": [
       "60-element Vector{Int64}:\n",
       " 4\n",
       " 4\n",
       " 4\n",
       " 4\n",
       " 4\n",
       " 4\n",
       " 4\n",
       " 4\n",
       " 4\n",
       " 4\n",
       " 6\n",
       " 3\n",
       " 6\n",
       " ⋮\n",
       " 6\n",
       " 3\n",
       " 3\n",
       " 3\n",
       " 3\n",
       " 3\n",
       " 3\n",
       " 3\n",
       " 3\n",
       " 3\n",
       " 3\n",
       " 3"
      ]
     },
     "execution_count": 90,
     "metadata": {},
     "output_type": "execute_result"
    }
   ],
   "source": [
    "t3 = [tmp[1] for i in 1:10]\n",
    "for i in 1:20\n",
    "    append!(t3, tmp[2])\n",
    "    append!(t3, tmp[3])\n",
    "end\n",
    "for i in 1:10\n",
    "    append!(t3, tmp[3])\n",
    "end\n",
    "t3"
   ]
  },
  {
   "cell_type": "code",
   "execution_count": 91,
   "id": "771b1016-54e2-4a66-ae7b-262e0629aa03",
   "metadata": {},
   "outputs": [
    {
     "data": {
      "text/plain": [
       "60-element Vector{Int64}:\n",
       " 4\n",
       " 6\n",
       " 3\n",
       " 4\n",
       " 6\n",
       " 3\n",
       " 4\n",
       " 6\n",
       " 3\n",
       " 4\n",
       " 6\n",
       " 3\n",
       " 4\n",
       " ⋮\n",
       " 6\n",
       " 3\n",
       " 3\n",
       " 3\n",
       " 3\n",
       " 3\n",
       " 3\n",
       " 3\n",
       " 3\n",
       " 3\n",
       " 3\n",
       " 3"
      ]
     },
     "execution_count": 91,
     "metadata": {},
     "output_type": "execute_result"
    }
   ],
   "source": [
    "t3 = repeat(tmp, 10)\n",
    "for i in 1:10\n",
    "    append!(t3, tmp[2])\n",
    "    append!(t3, tmp[3])\n",
    "end\n",
    "for i in 1:10\n",
    "    append!(t3, tmp[3])\n",
    "end\n",
    "t3"
   ]
  },
  {
   "cell_type": "code",
   "execution_count": 92,
   "id": "144f67ae-18e9-4828-a9ec-af8a07cae9f0",
   "metadata": {},
   "outputs": [
    {
     "data": {
      "text/plain": [
       "60-element Vector{Int64}:\n",
       " 4\n",
       " 4\n",
       " 4\n",
       " 4\n",
       " 4\n",
       " 4\n",
       " 4\n",
       " 4\n",
       " 4\n",
       " 4\n",
       " 6\n",
       " 6\n",
       " 6\n",
       " ⋮\n",
       " 3\n",
       " 3\n",
       " 3\n",
       " 3\n",
       " 3\n",
       " 3\n",
       " 3\n",
       " 3\n",
       " 3\n",
       " 3\n",
       " 3\n",
       " 3"
      ]
     },
     "execution_count": 92,
     "metadata": {},
     "output_type": "execute_result"
    }
   ],
   "source": [
    "t3 = cat([tmp[1] for i in 1:10], [tmp[2] for i in 1:20], [tmp[3] for i in 1:30], dims=1)"
   ]
  },
  {
   "cell_type": "markdown",
   "id": "50d6a24ef12ad76a",
   "metadata": {
    "collapsed": false,
    "jupyter": {
     "outputs_hidden": false
    }
   },
   "source": [
    "### 9. массив из элементов вида $2^{tmp[i]}, \\qquad i = 1, 2, 3$, где элемент $2^{tmp[i]}$ встречается $4$ раза; посчитайте в полученном векторе, сколько раз встречается цифра $6$, и выведите это значение на экран"
   ]
  },
  {
   "cell_type": "code",
   "execution_count": 93,
   "id": "af3c3f9857db9cdd",
   "metadata": {
    "collapsed": false,
    "jupyter": {
     "outputs_hidden": false
    }
   },
   "outputs": [
    {
     "data": {
      "text/plain": [
       "12-element Vector{Any}:\n",
       " 16\n",
       " 64\n",
       "  8\n",
       " 16\n",
       " 64\n",
       "  8\n",
       " 16\n",
       " 64\n",
       "  8\n",
       " 16\n",
       " 64\n",
       "  8"
      ]
     },
     "execution_count": 93,
     "metadata": {},
     "output_type": "execute_result"
    }
   ],
   "source": [
    "t2 = []\n",
    "tmpsize = size(tmp)[1]\n",
    "for i in 1:4\n",
    "    for j in 1:tmpsize\n",
    "        append!(t2, 2^(tmp[j]))\n",
    "    end\n",
    "end\n",
    "t2"
   ]
  },
  {
   "cell_type": "code",
   "execution_count": 94,
   "id": "97b8f260-acd8-43d6-9a94-156dabdabae1",
   "metadata": {},
   "outputs": [
    {
     "data": {
      "text/plain": [
       "12-element Vector{Int64}:\n",
       " 16\n",
       " 64\n",
       "  8\n",
       " 16\n",
       " 64\n",
       "  8\n",
       " 16\n",
       " 64\n",
       "  8\n",
       " 16\n",
       " 64\n",
       "  8"
      ]
     },
     "execution_count": 94,
     "metadata": {},
     "output_type": "execute_result"
    }
   ],
   "source": [
    "t2 = fill(2, 4*tmpsize)\n",
    "for i in 0:3\n",
    "    for j in 1:3 \n",
    "        t2[i*tmpsize+j] = t2[i*tmpsize+j] ^ tmp[j]\n",
    "    end\n",
    "end\n",
    "t2"
   ]
  },
  {
   "cell_type": "code",
   "execution_count": 95,
   "id": "3fb86985-bc00-412a-9b96-8530581522f3",
   "metadata": {},
   "outputs": [
    {
     "data": {
      "text/plain": [
       "12-element Vector{Int64}:\n",
       " 16\n",
       " 64\n",
       "  8\n",
       " 16\n",
       " 64\n",
       "  8\n",
       " 16\n",
       " 64\n",
       "  8\n",
       " 16\n",
       " 64\n",
       "  8"
      ]
     },
     "execution_count": 95,
     "metadata": {},
     "output_type": "execute_result"
    }
   ],
   "source": [
    "t2 = repeat(fill(2, tmpsize).^tmp, 4)"
   ]
  },
  {
   "cell_type": "markdown",
   "id": "69af9e57-650d-4462-97a9-ec39b5fd6f21",
   "metadata": {},
   "source": [
    "Сосчитаем количество $6$ в векторе"
   ]
  },
  {
   "cell_type": "code",
   "execution_count": 96,
   "id": "2c81ac53-c894-4523-bda9-c6f6ed283ae7",
   "metadata": {},
   "outputs": [
    {
     "data": {
      "text/plain": [
       "8"
      ]
     },
     "execution_count": 96,
     "metadata": {},
     "output_type": "execute_result"
    }
   ],
   "source": [
    "size(findall(isequal(\"6\"), split(join(string.(t2)), \"\")))[1]"
   ]
  },
  {
   "cell_type": "code",
   "execution_count": 97,
   "id": "2ee9afb2-3de7-46fa-926a-442a4071882f",
   "metadata": {},
   "outputs": [
    {
     "data": {
      "text/plain": [
       "8"
      ]
     },
     "execution_count": 97,
     "metadata": {},
     "output_type": "execute_result"
    }
   ],
   "source": [
    "count(\"6\", join(string.(t2)))"
   ]
  },
  {
   "cell_type": "markdown",
   "id": "5ec5ec6624f53118",
   "metadata": {
    "collapsed": false,
    "jupyter": {
     "outputs_hidden": false
    }
   },
   "source": [
    "### 10. вектор значений $y = e^{x} \\cdot cos(x)$ в точках $x = 3, 3.1, 3.2, … , 6$, найдите среднее значение $y$"
   ]
  },
  {
   "cell_type": "code",
   "execution_count": 98,
   "id": "53b572acdfe95be1",
   "metadata": {
    "collapsed": false,
    "jupyter": {
     "outputs_hidden": false
    }
   },
   "outputs": [
    {
     "data": {
      "text/plain": [
       "31-element Vector{Float64}:\n",
       " -19.884530844146987\n",
       " -22.178753389342127\n",
       " -24.490696732801293\n",
       " -26.77318244299338\n",
       " -28.969237768093574\n",
       " -31.011186439374516\n",
       " -32.819774760338504\n",
       " -34.30336011037369\n",
       " -35.35719361853035\n",
       " -35.86283371230767\n",
       " -35.68773248011913\n",
       " -34.68504225166807\n",
       " -32.693695428321746\n",
       "   ⋮\n",
       "  25.046704998273004\n",
       "  42.09920106253839\n",
       "  61.99663027669454\n",
       "  84.92906736250268\n",
       " 111.0615860420258\n",
       " 140.5250750527875\n",
       " 173.40577640857734\n",
       " 209.73349424783467\n",
       " 249.46844055885668\n",
       " 292.4867067371223\n",
       " 338.5643778585117\n",
       " 387.36034029093076"
      ]
     },
     "execution_count": 98,
     "metadata": {},
     "output_type": "execute_result"
    }
   ],
   "source": [
    "t1 = collect(3:0.1:6)\n",
    "t = ones(size(t1)[1])\n",
    "for i in 1:size(t1)[1]\n",
    "    t[i] = exp(t1[i])*cos(t1[i])\n",
    "end\n",
    "t"
   ]
  },
  {
   "cell_type": "code",
   "execution_count": 99,
   "id": "b9a23833-cff5-4eb2-bbbd-420931dab0b4",
   "metadata": {},
   "outputs": [
    {
     "data": {
      "text/plain": [
       "31-element Vector{Float64}:\n",
       " -19.884530844146987\n",
       " -22.178753389342127\n",
       " -24.490696732801293\n",
       " -26.77318244299338\n",
       " -28.969237768093574\n",
       " -31.011186439374516\n",
       " -32.819774760338504\n",
       " -34.30336011037369\n",
       " -35.35719361853035\n",
       " -35.86283371230767\n",
       " -35.68773248011913\n",
       " -34.68504225166807\n",
       " -32.693695428321746\n",
       "   ⋮\n",
       "  25.046704998273004\n",
       "  42.09920106253839\n",
       "  61.99663027669454\n",
       "  84.92906736250268\n",
       " 111.0615860420258\n",
       " 140.5250750527875\n",
       " 173.40577640857734\n",
       " 209.73349424783467\n",
       " 249.46844055885668\n",
       " 292.4867067371223\n",
       " 338.5643778585117\n",
       " 387.36034029093076"
      ]
     },
     "execution_count": 99,
     "metadata": {},
     "output_type": "execute_result"
    }
   ],
   "source": [
    "t = [exp(i)*cos(i) for i in 3:0.1:6]"
   ]
  },
  {
   "cell_type": "markdown",
   "id": "a1e1426a-74db-4ae3-ad08-975e0c6d96cd",
   "metadata": {},
   "source": [
    "Среднее значение вектора $y$"
   ]
  },
  {
   "cell_type": "code",
   "execution_count": 100,
   "id": "a1c16943-cfd5-4d52-891d-acf0328b1b09",
   "metadata": {},
   "outputs": [
    {
     "data": {
      "text/plain": [
       "53.11374594642971"
      ]
     },
     "execution_count": 100,
     "metadata": {},
     "output_type": "execute_result"
    }
   ],
   "source": [
    "sum(t)/size(t)[1]"
   ]
  },
  {
   "cell_type": "markdown",
   "id": "c539839abb8476cf",
   "metadata": {
    "collapsed": false,
    "jupyter": {
     "outputs_hidden": false
    }
   },
   "source": [
    "### 11. вектор вида $(x^i, y^j)$, $x = 0.1, \\quad i = 3, 6, 9, …, 36, \\quad y = 0.2, \\quad j = 1, 4, 7, …, 34$"
   ]
  },
  {
   "cell_type": "code",
   "execution_count": 101,
   "id": "c11c9778-2340-4d4a-958f-891583ebae38",
   "metadata": {},
   "outputs": [
    {
     "data": {
      "text/plain": [
       "12×2 Matrix{Float64}:\n",
       " 0.001    0.2\n",
       " 1.0e-6   0.0016\n",
       " 1.0e-9   1.28e-5\n",
       " 1.0e-12  1.024e-7\n",
       " 1.0e-15  8.192e-10\n",
       " 1.0e-18  6.5536e-12\n",
       " 1.0e-21  5.24288e-14\n",
       " 1.0e-24  4.1943e-16\n",
       " 1.0e-27  3.35544e-18\n",
       " 1.0e-30  2.68435e-20\n",
       " 1.0e-33  2.14748e-22\n",
       " 1.0e-36  1.71799e-24"
      ]
     },
     "execution_count": 101,
     "metadata": {},
     "output_type": "execute_result"
    }
   ],
   "source": [
    "t1 = collect(3:3:36)\n",
    "t2 = collect(1:3:34)\n",
    "t = zeros((size(t1)[1], 2))\n",
    "for i in 1:size(t1)[1]\n",
    "    t[i,1] = 0.1^t1[i]\n",
    "    t[i,2] = 0.2^t2[i]\n",
    "end\n",
    "t"
   ]
  },
  {
   "cell_type": "code",
   "execution_count": 102,
   "id": "4ddd113b4d32e9d1",
   "metadata": {
    "collapsed": false,
    "jupyter": {
     "outputs_hidden": false
    }
   },
   "outputs": [
    {
     "data": {
      "text/plain": [
       "12×2 Matrix{Float64}:\n",
       " 0.001    0.2\n",
       " 1.0e-6   0.0016\n",
       " 1.0e-9   1.28e-5\n",
       " 1.0e-12  1.024e-7\n",
       " 1.0e-15  8.192e-10\n",
       " 1.0e-18  6.5536e-12\n",
       " 1.0e-21  5.24288e-14\n",
       " 1.0e-24  4.1943e-16\n",
       " 1.0e-27  3.35544e-18\n",
       " 1.0e-30  2.68435e-20\n",
       " 1.0e-33  2.14748e-22\n",
       " 1.0e-36  1.71799e-24"
      ]
     },
     "execution_count": 102,
     "metadata": {},
     "output_type": "execute_result"
    }
   ],
   "source": [
    "t = zeros((size(collect(3:3:36))[1], 2))\n",
    "for i in 0:size(collect(3:3:36))[1]-1\n",
    "    t[i+1, 1] = 0.1^(3*(i+1))\n",
    "    t[i+1, 2] = 0.2^(3*i+1)\n",
    "end\n",
    "t"
   ]
  },
  {
   "cell_type": "code",
   "execution_count": 103,
   "id": "01c01357-df70-4877-b5e8-4b6b4aa81e81",
   "metadata": {},
   "outputs": [
    {
     "data": {
      "text/plain": [
       "12×2 Matrix{Float64}:\n",
       " 0.001    0.2\n",
       " 1.0e-6   0.0016\n",
       " 1.0e-9   1.28e-5\n",
       " 1.0e-12  1.024e-7\n",
       " 1.0e-15  8.192e-10\n",
       " 1.0e-18  6.5536e-12\n",
       " 1.0e-21  5.24288e-14\n",
       " 1.0e-24  4.1943e-16\n",
       " 1.0e-27  3.35544e-18\n",
       " 1.0e-30  2.68435e-20\n",
       " 1.0e-33  2.14748e-22\n",
       " 1.0e-36  1.71799e-24"
      ]
     },
     "execution_count": 103,
     "metadata": {},
     "output_type": "execute_result"
    }
   ],
   "source": [
    "t = hcat(fill(0.1, size(collect(3:3:36))[1]), fill(0.2, size(collect(1:3:34))[1]))\n",
    "t[:, 1] = t[:, 1].^collect(3:3:36)\n",
    "t[:, 2] = t[:, 2].^collect(1:3:34)\n",
    "t"
   ]
  },
  {
   "cell_type": "markdown",
   "id": "9be975869a49fe63",
   "metadata": {
    "collapsed": false,
    "jupyter": {
     "outputs_hidden": false
    }
   },
   "source": [
    "### 12. вектор с элементами $\\frac{2^i}{i}$, $i = 1, 2, …, M$, $M = 25$"
   ]
  },
  {
   "cell_type": "code",
   "execution_count": 104,
   "id": "d072f682fce7b77f",
   "metadata": {
    "collapsed": false,
    "jupyter": {
     "outputs_hidden": false
    }
   },
   "outputs": [
    {
     "data": {
      "text/plain": [
       "25-element Vector{Float64}:\n",
       "      2.0\n",
       "      2.0\n",
       "      2.6666666666666665\n",
       "      4.0\n",
       "      6.4\n",
       "     10.666666666666666\n",
       "     18.285714285714285\n",
       "     32.0\n",
       "     56.888888888888886\n",
       "    102.4\n",
       "    186.1818181818182\n",
       "    341.3333333333333\n",
       "    630.1538461538462\n",
       "   1170.2857142857142\n",
       "   2184.5333333333333\n",
       "   4096.0\n",
       "   7710.117647058823\n",
       "  14563.555555555555\n",
       "  27594.105263157893\n",
       "  52428.8\n",
       "  99864.38095238095\n",
       " 190650.18181818182\n",
       " 364722.0869565217\n",
       " 699050.6666666666\n",
       "      1.34217728e6"
      ]
     },
     "execution_count": 104,
     "metadata": {},
     "output_type": "execute_result"
    }
   ],
   "source": [
    "M = 25\n",
    "t = [2^i/i for i in 1:M]"
   ]
  },
  {
   "cell_type": "code",
   "execution_count": 105,
   "id": "5fa452da-1a86-4f0a-8fcc-743e07b960cb",
   "metadata": {},
   "outputs": [
    {
     "data": {
      "text/plain": [
       "25-element Vector{Float64}:\n",
       "      2.0\n",
       "      2.0\n",
       "      2.6666666666666665\n",
       "      4.0\n",
       "      6.4\n",
       "     10.666666666666666\n",
       "     18.285714285714285\n",
       "     32.0\n",
       "     56.888888888888886\n",
       "    102.4\n",
       "    186.1818181818182\n",
       "    341.3333333333333\n",
       "    630.1538461538462\n",
       "   1170.2857142857142\n",
       "   2184.5333333333333\n",
       "   4096.0\n",
       "   7710.117647058823\n",
       "  14563.555555555555\n",
       "  27594.105263157893\n",
       "  52428.8\n",
       "  99864.38095238095\n",
       " 190650.18181818182\n",
       " 364722.0869565217\n",
       " 699050.6666666666\n",
       "      1.34217728e6"
      ]
     },
     "execution_count": 105,
     "metadata": {},
     "output_type": "execute_result"
    }
   ],
   "source": [
    "t = zeros(M)\n",
    "for i in 1:M\n",
    "    t[i] = 2^i/i\n",
    "end\n",
    "t"
   ]
  },
  {
   "cell_type": "code",
   "execution_count": 151,
   "id": "1a040c00-125c-4079-89fa-6f7120468728",
   "metadata": {},
   "outputs": [
    {
     "data": {
      "text/plain": [
       "25-element Vector{Float64}:\n",
       "      2.0\n",
       "      2.0\n",
       "      2.6666666666666665\n",
       "      4.0\n",
       "      6.4\n",
       "     10.666666666666666\n",
       "     18.285714285714285\n",
       "     32.0\n",
       "     56.888888888888886\n",
       "    102.4\n",
       "    186.1818181818182\n",
       "    341.3333333333333\n",
       "    630.1538461538462\n",
       "   1170.2857142857142\n",
       "   2184.5333333333333\n",
       "   4096.0\n",
       "   7710.117647058823\n",
       "  14563.555555555555\n",
       "  27594.105263157893\n",
       "  52428.8\n",
       "  99864.38095238095\n",
       " 190650.18181818182\n",
       " 364722.0869565217\n",
       " 699050.6666666666\n",
       "      1.34217728e6"
      ]
     },
     "execution_count": 151,
     "metadata": {},
     "output_type": "execute_result"
    }
   ],
   "source": [
    "t = fill(2, M).^collect(1:M)./collect(1:M)\n",
    "t"
   ]
  },
  {
   "cell_type": "markdown",
   "id": "e997e329f419a920",
   "metadata": {
    "collapsed": false,
    "jupyter": {
     "outputs_hidden": false
    }
   },
   "source": [
    "### 13. вектор вида (\"fn1\", \"fn2\", …, \"fnN\"), $N$ = 30"
   ]
  },
  {
   "cell_type": "code",
   "execution_count": 107,
   "id": "46706c059804c0de",
   "metadata": {
    "collapsed": false,
    "jupyter": {
     "outputs_hidden": false
    }
   },
   "outputs": [
    {
     "data": {
      "text/plain": [
       "30-element Vector{String}:\n",
       " \"fn1\"\n",
       " \"fn2\"\n",
       " \"fn3\"\n",
       " \"fn4\"\n",
       " \"fn5\"\n",
       " \"fn6\"\n",
       " \"fn7\"\n",
       " \"fn8\"\n",
       " \"fn9\"\n",
       " \"fn10\"\n",
       " \"fn11\"\n",
       " \"fn12\"\n",
       " \"fn13\"\n",
       " ⋮\n",
       " \"fn19\"\n",
       " \"fn20\"\n",
       " \"fn21\"\n",
       " \"fn22\"\n",
       " \"fn23\"\n",
       " \"fn24\"\n",
       " \"fn25\"\n",
       " \"fn26\"\n",
       " \"fn27\"\n",
       " \"fn28\"\n",
       " \"fn29\"\n",
       " \"fn30\""
      ]
     },
     "execution_count": 107,
     "metadata": {},
     "output_type": "execute_result"
    }
   ],
   "source": [
    "N = 30\n",
    "t = [join([\"fn\", string(i)]) for i in 1:N]"
   ]
  },
  {
   "cell_type": "code",
   "execution_count": 108,
   "id": "b2af1a07-a791-4289-b921-f7bdeddafca7",
   "metadata": {},
   "outputs": [
    {
     "data": {
      "text/plain": [
       "30-element Vector{String}:\n",
       " \"fn1\"\n",
       " \"fn2\"\n",
       " \"fn3\"\n",
       " \"fn4\"\n",
       " \"fn5\"\n",
       " \"fn6\"\n",
       " \"fn7\"\n",
       " \"fn8\"\n",
       " \"fn9\"\n",
       " \"fn10\"\n",
       " \"fn11\"\n",
       " \"fn12\"\n",
       " \"fn13\"\n",
       " ⋮\n",
       " \"fn19\"\n",
       " \"fn20\"\n",
       " \"fn21\"\n",
       " \"fn22\"\n",
       " \"fn23\"\n",
       " \"fn24\"\n",
       " \"fn25\"\n",
       " \"fn26\"\n",
       " \"fn27\"\n",
       " \"fn28\"\n",
       " \"fn29\"\n",
       " \"fn30\""
      ]
     },
     "execution_count": 108,
     "metadata": {},
     "output_type": "execute_result"
    }
   ],
   "source": [
    "t1 = string.(collect(1:N))\n",
    "t2 = fill(\"fn\", N)\n",
    "t = join.([t2[i],t1[i]] for i in 1:N)"
   ]
  },
  {
   "cell_type": "markdown",
   "id": "7017258d6860049d",
   "metadata": {
    "collapsed": false,
    "jupyter": {
     "outputs_hidden": false
    }
   },
   "source": [
    "### 14. векторы $x = (x_1, x_2, … , x_n)$ и $y = (y_1, y_2, …, y_n)$ целочисленного типа длины $n = 250$ как случайные выборки из совокупности $0, 1, … , 999$ и на их основе создать следующие векторы:"
   ]
  },
  {
   "cell_type": "code",
   "execution_count": 109,
   "id": "7aef45e7295642d3",
   "metadata": {
    "collapsed": false,
    "jupyter": {
     "outputs_hidden": false
    }
   },
   "outputs": [
    {
     "data": {
      "text/plain": [
       "([599, 798, 936, 146, 933, 901, 959, 887, 739, 822  …  745, 213, 881, 223, 854, 871, 95, 349, 956, 822], [131, 787, 473, 713, 637, 68, 823, 807, 781, 60  …  797, 702, 489, 842, 234, 934, 675, 366, 512, 25])"
      ]
     },
     "execution_count": 109,
     "metadata": {},
     "output_type": "execute_result"
    }
   ],
   "source": [
    "n = 250\n",
    "x, y = rand(0:999, n), rand(0:999, n)"
   ]
  },
  {
   "cell_type": "markdown",
   "id": "bd9d7c62-e637-4b04-b65e-64ebfc4dd615",
   "metadata": {},
   "source": [
    "#### сформируйте вектор $(y_2 − x_1, …, y_n − x_{n−1})$;"
   ]
  },
  {
   "cell_type": "code",
   "execution_count": 110,
   "id": "c4499a91-4b11-41f5-b549-34b12a93f59b",
   "metadata": {},
   "outputs": [
    {
     "data": {
      "text/plain": [
       "249-element Vector{Int64}:\n",
       "  188\n",
       " -325\n",
       " -223\n",
       "  491\n",
       " -865\n",
       "  -78\n",
       " -152\n",
       " -106\n",
       " -679\n",
       " -463\n",
       " -916\n",
       "  777\n",
       "  660\n",
       "    ⋮\n",
       " -151\n",
       "  337\n",
       "   30\n",
       "  -43\n",
       "  276\n",
       "  -39\n",
       "   11\n",
       "   80\n",
       " -196\n",
       "  271\n",
       "  163\n",
       " -931"
      ]
     },
     "execution_count": 110,
     "metadata": {},
     "output_type": "execute_result"
    }
   ],
   "source": [
    "t = zeros(Int64, n-1)\n",
    "for i in 1:n-1\n",
    "    t[i] = y[i+1]-x[i]\n",
    "end\n",
    "t"
   ]
  },
  {
   "cell_type": "code",
   "execution_count": 111,
   "id": "6f2ee3fd-66c8-47d7-bac4-214478944ee6",
   "metadata": {},
   "outputs": [
    {
     "data": {
      "text/plain": [
       "249-element Vector{Int64}:\n",
       "  188\n",
       " -325\n",
       " -223\n",
       "  491\n",
       " -865\n",
       "  -78\n",
       " -152\n",
       " -106\n",
       " -679\n",
       " -463\n",
       " -916\n",
       "  777\n",
       "  660\n",
       "    ⋮\n",
       " -151\n",
       "  337\n",
       "   30\n",
       "  -43\n",
       "  276\n",
       "  -39\n",
       "   11\n",
       "   80\n",
       " -196\n",
       "  271\n",
       "  163\n",
       " -931"
      ]
     },
     "execution_count": 111,
     "metadata": {},
     "output_type": "execute_result"
    }
   ],
   "source": [
    "t = [y[i+1]-x[i] for i in 1:n-1]"
   ]
  },
  {
   "cell_type": "markdown",
   "id": "eeaead3a-6024-4e13-baec-a130e35ca672",
   "metadata": {},
   "source": [
    "#### сформируйте вектор $(x_1 + 2x_2 − x_3, x_2 + 2x_3 − x_4, …, x_{n−2} + 2x_{n−1} − x_n)$;"
   ]
  },
  {
   "cell_type": "code",
   "execution_count": 112,
   "id": "7d0bfdc9-513f-4884-b107-15aaf86a17c6",
   "metadata": {},
   "outputs": [
    {
     "data": {
      "text/plain": [
       "248-element Vector{Int64}:\n",
       " 1259\n",
       " 2524\n",
       "  295\n",
       " 1111\n",
       " 1776\n",
       " 1932\n",
       " 1994\n",
       " 1543\n",
       " 1402\n",
       " 2567\n",
       " 1199\n",
       "  546\n",
       "  317\n",
       "    ⋮\n",
       " 2448\n",
       "  350\n",
       "  906\n",
       " 2044\n",
       "  290\n",
       " 1752\n",
       "  473\n",
       " 1060\n",
       " 2501\n",
       "  712\n",
       " -163\n",
       " 1439"
      ]
     },
     "execution_count": 112,
     "metadata": {},
     "output_type": "execute_result"
    }
   ],
   "source": [
    "t = zeros(Int64, n-2)\n",
    "for i in 1:n-2\n",
    "    t[i] += x[i]\n",
    "    t[i] += 2*x[i+1]\n",
    "    t[i] -= x[i+2]\n",
    "end\n",
    "t    "
   ]
  },
  {
   "cell_type": "code",
   "execution_count": 113,
   "id": "97aecf7c-cf9e-4fd7-bded-ec31f6daf2e6",
   "metadata": {},
   "outputs": [
    {
     "data": {
      "text/plain": [
       "248-element Vector{Int64}:\n",
       " 1259\n",
       " 2524\n",
       "  295\n",
       " 1111\n",
       " 1776\n",
       " 1932\n",
       " 1994\n",
       " 1543\n",
       " 1402\n",
       " 2567\n",
       " 1199\n",
       "  546\n",
       "  317\n",
       "    ⋮\n",
       " 2448\n",
       "  350\n",
       "  906\n",
       " 2044\n",
       "  290\n",
       " 1752\n",
       "  473\n",
       " 1060\n",
       " 2501\n",
       "  712\n",
       " -163\n",
       " 1439"
      ]
     },
     "execution_count": 113,
     "metadata": {},
     "output_type": "execute_result"
    }
   ],
   "source": [
    "t = [x[i-2]+2*x[i-1]-x[i] for i in 3:n]"
   ]
  },
  {
   "cell_type": "markdown",
   "id": "9927dcd4-897c-48ce-aab7-3a374342a751",
   "metadata": {},
   "source": [
    "#### сформируйте вектор $(\\frac{sin(y_1)}{cos(x_2)}, \\frac{sin(y_2)}{cos(x_3)}, … , \\frac{sin(y_{n-1})}{cos(x_n)})$;"
   ]
  },
  {
   "cell_type": "code",
   "execution_count": 114,
   "id": "b67e5c5d-a4c5-4915-8fcf-95fe0e86b933",
   "metadata": {},
   "outputs": [
    {
     "data": {
      "text/plain": [
       "249-element Vector{Float64}:\n",
       " -0.8121140868985631\n",
       "  1.0187492027089577\n",
       " 11.69548660066726\n",
       " -0.14125880958717973\n",
       " -0.8418797459810125\n",
       "  1.3081300760049281\n",
       " -0.20260769269220813\n",
       " -0.5074105256897286\n",
       "  2.085501215598547\n",
       " -0.4482791364055335\n",
       " -0.7773105356425388\n",
       " -1.1515959007373768\n",
       " -1.2158591632370919\n",
       "  ⋮\n",
       "  1.313422206114909\n",
       " -0.009903527710614974\n",
       " -1.1057240212368369\n",
       " -1.0157669033063539\n",
       " -4.600714349902583\n",
       "  0.8871602467130308\n",
       "  0.06100228839913869\n",
       " -1.4033598600537407\n",
       " -1.1115935429148585\n",
       " -0.44589167993107853\n",
       "  1.7333003856221905\n",
       "  0.17437395879240855"
      ]
     },
     "execution_count": 114,
     "metadata": {},
     "output_type": "execute_result"
    }
   ],
   "source": [
    "t = zeros(n-1)\n",
    "for i in 1:n-1\n",
    "    t[i] = sin(y[i])/cos(x[i+1])\n",
    "end\n",
    "t"
   ]
  },
  {
   "cell_type": "code",
   "execution_count": 115,
   "id": "1dba1c47-6942-45fb-b044-0129303cfa6e",
   "metadata": {},
   "outputs": [
    {
     "data": {
      "text/plain": [
       "249-element Vector{Float64}:\n",
       " -0.8121140868985631\n",
       "  1.0187492027089577\n",
       " 11.69548660066726\n",
       " -0.14125880958717973\n",
       " -0.8418797459810125\n",
       "  1.3081300760049281\n",
       " -0.20260769269220813\n",
       " -0.5074105256897286\n",
       "  2.085501215598547\n",
       " -0.4482791364055335\n",
       " -0.7773105356425388\n",
       " -1.1515959007373768\n",
       " -1.2158591632370919\n",
       "  ⋮\n",
       "  1.313422206114909\n",
       " -0.009903527710614974\n",
       " -1.1057240212368369\n",
       " -1.0157669033063539\n",
       " -4.600714349902583\n",
       "  0.8871602467130308\n",
       "  0.06100228839913869\n",
       " -1.4033598600537407\n",
       " -1.1115935429148585\n",
       " -0.44589167993107853\n",
       "  1.7333003856221905\n",
       "  0.17437395879240855"
      ]
     },
     "execution_count": 115,
     "metadata": {},
     "output_type": "execute_result"
    }
   ],
   "source": [
    "t = [sin(y[i-1])/cos(x[i]) for i in 2:n]"
   ]
  },
  {
   "cell_type": "markdown",
   "id": "f73f52ca-1459-43d0-a41e-07409ac07858",
   "metadata": {},
   "source": [
    "#### вычислите $\\sum_{i=1}^{n-1} \\frac{e^{-x_{i+1}}}{x_i+10}$;"
   ]
  },
  {
   "cell_type": "code",
   "execution_count": 116,
   "id": "9e7c0f00-3d6a-4c08-9887-ec6cb2b9e261",
   "metadata": {},
   "outputs": [
    {
     "data": {
      "text/plain": [
       "2.1267687767329432e-8"
      ]
     },
     "execution_count": 116,
     "metadata": {},
     "output_type": "execute_result"
    }
   ],
   "source": [
    "summ = 0\n",
    "for i in 1:n-1\n",
    "    summ += exp(-x[i+1])/(x[i]+10)\n",
    "end\n",
    "summ"
   ]
  },
  {
   "cell_type": "code",
   "execution_count": 117,
   "id": "4adaeedf-b13f-4b71-9dd1-3fb841288289",
   "metadata": {},
   "outputs": [
    {
     "data": {
      "text/plain": [
       "2.1267687767329432e-8"
      ]
     },
     "execution_count": 117,
     "metadata": {},
     "output_type": "execute_result"
    }
   ],
   "source": [
    "sum([exp(-x[i])/(x[i-1]+10) for i in 2:n])"
   ]
  },
  {
   "cell_type": "markdown",
   "id": "45d36bfe-59ea-4bcb-9c42-98b876708d40",
   "metadata": {},
   "source": [
    "#### выберите элементы вектора $y$, значения которых больше $600$, и выведите на экран; определите индексы этих элементов;"
   ]
  },
  {
   "cell_type": "code",
   "execution_count": 118,
   "id": "78549e1f-9ba6-4bd1-8360-405fd4be4159",
   "metadata": {},
   "outputs": [
    {
     "data": {
      "text/plain": [
       "111-element Vector{Any}:\n",
       " 787\n",
       " 713\n",
       " 637\n",
       " 823\n",
       " 807\n",
       " 781\n",
       " 994\n",
       " 876\n",
       " 878\n",
       " 746\n",
       " 824\n",
       " 707\n",
       " 980\n",
       "   ⋮\n",
       " 858\n",
       " 665\n",
       " 684\n",
       " 738\n",
       " 915\n",
       " 727\n",
       " 732\n",
       " 797\n",
       " 702\n",
       " 842\n",
       " 934\n",
       " 675"
      ]
     },
     "execution_count": 118,
     "metadata": {},
     "output_type": "execute_result"
    }
   ],
   "source": [
    "t = []\n",
    "ind = []\n",
    "for i in 1:n\n",
    "    if y[i] > 600\n",
    "        append!(t, y[i]); append!(ind, i)\n",
    "    end\n",
    "end\n",
    "t"
   ]
  },
  {
   "cell_type": "code",
   "execution_count": 119,
   "id": "74489ba4-37ef-402f-9db6-5b7f9df81c16",
   "metadata": {},
   "outputs": [
    {
     "data": {
      "text/plain": [
       "111-element Vector{Any}:\n",
       "   2\n",
       "   4\n",
       "   5\n",
       "   7\n",
       "   8\n",
       "   9\n",
       "  13\n",
       "  14\n",
       "  15\n",
       "  17\n",
       "  20\n",
       "  21\n",
       "  24\n",
       "   ⋮\n",
       " 229\n",
       " 230\n",
       " 231\n",
       " 233\n",
       " 234\n",
       " 237\n",
       " 239\n",
       " 241\n",
       " 242\n",
       " 244\n",
       " 246\n",
       " 247"
      ]
     },
     "execution_count": 119,
     "metadata": {},
     "output_type": "execute_result"
    }
   ],
   "source": [
    "ind"
   ]
  },
  {
   "cell_type": "code",
   "execution_count": 120,
   "id": "f9eccc55-5a5b-4c4b-8aae-16fb3ffe0369",
   "metadata": {},
   "outputs": [
    {
     "data": {
      "text/plain": [
       "111-element Vector{Int64}:\n",
       " 787\n",
       " 713\n",
       " 637\n",
       " 823\n",
       " 807\n",
       " 781\n",
       " 994\n",
       " 876\n",
       " 878\n",
       " 746\n",
       " 824\n",
       " 707\n",
       " 980\n",
       "   ⋮\n",
       " 858\n",
       " 665\n",
       " 684\n",
       " 738\n",
       " 915\n",
       " 727\n",
       " 732\n",
       " 797\n",
       " 702\n",
       " 842\n",
       " 934\n",
       " 675"
      ]
     },
     "execution_count": 120,
     "metadata": {},
     "output_type": "execute_result"
    }
   ],
   "source": [
    "t = y[findall(x->x>600, y)]"
   ]
  },
  {
   "cell_type": "code",
   "execution_count": 121,
   "id": "f311e840-582e-4dff-ac95-c9c32872f698",
   "metadata": {},
   "outputs": [
    {
     "data": {
      "text/plain": [
       "111-element Vector{Int64}:\n",
       "   2\n",
       "   4\n",
       "   5\n",
       "   7\n",
       "   8\n",
       "   9\n",
       "  13\n",
       "  14\n",
       "  15\n",
       "  17\n",
       "  20\n",
       "  21\n",
       "  24\n",
       "   ⋮\n",
       " 229\n",
       " 230\n",
       " 231\n",
       " 233\n",
       " 234\n",
       " 237\n",
       " 239\n",
       " 241\n",
       " 242\n",
       " 244\n",
       " 246\n",
       " 247"
      ]
     },
     "execution_count": 121,
     "metadata": {},
     "output_type": "execute_result"
    }
   ],
   "source": [
    "findall(x->x>600, y)"
   ]
  },
  {
   "cell_type": "markdown",
   "id": "84756558-d1d3-44e7-8a92-81ac7d59ac79",
   "metadata": {},
   "source": [
    "#### определите значения вектора $x$, соответствующие значениям вектора $y$, значения которых больше $600$ (под соответствием понимается расположение на аналогичных индексных позициях);"
   ]
  },
  {
   "cell_type": "code",
   "execution_count": 122,
   "id": "8699d9a0-0c01-4e87-9409-c875540d4ab4",
   "metadata": {},
   "outputs": [
    {
     "data": {
      "text/plain": [
       "111×3 Matrix{Any}:\n",
       "   2  787  798\n",
       "   4  713  146\n",
       "   5  637  933\n",
       "   7  823  959\n",
       "   8  807  887\n",
       "   9  781  739\n",
       "  13  994  216\n",
       "  14  876  103\n",
       "  15  878  105\n",
       "  17  746  736\n",
       "  20  824  473\n",
       "  21  707  430\n",
       "  24  980  775\n",
       "   ⋮       \n",
       " 229  858  971\n",
       " 230  665  132\n",
       " 231  684   38\n",
       " 233  738  246\n",
       " 234  915  749\n",
       " 237  727  799\n",
       " 239  732  117\n",
       " 241  797  745\n",
       " 242  702  213\n",
       " 244  842  223\n",
       " 246  934  871\n",
       " 247  675   95"
      ]
     },
     "execution_count": 122,
     "metadata": {},
     "output_type": "execute_result"
    }
   ],
   "source": [
    "hcat(ind, y[ind], x[ind])"
   ]
  },
  {
   "cell_type": "code",
   "execution_count": 123,
   "id": "01896cb5-97e7-43f6-96fc-69c96d290628",
   "metadata": {},
   "outputs": [
    {
     "data": {
      "text/plain": [
       "111×3 Matrix{Int64}:\n",
       "   2  787  798\n",
       "   4  713  146\n",
       "   5  637  933\n",
       "   7  823  959\n",
       "   8  807  887\n",
       "   9  781  739\n",
       "  13  994  216\n",
       "  14  876  103\n",
       "  15  878  105\n",
       "  17  746  736\n",
       "  20  824  473\n",
       "  21  707  430\n",
       "  24  980  775\n",
       "   ⋮       \n",
       " 229  858  971\n",
       " 230  665  132\n",
       " 231  684   38\n",
       " 233  738  246\n",
       " 234  915  749\n",
       " 237  727  799\n",
       " 239  732  117\n",
       " 241  797  745\n",
       " 242  702  213\n",
       " 244  842  223\n",
       " 246  934  871\n",
       " 247  675   95"
      ]
     },
     "execution_count": 123,
     "metadata": {},
     "output_type": "execute_result"
    }
   ],
   "source": [
    "hcat(findall(temp->temp>600, y), y[findall(temp->temp>600, y)], x[findall(temp->temp>600, y)])"
   ]
  },
  {
   "cell_type": "markdown",
   "id": "7652538a-1607-405a-9bb3-054e5deacd45",
   "metadata": {},
   "source": [
    "#### сформируйте вектор $(|x_1 - \\overline{x}|^{\\frac{1}{2}}, |x_2 - \\overline{x}|^{\\frac{1}{2}}, \\dots, |x_n - \\overline{x}|^{\\frac{1}{2}})$"
   ]
  },
  {
   "cell_type": "code",
   "execution_count": 124,
   "id": "77dccbb2-6db8-41f9-9753-db6c9a7c7cd7",
   "metadata": {},
   "outputs": [
    {
     "data": {
      "text/plain": [
       "250-element Vector{Float64}:\n",
       "  9.215638881813891\n",
       " 16.850163203957404\n",
       " 20.54088605683796\n",
       " 19.1852026311947\n",
       " 20.467730699811348\n",
       " 19.67048550493861\n",
       " 21.093316477026555\n",
       " 19.31134381652401\n",
       " 14.997599807969273\n",
       " 17.54787736451335\n",
       " 21.608516839431623\n",
       " 17.235776744898967\n",
       " 17.264761799688984\n",
       "  ⋮\n",
       " 19.926665551466456\n",
       " 15.903710258930147\n",
       " 15.196315342871772\n",
       " 17.35142645432934\n",
       " 19.15536478378838\n",
       " 17.060832336084896\n",
       " 18.43713643709348\n",
       " 18.892538209568347\n",
       " 20.471248129999303\n",
       " 12.848034869193032\n",
       " 21.02208362651048\n",
       " 17.54787736451335"
      ]
     },
     "execution_count": 124,
     "metadata": {},
     "output_type": "execute_result"
    }
   ],
   "source": [
    "x_mean = 0\n",
    "for i in x\n",
    "    x_mean += i/n\n",
    "end\n",
    "t = [abs(i-x_mean)^(1/2) for i in x]"
   ]
  },
  {
   "cell_type": "code",
   "execution_count": 125,
   "id": "3d23e838-0637-40a7-8182-e917f1db4ff2",
   "metadata": {},
   "outputs": [
    {
     "data": {
      "text/plain": [
       "250-element Vector{Float64}:\n",
       "  9.215638881813891\n",
       " 16.850163203957404\n",
       " 20.54088605683796\n",
       " 19.1852026311947\n",
       " 20.467730699811348\n",
       " 19.67048550493861\n",
       " 21.093316477026555\n",
       " 19.31134381652401\n",
       " 14.997599807969273\n",
       " 17.54787736451335\n",
       " 21.608516839431623\n",
       " 17.235776744898967\n",
       " 17.264761799688984\n",
       "  ⋮\n",
       " 19.926665551466456\n",
       " 15.903710258930147\n",
       " 15.196315342871772\n",
       " 17.35142645432934\n",
       " 19.15536478378838\n",
       " 17.060832336084896\n",
       " 18.43713643709348\n",
       " 18.892538209568347\n",
       " 20.471248129999303\n",
       " 12.848034869193032\n",
       " 21.02208362651048\n",
       " 17.54787736451335"
      ]
     },
     "execution_count": 125,
     "metadata": {},
     "output_type": "execute_result"
    }
   ],
   "source": [
    "t = abs.(x.-sum(x)/size(x)[1]).^(1/2)"
   ]
  },
  {
   "cell_type": "markdown",
   "id": "53441cc9-eea3-49b0-80c8-b25b2ef27032",
   "metadata": {},
   "source": [
    "#### определите, сколько элементов вектора $y$ отстоят от максимального значения не более, чем на $200$; \n",
    "\n",
    "(здесь написано для случая, когда максимальное значение влючено)"
   ]
  },
  {
   "cell_type": "code",
   "execution_count": 126,
   "id": "c603df25-1e8c-45c0-af38-96faf50f474b",
   "metadata": {},
   "outputs": [
    {
     "data": {
      "text/plain": [
       "49"
      ]
     },
     "execution_count": 126,
     "metadata": {},
     "output_type": "execute_result"
    }
   ],
   "source": [
    "ymax = 0\n",
    "for i in y\n",
    "    if i > ymax\n",
    "        ymax = i\n",
    "    end\n",
    "end\n",
    "counte = 0\n",
    "for i in y\n",
    "    if ymax-i<=200\n",
    "        counte += 1\n",
    "    end\n",
    "end\n",
    "counte"
   ]
  },
  {
   "cell_type": "code",
   "execution_count": 127,
   "id": "c4263b16-a354-41be-bd72-f0242db69823",
   "metadata": {},
   "outputs": [
    {
     "data": {
      "text/plain": [
       "49"
      ]
     },
     "execution_count": 127,
     "metadata": {},
     "output_type": "execute_result"
    }
   ],
   "source": [
    "ymax = maximum(y)\n",
    "size(findall(x-> ymax-x<=200, y))[1]"
   ]
  },
  {
   "cell_type": "markdown",
   "id": "7cd4ca8d-534e-4d4e-bd3b-033d2065973d",
   "metadata": {},
   "source": [
    "Здесь написано для случая, когда `ymax` не входит в список элементов, которые подходят под условие"
   ]
  },
  {
   "cell_type": "code",
   "execution_count": 128,
   "id": "466183d3-3742-4638-bc52-5c1bb1e70173",
   "metadata": {},
   "outputs": [
    {
     "data": {
      "text/plain": [
       "48"
      ]
     },
     "execution_count": 128,
     "metadata": {},
     "output_type": "execute_result"
    }
   ],
   "source": [
    "ymax = 0\n",
    "for i in y\n",
    "    if i > ymax\n",
    "        ymax = i\n",
    "    end\n",
    "end\n",
    "counte = 0\n",
    "for i in y\n",
    "    if 0<ymax-i<=200\n",
    "        counte += 1\n",
    "    end\n",
    "end\n",
    "counte"
   ]
  },
  {
   "cell_type": "code",
   "execution_count": 129,
   "id": "b74ff28a-5edb-4063-a2bc-10816ff4e37a",
   "metadata": {},
   "outputs": [
    {
     "data": {
      "text/plain": [
       "48"
      ]
     },
     "execution_count": 129,
     "metadata": {},
     "output_type": "execute_result"
    }
   ],
   "source": [
    "ymax = maximum(y)\n",
    "size(findall(x-> 0<ymax-x<=200, y))[1]"
   ]
  },
  {
   "cell_type": "markdown",
   "id": "2c4b0b74-e730-477a-9e43-0bac0e82147e",
   "metadata": {},
   "source": [
    "#### определите, сколько чётных и нечётных элементов вектора $x$;"
   ]
  },
  {
   "cell_type": "code",
   "execution_count": 130,
   "id": "f985776e-da64-4720-96ae-314982030453",
   "metadata": {},
   "outputs": [
    {
     "data": {
      "text/plain": [
       "(130, 120)"
      ]
     },
     "execution_count": 130,
     "metadata": {},
     "output_type": "execute_result"
    }
   ],
   "source": [
    "counte = [0, 0]\n",
    "for i in x\n",
    "    if i % 2 == 0\n",
    "        counte[1]+= 1\n",
    "    else\n",
    "        counte[2]+= 1\n",
    "    end\n",
    "end\n",
    "counte[1], counte[2]"
   ]
  },
  {
   "cell_type": "code",
   "execution_count": 131,
   "id": "ced5dad6-4074-41c9-9df4-d0a12bb9d51f",
   "metadata": {},
   "outputs": [
    {
     "data": {
      "text/plain": [
       "(130, 120)"
      ]
     },
     "execution_count": 131,
     "metadata": {},
     "output_type": "execute_result"
    }
   ],
   "source": [
    "size(findall(iseven, x))[1], size(findall(isodd, x))[1]"
   ]
  },
  {
   "cell_type": "markdown",
   "id": "1ab4bfc5-a441-45dd-9a77-5e3271a5f0ac",
   "metadata": {},
   "source": [
    "#### определите, сколько элементов вектора $x$ кратны $7$;"
   ]
  },
  {
   "cell_type": "code",
   "execution_count": 132,
   "id": "282f22c0-491d-4a28-bce6-f5ec1bd0d969",
   "metadata": {},
   "outputs": [
    {
     "data": {
      "text/plain": [
       "35"
      ]
     },
     "execution_count": 132,
     "metadata": {},
     "output_type": "execute_result"
    }
   ],
   "source": [
    "counte = 0\n",
    "for i in x\n",
    "    if i % 7 == 0\n",
    "        counte += 1\n",
    "    end\n",
    "end\n",
    "counte"
   ]
  },
  {
   "cell_type": "code",
   "execution_count": 133,
   "id": "5b0d0f2d-7646-44b4-bf0e-c4da2ab1f052",
   "metadata": {},
   "outputs": [
    {
     "data": {
      "text/plain": [
       "35"
      ]
     },
     "execution_count": 133,
     "metadata": {},
     "output_type": "execute_result"
    }
   ],
   "source": [
    "size(findall(x->x%7 == 0, x))[1]"
   ]
  },
  {
   "cell_type": "markdown",
   "id": "0d00ce80-5708-4a40-b818-080f616784b3",
   "metadata": {},
   "source": [
    "#### отсортируйте элементы вектора $x$ в порядке возрастания элементов вектора $y$;"
   ]
  },
  {
   "cell_type": "code",
   "execution_count": 134,
   "id": "ad67d6c7-e9de-485d-b5f1-7e30bd7a15c9",
   "metadata": {},
   "outputs": [
    {
     "data": {
      "text/plain": [
       "250×3 Matrix{Int64}:\n",
       "  16   16  214\n",
       "  17   17  899\n",
       "  21   21  425\n",
       "  22   22  331\n",
       "  25   25  822\n",
       "  27   27  885\n",
       "  31   31  121\n",
       "  32   32  607\n",
       "  34   34  449\n",
       "  43   43  304\n",
       "  58   58  102\n",
       "  59   59   92\n",
       "  60   60  822\n",
       "   ⋮       \n",
       " 970  970  640\n",
       " 970  970   76\n",
       " 974  974  818\n",
       " 974  974  319\n",
       " 975  975  238\n",
       " 977  977  976\n",
       " 980  980  775\n",
       " 981  981  382\n",
       " 983  983  976\n",
       " 993  993  628\n",
       " 994  994  216\n",
       " 998  998  194"
      ]
     },
     "execution_count": 134,
     "metadata": {},
     "output_type": "execute_result"
    }
   ],
   "source": [
    "num = trunc(Int, n/2)\n",
    "orde = []\n",
    "yordered = zeros(Int64, 2, num)\n",
    "ycopy = copy(y)\n",
    "for i in 1:num\n",
    "    tm = [-1, 1000]\n",
    "    imm = [0, 0]\n",
    "    for j in 1:size(ycopy)[1]\n",
    "        if ycopy[j] > tm[1]\n",
    "            imm[1] = j\n",
    "            tm[1] = ycopy[j]\n",
    "        end\n",
    "        if ycopy[j] < tm[2]\n",
    "            imm[2] = j\n",
    "            tm[2] = ycopy[j]\n",
    "        end\n",
    "    end\n",
    "    yordered[1, i] = tm[2]; yordered[2, num-i+1] = tm[1]\n",
    "    imm = sort(imm, rev=true)\n",
    "    for k in imm\n",
    "        ycopy = deleteat!(ycopy, k)\n",
    "    end\n",
    "end\n",
    "yordered = vcat(yordered[1, :], yordered[2, :])\n",
    "ycopy = copy(yordered)\n",
    "while size(ycopy)[1] > 0\n",
    "    temp = ycopy[1]\n",
    "    if size(ycopy)[1] > 1\n",
    "        while ycopy[2] == temp\n",
    "            deleteat!(ycopy, 2)\n",
    "        end\n",
    "    end\n",
    "    append!(orde, findall(isequal(temp), y))\n",
    "    deleteat!(ycopy, 1)\n",
    "end\n",
    "hcat(yordered, y[orde], x[orde])"
   ]
  },
  {
   "cell_type": "code",
   "execution_count": 135,
   "id": "46d23f31-9bfb-4e4c-bf2d-8bbeee542b29",
   "metadata": {},
   "outputs": [
    {
     "data": {
      "text/plain": [
       "250×3 Matrix{Int64}:\n",
       "  16   16  214\n",
       "  17   17  899\n",
       "  21   21  425\n",
       "  22   22  331\n",
       "  25   25  822\n",
       "  27   27  885\n",
       "  31   31  121\n",
       "  32   32  607\n",
       "  34   34  449\n",
       "  43   43  304\n",
       "  58   58  102\n",
       "  59   59   92\n",
       "  60   60  822\n",
       "   ⋮       \n",
       " 970  970  640\n",
       " 970  970   76\n",
       " 974  974  818\n",
       " 974  974  319\n",
       " 975  975  238\n",
       " 977  977  976\n",
       " 980  980  775\n",
       " 981  981  382\n",
       " 983  983  976\n",
       " 993  993  628\n",
       " 994  994  216\n",
       " 998  998  194"
      ]
     },
     "execution_count": 135,
     "metadata": {},
     "output_type": "execute_result"
    }
   ],
   "source": [
    "orde = sortperm(y)\n",
    "hcat(sort(y), y[orde], x[orde])"
   ]
  },
  {
   "cell_type": "markdown",
   "id": "14f4a24c-b6f0-4f62-a9a3-3c53926f6477",
   "metadata": {},
   "source": [
    "#### выведите элементы вектора $x$, которые входят в десятку наибольших (top-10)"
   ]
  },
  {
   "cell_type": "code",
   "execution_count": 137,
   "id": "720978bb-cc98-413d-af13-7d86d833022b",
   "metadata": {},
   "outputs": [
    {
     "data": {
      "text/plain": [
       "10-element Vector{Any}:\n",
       " 998\n",
       " 998\n",
       " 995\n",
       " 992\n",
       " 992\n",
       " 987\n",
       " 981\n",
       " 976\n",
       " 976\n",
       " 976"
      ]
     },
     "execution_count": 137,
     "metadata": {},
     "output_type": "execute_result"
    }
   ],
   "source": [
    "t = []\n",
    "xstr = join(x, \"-\")\n",
    "while size(t)[1] < 10\n",
    "    temp = 0\n",
    "    for j in 1:size(x)[1]\n",
    "        if x[j] >= temp && !(x[j] in t)\n",
    "            temp = x[j]\n",
    "        end\n",
    "    end\n",
    "    for j in 1:count(string(temp), xstr)\n",
    "        append!(t, temp)\n",
    "    end\n",
    "end\n",
    "t = t[1:10] # На случай, если дубликатов последнего из top-10 окажется больше одного"
   ]
  },
  {
   "cell_type": "code",
   "execution_count": 136,
   "id": "f1276c9b-cf5c-4405-97db-a894a963c2c0",
   "metadata": {},
   "outputs": [
    {
     "data": {
      "text/plain": [
       "10-element Vector{Int64}:\n",
       " 998\n",
       " 998\n",
       " 995\n",
       " 992\n",
       " 992\n",
       " 987\n",
       " 981\n",
       " 976\n",
       " 976\n",
       " 976"
      ]
     },
     "execution_count": 136,
     "metadata": {},
     "output_type": "execute_result"
    }
   ],
   "source": [
    "t = sort(x, rev=true)[1:10]"
   ]
  },
  {
   "cell_type": "markdown",
   "id": "5fc67f89-0bf0-4bf2-b068-eaed564ad9b9",
   "metadata": {},
   "source": [
    "Другой вариант решения будет, если мы должны выписать top-10 без повторяющихся значений"
   ]
  },
  {
   "cell_type": "code",
   "execution_count": 139,
   "id": "287699da-4ec0-4335-a037-e9c382d8849b",
   "metadata": {},
   "outputs": [
    {
     "data": {
      "text/plain": [
       "10-element Vector{Any}:\n",
       " 998\n",
       " 995\n",
       " 992\n",
       " 987\n",
       " 981\n",
       " 976\n",
       " 974\n",
       " 971\n",
       " 970\n",
       " 965"
      ]
     },
     "execution_count": 139,
     "metadata": {},
     "output_type": "execute_result"
    }
   ],
   "source": [
    "t = []\n",
    "xstr = join(x, \"-\")\n",
    "while size(t)[1] < 10\n",
    "    temp = 0\n",
    "    for j in 1:size(x)[1]\n",
    "        if x[j] >= temp && !(x[j] in t)\n",
    "            temp = x[j]\n",
    "        end\n",
    "    end\n",
    "    append!(t, temp)\n",
    "end\n",
    "t"
   ]
  },
  {
   "cell_type": "code",
   "execution_count": 138,
   "id": "b6e997f6-4352-432f-a9ec-6aff11f99434",
   "metadata": {},
   "outputs": [
    {
     "data": {
      "text/plain": [
       "10-element Vector{Int64}:\n",
       " 998\n",
       " 995\n",
       " 992\n",
       " 987\n",
       " 981\n",
       " 976\n",
       " 974\n",
       " 971\n",
       " 970\n",
       " 965"
      ]
     },
     "execution_count": 138,
     "metadata": {},
     "output_type": "execute_result"
    }
   ],
   "source": [
    "t = unique(sort(x, rev=true))[1:10]"
   ]
  },
  {
   "cell_type": "markdown",
   "id": "4cd6f0a9-2be9-4ac4-bb63-5b6db86b403b",
   "metadata": {},
   "source": [
    "#### сформируйте вектор, содержащий только уникальные (неповторяющиеся) элементы вектора $x$."
   ]
  },
  {
   "cell_type": "code",
   "execution_count": 140,
   "id": "dfc10399-acb0-4f9c-b7fa-ae31d443dac1",
   "metadata": {},
   "outputs": [
    {
     "data": {
      "text/plain": [
       "218-element Vector{Any}:\n",
       " 599\n",
       " 798\n",
       " 936\n",
       " 146\n",
       " 933\n",
       " 901\n",
       " 959\n",
       " 887\n",
       " 739\n",
       " 822\n",
       " 981\n",
       " 217\n",
       " 216\n",
       "   ⋮\n",
       " 799\n",
       " 883\n",
       " 117\n",
       " 767\n",
       " 213\n",
       " 881\n",
       " 223\n",
       " 854\n",
       " 871\n",
       "  95\n",
       " 349\n",
       " 956"
      ]
     },
     "execution_count": 140,
     "metadata": {},
     "output_type": "execute_result"
    }
   ],
   "source": [
    "x_unique = []\n",
    "for i in x\n",
    "    if !(i in x_unique)\n",
    "        append!(x_unique, i)\n",
    "    end\n",
    "end\n",
    "x_unique"
   ]
  },
  {
   "cell_type": "code",
   "execution_count": 141,
   "id": "42d37179-db3d-4d44-ab71-f035a005b7c1",
   "metadata": {},
   "outputs": [
    {
     "data": {
      "text/plain": [
       "218-element Vector{Int64}:\n",
       " 599\n",
       " 798\n",
       " 936\n",
       " 146\n",
       " 933\n",
       " 901\n",
       " 959\n",
       " 887\n",
       " 739\n",
       " 822\n",
       " 981\n",
       " 217\n",
       " 216\n",
       "   ⋮\n",
       " 799\n",
       " 883\n",
       " 117\n",
       " 767\n",
       " 213\n",
       " 881\n",
       " 223\n",
       " 854\n",
       " 871\n",
       "  95\n",
       " 349\n",
       " 956"
      ]
     },
     "execution_count": 141,
     "metadata": {},
     "output_type": "execute_result"
    }
   ],
   "source": [
    "unique(x)"
   ]
  },
  {
   "cell_type": "markdown",
   "id": "ba296ea083bde28a",
   "metadata": {
    "collapsed": false,
    "jupyter": {
     "outputs_hidden": false
    }
   },
   "source": [
    "## 4. Создать массив квадратов натуральных чисел от 1 до 100"
   ]
  },
  {
   "cell_type": "code",
   "execution_count": 142,
   "id": "c36d5ac2bc062ff1",
   "metadata": {
    "collapsed": false,
    "jupyter": {
     "outputs_hidden": false
    }
   },
   "outputs": [
    {
     "data": {
      "text/plain": [
       "100-element Vector{Int64}:\n",
       "     1\n",
       "     4\n",
       "     9\n",
       "    16\n",
       "    25\n",
       "    36\n",
       "    49\n",
       "    64\n",
       "    81\n",
       "   100\n",
       "   121\n",
       "   144\n",
       "   169\n",
       "     ⋮\n",
       "  7921\n",
       "  8100\n",
       "  8281\n",
       "  8464\n",
       "  8649\n",
       "  8836\n",
       "  9025\n",
       "  9216\n",
       "  9409\n",
       "  9604\n",
       "  9801\n",
       " 10000"
      ]
     },
     "execution_count": 142,
     "metadata": {},
     "output_type": "execute_result"
    }
   ],
   "source": [
    "t = [i^2 for i in 1:100]"
   ]
  },
  {
   "cell_type": "markdown",
   "id": "98b60d64c399b3da",
   "metadata": {
    "collapsed": false,
    "jupyter": {
     "outputs_hidden": false
    }
   },
   "source": [
    "## 5. С помощью пакета `Primes` сгенерировать массив первых 168 простых чисел, определим 89-е простое число, создадим срез массива с 89-го по 99-й элементов."
   ]
  },
  {
   "cell_type": "code",
   "execution_count": 152,
   "id": "5b547a0ba0c49d68",
   "metadata": {
    "collapsed": false,
    "jupyter": {
     "outputs_hidden": false
    }
   },
   "outputs": [
    {
     "data": {
      "text/plain": [
       "168-element Vector{Int64}:\n",
       "   2\n",
       "   3\n",
       "   5\n",
       "   7\n",
       "  11\n",
       "  13\n",
       "  17\n",
       "  19\n",
       "  23\n",
       "  29\n",
       "  31\n",
       "  37\n",
       "  41\n",
       "   ⋮\n",
       " 919\n",
       " 929\n",
       " 937\n",
       " 941\n",
       " 947\n",
       " 953\n",
       " 967\n",
       " 971\n",
       " 977\n",
       " 983\n",
       " 991\n",
       " 997"
      ]
     },
     "execution_count": 152,
     "metadata": {},
     "output_type": "execute_result"
    }
   ],
   "source": [
    "using Primes\n",
    "t = [prime(i) for i in 1:168]"
   ]
  },
  {
   "cell_type": "code",
   "execution_count": 153,
   "id": "bc725b9d-a39e-4371-9ee6-6982e128bf85",
   "metadata": {},
   "outputs": [
    {
     "data": {
      "text/plain": [
       "461"
      ]
     },
     "execution_count": 153,
     "metadata": {},
     "output_type": "execute_result"
    }
   ],
   "source": [
    "t[89]"
   ]
  },
  {
   "cell_type": "code",
   "execution_count": 154,
   "id": "c9fab918-33fe-4f50-8756-9248a0462ad0",
   "metadata": {},
   "outputs": [
    {
     "data": {
      "text/plain": [
       "11-element Vector{Int64}:\n",
       " 461\n",
       " 463\n",
       " 467\n",
       " 479\n",
       " 487\n",
       " 491\n",
       " 499\n",
       " 503\n",
       " 509\n",
       " 521\n",
       " 523"
      ]
     },
     "execution_count": 154,
     "metadata": {},
     "output_type": "execute_result"
    }
   ],
   "source": [
    "t[89:99]"
   ]
  },
  {
   "cell_type": "markdown",
   "id": "4393551b96e29eb8",
   "metadata": {
    "collapsed": false,
    "jupyter": {
     "outputs_hidden": false
    }
   },
   "source": [
    "## 6. Реализовать формулы\n",
    "\n",
    "- $\\sum_{i=10}^{100} (i^3 + 4i^2)$;\n",
    "- $\\sum_{i=1}^{M} (\\frac{2^i}{i} + \\frac{3^i}{i^2})$, $M = 25$;\n",
    "- $1 + \\frac{2}{3} + (\\frac{2}{3} \\frac{4}{5}) + ... + (\\frac{2}{3} \\frac{4}{5} ... \\frac{38}{39}) = 1 + \\sum_{i=1}^{19} \\prod_{j=1}^{i} \\frac{2j}{2j+1}$"
   ]
  },
  {
   "cell_type": "code",
   "execution_count": 145,
   "id": "31923233-f95e-4477-8f91-d7836de95c77",
   "metadata": {},
   "outputs": [
    {
     "data": {
      "text/plain": [
       "91-element Vector{Int64}:\n",
       "    1400\n",
       "    1815\n",
       "    2304\n",
       "    2873\n",
       "    3528\n",
       "    4275\n",
       "    5120\n",
       "    6069\n",
       "    7128\n",
       "    8303\n",
       "    9600\n",
       "   11025\n",
       "   12584\n",
       "       ⋮\n",
       "  736653\n",
       "  761400\n",
       "  786695\n",
       "  812544\n",
       "  838953\n",
       "  865928\n",
       "  893475\n",
       "  921600\n",
       "  950309\n",
       "  979608\n",
       " 1009503\n",
       " 1040000"
      ]
     },
     "execution_count": 145,
     "metadata": {},
     "output_type": "execute_result"
    }
   ],
   "source": [
    "t = [i^3+4*i^2 for i in 10:100]"
   ]
  },
  {
   "cell_type": "code",
   "execution_count": 146,
   "id": "6e7296a9-051c-4987-ae99-b25801000987",
   "metadata": {},
   "outputs": [
    {
     "data": {
      "text/plain": [
       "26852735"
      ]
     },
     "execution_count": 146,
     "metadata": {},
     "output_type": "execute_result"
    }
   ],
   "source": [
    "sum(t)"
   ]
  },
  {
   "cell_type": "code",
   "execution_count": 147,
   "id": "09e8ce20-cd1f-474a-8451-9b7ea128f266",
   "metadata": {},
   "outputs": [
    {
     "data": {
      "text/plain": [
       "25-element Vector{Float64}:\n",
       "      5.0\n",
       "      4.25\n",
       "      5.666666666666666\n",
       "      9.0625\n",
       "     16.12\n",
       "     30.916666666666664\n",
       "     62.91836734693877\n",
       "    134.515625\n",
       "    299.8888888888889\n",
       "    692.89\n",
       "   1650.206611570248\n",
       "   4031.8958333333335\n",
       "  10064.01775147929\n",
       "  25573.188775510203\n",
       "  65957.45333333334\n",
       " 172247.25390625\n",
       " 454561.89273356396\n",
       "      1.2103058055555555e6\n",
       "      3.24715495567867e6\n",
       "      8.7693898025e6\n",
       "      2.3819486156462584e7\n",
       "      6.502755020041322e7\n",
       "      1.7832914331001893e8\n",
       "      4.910281070572917e8\n",
       "      1.3570039523888e9"
      ]
     },
     "execution_count": 147,
     "metadata": {},
     "output_type": "execute_result"
    }
   ],
   "source": [
    "M = 25\n",
    "t = [2^i/i + 3^i/(i^2) for i in 1:M]"
   ]
  },
  {
   "cell_type": "code",
   "execution_count": 148,
   "id": "879086ed-a620-4df3-85ba-3263dd43bfdf",
   "metadata": {},
   "outputs": [
    {
     "data": {
      "text/plain": [
       "2.1291704368143802e9"
      ]
     },
     "execution_count": 148,
     "metadata": {},
     "output_type": "execute_result"
    }
   ],
   "source": [
    "sum(t)"
   ]
  },
  {
   "cell_type": "code",
   "execution_count": 149,
   "id": "6ccdee6c-2aa7-45f1-a664-9dc6434200ad",
   "metadata": {},
   "outputs": [
    {
     "data": {
      "text/plain": [
       "20-element Vector{Float64}:\n",
       " 1.0\n",
       " 0.6666666666666666\n",
       " 0.5333333333333333\n",
       " 0.45714285714285713\n",
       " 0.4063492063492063\n",
       " 0.36940836940836935\n",
       " 0.34099234099234094\n",
       " 0.3182595182595182\n",
       " 0.2995383701266054\n",
       " 0.2837731927515209\n",
       " 0.27026018357287707\n",
       " 0.25850974080883893\n",
       " 0.24816935117648536\n",
       " 0.2389778937255044\n",
       " 0.23073727670048702\n",
       " 0.2232941387424068\n",
       " 0.2165276496896066\n",
       " 0.2103411454127607\n",
       " 0.20465624959079418\n",
       " 0.19940865344744046"
      ]
     },
     "execution_count": 149,
     "metadata": {},
     "output_type": "execute_result"
    }
   ],
   "source": [
    "t = cat([1], [prod([2j/(2j+1) for j in 1:i]) for i in 1:19], dims=1)"
   ]
  },
  {
   "cell_type": "code",
   "execution_count": 150,
   "id": "46089eaf-d2f2-4d99-aeeb-d12bc284dbde",
   "metadata": {},
   "outputs": [
    {
     "data": {
      "text/plain": [
       "6.976346137897619"
      ]
     },
     "execution_count": 150,
     "metadata": {},
     "output_type": "execute_result"
    }
   ],
   "source": [
    "sum(t)"
   ]
  },
  {
   "cell_type": "code",
   "execution_count": null,
   "id": "18891884-1a1f-4c98-8beb-d1f2f9230f7a",
   "metadata": {},
   "outputs": [],
   "source": []
  }
 ],
 "metadata": {
  "kernelspec": {
   "display_name": "Julia 1.9.3",
   "language": "julia",
   "name": "julia-1.9"
  },
  "language_info": {
   "file_extension": ".jl",
   "mimetype": "application/julia",
   "name": "julia",
   "version": "1.9.3"
  }
 },
 "nbformat": 4,
 "nbformat_minor": 5
}
